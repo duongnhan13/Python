{
  "cells": [
    {
      "cell_type": "markdown",
      "metadata": {
        "id": "view-in-github",
        "colab_type": "text"
      },
      "source": [
        "<a href=\"https://colab.research.google.com/github/duongnhan13/Python/blob/main/dataset_2190_cholesterol.ipynb\" target=\"_parent\"><img src=\"https://colab.research.google.com/assets/colab-badge.svg\" alt=\"Open In Colab\"/></a>"
      ]
    },
    {
      "cell_type": "code",
      "execution_count": null,
      "metadata": {
        "id": "AuDNiWt6nPqQ"
      },
      "outputs": [],
      "source": [
        "import pandas as pd\n",
        "import numpy as np\n",
        "import seaborn as sns\n",
        "import matplotlib.pyplot as plt"
      ]
    },
    {
      "cell_type": "markdown",
      "metadata": {
        "id": "pBjmOKXzlZ9u"
      },
      "source": [
        "# **I. PRE PROCESSING DATA**"
      ]
    },
    {
      "cell_type": "code",
      "execution_count": null,
      "metadata": {
        "id": "aySlMr35nV0J"
      },
      "outputs": [],
      "source": [
        "df = pd.read_csv('https://raw.githubusercontent.com/maxtran1997gmail/Files/main/dataset_2190_cholesterol.csv')"
      ]
    },
    {
      "cell_type": "code",
      "execution_count": null,
      "metadata": {
        "colab": {
          "base_uri": "https://localhost:8080/",
          "height": 206
        },
        "id": "GQqe8Dt9naRo",
        "outputId": "ffcc35ee-fd3a-4bd2-964e-0077e9c590bf"
      },
      "outputs": [
        {
          "data": {
            "text/html": [
              "\n",
              "  <div id=\"df-d08cc9b1-c486-4382-9001-e60f3e73f430\">\n",
              "    <div class=\"colab-df-container\">\n",
              "      <div>\n",
              "<style scoped>\n",
              "    .dataframe tbody tr th:only-of-type {\n",
              "        vertical-align: middle;\n",
              "    }\n",
              "\n",
              "    .dataframe tbody tr th {\n",
              "        vertical-align: top;\n",
              "    }\n",
              "\n",
              "    .dataframe thead th {\n",
              "        text-align: right;\n",
              "    }\n",
              "</style>\n",
              "<table border=\"1\" class=\"dataframe\">\n",
              "  <thead>\n",
              "    <tr style=\"text-align: right;\">\n",
              "      <th></th>\n",
              "      <th>age</th>\n",
              "      <th>sex</th>\n",
              "      <th>cp</th>\n",
              "      <th>trestbps</th>\n",
              "      <th>fbs</th>\n",
              "      <th>restecg</th>\n",
              "      <th>thalach</th>\n",
              "      <th>exang</th>\n",
              "      <th>oldpeak</th>\n",
              "      <th>slope</th>\n",
              "      <th>ca</th>\n",
              "      <th>thal</th>\n",
              "      <th>num</th>\n",
              "      <th>chol</th>\n",
              "    </tr>\n",
              "  </thead>\n",
              "  <tbody>\n",
              "    <tr>\n",
              "      <th>0</th>\n",
              "      <td>63</td>\n",
              "      <td>1</td>\n",
              "      <td>1</td>\n",
              "      <td>145</td>\n",
              "      <td>1</td>\n",
              "      <td>2</td>\n",
              "      <td>150</td>\n",
              "      <td>0</td>\n",
              "      <td>2.3</td>\n",
              "      <td>3</td>\n",
              "      <td>0</td>\n",
              "      <td>6</td>\n",
              "      <td>0</td>\n",
              "      <td>233</td>\n",
              "    </tr>\n",
              "    <tr>\n",
              "      <th>1</th>\n",
              "      <td>67</td>\n",
              "      <td>1</td>\n",
              "      <td>4</td>\n",
              "      <td>160</td>\n",
              "      <td>0</td>\n",
              "      <td>2</td>\n",
              "      <td>108</td>\n",
              "      <td>1</td>\n",
              "      <td>1.5</td>\n",
              "      <td>2</td>\n",
              "      <td>3</td>\n",
              "      <td>3</td>\n",
              "      <td>2</td>\n",
              "      <td>286</td>\n",
              "    </tr>\n",
              "    <tr>\n",
              "      <th>2</th>\n",
              "      <td>67</td>\n",
              "      <td>1</td>\n",
              "      <td>4</td>\n",
              "      <td>120</td>\n",
              "      <td>0</td>\n",
              "      <td>2</td>\n",
              "      <td>129</td>\n",
              "      <td>1</td>\n",
              "      <td>2.6</td>\n",
              "      <td>2</td>\n",
              "      <td>2</td>\n",
              "      <td>7</td>\n",
              "      <td>1</td>\n",
              "      <td>229</td>\n",
              "    </tr>\n",
              "    <tr>\n",
              "      <th>3</th>\n",
              "      <td>37</td>\n",
              "      <td>1</td>\n",
              "      <td>3</td>\n",
              "      <td>130</td>\n",
              "      <td>0</td>\n",
              "      <td>0</td>\n",
              "      <td>187</td>\n",
              "      <td>0</td>\n",
              "      <td>3.5</td>\n",
              "      <td>3</td>\n",
              "      <td>0</td>\n",
              "      <td>3</td>\n",
              "      <td>0</td>\n",
              "      <td>250</td>\n",
              "    </tr>\n",
              "    <tr>\n",
              "      <th>4</th>\n",
              "      <td>41</td>\n",
              "      <td>0</td>\n",
              "      <td>2</td>\n",
              "      <td>130</td>\n",
              "      <td>0</td>\n",
              "      <td>2</td>\n",
              "      <td>172</td>\n",
              "      <td>0</td>\n",
              "      <td>1.4</td>\n",
              "      <td>1</td>\n",
              "      <td>0</td>\n",
              "      <td>3</td>\n",
              "      <td>0</td>\n",
              "      <td>204</td>\n",
              "    </tr>\n",
              "  </tbody>\n",
              "</table>\n",
              "</div>\n",
              "      <button class=\"colab-df-convert\" onclick=\"convertToInteractive('df-d08cc9b1-c486-4382-9001-e60f3e73f430')\"\n",
              "              title=\"Convert this dataframe to an interactive table.\"\n",
              "              style=\"display:none;\">\n",
              "        \n",
              "  <svg xmlns=\"http://www.w3.org/2000/svg\" height=\"24px\"viewBox=\"0 0 24 24\"\n",
              "       width=\"24px\">\n",
              "    <path d=\"M0 0h24v24H0V0z\" fill=\"none\"/>\n",
              "    <path d=\"M18.56 5.44l.94 2.06.94-2.06 2.06-.94-2.06-.94-.94-2.06-.94 2.06-2.06.94zm-11 1L8.5 8.5l.94-2.06 2.06-.94-2.06-.94L8.5 2.5l-.94 2.06-2.06.94zm10 10l.94 2.06.94-2.06 2.06-.94-2.06-.94-.94-2.06-.94 2.06-2.06.94z\"/><path d=\"M17.41 7.96l-1.37-1.37c-.4-.4-.92-.59-1.43-.59-.52 0-1.04.2-1.43.59L10.3 9.45l-7.72 7.72c-.78.78-.78 2.05 0 2.83L4 21.41c.39.39.9.59 1.41.59.51 0 1.02-.2 1.41-.59l7.78-7.78 2.81-2.81c.8-.78.8-2.07 0-2.86zM5.41 20L4 18.59l7.72-7.72 1.47 1.35L5.41 20z\"/>\n",
              "  </svg>\n",
              "      </button>\n",
              "      \n",
              "  <style>\n",
              "    .colab-df-container {\n",
              "      display:flex;\n",
              "      flex-wrap:wrap;\n",
              "      gap: 12px;\n",
              "    }\n",
              "\n",
              "    .colab-df-convert {\n",
              "      background-color: #E8F0FE;\n",
              "      border: none;\n",
              "      border-radius: 50%;\n",
              "      cursor: pointer;\n",
              "      display: none;\n",
              "      fill: #1967D2;\n",
              "      height: 32px;\n",
              "      padding: 0 0 0 0;\n",
              "      width: 32px;\n",
              "    }\n",
              "\n",
              "    .colab-df-convert:hover {\n",
              "      background-color: #E2EBFA;\n",
              "      box-shadow: 0px 1px 2px rgba(60, 64, 67, 0.3), 0px 1px 3px 1px rgba(60, 64, 67, 0.15);\n",
              "      fill: #174EA6;\n",
              "    }\n",
              "\n",
              "    [theme=dark] .colab-df-convert {\n",
              "      background-color: #3B4455;\n",
              "      fill: #D2E3FC;\n",
              "    }\n",
              "\n",
              "    [theme=dark] .colab-df-convert:hover {\n",
              "      background-color: #434B5C;\n",
              "      box-shadow: 0px 1px 3px 1px rgba(0, 0, 0, 0.15);\n",
              "      filter: drop-shadow(0px 1px 2px rgba(0, 0, 0, 0.3));\n",
              "      fill: #FFFFFF;\n",
              "    }\n",
              "  </style>\n",
              "\n",
              "      <script>\n",
              "        const buttonEl =\n",
              "          document.querySelector('#df-d08cc9b1-c486-4382-9001-e60f3e73f430 button.colab-df-convert');\n",
              "        buttonEl.style.display =\n",
              "          google.colab.kernel.accessAllowed ? 'block' : 'none';\n",
              "\n",
              "        async function convertToInteractive(key) {\n",
              "          const element = document.querySelector('#df-d08cc9b1-c486-4382-9001-e60f3e73f430');\n",
              "          const dataTable =\n",
              "            await google.colab.kernel.invokeFunction('convertToInteractive',\n",
              "                                                     [key], {});\n",
              "          if (!dataTable) return;\n",
              "\n",
              "          const docLinkHtml = 'Like what you see? Visit the ' +\n",
              "            '<a target=\"_blank\" href=https://colab.research.google.com/notebooks/data_table.ipynb>data table notebook</a>'\n",
              "            + ' to learn more about interactive tables.';\n",
              "          element.innerHTML = '';\n",
              "          dataTable['output_type'] = 'display_data';\n",
              "          await google.colab.output.renderOutput(dataTable, element);\n",
              "          const docLink = document.createElement('div');\n",
              "          docLink.innerHTML = docLinkHtml;\n",
              "          element.appendChild(docLink);\n",
              "        }\n",
              "      </script>\n",
              "    </div>\n",
              "  </div>\n",
              "  "
            ],
            "text/plain": [
              "   age  sex  cp  trestbps  fbs  restecg  thalach  exang  oldpeak  slope ca  \\\n",
              "0   63    1   1       145    1        2      150      0      2.3      3  0   \n",
              "1   67    1   4       160    0        2      108      1      1.5      2  3   \n",
              "2   67    1   4       120    0        2      129      1      2.6      2  2   \n",
              "3   37    1   3       130    0        0      187      0      3.5      3  0   \n",
              "4   41    0   2       130    0        2      172      0      1.4      1  0   \n",
              "\n",
              "  thal  num  chol  \n",
              "0    6    0   233  \n",
              "1    3    2   286  \n",
              "2    7    1   229  \n",
              "3    3    0   250  \n",
              "4    3    0   204  "
            ]
          },
          "execution_count": 95,
          "metadata": {},
          "output_type": "execute_result"
        }
      ],
      "source": [
        "df.head() "
      ]
    },
    {
      "cell_type": "markdown",
      "metadata": {
        "id": "OpzDiJJ-8-8f"
      },
      "source": [
        " * Data bao gồm 14 cột, thông tin các cột như sau:\n",
        "1. age: độ tuổi khách hàng\n",
        "2. sex: giới tính khách hàng (1 - Nam; 0 - Nữ)\n",
        "3. cp: tình trạng đau ngực (4 cấp độ từ 1 đến 4)\n",
        "4. trestbps: tình trạng huyết áp\n",
        "5. fbs: xét nghiệm đường huyết (> 120mg/dl)\n",
        "6. restecg: kết quả xét nghiệm đồ hình tim\n",
        "7. thalach: nhịp tim lớn nhất đạt được\n",
        "8. exang: gắng sức đau thắt ngực (1 - yes; 0 - no)\n",
        "9. oldpeak: độ chênh xuống động mạch\n",
        "10. slope: ST chênh (1 - chênh lên; 2 - phẳng; 3 chênh xuống) \n",
        "11. ca: số lượng mạch chính được soi bằng huỳnh quang (0-3)\n",
        "12. thal:  \n",
        "13. num: chẩn đoán bệnh tim (tình trạng bệnh mạch vành) -- Giá trị 0: hẹp đường kính < 50% -- Giá trị 1: hẹp đường kính > 50% (ở bất kỳ mạch máu chính nào ) \n",
        "14. chol:mg/dl "
      ]
    },
    {
      "cell_type": "code",
      "execution_count": null,
      "metadata": {
        "colab": {
          "base_uri": "https://localhost:8080/"
        },
        "id": "aBuzdKOdncRJ",
        "outputId": "7ceef867-e343-4688-d663-5e72d8c09920"
      },
      "outputs": [
        {
          "name": "stdout",
          "output_type": "stream",
          "text": [
            "<class 'pandas.core.frame.DataFrame'>\n",
            "RangeIndex: 303 entries, 0 to 302\n",
            "Data columns (total 14 columns):\n",
            " #   Column    Non-Null Count  Dtype  \n",
            "---  ------    --------------  -----  \n",
            " 0   age       303 non-null    int64  \n",
            " 1   sex       303 non-null    int64  \n",
            " 2   cp        303 non-null    int64  \n",
            " 3   trestbps  303 non-null    int64  \n",
            " 4   fbs       303 non-null    int64  \n",
            " 5   restecg   303 non-null    int64  \n",
            " 6   thalach   303 non-null    int64  \n",
            " 7   exang     303 non-null    int64  \n",
            " 8   oldpeak   303 non-null    float64\n",
            " 9   slope     303 non-null    int64  \n",
            " 10  ca        303 non-null    object \n",
            " 11  thal      303 non-null    object \n",
            " 12  num       303 non-null    int64  \n",
            " 13  chol      303 non-null    int64  \n",
            "dtypes: float64(1), int64(11), object(2)\n",
            "memory usage: 33.3+ KB\n"
          ]
        }
      ],
      "source": [
        "# check thông tin dataset và dạng dữ liệu của từng cột\n",
        "df.info()"
      ]
    },
    {
      "cell_type": "code",
      "execution_count": null,
      "metadata": {
        "colab": {
          "base_uri": "https://localhost:8080/"
        },
        "id": "KSqy-el44pnS",
        "outputId": "99754afd-edc0-4696-ecd6-2837cfd2da20"
      },
      "outputs": [
        {
          "name": "stdout",
          "output_type": "stream",
          "text": [
            "['0' '3' '2' '1' '?']\n",
            "['6' '3' '7' '?']\n"
          ]
        }
      ],
      "source": [
        "#check thông tin data các cột thấy có 2 cột 'ca' và 'thal' là dữ liệu dạng số nhưng data type đang ở dạng object\n",
        "#check data bất thường trong hai cột 'ca' và 'thal'\n",
        "print(df['ca'].unique())\n",
        "print(df['thal'].unique())"
      ]
    },
    {
      "cell_type": "markdown",
      "metadata": {
        "id": "JxloihxlIDd7"
      },
      "source": [
        "cột 'ca' và 'thal' có chứ datapoint '?' . Cần cleaning data hai cột này"
      ]
    },
    {
      "cell_type": "code",
      "execution_count": null,
      "metadata": {
        "id": "hucrqYrcISxh"
      },
      "outputs": [],
      "source": [
        "#thay thế '?' bằng nan value\n",
        "df.replace(\"?\", np.nan, inplace = True)"
      ]
    },
    {
      "cell_type": "code",
      "execution_count": null,
      "metadata": {
        "colab": {
          "base_uri": "https://localhost:8080/"
        },
        "id": "UOnNJXNrIkMy",
        "outputId": "39dd8773-e6cf-424a-afd3-de06cfe91336"
      },
      "outputs": [
        {
          "name": "stdout",
          "output_type": "stream",
          "text": [
            "<class 'pandas.core.frame.DataFrame'>\n",
            "RangeIndex: 303 entries, 0 to 302\n",
            "Data columns (total 14 columns):\n",
            " #   Column    Non-Null Count  Dtype  \n",
            "---  ------    --------------  -----  \n",
            " 0   age       303 non-null    int64  \n",
            " 1   sex       303 non-null    int64  \n",
            " 2   cp        303 non-null    int64  \n",
            " 3   trestbps  303 non-null    int64  \n",
            " 4   fbs       303 non-null    int64  \n",
            " 5   restecg   303 non-null    int64  \n",
            " 6   thalach   303 non-null    int64  \n",
            " 7   exang     303 non-null    int64  \n",
            " 8   oldpeak   303 non-null    float64\n",
            " 9   slope     303 non-null    int64  \n",
            " 10  ca        299 non-null    object \n",
            " 11  thal      301 non-null    object \n",
            " 12  num       303 non-null    int64  \n",
            " 13  chol      303 non-null    int64  \n",
            "dtypes: float64(1), int64(11), object(2)\n",
            "memory usage: 33.3+ KB\n"
          ]
        }
      ],
      "source": [
        "df.info()"
      ]
    },
    {
      "cell_type": "code",
      "execution_count": null,
      "metadata": {
        "colab": {
          "base_uri": "https://localhost:8080/"
        },
        "id": "dmc9S9z3I_mK",
        "outputId": "42bac4ef-61a1-458c-f4b0-abb76994e9b1"
      },
      "outputs": [
        {
          "data": {
            "text/plain": [
              "age         0\n",
              "sex         0\n",
              "cp          0\n",
              "trestbps    0\n",
              "fbs         0\n",
              "restecg     0\n",
              "thalach     0\n",
              "exang       0\n",
              "oldpeak     0\n",
              "slope       0\n",
              "ca          4\n",
              "thal        2\n",
              "num         0\n",
              "chol        0\n",
              "dtype: int64"
            ]
          },
          "execution_count": 100,
          "metadata": {},
          "output_type": "execute_result"
        }
      ],
      "source": [
        "#đếm số nan value ở từng column\n",
        "df.isna().sum()"
      ]
    },
    {
      "cell_type": "markdown",
      "metadata": {
        "id": "lI8jYRcBJg9y"
      },
      "source": [
        "Cột 'ca' có 4 và 'thal' có 2 nan values, các cột còn lại đã fill đầy đủ"
      ]
    },
    {
      "cell_type": "code",
      "execution_count": null,
      "metadata": {
        "colab": {
          "base_uri": "https://localhost:8080/"
        },
        "id": "yOBGk3KjJ8TZ",
        "outputId": "f2507d53-3b3d-41e8-aac7-a2dab4894d0b"
      },
      "outputs": [
        {
          "name": "stdout",
          "output_type": "stream",
          "text": [
            "age\n",
            "False    303\n",
            "Name: age, dtype: int64\n",
            "----------------------------------\n",
            "sex\n",
            "False    303\n",
            "Name: sex, dtype: int64\n",
            "----------------------------------\n",
            "cp\n",
            "False    303\n",
            "Name: cp, dtype: int64\n",
            "----------------------------------\n",
            "trestbps\n",
            "False    303\n",
            "Name: trestbps, dtype: int64\n",
            "----------------------------------\n",
            "fbs\n",
            "False    303\n",
            "Name: fbs, dtype: int64\n",
            "----------------------------------\n",
            "restecg\n",
            "False    303\n",
            "Name: restecg, dtype: int64\n",
            "----------------------------------\n",
            "thalach\n",
            "False    303\n",
            "Name: thalach, dtype: int64\n",
            "----------------------------------\n",
            "exang\n",
            "False    303\n",
            "Name: exang, dtype: int64\n",
            "----------------------------------\n",
            "oldpeak\n",
            "False    303\n",
            "Name: oldpeak, dtype: int64\n",
            "----------------------------------\n",
            "slope\n",
            "False    303\n",
            "Name: slope, dtype: int64\n",
            "----------------------------------\n",
            "ca\n",
            "False    299\n",
            "True       4\n",
            "Name: ca, dtype: int64\n",
            "----------------------------------\n",
            "thal\n",
            "False    301\n",
            "True       2\n",
            "Name: thal, dtype: int64\n",
            "----------------------------------\n",
            "num\n",
            "False    303\n",
            "Name: num, dtype: int64\n",
            "----------------------------------\n",
            "chol\n",
            "False    303\n",
            "Name: chol, dtype: int64\n",
            "----------------------------------\n"
          ]
        }
      ],
      "source": [
        "null_data = df.isnull()\n",
        "for i in null_data.columns.values.tolist():\n",
        "    print(i)\n",
        "    print(null_data[i].value_counts())\n",
        "    print(\"----------------------------------\")"
      ]
    },
    {
      "cell_type": "code",
      "execution_count": null,
      "metadata": {
        "id": "INwA63lVKtKh"
      },
      "outputs": [],
      "source": [
        "#thay các ô trống bằng giá trị mean\n",
        "  \n",
        "df[\"thal\"].replace(np.nan,\"%.2f\" % df['thal'].astype('float').mean(axis=0), inplace=True)"
      ]
    },
    {
      "cell_type": "code",
      "execution_count": null,
      "metadata": {
        "colab": {
          "base_uri": "https://localhost:8080/"
        },
        "id": "4dUx1O4TLlAZ",
        "outputId": "e83f2dfa-4e84-4954-deb8-e84d338deb20"
      },
      "outputs": [
        {
          "name": "stdout",
          "output_type": "stream",
          "text": [
            "<class 'pandas.core.frame.DataFrame'>\n",
            "RangeIndex: 303 entries, 0 to 302\n",
            "Data columns (total 14 columns):\n",
            " #   Column    Non-Null Count  Dtype  \n",
            "---  ------    --------------  -----  \n",
            " 0   age       303 non-null    int64  \n",
            " 1   sex       303 non-null    int64  \n",
            " 2   cp        303 non-null    int64  \n",
            " 3   trestbps  303 non-null    int64  \n",
            " 4   fbs       303 non-null    int64  \n",
            " 5   restecg   303 non-null    int64  \n",
            " 6   thalach   303 non-null    int64  \n",
            " 7   exang     303 non-null    int64  \n",
            " 8   oldpeak   303 non-null    float64\n",
            " 9   slope     303 non-null    int64  \n",
            " 10  ca        303 non-null    object \n",
            " 11  thal      303 non-null    object \n",
            " 12  num       303 non-null    int64  \n",
            " 13  chol      303 non-null    int64  \n",
            "dtypes: float64(1), int64(11), object(2)\n",
            "memory usage: 33.3+ KB\n"
          ]
        }
      ],
      "source": [
        "#check lại thông tin các cột\n",
        "df.info()"
      ]
    },
    {
      "cell_type": "markdown",
      "metadata": {
        "id": "4UGNzcW0MFwJ"
      },
      "source": [
        "cột 'ca' và 'thal' đã được fill đầy đủ giá trị nhưng dạng dữ liệu vẫn chưa đúng. Cần astype cho hai cột này thành dạng float"
      ]
    },
    {
      "cell_type": "code",
      "execution_count": null,
      "metadata": {
        "id": "NXZIhZuQMYaJ"
      },
      "outputs": [],
      "source": [
        "df['ca'] = df['ca'].map(lambda x: float(x))\n",
        "df['thal'] = df['thal'].map(lambda x: float(x))"
      ]
    },
    {
      "cell_type": "code",
      "execution_count": null,
      "metadata": {
        "colab": {
          "base_uri": "https://localhost:8080/"
        },
        "id": "py9jV79nMnnp",
        "outputId": "065d71e7-fb5c-4caa-d41b-62af918fae0a"
      },
      "outputs": [
        {
          "name": "stdout",
          "output_type": "stream",
          "text": [
            "<class 'pandas.core.frame.DataFrame'>\n",
            "RangeIndex: 303 entries, 0 to 302\n",
            "Data columns (total 14 columns):\n",
            " #   Column    Non-Null Count  Dtype  \n",
            "---  ------    --------------  -----  \n",
            " 0   age       303 non-null    int64  \n",
            " 1   sex       303 non-null    int64  \n",
            " 2   cp        303 non-null    int64  \n",
            " 3   trestbps  303 non-null    int64  \n",
            " 4   fbs       303 non-null    int64  \n",
            " 5   restecg   303 non-null    int64  \n",
            " 6   thalach   303 non-null    int64  \n",
            " 7   exang     303 non-null    int64  \n",
            " 8   oldpeak   303 non-null    float64\n",
            " 9   slope     303 non-null    int64  \n",
            " 10  ca        303 non-null    float64\n",
            " 11  thal      303 non-null    float64\n",
            " 12  num       303 non-null    int64  \n",
            " 13  chol      303 non-null    int64  \n",
            "dtypes: float64(3), int64(11)\n",
            "memory usage: 33.3 KB\n"
          ]
        }
      ],
      "source": [
        "df.info()"
      ]
    },
    {
      "cell_type": "markdown",
      "metadata": {
        "id": "Zhzro7LINPQo"
      },
      "source": [
        "Các cột đã được fill đầy đủ và dạng dữ liệu đã đúng. Giờ đến bước xây dựng model"
      ]
    },
    {
      "cell_type": "markdown",
      "metadata": {
        "id": "uurcICnuVTTM"
      },
      "source": [
        "* tạo tập train và tập test"
      ]
    },
    {
      "cell_type": "code",
      "execution_count": null,
      "metadata": {
        "colab": {
          "base_uri": "https://localhost:8080/"
        },
        "id": "4ei6NRu4K8qw",
        "outputId": "801518bf-4593-4efa-b148-bca57b8f7fab"
      },
      "outputs": [
        {
          "data": {
            "text/plain": [
              "array([[ 63.  ,   1.  ,   1.  , ...,   0.  ,   6.  , 233.  ],\n",
              "       [ 67.  ,   1.  ,   4.  , ...,   3.  ,   3.  , 286.  ],\n",
              "       [ 67.  ,   1.  ,   4.  , ...,   2.  ,   7.  , 229.  ],\n",
              "       ...,\n",
              "       [ 57.  ,   1.  ,   4.  , ...,   1.  ,   7.  , 131.  ],\n",
              "       [ 57.  ,   0.  ,   2.  , ...,   1.  ,   3.  , 236.  ],\n",
              "       [ 38.  ,   1.  ,   3.  , ...,   0.67,   3.  , 175.  ]])"
            ]
          },
          "execution_count": 130,
          "metadata": {},
          "output_type": "execute_result"
        }
      ],
      "source": [
        "features = df.drop(['num'], axis=1)\n",
        "X = np.asanyarray(features)\n",
        "X"
      ]
    },
    {
      "cell_type": "code",
      "execution_count": null,
      "metadata": {
        "colab": {
          "base_uri": "https://localhost:8080/"
        },
        "id": "0DvzmSwabdB6",
        "outputId": "25a72d3d-96b5-499f-ab59-382b67234b82"
      },
      "outputs": [
        {
          "data": {
            "text/plain": [
              "array([0, 2, 1, 0, 0, 0, 3, 0, 2, 1, 0, 0, 2, 0, 0, 0, 1, 0, 0, 0, 0, 0,\n",
              "       1, 3, 4, 0, 0, 0, 0, 3, 0, 2, 1, 0, 0, 0, 3, 1, 3, 0, 4, 0, 0, 0,\n",
              "       1, 4, 0, 4, 0, 0, 0, 0, 2, 0, 1, 1, 1, 1, 0, 0, 2, 0, 1, 0, 2, 2,\n",
              "       1, 0, 2, 1, 0, 3, 1, 1, 1, 0, 1, 0, 0, 3, 0, 0, 0, 3, 0, 0, 0, 0,\n",
              "       0, 0, 0, 3, 0, 0, 0, 1, 2, 3, 0, 0, 0, 0, 0, 0, 3, 0, 2, 1, 2, 3,\n",
              "       1, 1, 0, 2, 2, 0, 0, 0, 3, 2, 3, 4, 0, 3, 1, 0, 3, 3, 0, 0, 0, 0,\n",
              "       0, 0, 0, 0, 4, 3, 1, 0, 0, 1, 0, 1, 0, 1, 4, 0, 0, 0, 0, 0, 0, 4,\n",
              "       3, 1, 1, 1, 2, 0, 0, 4, 0, 0, 0, 0, 0, 0, 1, 0, 3, 0, 1, 0, 4, 1,\n",
              "       0, 1, 0, 0, 3, 2, 0, 0, 1, 0, 0, 2, 1, 2, 0, 3, 1, 2, 0, 3, 0, 0,\n",
              "       0, 1, 0, 0, 0, 0, 0, 3, 3, 3, 0, 1, 0, 4, 0, 3, 1, 0, 0, 0, 0, 0,\n",
              "       0, 0, 0, 3, 1, 0, 0, 0, 3, 2, 0, 2, 1, 0, 0, 3, 2, 1, 0, 0, 0, 0,\n",
              "       0, 2, 0, 2, 2, 1, 3, 0, 0, 1, 0, 0, 0, 0, 0, 0, 0, 1, 0, 3, 0, 0,\n",
              "       4, 2, 2, 2, 1, 0, 1, 0, 2, 0, 1, 0, 0, 0, 1, 0, 2, 0, 3, 0, 2, 4,\n",
              "       2, 0, 0, 0, 1, 0, 2, 2, 1, 0, 3, 1, 1, 2, 3, 1, 0])"
            ]
          },
          "execution_count": 131,
          "metadata": {},
          "output_type": "execute_result"
        }
      ],
      "source": [
        "y = np.asanyarray(df['num'])\n",
        "y"
      ]
    },
    {
      "cell_type": "code",
      "execution_count": null,
      "metadata": {
        "id": "RGf7xT4Bbm5b"
      },
      "outputs": [],
      "source": [
        "from sklearn import preprocessing\n",
        "X = preprocessing.StandardScaler().fit(X).transform(X)"
      ]
    },
    {
      "cell_type": "code",
      "execution_count": null,
      "metadata": {
        "colab": {
          "base_uri": "https://localhost:8080/"
        },
        "id": "y8oVpa4vbzEz",
        "outputId": "8bc92fb6-cfa7-4604-dc93-70e4a2422159"
      },
      "outputs": [
        {
          "name": "stdout",
          "output_type": "stream",
          "text": [
            "Train set: (242, 13) (242,)\n",
            "Test set: (61, 13) (61,)\n"
          ]
        }
      ],
      "source": [
        "from sklearn.model_selection import train_test_split\n",
        "X_train, X_test, y_train, y_test = train_test_split(X, y, test_size=0.2, random_state=4)\n",
        "print ('Train set:', X_train.shape,  y_train.shape)\n",
        "print ('Test set:', X_test.shape,  y_test.shape)"
      ]
    },
    {
      "cell_type": "markdown",
      "metadata": {
        "id": "T1Itzg4tsG2i"
      },
      "source": [
        "# **II. MODELS**"
      ]
    },
    {
      "cell_type": "markdown",
      "metadata": {
        "id": "kta1RuvcVtDS"
      },
      "source": [
        "## **1. LOGISTIC REGRESSION**\n"
      ]
    },
    {
      "cell_type": "code",
      "execution_count": null,
      "metadata": {
        "colab": {
          "base_uri": "https://localhost:8080/"
        },
        "id": "3JPn8MmlcIdu",
        "outputId": "52aaef58-589b-4e82-db5f-827d6633e640"
      },
      "outputs": [
        {
          "data": {
            "text/plain": [
              "LogisticRegression(C=0.01, solver='liblinear')"
            ]
          },
          "execution_count": 134,
          "metadata": {},
          "output_type": "execute_result"
        }
      ],
      "source": [
        "from sklearn.linear_model import LogisticRegression\n",
        "from sklearn.metrics import confusion_matrix\n",
        "LR = LogisticRegression(C=0.01, solver='liblinear').fit(X_train,y_train)\n",
        "LR"
      ]
    },
    {
      "cell_type": "code",
      "execution_count": null,
      "metadata": {
        "colab": {
          "base_uri": "https://localhost:8080/"
        },
        "id": "SY-209tMcJwD",
        "outputId": "205068be-873b-42d7-b3ac-573108210485"
      },
      "outputs": [
        {
          "data": {
            "text/plain": [
              "array([3, 0, 0, 0, 3, 1, 0, 0, 0, 3, 0, 1, 2, 3, 0, 2, 1, 1, 0, 0, 1, 0,\n",
              "       0, 0, 0, 0, 0, 0, 2, 3, 2, 0, 2, 0, 1, 0, 0, 0, 0, 0, 0, 0, 0, 0,\n",
              "       1, 2, 0, 0, 0, 0, 0, 3, 0, 3, 3, 0, 3, 0, 0, 0, 0])"
            ]
          },
          "execution_count": 135,
          "metadata": {},
          "output_type": "execute_result"
        }
      ],
      "source": [
        "yhat = LR.predict(X_test)\n",
        "yhat"
      ]
    },
    {
      "cell_type": "code",
      "execution_count": null,
      "metadata": {
        "colab": {
          "base_uri": "https://localhost:8080/"
        },
        "id": "XQm1ElTgcNDP",
        "outputId": "1436de2e-3b76-412f-95d1-a2490291bc8b"
      },
      "outputs": [
        {
          "data": {
            "text/plain": [
              "array([[0.15, 0.2 , 0.23, 0.25, 0.18],\n",
              "       [0.37, 0.17, 0.15, 0.16, 0.15],\n",
              "       [0.39, 0.17, 0.15, 0.14, 0.15],\n",
              "       [0.42, 0.16, 0.14, 0.14, 0.14],\n",
              "       [0.11, 0.18, 0.25, 0.26, 0.2 ],\n",
              "       [0.12, 0.24, 0.22, 0.23, 0.19],\n",
              "       [0.3 , 0.19, 0.19, 0.17, 0.16],\n",
              "       [0.37, 0.16, 0.17, 0.15, 0.16],\n",
              "       [0.36, 0.2 , 0.15, 0.15, 0.15],\n",
              "       [0.08, 0.23, 0.24, 0.25, 0.2 ],\n",
              "       [0.39, 0.16, 0.15, 0.15, 0.15],\n",
              "       [0.2 , 0.22, 0.2 , 0.19, 0.18],\n",
              "       [0.18, 0.17, 0.22, 0.21, 0.22],\n",
              "       [0.09, 0.24, 0.23, 0.24, 0.2 ],\n",
              "       [0.41, 0.14, 0.16, 0.15, 0.14],\n",
              "       [0.15, 0.22, 0.23, 0.21, 0.19],\n",
              "       [0.15, 0.23, 0.2 , 0.22, 0.19],\n",
              "       [0.2 , 0.21, 0.2 , 0.2 , 0.19],\n",
              "       [0.41, 0.16, 0.15, 0.13, 0.15],\n",
              "       [0.29, 0.21, 0.15, 0.17, 0.18],\n",
              "       [0.2 , 0.23, 0.19, 0.19, 0.18],\n",
              "       [0.36, 0.18, 0.15, 0.16, 0.15],\n",
              "       [0.33, 0.17, 0.17, 0.16, 0.16],\n",
              "       [0.24, 0.2 , 0.21, 0.16, 0.18],\n",
              "       [0.37, 0.16, 0.16, 0.15, 0.16],\n",
              "       [0.31, 0.18, 0.18, 0.16, 0.17],\n",
              "       [0.31, 0.19, 0.17, 0.17, 0.16],\n",
              "       [0.29, 0.18, 0.17, 0.2 , 0.16],\n",
              "       [0.14, 0.19, 0.23, 0.23, 0.2 ],\n",
              "       [0.13, 0.22, 0.23, 0.24, 0.19],\n",
              "       [0.1 , 0.22, 0.24, 0.23, 0.2 ],\n",
              "       [0.24, 0.22, 0.19, 0.18, 0.17],\n",
              "       [0.06, 0.21, 0.26, 0.26, 0.2 ],\n",
              "       [0.29, 0.19, 0.17, 0.18, 0.17],\n",
              "       [0.19, 0.23, 0.2 , 0.2 , 0.17],\n",
              "       [0.41, 0.18, 0.14, 0.13, 0.14],\n",
              "       [0.35, 0.19, 0.16, 0.16, 0.15],\n",
              "       [0.33, 0.16, 0.17, 0.17, 0.16],\n",
              "       [0.28, 0.19, 0.18, 0.18, 0.17],\n",
              "       [0.43, 0.18, 0.13, 0.13, 0.14],\n",
              "       [0.38, 0.19, 0.15, 0.14, 0.14],\n",
              "       [0.36, 0.16, 0.16, 0.15, 0.17],\n",
              "       [0.31, 0.17, 0.18, 0.17, 0.17],\n",
              "       [0.4 , 0.18, 0.15, 0.13, 0.15],\n",
              "       [0.08, 0.24, 0.24, 0.24, 0.2 ],\n",
              "       [0.11, 0.2 , 0.25, 0.23, 0.22],\n",
              "       [0.24, 0.21, 0.19, 0.19, 0.17],\n",
              "       [0.4 , 0.18, 0.14, 0.13, 0.14],\n",
              "       [0.34, 0.2 , 0.16, 0.15, 0.15],\n",
              "       [0.38, 0.2 , 0.13, 0.14, 0.16],\n",
              "       [0.23, 0.17, 0.22, 0.19, 0.19],\n",
              "       [0.08, 0.22, 0.24, 0.24, 0.21],\n",
              "       [0.43, 0.19, 0.11, 0.13, 0.14],\n",
              "       [0.06, 0.17, 0.25, 0.28, 0.24],\n",
              "       [0.17, 0.21, 0.21, 0.23, 0.17],\n",
              "       [0.33, 0.16, 0.17, 0.17, 0.18],\n",
              "       [0.16, 0.22, 0.22, 0.22, 0.18],\n",
              "       [0.3 , 0.22, 0.16, 0.15, 0.16],\n",
              "       [0.3 , 0.21, 0.17, 0.17, 0.15],\n",
              "       [0.24, 0.23, 0.18, 0.18, 0.17],\n",
              "       [0.36, 0.17, 0.15, 0.15, 0.17]])"
            ]
          },
          "execution_count": 136,
          "metadata": {},
          "output_type": "execute_result"
        }
      ],
      "source": [
        "yhat_prob = LR.predict_proba(X_test)\n",
        "yhat_prob"
      ]
    },
    {
      "cell_type": "code",
      "execution_count": null,
      "metadata": {
        "colab": {
          "base_uri": "https://localhost:8080/"
        },
        "id": "IzOzSYSvc7HM",
        "outputId": "218d515f-caa1-4122-9c51-d0966390395e"
      },
      "outputs": [
        {
          "name": "stdout",
          "output_type": "stream",
          "text": [
            "[[30  1  1  0  0]\n",
            " [ 7  2  1  1  0]\n",
            " [ 1  1  0  5  0]\n",
            " [ 1  1  4  2  0]\n",
            " [ 0  2  0  1  0]]\n"
          ]
        }
      ],
      "source": [
        "from sklearn.metrics import classification_report, confusion_matrix\n",
        "import itertools\n",
        "def plot_confusion_matrix(cm, classes,\n",
        "                          normalize=False,\n",
        "                          title='Confusion matrix',\n",
        "                          cmap=plt.cm.Blues):\n",
        "    \"\"\"\n",
        "    This function prints and plots the confusion matrix.\n",
        "    Normalization can be applied by setting normalize=True.\n",
        "    \"\"\"\n",
        "    if normalize:\n",
        "        cm = cm.astype('float') / cm.sum(axis=1)[:, np.newaxis]\n",
        "        print(\"Normalized confusion matrix\")\n",
        "    else:\n",
        "        print('Confusion matrix, without normalization')\n",
        "\n",
        "    print(cm)\n",
        "\n",
        "    plt.imshow(cm, interpolation='nearest', cmap=cmap)\n",
        "    plt.title(title)\n",
        "    plt.colorbar()\n",
        "    tick_marks = np.arange(len(classes))\n",
        "    plt.xticks(tick_marks, classes, rotation=45)\n",
        "    plt.yticks(tick_marks, classes)\n",
        "\n",
        "    fmt = '.2f' if normalize else 'd'\n",
        "    thresh = cm.max() / 2.\n",
        "    for i, j in itertools.product(range(cm.shape[0]), range(cm.shape[1])):\n",
        "        plt.text(j, i, format(cm[i, j], fmt),\n",
        "                 horizontalalignment=\"center\",\n",
        "                 color=\"white\" if cm[i, j] > thresh else \"black\")\n",
        "\n",
        "    plt.tight_layout()\n",
        "    plt.ylabel('True label')\n",
        "    plt.xlabel('Predicted label')\n",
        "print(confusion_matrix(y_test, yhat, labels=[0,1,2,3,4]))"
      ]
    },
    {
      "cell_type": "code",
      "execution_count": null,
      "metadata": {
        "colab": {
          "base_uri": "https://localhost:8080/",
          "height": 415
        },
        "id": "t4zRNyPKORsF",
        "outputId": "ab89751c-49f6-4d58-9176-1f3504313510"
      },
      "outputs": [
        {
          "name": "stdout",
          "output_type": "stream",
          "text": [
            "Confusion matrix, without normalization\n",
            "[[30  1  1  0  0]\n",
            " [ 7  2  1  1  0]\n",
            " [ 1  1  0  5  0]\n",
            " [ 1  1  4  2  0]\n",
            " [ 0  2  0  1  0]]\n"
          ]
        },
        {
          "data": {
            "image/png": "[encoded data removed]",
            "text/plain": [
              "<Figure size 432x288 with 2 Axes>"
            ]
          },
          "metadata": {
            "needs_background": "light"
          },
          "output_type": "display_data"
        }
      ],
      "source": [
        "cnf_matrix = confusion_matrix(y_test, yhat, labels=[0,1,2,3,4])\n",
        "np.set_printoptions(precision=2)\n",
        "plt.figure()\n",
        "plot_confusion_matrix(cnf_matrix, classes=['num=0','num=1','num=2','num=3','num=4'],normalize= False,  title='Confusion matrix')"
      ]
    },
    {
      "cell_type": "code",
      "execution_count": null,
      "metadata": {
        "colab": {
          "base_uri": "https://localhost:8080/"
        },
        "id": "km9z_r_pohCd",
        "outputId": "112e6f47-b13f-4357-a81d-0e299852fbbb"
      },
      "outputs": [
        {
          "data": {
            "text/plain": [
              "1.3163892036672404"
            ]
          },
          "execution_count": 139,
          "metadata": {},
          "output_type": "execute_result"
        }
      ],
      "source": [
        "from sklearn.metrics import log_loss\n",
        "log_loss(y_test, yhat_prob)"
      ]
    },
    {
      "cell_type": "code",
      "execution_count": null,
      "metadata": {
        "colab": {
          "base_uri": "https://localhost:8080/"
        },
        "id": "bgqjJ8Q1OYeF",
        "outputId": "787ff76a-284c-4dc6-f6dc-e2a30de297d3"
      },
      "outputs": [
        {
          "name": "stdout",
          "output_type": "stream",
          "text": [
            "              precision    recall  f1-score   support\n",
            "\n",
            "           0       0.77      0.94      0.85        32\n",
            "           1       0.29      0.18      0.22        11\n",
            "           2       0.00      0.00      0.00         7\n",
            "           3       0.22      0.25      0.24         8\n",
            "           4       0.00      0.00      0.00         3\n",
            "\n",
            "    accuracy                           0.56        61\n",
            "   macro avg       0.26      0.27      0.26        61\n",
            "weighted avg       0.48      0.56      0.51        61\n",
            "\n"
          ]
        },
        {
          "name": "stderr",
          "output_type": "stream",
          "text": [
            "/usr/local/lib/python3.8/dist-packages/sklearn/metrics/_classification.py:1318: UndefinedMetricWarning: Precision and F-score are ill-defined and being set to 0.0 in labels with no predicted samples. Use `zero_division` parameter to control this behavior.\n",
            "  _warn_prf(average, modifier, msg_start, len(result))\n",
            "/usr/local/lib/python3.8/dist-packages/sklearn/metrics/_classification.py:1318: UndefinedMetricWarning: Precision and F-score are ill-defined and being set to 0.0 in labels with no predicted samples. Use `zero_division` parameter to control this behavior.\n",
            "  _warn_prf(average, modifier, msg_start, len(result))\n",
            "/usr/local/lib/python3.8/dist-packages/sklearn/metrics/_classification.py:1318: UndefinedMetricWarning: Precision and F-score are ill-defined and being set to 0.0 in labels with no predicted samples. Use `zero_division` parameter to control this behavior.\n",
            "  _warn_prf(average, modifier, msg_start, len(result))\n"
          ]
        }
      ],
      "source": [
        "from sklearn.metrics import classification_report, confusion_matrix\n",
        "print(classification_report(y_test, yhat))"
      ]
    },
    {
      "cell_type": "code",
      "execution_count": null,
      "metadata": {
        "id": "zRWHd6E3nygs"
      },
      "outputs": [],
      "source": [
        "y_pred_lr = logreg.predict(X_test)"
      ]
    },
    {
      "cell_type": "code",
      "execution_count": null,
      "metadata": {
        "colab": {
          "base_uri": "https://localhost:8080/"
        },
        "id": "P4-UmW-Qn2Rd",
        "outputId": "569413ed-bb76-4dbc-9abc-8596f0677b15"
      },
      "outputs": [
        {
          "data": {
            "text/plain": [
              "0.5573770491803278"
            ]
          },
          "execution_count": 142,
          "metadata": {},
          "output_type": "execute_result"
        }
      ],
      "source": [
        "from sklearn.metrics import accuracy_score\n",
        "accuracy_score(y_test, y_pred_lr)"
      ]
    },
    {
      "cell_type": "code",
      "execution_count": null,
      "metadata": {
        "colab": {
          "base_uri": "https://localhost:8080/"
        },
        "id": "0An1zkXBoNQt",
        "outputId": "4b970359-73a0-43a3-b94e-ee498f668835"
      },
      "outputs": [
        {
          "name": "stdout",
          "output_type": "stream",
          "text": [
            "Accuracy of LR is: 55.73770491803278 %\n"
          ]
        }
      ],
      "source": [
        "print(\"Accuracy of LR is:\", 100 * accuracy_score(y_test, y_pred_lr), '%')"
      ]
    },
    {
      "cell_type": "markdown",
      "metadata": {
        "id": "otAiBGh0YW0S"
      },
      "source": [
        "## **2. NAVIE BAYES** "
      ]
    },
    {
      "cell_type": "code",
      "execution_count": null,
      "metadata": {
        "id": "jiD7ODL4Yc7P"
      },
      "outputs": [],
      "source": [
        "from sklearn.naive_bayes import GaussianNB\n",
        "gnb = GaussianNB()\n",
        "y_pred_gnb = gnb.fit(X_train, y_train).predict(X_test)"
      ]
    },
    {
      "cell_type": "code",
      "execution_count": null,
      "metadata": {
        "colab": {
          "base_uri": "https://localhost:8080/"
        },
        "id": "P0n_2yIIUR2e",
        "outputId": "c9e2e133-ebcf-4e36-f4bf-68562d8b109f"
      },
      "outputs": [
        {
          "name": "stdout",
          "output_type": "stream",
          "text": [
            "              precision    recall  f1-score   support\n",
            "\n",
            "           0       0.82      0.84      0.83        32\n",
            "           1       0.20      0.18      0.19        11\n",
            "           2       0.00      0.00      0.00         7\n",
            "           3       0.14      0.12      0.13         8\n",
            "           4       0.00      0.00      0.00         3\n",
            "\n",
            "    accuracy                           0.49        61\n",
            "   macro avg       0.23      0.23      0.23        61\n",
            "weighted avg       0.48      0.49      0.49        61\n",
            "\n"
          ]
        }
      ],
      "source": [
        "print(classification_report(y_test, y_pred_gnb))"
      ]
    },
    {
      "cell_type": "code",
      "execution_count": null,
      "metadata": {
        "colab": {
          "base_uri": "https://localhost:8080/"
        },
        "id": "0v2LbBvJfZO-",
        "outputId": "9f8e54ef-33bb-4081-f075-2d5f1b681b53"
      },
      "outputs": [
        {
          "data": {
            "text/plain": [
              "0.4918032786885246"
            ]
          },
          "execution_count": 147,
          "metadata": {},
          "output_type": "execute_result"
        }
      ],
      "source": [
        "from sklearn.metrics import accuracy_score\n",
        "accuracy_score(y_test, y_pred_gnb)"
      ]
    },
    {
      "cell_type": "code",
      "execution_count": null,
      "metadata": {
        "colab": {
          "base_uri": "https://localhost:8080/"
        },
        "id": "8abve5P1gPA1",
        "outputId": "9536e1af-1f86-4653-c834-943b2b7c9292"
      },
      "outputs": [
        {
          "name": "stdout",
          "output_type": "stream",
          "text": [
            "Accuracy of GNB is: 49.18032786885246 %\n"
          ]
        }
      ],
      "source": [
        "print(\"Accuracy of GNB is:\", 100 * accuracy_score(y_test, y_pred_gnb), '%')"
      ]
    },
    {
      "cell_type": "markdown",
      "metadata": {
        "id": "dv2jfvkhnQUj"
      },
      "source": [
        "## **3. SVM**"
      ]
    },
    {
      "cell_type": "code",
      "execution_count": null,
      "metadata": {
        "id": "xVPFbRp9iuM0"
      },
      "outputs": [],
      "source": [
        "from sklearn import svm"
      ]
    },
    {
      "cell_type": "code",
      "execution_count": null,
      "metadata": {
        "colab": {
          "base_uri": "https://localhost:8080/"
        },
        "id": "lguyM10akm_E",
        "outputId": "51990fc4-946c-4fcb-e6b8-9962f1e3000b"
      },
      "outputs": [
        {
          "data": {
            "text/plain": [
              "SVC()"
            ]
          },
          "execution_count": 150,
          "metadata": {},
          "output_type": "execute_result"
        }
      ],
      "source": [
        "clf = svm.SVC(kernel='rbf') # Linear Kernel \n",
        "clf.fit(X_train, y_train)"
      ]
    },
    {
      "cell_type": "code",
      "execution_count": null,
      "metadata": {
        "id": "QKo0YCaLk3Br"
      },
      "outputs": [],
      "source": [
        "y_pred_svm = clf.predict(X_test)"
      ]
    },
    {
      "cell_type": "code",
      "execution_count": null,
      "metadata": {
        "colab": {
          "base_uri": "https://localhost:8080/"
        },
        "id": "N4DLkbOrUj3w",
        "outputId": "2b64ab59-0c46-42d9-a033-89edf65ae6a8"
      },
      "outputs": [
        {
          "name": "stdout",
          "output_type": "stream",
          "text": [
            "              precision    recall  f1-score   support\n",
            "\n",
            "           0       0.76      0.97      0.85        32\n",
            "           1       0.22      0.18      0.20        11\n",
            "           2       0.44      0.57      0.50         7\n",
            "           3       0.00      0.00      0.00         8\n",
            "           4       0.00      0.00      0.00         3\n",
            "\n",
            "    accuracy                           0.61        61\n",
            "   macro avg       0.28      0.34      0.31        61\n",
            "weighted avg       0.49      0.61      0.54        61\n",
            "\n"
          ]
        },
        {
          "name": "stderr",
          "output_type": "stream",
          "text": [
            "/usr/local/lib/python3.8/dist-packages/sklearn/metrics/_classification.py:1318: UndefinedMetricWarning: Precision and F-score are ill-defined and being set to 0.0 in labels with no predicted samples. Use `zero_division` parameter to control this behavior.\n",
            "  _warn_prf(average, modifier, msg_start, len(result))\n",
            "/usr/local/lib/python3.8/dist-packages/sklearn/metrics/_classification.py:1318: UndefinedMetricWarning: Precision and F-score are ill-defined and being set to 0.0 in labels with no predicted samples. Use `zero_division` parameter to control this behavior.\n",
            "  _warn_prf(average, modifier, msg_start, len(result))\n",
            "/usr/local/lib/python3.8/dist-packages/sklearn/metrics/_classification.py:1318: UndefinedMetricWarning: Precision and F-score are ill-defined and being set to 0.0 in labels with no predicted samples. Use `zero_division` parameter to control this behavior.\n",
            "  _warn_prf(average, modifier, msg_start, len(result))\n"
          ]
        }
      ],
      "source": [
        "print(classification_report(y_test, y_pred_svm))"
      ]
    },
    {
      "cell_type": "code",
      "execution_count": null,
      "metadata": {
        "colab": {
          "base_uri": "https://localhost:8080/"
        },
        "id": "rXgo6VsGk92r",
        "outputId": "6176dd98-7d04-4527-c93a-6bd4f05dff96"
      },
      "outputs": [
        {
          "name": "stdout",
          "output_type": "stream",
          "text": [
            "Accuracy of SVM is: 60.65573770491803 %\n"
          ]
        }
      ],
      "source": [
        "from sklearn import metrics\n",
        "print(\"Accuracy of SVM is:\", 100 * metrics.accuracy_score(y_test, y_pred_svm), '%')\n"
      ]
    },
    {
      "cell_type": "markdown",
      "metadata": {
        "id": "Us6bnY-GoUWy"
      },
      "source": [
        "## **4. DECISION TREE**"
      ]
    },
    {
      "cell_type": "code",
      "execution_count": null,
      "metadata": {
        "id": "v2Qode_aobAK"
      },
      "outputs": [],
      "source": [
        "from sklearn import tree\n",
        "from sklearn.datasets import load_iris"
      ]
    },
    {
      "cell_type": "code",
      "execution_count": null,
      "metadata": {
        "id": "unFvfm2uomyD"
      },
      "outputs": [],
      "source": [
        "clf = tree.DecisionTreeClassifier()\n",
        "clf = clf.fit(X,y)"
      ]
    },
    {
      "cell_type": "code",
      "execution_count": null,
      "metadata": {
        "colab": {
          "base_uri": "https://localhost:8080/",
          "height": 1000
        },
        "id": "r5PgD3ZwpIYZ",
        "outputId": "cfa2c0a0-9abb-4a54-e1e7-3d63416299da"
      },
      "outputs": [
        {
          "data": {
            "text/plain": [
              "[Text(0.3925426136363636, 0.9666666666666667, 'thal <= -0.45\\ngini = 0.645\\nsamples = 303\\nvalue = [164, 55, 36, 35, 13]\\nclass = 0'),\n",
              " Text(0.17670454545454545, 0.9, 'ca <= 0.175\\ngini = 0.375\\nsamples = 166\\nvalue = [129, 22, 7, 6, 2]\\nclass = 0'),\n",
              " Text(0.10454545454545454, 0.8333333333333334, 'trestbps <= 1.44\\ngini = 0.201\\nsamples = 117\\nvalue = [104, 11, 2, 0, 0]\\nclass = 0'),\n",
              " Text(0.08636363636363636, 0.7666666666666667, 'thalach <= -2.895\\ngini = 0.15\\nsamples = 111\\nvalue = [102, 8, 1, 0, 0]\\nclass = 0'),\n",
              " Text(0.07727272727272727, 0.7, 'gini = 0.0\\nsamples = 1\\nvalue = [0, 0, 1, 0, 0]\\nclass = 2'),\n",
              " Text(0.09545454545454546, 0.7, 'oldpeak <= 2.166\\ngini = 0.135\\nsamples = 110\\nvalue = [102, 8, 0, 0, 0]\\nclass = 0'),\n",
              " Text(0.08636363636363636, 0.6333333333333333, 'age <= 0.561\\ngini = 0.12\\nsamples = 109\\nvalue = [102, 7, 0, 0, 0]\\nclass = 0'),\n",
              " Text(0.045454545454545456, 0.5666666666666667, 'oldpeak <= 0.57\\ngini = 0.044\\nsamples = 89\\nvalue = [87, 2, 0, 0, 0]\\nclass = 0'),\n",
              " Text(0.02727272727272727, 0.5, 'trestbps <= -1.291\\ngini = 0.024\\nsamples = 84\\nvalue = [83, 1, 0, 0, 0]\\nclass = 0'),\n",
              " Text(0.01818181818181818, 0.43333333333333335, 'sex <= -0.386\\ngini = 0.219\\nsamples = 8\\nvalue = [7, 1, 0, 0, 0]\\nclass = 0'),\n",
              " Text(0.00909090909090909, 0.36666666666666664, 'gini = 0.0\\nsamples = 6\\nvalue = [6, 0, 0, 0, 0]\\nclass = 0'),\n",
              " Text(0.02727272727272727, 0.36666666666666664, 'thalach <= -0.092\\ngini = 0.5\\nsamples = 2\\nvalue = [1, 1, 0, 0, 0]\\nclass = 0'),\n",
              " Text(0.01818181818181818, 0.3, 'gini = 0.0\\nsamples = 1\\nvalue = [1, 0, 0, 0, 0]\\nclass = 0'),\n",
              " Text(0.03636363636363636, 0.3, 'gini = 0.0\\nsamples = 1\\nvalue = [0, 1, 0, 0, 0]\\nclass = 1'),\n",
              " Text(0.03636363636363636, 0.43333333333333335, 'gini = 0.0\\nsamples = 76\\nvalue = [76, 0, 0, 0, 0]\\nclass = 0'),\n",
              " Text(0.06363636363636363, 0.5, 'cp <= -0.687\\ngini = 0.32\\nsamples = 5\\nvalue = [4, 1, 0, 0, 0]\\nclass = 0'),\n",
              " Text(0.05454545454545454, 0.43333333333333335, 'gini = 0.0\\nsamples = 1\\nvalue = [0, 1, 0, 0, 0]\\nclass = 1'),\n",
              " Text(0.07272727272727272, 0.43333333333333335, 'gini = 0.0\\nsamples = 4\\nvalue = [4, 0, 0, 0, 0]\\nclass = 0'),\n",
              " Text(0.12727272727272726, 0.5666666666666667, 'thalach <= 0.127\\ngini = 0.375\\nsamples = 20\\nvalue = [15, 5, 0, 0, 0]\\nclass = 0'),\n",
              " Text(0.1, 0.5, 'cp <= 0.356\\ngini = 0.153\\nsamples = 12\\nvalue = [11, 1, 0, 0, 0]\\nclass = 0'),\n",
              " Text(0.09090909090909091, 0.43333333333333335, 'gini = 0.0\\nsamples = 9\\nvalue = [9, 0, 0, 0, 0]\\nclass = 0'),\n",
              " Text(0.10909090909090909, 0.43333333333333335, 'trestbps <= -0.551\\ngini = 0.444\\nsamples = 3\\nvalue = [2, 1, 0, 0, 0]\\nclass = 0'),\n",
              " Text(0.1, 0.36666666666666664, 'gini = 0.0\\nsamples = 2\\nvalue = [2, 0, 0, 0, 0]\\nclass = 0'),\n",
              " Text(0.11818181818181818, 0.36666666666666664, 'gini = 0.0\\nsamples = 1\\nvalue = [0, 1, 0, 0, 0]\\nclass = 1'),\n",
              " Text(0.15454545454545454, 0.5, 'oldpeak <= 0.225\\ngini = 0.5\\nsamples = 8\\nvalue = [4, 4, 0, 0, 0]\\nclass = 0'),\n",
              " Text(0.14545454545454545, 0.43333333333333335, 'chol <= 0.857\\ngini = 0.444\\nsamples = 6\\nvalue = [4, 2, 0, 0, 0]\\nclass = 0'),\n",
              " Text(0.13636363636363635, 0.36666666666666664, 'gini = 0.0\\nsamples = 3\\nvalue = [3, 0, 0, 0, 0]\\nclass = 0'),\n",
              " Text(0.15454545454545454, 0.36666666666666664, 'chol <= 2.279\\ngini = 0.444\\nsamples = 3\\nvalue = [1, 2, 0, 0, 0]\\nclass = 1'),\n",
              " Text(0.14545454545454545, 0.3, 'gini = 0.0\\nsamples = 2\\nvalue = [0, 2, 0, 0, 0]\\nclass = 1'),\n",
              " Text(0.16363636363636364, 0.3, 'gini = 0.0\\nsamples = 1\\nvalue = [1, 0, 0, 0, 0]\\nclass = 0'),\n",
              " Text(0.16363636363636364, 0.43333333333333335, 'gini = 0.0\\nsamples = 2\\nvalue = [0, 2, 0, 0, 0]\\nclass = 1'),\n",
              " Text(0.10454545454545454, 0.6333333333333333, 'gini = 0.0\\nsamples = 1\\nvalue = [0, 1, 0, 0, 0]\\nclass = 1'),\n",
              " Text(0.12272727272727273, 0.7666666666666667, 'chol <= 1.321\\ngini = 0.611\\nsamples = 6\\nvalue = [2, 3, 1, 0, 0]\\nclass = 1'),\n",
              " Text(0.11363636363636363, 0.7, 'gini = 0.0\\nsamples = 3\\nvalue = [0, 3, 0, 0, 0]\\nclass = 1'),\n",
              " Text(0.1318181818181818, 0.7, 'slope <= -0.164\\ngini = 0.444\\nsamples = 3\\nvalue = [2, 0, 1, 0, 0]\\nclass = 0'),\n",
              " Text(0.12272727272727273, 0.6333333333333333, 'gini = 0.0\\nsamples = 2\\nvalue = [2, 0, 0, 0, 0]\\nclass = 0'),\n",
              " Text(0.1409090909090909, 0.6333333333333333, 'gini = 0.0\\nsamples = 1\\nvalue = [0, 0, 1, 0, 0]\\nclass = 2'),\n",
              " Text(0.24886363636363637, 0.8333333333333334, 'cp <= 0.356\\ngini = 0.662\\nsamples = 49\\nvalue = [25, 11, 5, 6, 2]\\nclass = 0'),\n",
              " Text(0.2, 0.7666666666666667, 'oldpeak <= 1.044\\ngini = 0.392\\nsamples = 29\\nvalue = [22, 5, 1, 1, 0]\\nclass = 0'),\n",
              " Text(0.19090909090909092, 0.7, 'chol <= -1.445\\ngini = 0.349\\nsamples = 28\\nvalue = [22, 5, 0, 1, 0]\\nclass = 0'),\n",
              " Text(0.18181818181818182, 0.6333333333333333, 'gini = 0.0\\nsamples = 1\\nvalue = [0, 1, 0, 0, 0]\\nclass = 1'),\n",
              " Text(0.2, 0.6333333333333333, 'age <= 0.118\\ngini = 0.313\\nsamples = 27\\nvalue = [22, 4, 0, 1, 0]\\nclass = 0'),\n",
              " Text(0.19090909090909092, 0.5666666666666667, 'gini = 0.0\\nsamples = 12\\nvalue = [12, 0, 0, 0, 0]\\nclass = 0'),\n",
              " Text(0.20909090909090908, 0.5666666666666667, 'age <= 0.561\\ngini = 0.48\\nsamples = 15\\nvalue = [10, 4, 0, 1, 0]\\nclass = 0'),\n",
              " Text(0.19090909090909092, 0.5, 'chol <= 0.596\\ngini = 0.375\\nsamples = 4\\nvalue = [0, 3, 0, 1, 0]\\nclass = 1'),\n",
              " Text(0.18181818181818182, 0.43333333333333335, 'gini = 0.0\\nsamples = 3\\nvalue = [0, 3, 0, 0, 0]\\nclass = 1'),\n",
              " Text(0.2, 0.43333333333333335, 'gini = 0.0\\nsamples = 1\\nvalue = [0, 0, 0, 1, 0]\\nclass = 3'),\n",
              " Text(0.22727272727272727, 0.5, 'sex <= -0.386\\ngini = 0.165\\nsamples = 11\\nvalue = [10, 1, 0, 0, 0]\\nclass = 0'),\n",
              " Text(0.21818181818181817, 0.43333333333333335, 'gini = 0.0\\nsamples = 9\\nvalue = [9, 0, 0, 0, 0]\\nclass = 0'),\n",
              " Text(0.23636363636363636, 0.43333333333333335, 'trestbps <= 0.985\\ngini = 0.5\\nsamples = 2\\nvalue = [1, 1, 0, 0, 0]\\nclass = 0'),\n",
              " Text(0.22727272727272727, 0.36666666666666664, 'gini = 0.0\\nsamples = 1\\nvalue = [0, 1, 0, 0, 0]\\nclass = 1'),\n",
              " Text(0.24545454545454545, 0.36666666666666664, 'gini = 0.0\\nsamples = 1\\nvalue = [1, 0, 0, 0, 0]\\nclass = 0'),\n",
              " Text(0.20909090909090908, 0.7, 'gini = 0.0\\nsamples = 1\\nvalue = [0, 0, 1, 0, 0]\\nclass = 2'),\n",
              " Text(0.29772727272727273, 0.7666666666666667, 'slope <= 1.462\\ngini = 0.775\\nsamples = 20\\nvalue = [3, 6, 4, 5, 2]\\nclass = 1'),\n",
              " Text(0.28863636363636364, 0.7, 'sex <= -0.386\\ngini = 0.772\\nsamples = 18\\nvalue = [3, 6, 4, 3, 2]\\nclass = 1'),\n",
              " Text(0.2636363636363636, 0.6333333333333333, 'exang <= 0.369\\ngini = 0.56\\nsamples = 5\\nvalue = [3, 1, 1, 0, 0]\\nclass = 0'),\n",
              " Text(0.2545454545454545, 0.5666666666666667, 'fbs <= 0.988\\ngini = 0.375\\nsamples = 4\\nvalue = [3, 0, 1, 0, 0]\\nclass = 0'),\n",
              " Text(0.24545454545454545, 0.5, 'gini = 0.0\\nsamples = 3\\nvalue = [3, 0, 0, 0, 0]\\nclass = 0'),\n",
              " Text(0.2636363636363636, 0.5, 'gini = 0.0\\nsamples = 1\\nvalue = [0, 0, 1, 0, 0]\\nclass = 2'),\n",
              " Text(0.2727272727272727, 0.5666666666666667, 'gini = 0.0\\nsamples = 1\\nvalue = [0, 1, 0, 0, 0]\\nclass = 1'),\n",
              " Text(0.31363636363636366, 0.6333333333333333, 'age <= -0.159\\ngini = 0.722\\nsamples = 13\\nvalue = [0, 5, 3, 3, 2]\\nclass = 1'),\n",
              " Text(0.2909090909090909, 0.5666666666666667, 'chol <= 0.693\\ngini = 0.375\\nsamples = 4\\nvalue = [0, 3, 1, 0, 0]\\nclass = 1'),\n",
              " Text(0.2818181818181818, 0.5, 'gini = 0.0\\nsamples = 3\\nvalue = [0, 3, 0, 0, 0]\\nclass = 1'),\n",
              " Text(0.3, 0.5, 'gini = 0.0\\nsamples = 1\\nvalue = [0, 0, 1, 0, 0]\\nclass = 2'),\n",
              " Text(0.33636363636363636, 0.5666666666666667, 'trestbps <= -0.466\\ngini = 0.741\\nsamples = 9\\nvalue = [0, 2, 2, 3, 2]\\nclass = 3'),\n",
              " Text(0.3181818181818182, 0.5, 'slope <= -0.164\\ngini = 0.375\\nsamples = 4\\nvalue = [0, 0, 1, 3, 0]\\nclass = 3'),\n",
              " Text(0.3090909090909091, 0.43333333333333335, 'gini = 0.0\\nsamples = 1\\nvalue = [0, 0, 1, 0, 0]\\nclass = 2'),\n",
              " Text(0.32727272727272727, 0.43333333333333335, 'gini = 0.0\\nsamples = 3\\nvalue = [0, 0, 0, 3, 0]\\nclass = 3'),\n",
              " Text(0.35454545454545455, 0.5, 'thalach <= -1.8\\ngini = 0.64\\nsamples = 5\\nvalue = [0, 2, 1, 0, 2]\\nclass = 1'),\n",
              " Text(0.34545454545454546, 0.43333333333333335, 'gini = 0.0\\nsamples = 1\\nvalue = [0, 0, 1, 0, 0]\\nclass = 2'),\n",
              " Text(0.36363636363636365, 0.43333333333333335, 'slope <= -0.164\\ngini = 0.5\\nsamples = 4\\nvalue = [0, 2, 0, 0, 2]\\nclass = 1'),\n",
              " Text(0.35454545454545455, 0.36666666666666664, 'gini = 0.0\\nsamples = 1\\nvalue = [0, 0, 0, 0, 1]\\nclass = 4'),\n",
              " Text(0.37272727272727274, 0.36666666666666664, 'oldpeak <= 1.691\\ngini = 0.444\\nsamples = 3\\nvalue = [0, 2, 0, 0, 1]\\nclass = 1'),\n",
              " Text(0.36363636363636365, 0.3, 'gini = 0.0\\nsamples = 2\\nvalue = [0, 2, 0, 0, 0]\\nclass = 1'),\n",
              " Text(0.38181818181818183, 0.3, 'gini = 0.0\\nsamples = 1\\nvalue = [0, 0, 0, 0, 1]\\nclass = 4'),\n",
              " Text(0.3068181818181818, 0.7, 'gini = 0.0\\nsamples = 2\\nvalue = [0, 0, 0, 2, 0]\\nclass = 3'),\n",
              " Text(0.6083806818181818, 0.9, 'cp <= 0.356\\ngini = 0.781\\nsamples = 137\\nvalue = [35, 33, 29, 29, 11]\\nclass = 0'),\n",
              " Text(0.475, 0.8333333333333334, 'ca <= 0.175\\ngini = 0.641\\nsamples = 46\\nvalue = [25, 9, 5, 5, 2]\\nclass = 0'),\n",
              " Text(0.4090909090909091, 0.7666666666666667, 'age <= -1.711\\ngini = 0.43\\nsamples = 29\\nvalue = [21, 6, 0, 1, 1]\\nclass = 0'),\n",
              " Text(0.4, 0.7, 'gini = 0.0\\nsamples = 1\\nvalue = [0, 0, 0, 0, 1]\\nclass = 4'),\n",
              " Text(0.41818181818181815, 0.7, 'trestbps <= 2.693\\ngini = 0.39\\nsamples = 28\\nvalue = [21, 6, 0, 1, 0]\\nclass = 0'),\n",
              " Text(0.4090909090909091, 0.6333333333333333, 'thalach <= -0.311\\ngini = 0.346\\nsamples = 27\\nvalue = [21, 6, 0, 0, 0]\\nclass = 0'),\n",
              " Text(0.38181818181818183, 0.5666666666666667, 'trestbps <= -0.295\\ngini = 0.5\\nsamples = 6\\nvalue = [3, 3, 0, 0, 0]\\nclass = 0'),\n",
              " Text(0.37272727272727274, 0.5, 'gini = 0.0\\nsamples = 3\\nvalue = [0, 3, 0, 0, 0]\\nclass = 1'),\n",
              " Text(0.39090909090909093, 0.5, 'gini = 0.0\\nsamples = 3\\nvalue = [3, 0, 0, 0, 0]\\nclass = 0'),\n",
              " Text(0.43636363636363634, 0.5666666666666667, 'age <= 0.45\\ngini = 0.245\\nsamples = 21\\nvalue = [18, 3, 0, 0, 0]\\nclass = 0'),\n",
              " Text(0.4090909090909091, 0.5, 'slope <= 1.462\\ngini = 0.124\\nsamples = 15\\nvalue = [14, 1, 0, 0, 0]\\nclass = 0'),\n",
              " Text(0.4, 0.43333333333333335, 'gini = 0.0\\nsamples = 13\\nvalue = [13, 0, 0, 0, 0]\\nclass = 0'),\n",
              " Text(0.41818181818181815, 0.43333333333333335, 'cp <= -0.687\\ngini = 0.5\\nsamples = 2\\nvalue = [1, 1, 0, 0, 0]\\nclass = 0'),\n",
              " Text(0.4090909090909091, 0.36666666666666664, 'gini = 0.0\\nsamples = 1\\nvalue = [0, 1, 0, 0, 0]\\nclass = 1'),\n",
              " Text(0.42727272727272725, 0.36666666666666664, 'gini = 0.0\\nsamples = 1\\nvalue = [1, 0, 0, 0, 0]\\nclass = 0'),\n",
              " Text(0.4636363636363636, 0.5, 'oldpeak <= 0.138\\ngini = 0.444\\nsamples = 6\\nvalue = [4, 2, 0, 0, 0]\\nclass = 0'),\n",
              " Text(0.45454545454545453, 0.43333333333333335, 'thalach <= 0.127\\ngini = 0.444\\nsamples = 3\\nvalue = [1, 2, 0, 0, 0]\\nclass = 1'),\n",
              " Text(0.44545454545454544, 0.36666666666666664, 'gini = 0.0\\nsamples = 1\\nvalue = [0, 1, 0, 0, 0]\\nclass = 1'),\n",
              " Text(0.4636363636363636, 0.36666666666666664, 'chol <= 0.209\\ngini = 0.5\\nsamples = 2\\nvalue = [1, 1, 0, 0, 0]\\nclass = 0'),\n",
              " Text(0.45454545454545453, 0.3, 'gini = 0.0\\nsamples = 1\\nvalue = [1, 0, 0, 0, 0]\\nclass = 0'),\n",
              " Text(0.4727272727272727, 0.3, 'gini = 0.0\\nsamples = 1\\nvalue = [0, 1, 0, 0, 0]\\nclass = 1'),\n",
              " Text(0.4727272727272727, 0.43333333333333335, 'gini = 0.0\\nsamples = 3\\nvalue = [3, 0, 0, 0, 0]\\nclass = 0'),\n",
              " Text(0.42727272727272725, 0.6333333333333333, 'gini = 0.0\\nsamples = 1\\nvalue = [0, 0, 0, 1, 0]\\nclass = 3'),\n",
              " Text(0.5409090909090909, 0.7666666666666667, 'thalach <= -0.07\\ngini = 0.768\\nsamples = 17\\nvalue = [4, 3, 5, 4, 1]\\nclass = 2'),\n",
              " Text(0.509090909090909, 0.7, 'trestbps <= -0.495\\ngini = 0.568\\nsamples = 9\\nvalue = [1, 0, 5, 3, 0]\\nclass = 2'),\n",
              " Text(0.5, 0.6333333333333333, 'gini = 0.0\\nsamples = 2\\nvalue = [0, 0, 0, 2, 0]\\nclass = 3'),\n",
              " Text(0.5181818181818182, 0.6333333333333333, 'age <= 1.669\\ngini = 0.449\\nsamples = 7\\nvalue = [1, 0, 5, 1, 0]\\nclass = 2'),\n",
              " Text(0.509090909090909, 0.5666666666666667, 'chol <= -0.158\\ngini = 0.278\\nsamples = 6\\nvalue = [1, 0, 5, 0, 0]\\nclass = 2'),\n",
              " Text(0.5, 0.5, 'age <= 0.672\\ngini = 0.5\\nsamples = 2\\nvalue = [1, 0, 1, 0, 0]\\nclass = 0'),\n",
              " Text(0.4909090909090909, 0.43333333333333335, 'gini = 0.0\\nsamples = 1\\nvalue = [0, 0, 1, 0, 0]\\nclass = 2'),\n",
              " Text(0.509090909090909, 0.43333333333333335, 'gini = 0.0\\nsamples = 1\\nvalue = [1, 0, 0, 0, 0]\\nclass = 0'),\n",
              " Text(0.5181818181818182, 0.5, 'gini = 0.0\\nsamples = 4\\nvalue = [0, 0, 4, 0, 0]\\nclass = 2'),\n",
              " Text(0.5272727272727272, 0.5666666666666667, 'gini = 0.0\\nsamples = 1\\nvalue = [0, 0, 0, 1, 0]\\nclass = 3'),\n",
              " Text(0.5727272727272728, 0.7, 'oldpeak <= 0.613\\ngini = 0.688\\nsamples = 8\\nvalue = [3, 3, 0, 1, 1]\\nclass = 0'),\n",
              " Text(0.5545454545454546, 0.6333333333333333, 'slope <= -0.164\\ngini = 0.5\\nsamples = 6\\nvalue = [3, 3, 0, 0, 0]\\nclass = 0'),\n",
              " Text(0.5454545454545454, 0.5666666666666667, 'restecg <= 0.01\\ngini = 0.375\\nsamples = 4\\nvalue = [3, 1, 0, 0, 0]\\nclass = 0'),\n",
              " Text(0.5363636363636364, 0.5, 'gini = 0.0\\nsamples = 3\\nvalue = [3, 0, 0, 0, 0]\\nclass = 0'),\n",
              " Text(0.5545454545454546, 0.5, 'gini = 0.0\\nsamples = 1\\nvalue = [0, 1, 0, 0, 0]\\nclass = 1'),\n",
              " Text(0.5636363636363636, 0.5666666666666667, 'gini = 0.0\\nsamples = 2\\nvalue = [0, 2, 0, 0, 0]\\nclass = 1'),\n",
              " Text(0.5909090909090909, 0.6333333333333333, 'oldpeak <= 1.562\\ngini = 0.5\\nsamples = 2\\nvalue = [0, 0, 0, 1, 1]\\nclass = 3'),\n",
              " Text(0.5818181818181818, 0.5666666666666667, 'gini = 0.0\\nsamples = 1\\nvalue = [0, 0, 0, 0, 1]\\nclass = 4'),\n",
              " Text(0.6, 0.5666666666666667, 'gini = 0.0\\nsamples = 1\\nvalue = [0, 0, 0, 1, 0]\\nclass = 3'),\n",
              " Text(0.7417613636363637, 0.8333333333333334, 'oldpeak <= -0.293\\ngini = 0.769\\nsamples = 91\\nvalue = [10, 24, 24, 24, 9]\\nclass = 1'),\n",
              " Text(0.6363636363636364, 0.7666666666666667, 'chol <= -0.178\\ngini = 0.705\\nsamples = 24\\nvalue = [8, 9, 3, 4, 0]\\nclass = 1'),\n",
              " Text(0.6181818181818182, 0.7, 'age <= -1.378\\ngini = 0.569\\nsamples = 12\\nvalue = [7, 2, 3, 0, 0]\\nclass = 0'),\n",
              " Text(0.6090909090909091, 0.6333333333333333, 'gini = 0.0\\nsamples = 2\\nvalue = [0, 2, 0, 0, 0]\\nclass = 1'),\n",
              " Text(0.6272727272727273, 0.6333333333333333, 'ca <= -0.185\\ngini = 0.42\\nsamples = 10\\nvalue = [7, 0, 3, 0, 0]\\nclass = 0'),\n",
              " Text(0.6181818181818182, 0.5666666666666667, 'gini = 0.0\\nsamples = 6\\nvalue = [6, 0, 0, 0, 0]\\nclass = 0'),\n",
              " Text(0.6363636363636364, 0.5666666666666667, 'ca <= 1.428\\ngini = 0.375\\nsamples = 4\\nvalue = [1, 0, 3, 0, 0]\\nclass = 2'),\n",
              " Text(0.6272727272727273, 0.5, 'gini = 0.0\\nsamples = 3\\nvalue = [0, 0, 3, 0, 0]\\nclass = 2'),\n",
              " Text(0.6454545454545455, 0.5, 'gini = 0.0\\nsamples = 1\\nvalue = [1, 0, 0, 0, 0]\\nclass = 0'),\n",
              " Text(0.6545454545454545, 0.7, 'thalach <= -1.8\\ngini = 0.542\\nsamples = 12\\nvalue = [1, 7, 0, 4, 0]\\nclass = 1'),\n",
              " Text(0.6454545454545455, 0.6333333333333333, 'gini = 0.0\\nsamples = 1\\nvalue = [1, 0, 0, 0, 0]\\nclass = 0'),\n",
              " Text(0.6636363636363637, 0.6333333333333333, 'chol <= 0.083\\ngini = 0.463\\nsamples = 11\\nvalue = [0, 7, 0, 4, 0]\\nclass = 1'),\n",
              " Text(0.6545454545454545, 0.5666666666666667, 'gini = 0.0\\nsamples = 3\\nvalue = [0, 3, 0, 0, 0]\\nclass = 1'),\n",
              " Text(0.6727272727272727, 0.5666666666666667, 'fbs <= 0.988\\ngini = 0.5\\nsamples = 8\\nvalue = [0, 4, 0, 4, 0]\\nclass = 1'),\n",
              " Text(0.6636363636363637, 0.5, 'age <= -0.492\\ngini = 0.444\\nsamples = 6\\nvalue = [0, 4, 0, 2, 0]\\nclass = 1'),\n",
              " Text(0.6545454545454545, 0.43333333333333335, 'slope <= -0.164\\ngini = 0.444\\nsamples = 3\\nvalue = [0, 1, 0, 2, 0]\\nclass = 3'),\n",
              " Text(0.6454545454545455, 0.36666666666666664, 'gini = 0.0\\nsamples = 1\\nvalue = [0, 1, 0, 0, 0]\\nclass = 1'),\n",
              " Text(0.6636363636363637, 0.36666666666666664, 'gini = 0.0\\nsamples = 2\\nvalue = [0, 0, 0, 2, 0]\\nclass = 3'),\n",
              " Text(0.6727272727272727, 0.43333333333333335, 'gini = 0.0\\nsamples = 3\\nvalue = [0, 3, 0, 0, 0]\\nclass = 1'),\n",
              " Text(0.6818181818181818, 0.5, 'gini = 0.0\\nsamples = 2\\nvalue = [0, 0, 0, 2, 0]\\nclass = 3'),\n",
              " Text(0.8471590909090909, 0.7666666666666667, 'thalach <= -0.662\\ngini = 0.744\\nsamples = 67\\nvalue = [2, 15, 21, 20, 9]\\nclass = 2'),\n",
              " Text(0.7397727272727272, 0.7, 'exang <= 0.369\\ngini = 0.713\\nsamples = 35\\nvalue = [1, 8, 5, 15, 6]\\nclass = 3'),\n",
              " Text(0.7, 0.6333333333333333, 'trestbps <= 0.473\\ngini = 0.656\\nsamples = 8\\nvalue = [0, 1, 2, 1, 4]\\nclass = 4'),\n",
              " Text(0.6909090909090909, 0.5666666666666667, 'gini = 0.0\\nsamples = 2\\nvalue = [0, 0, 2, 0, 0]\\nclass = 2'),\n",
              " Text(0.7090909090909091, 0.5666666666666667, 'thalach <= -1.756\\ngini = 0.5\\nsamples = 6\\nvalue = [0, 1, 0, 1, 4]\\nclass = 4'),\n",
              " Text(0.7, 0.5, 'ca <= 0.89\\ngini = 0.5\\nsamples = 2\\nvalue = [0, 1, 0, 1, 0]\\nclass = 1'),\n",
              " Text(0.6909090909090909, 0.43333333333333335, 'gini = 0.0\\nsamples = 1\\nvalue = [0, 1, 0, 0, 0]\\nclass = 1'),\n",
              " Text(0.7090909090909091, 0.43333333333333335, 'gini = 0.0\\nsamples = 1\\nvalue = [0, 0, 0, 1, 0]\\nclass = 3'),\n",
              " Text(0.7181818181818181, 0.5, 'gini = 0.0\\nsamples = 4\\nvalue = [0, 0, 0, 0, 4]\\nclass = 4'),\n",
              " Text(0.7795454545454545, 0.6333333333333333, 'thalach <= -1.734\\ngini = 0.645\\nsamples = 27\\nvalue = [1, 7, 3, 14, 2]\\nclass = 3'),\n",
              " Text(0.7454545454545455, 0.5666666666666667, 'chol <= 0.606\\ngini = 0.5\\nsamples = 6\\nvalue = [0, 4, 1, 1, 0]\\nclass = 1'),\n",
              " Text(0.7363636363636363, 0.5, 'gini = 0.0\\nsamples = 4\\nvalue = [0, 4, 0, 0, 0]\\nclass = 1'),\n",
              " Text(0.7545454545454545, 0.5, 'fbs <= 0.988\\ngini = 0.5\\nsamples = 2\\nvalue = [0, 0, 1, 1, 0]\\nclass = 2'),\n",
              " Text(0.7454545454545455, 0.43333333333333335, 'gini = 0.0\\nsamples = 1\\nvalue = [0, 0, 0, 1, 0]\\nclass = 3'),\n",
              " Text(0.7636363636363637, 0.43333333333333335, 'gini = 0.0\\nsamples = 1\\nvalue = [0, 0, 1, 0, 0]\\nclass = 2'),\n",
              " Text(0.8136363636363636, 0.5666666666666667, 'thal <= 0.915\\ngini = 0.576\\nsamples = 21\\nvalue = [1, 3, 2, 13, 2]\\nclass = 3'),\n",
              " Text(0.7909090909090909, 0.5, 'age <= -0.547\\ngini = 0.5\\nsamples = 2\\nvalue = [1, 0, 1, 0, 0]\\nclass = 0'),\n",
              " Text(0.7818181818181819, 0.43333333333333335, 'gini = 0.0\\nsamples = 1\\nvalue = [0, 0, 1, 0, 0]\\nclass = 2'),\n",
              " Text(0.8, 0.43333333333333335, 'gini = 0.0\\nsamples = 1\\nvalue = [1, 0, 0, 0, 0]\\nclass = 0'),\n",
              " Text(0.8363636363636363, 0.5, 'age <= 0.505\\ngini = 0.493\\nsamples = 19\\nvalue = [0, 3, 1, 13, 2]\\nclass = 3'),\n",
              " Text(0.8181818181818182, 0.43333333333333335, 'age <= -1.877\\ngini = 0.338\\nsamples = 15\\nvalue = [0, 2, 1, 12, 0]\\nclass = 3'),\n",
              " Text(0.8090909090909091, 0.36666666666666664, 'gini = 0.0\\nsamples = 1\\nvalue = [0, 1, 0, 0, 0]\\nclass = 1'),\n",
              " Text(0.8272727272727273, 0.36666666666666664, 'ca <= 0.89\\ngini = 0.255\\nsamples = 14\\nvalue = [0, 1, 1, 12, 0]\\nclass = 3'),\n",
              " Text(0.8181818181818182, 0.3, 'gini = 0.0\\nsamples = 9\\nvalue = [0, 0, 0, 9, 0]\\nclass = 3'),\n",
              " Text(0.8363636363636363, 0.3, 'oldpeak <= 1.346\\ngini = 0.56\\nsamples = 5\\nvalue = [0, 1, 1, 3, 0]\\nclass = 3'),\n",
              " Text(0.8272727272727273, 0.23333333333333334, 'thalach <= -1.056\\ngini = 0.5\\nsamples = 2\\nvalue = [0, 1, 1, 0, 0]\\nclass = 1'),\n",
              " Text(0.8181818181818182, 0.16666666666666666, 'gini = 0.0\\nsamples = 1\\nvalue = [0, 0, 1, 0, 0]\\nclass = 2'),\n",
              " Text(0.8363636363636363, 0.16666666666666666, 'gini = 0.0\\nsamples = 1\\nvalue = [0, 1, 0, 0, 0]\\nclass = 1'),\n",
              " Text(0.8454545454545455, 0.23333333333333334, 'gini = 0.0\\nsamples = 3\\nvalue = [0, 0, 0, 3, 0]\\nclass = 3'),\n",
              " Text(0.8545454545454545, 0.43333333333333335, 'chol <= -0.565\\ngini = 0.625\\nsamples = 4\\nvalue = [0, 1, 0, 1, 2]\\nclass = 4'),\n",
              " Text(0.8454545454545455, 0.36666666666666664, 'gini = 0.0\\nsamples = 2\\nvalue = [0, 0, 0, 0, 2]\\nclass = 4'),\n",
              " Text(0.8636363636363636, 0.36666666666666664, 'fbs <= 0.988\\ngini = 0.5\\nsamples = 2\\nvalue = [0, 1, 0, 1, 0]\\nclass = 1'),\n",
              " Text(0.8545454545454545, 0.3, 'gini = 0.0\\nsamples = 1\\nvalue = [0, 1, 0, 0, 0]\\nclass = 1'),\n",
              " Text(0.8727272727272727, 0.3, 'gini = 0.0\\nsamples = 1\\nvalue = [0, 0, 0, 1, 0]\\nclass = 3'),\n",
              " Text(0.9545454545454546, 0.7, 'ca <= 1.966\\ngini = 0.668\\nsamples = 32\\nvalue = [1, 7, 16, 5, 3]\\nclass = 2'),\n",
              " Text(0.9272727272727272, 0.6333333333333333, 'slope <= -0.164\\ngini = 0.616\\nsamples = 29\\nvalue = [1, 7, 16, 4, 1]\\nclass = 2'),\n",
              " Text(0.9, 0.5666666666666667, 'ca <= 0.89\\ngini = 0.656\\nsamples = 8\\nvalue = [1, 4, 2, 1, 0]\\nclass = 1'),\n",
              " Text(0.8818181818181818, 0.5, 'age <= 1.004\\ngini = 0.32\\nsamples = 5\\nvalue = [1, 4, 0, 0, 0]\\nclass = 1'),\n",
              " Text(0.8727272727272727, 0.43333333333333335, 'gini = 0.0\\nsamples = 4\\nvalue = [0, 4, 0, 0, 0]\\nclass = 1'),\n",
              " Text(0.8909090909090909, 0.43333333333333335, 'gini = 0.0\\nsamples = 1\\nvalue = [1, 0, 0, 0, 0]\\nclass = 0'),\n",
              " Text(0.9181818181818182, 0.5, 'oldpeak <= 0.138\\ngini = 0.444\\nsamples = 3\\nvalue = [0, 0, 2, 1, 0]\\nclass = 2'),\n",
              " Text(0.9090909090909091, 0.43333333333333335, 'gini = 0.0\\nsamples = 1\\nvalue = [0, 0, 0, 1, 0]\\nclass = 3'),\n",
              " Text(0.9272727272727272, 0.43333333333333335, 'gini = 0.0\\nsamples = 2\\nvalue = [0, 0, 2, 0, 0]\\nclass = 2'),\n",
              " Text(0.9545454545454546, 0.5666666666666667, 'oldpeak <= -0.12\\ngini = 0.512\\nsamples = 21\\nvalue = [0, 3, 14, 3, 1]\\nclass = 2'),\n",
              " Text(0.9454545454545454, 0.5, 'gini = 0.0\\nsamples = 1\\nvalue = [0, 0, 0, 0, 1]\\nclass = 4'),\n",
              " Text(0.9636363636363636, 0.5, 'thalach <= 0.302\\ngini = 0.465\\nsamples = 20\\nvalue = [0, 3, 14, 3, 0]\\nclass = 2'),\n",
              " Text(0.9454545454545454, 0.43333333333333335, 'age <= -1.489\\ngini = 0.381\\nsamples = 17\\nvalue = [0, 3, 13, 1, 0]\\nclass = 2'),\n",
              " Text(0.9363636363636364, 0.36666666666666664, 'gini = 0.0\\nsamples = 1\\nvalue = [0, 0, 0, 1, 0]\\nclass = 3'),\n",
              " Text(0.9545454545454546, 0.36666666666666664, 'restecg <= 0.01\\ngini = 0.305\\nsamples = 16\\nvalue = [0, 3, 13, 0, 0]\\nclass = 2'),\n",
              " Text(0.9454545454545454, 0.3, 'gini = 0.0\\nsamples = 6\\nvalue = [0, 0, 6, 0, 0]\\nclass = 2'),\n",
              " Text(0.9636363636363636, 0.3, 'oldpeak <= 0.052\\ngini = 0.42\\nsamples = 10\\nvalue = [0, 3, 7, 0, 0]\\nclass = 2'),\n",
              " Text(0.9545454545454546, 0.23333333333333334, 'gini = 0.0\\nsamples = 1\\nvalue = [0, 1, 0, 0, 0]\\nclass = 1'),\n",
              " Text(0.9727272727272728, 0.23333333333333334, 'chol <= -0.632\\ngini = 0.346\\nsamples = 9\\nvalue = [0, 2, 7, 0, 0]\\nclass = 2'),\n",
              " Text(0.9636363636363636, 0.16666666666666666, 'gini = 0.0\\nsamples = 1\\nvalue = [0, 1, 0, 0, 0]\\nclass = 1'),\n",
              " Text(0.9818181818181818, 0.16666666666666666, 'trestbps <= -0.238\\ngini = 0.219\\nsamples = 8\\nvalue = [0, 1, 7, 0, 0]\\nclass = 2'),\n",
              " Text(0.9727272727272728, 0.1, 'oldpeak <= 0.829\\ngini = 0.5\\nsamples = 2\\nvalue = [0, 1, 1, 0, 0]\\nclass = 1'),\n",
              " Text(0.9636363636363636, 0.03333333333333333, 'gini = 0.0\\nsamples = 1\\nvalue = [0, 0, 1, 0, 0]\\nclass = 2'),\n",
              " Text(0.9818181818181818, 0.03333333333333333, 'gini = 0.0\\nsamples = 1\\nvalue = [0, 1, 0, 0, 0]\\nclass = 1'),\n",
              " Text(0.990909090909091, 0.1, 'gini = 0.0\\nsamples = 6\\nvalue = [0, 0, 6, 0, 0]\\nclass = 2'),\n",
              " Text(0.9818181818181818, 0.43333333333333335, 'chol <= 0.557\\ngini = 0.444\\nsamples = 3\\nvalue = [0, 0, 1, 2, 0]\\nclass = 3'),\n",
              " Text(0.9727272727272728, 0.36666666666666664, 'gini = 0.0\\nsamples = 2\\nvalue = [0, 0, 0, 2, 0]\\nclass = 3'),\n",
              " Text(0.990909090909091, 0.36666666666666664, 'gini = 0.0\\nsamples = 1\\nvalue = [0, 0, 1, 0, 0]\\nclass = 2'),\n",
              " Text(0.9818181818181818, 0.6333333333333333, 'oldpeak <= 3.675\\ngini = 0.444\\nsamples = 3\\nvalue = [0, 0, 0, 1, 2]\\nclass = 4'),\n",
              " Text(0.9727272727272728, 0.5666666666666667, 'gini = 0.0\\nsamples = 2\\nvalue = [0, 0, 0, 0, 2]\\nclass = 4'),\n",
              " Text(0.990909090909091, 0.5666666666666667, 'gini = 0.0\\nsamples = 1\\nvalue = [0, 0, 0, 1, 0]\\nclass = 3')]"
            ]
          },
          "execution_count": 156,
          "metadata": {},
          "output_type": "execute_result"
        },
        {
          "data": {
            "image/png": "[encoded data removed]",
            "text/plain": [
              "<Figure size 432x288 with 1 Axes>"
            ]
          },
          "metadata": {
            "needs_background": "light"
          },
          "output_type": "display_data"
        }
      ],
      "source": [
        "tree.plot_tree(clf,feature_names=['age', 'sex', 'cp', 'trestbps', 'fbs', 'restecg', 'thalach', 'exang',\n",
        "       'oldpeak', 'slope', 'ca', 'thal', 'chol'], class_names=['0','1','2','3','4'])"
      ]
    },
    {
      "cell_type": "code",
      "execution_count": null,
      "metadata": {
        "id": "leUoM316pShp"
      },
      "outputs": [],
      "source": [
        "from sklearn.datasets import load_iris\n",
        "from sklearn.tree import DecisionTreeClassifier\n",
        "from sklearn.tree import export_text"
      ]
    },
    {
      "cell_type": "code",
      "execution_count": null,
      "metadata": {
        "colab": {
          "base_uri": "https://localhost:8080/"
        },
        "id": "cCjuULKdphPR",
        "outputId": "a510c97a-3f36-4bb2-893f-56d63308504d"
      },
      "outputs": [
        {
          "name": "stdout",
          "output_type": "stream",
          "text": [
            "|--- thal <= -0.45\n",
            "|   |--- ca <= 0.18\n",
            "|   |   |--- trestbps <= 1.44\n",
            "|   |   |   |--- thalach <= -2.89\n",
            "|   |   |   |   |--- class: 2\n",
            "|   |   |   |--- thalach >  -2.89\n",
            "|   |   |   |   |--- class: 0\n",
            "|   |   |--- trestbps >  1.44\n",
            "|   |   |   |--- chol <= 1.32\n",
            "|   |   |   |   |--- class: 1\n",
            "|   |   |   |--- chol >  1.32\n",
            "|   |   |   |   |--- class: 0\n",
            "|   |--- ca >  0.18\n",
            "|   |   |--- cp <= 0.36\n",
            "|   |   |   |--- oldpeak <= 1.04\n",
            "|   |   |   |   |--- class: 0\n",
            "|   |   |   |--- oldpeak >  1.04\n",
            "|   |   |   |   |--- class: 2\n",
            "|   |   |--- cp >  0.36\n",
            "|   |   |   |--- slope <= 1.46\n",
            "|   |   |   |   |--- class: 1\n",
            "|   |   |   |--- slope >  1.46\n",
            "|   |   |   |   |--- class: 3\n",
            "|--- thal >  -0.45\n",
            "|   |--- cp <= 0.36\n",
            "|   |   |--- ca <= 0.18\n",
            "|   |   |   |--- trestbps <= 2.69\n",
            "|   |   |   |   |--- class: 0\n",
            "|   |   |   |--- trestbps >  2.69\n",
            "|   |   |   |   |--- class: 3\n",
            "|   |   |--- ca >  0.18\n",
            "|   |   |   |--- thalach <= -0.07\n",
            "|   |   |   |   |--- class: 2\n",
            "|   |   |   |--- thalach >  -0.07\n",
            "|   |   |   |   |--- class: 0\n",
            "|   |--- cp >  0.36\n",
            "|   |   |--- oldpeak <= -0.29\n",
            "|   |   |   |--- chol <= -0.18\n",
            "|   |   |   |   |--- class: 0\n",
            "|   |   |   |--- chol >  -0.18\n",
            "|   |   |   |   |--- class: 1\n",
            "|   |   |--- oldpeak >  -0.29\n",
            "|   |   |   |--- thalach <= -0.66\n",
            "|   |   |   |   |--- class: 3\n",
            "|   |   |   |--- thalach >  -0.66\n",
            "|   |   |   |   |--- class: 2\n",
            "\n"
          ]
        }
      ],
      "source": [
        "decision_tree = DecisionTreeClassifier(random_state=0, max_depth=4)\n",
        "decision_tree = decision_tree.fit(X, y)\n",
        "r = export_text(decision_tree, feature_names=['age', 'sex', 'cp', 'trestbps', 'fbs', 'restecg', 'thalach', 'exang', 'oldpeak', 'slope', 'ca', 'thal', 'chol'])\n",
        "print(r)"
      ]
    },
    {
      "cell_type": "code",
      "execution_count": null,
      "metadata": {
        "id": "pq4NWM1cpm7p"
      },
      "outputs": [],
      "source": [
        "import graphviz"
      ]
    },
    {
      "cell_type": "code",
      "execution_count": null,
      "metadata": {
        "colab": {
          "base_uri": "https://localhost:8080/",
          "height": 35
        },
        "id": "zJO_UIgypv2x",
        "outputId": "470984da-b8d2-4f46-cd6c-c17e8dd3e306"
      },
      "outputs": [
        {
          "data": {
            "application/vnd.google.colaboratory.intrinsic+json": {
              "type": "string"
            },
            "text/plain": [
              "'heart disease.pdf'"
            ]
          },
          "execution_count": 160,
          "metadata": {},
          "output_type": "execute_result"
        }
      ],
      "source": [
        "dot_data = tree.export_graphviz(clf, out_file=None) \n",
        "graph = graphviz.Source(dot_data) \n",
        "graph.render(\"heart disease\")"
      ]
    },
    {
      "cell_type": "code",
      "execution_count": null,
      "metadata": {
        "id": "tUDSjl36p4Lh"
      },
      "outputs": [],
      "source": [
        "dot_data = tree.export_graphviz(clf, out_file=None,feature_names=['age', 'sex', 'cp', 'trestbps', 'fbs', 'restecg', 'thalach', 'exang',\n",
        "       'oldpeak', 'slope', 'ca', 'thal', 'chol'],class_names=['0','1','2','3','4'],filled=True, rounded=True, special_characters=True)  \n",
        "graph = graphviz.Source(dot_data)  "
      ]
    },
    {
      "cell_type": "code",
      "execution_count": null,
      "metadata": {
        "colab": {
          "base_uri": "https://localhost:8080/",
          "height": 1000
        },
        "id": "UHlILtq8p9Y5",
        "outputId": "13701f76-30cc-4846-d688-94c84313f71e"
      },
      "outputs": [
        {
          "data": {
            "image/svg+xml": "<?xml version=\"1.0\" encoding=\"UTF-8\" standalone=\"no\"?>\n<!DOCTYPE svg PUBLIC \"-//W3C//DTD SVG 1.1//EN\"\n \"http://www.w3.org/Graphics/SVG/1.1/DTD/svg11.dtd\">\n<!-- Generated by graphviz version 2.40.1 (20161225.0304)\n -->\n<!-- Title: Tree Pages: 1 -->\n<svg width=\"7731pt\" height=\"1742pt\"\n viewBox=\"0.00 0.00 7731.00 1742.00\" xmlns=\"http://www.w3.org/2000/svg\" xmlns:xlink=\"http://www.w3.org/1999/xlink\">\n<g id=\"graph0\" class=\"graph\" transform=\"scale(1 1) rotate(0) translate(4 1738)\">\n<title>Tree</title>\n<polygon fill=\"#ffffff\" stroke=\"transparent\" points=\"-4,4 -4,-1738 7727,-1738 7727,4 -4,4\"/>\n<!-- 0 -->\n<g id=\"node1\" class=\"node\">\n<title>0</title>\n<path fill=\"#f4c8a8\" stroke=\"#000000\" d=\"M2986,-1734C2986,-1734 2814,-1734 2814,-1734 2808,-1734 2802,-1728 2802,-1722 2802,-1722 2802,-1663 2802,-1663 2802,-1657 2808,-1651 2814,-1651 2814,-1651 2986,-1651 2986,-1651 2992,-1651 2998,-1657 2998,-1663 2998,-1663 2998,-1722 2998,-1722 2998,-1728 2992,-1734 2986,-1734\"/>\n<text text-anchor=\"start\" x=\"2864\" y=\"-1718.8\" font-family=\"Helvetica,sans-Serif\" font-size=\"14.00\" fill=\"#000000\">thal ≤ &#45;0.45</text>\n<text text-anchor=\"start\" x=\"2862\" y=\"-1703.8\" font-family=\"Helvetica,sans-Serif\" font-size=\"14.00\" fill=\"#000000\">gini = 0.645</text>\n<text text-anchor=\"start\" x=\"2852\" y=\"-1688.8\" font-family=\"Helvetica,sans-Serif\" font-size=\"14.00\" fill=\"#000000\">samples = 303</text>\n<text text-anchor=\"start\" x=\"2810\" y=\"-1673.8\" font-family=\"Helvetica,sans-Serif\" font-size=\"14.00\" fill=\"#000000\">value = [164, 55, 36, 35, 13]</text>\n<text text-anchor=\"start\" x=\"2871\" y=\"-1658.8\" font-family=\"Helvetica,sans-Serif\" font-size=\"14.00\" fill=\"#000000\">class = 0</text>\n</g>\n<!-- 1 -->\n<g id=\"node2\" class=\"node\">\n<title>1</title>\n<path fill=\"#eca16c\" stroke=\"#000000\" d=\"M2190.5,-1615C2190.5,-1615 2043.5,-1615 2043.5,-1615 2037.5,-1615 2031.5,-1609 2031.5,-1603 2031.5,-1603 2031.5,-1544 2031.5,-1544 2031.5,-1538 2037.5,-1532 2043.5,-1532 2043.5,-1532 2190.5,-1532 2190.5,-1532 2196.5,-1532 2202.5,-1538 2202.5,-1544 2202.5,-1544 2202.5,-1603 2202.5,-1603 2202.5,-1609 2196.5,-1615 2190.5,-1615\"/>\n<text text-anchor=\"start\" x=\"2083\" y=\"-1599.8\" font-family=\"Helvetica,sans-Serif\" font-size=\"14.00\" fill=\"#000000\">ca ≤ 0.175</text>\n<text text-anchor=\"start\" x=\"2079\" y=\"-1584.8\" font-family=\"Helvetica,sans-Serif\" font-size=\"14.00\" fill=\"#000000\">gini = 0.375</text>\n<text text-anchor=\"start\" x=\"2069\" y=\"-1569.8\" font-family=\"Helvetica,sans-Serif\" font-size=\"14.00\" fill=\"#000000\">samples = 166</text>\n<text text-anchor=\"start\" x=\"2039.5\" y=\"-1554.8\" font-family=\"Helvetica,sans-Serif\" font-size=\"14.00\" fill=\"#000000\">value = [129, 22, 7, 6, 2]</text>\n<text text-anchor=\"start\" x=\"2088\" y=\"-1539.8\" font-family=\"Helvetica,sans-Serif\" font-size=\"14.00\" fill=\"#000000\">class = 0</text>\n</g>\n<!-- 0&#45;&gt;1 -->\n<g id=\"edge1\" class=\"edge\">\n<title>0&#45;&gt;1</title>\n<path fill=\"none\" stroke=\"#000000\" d=\"M2801.6253,-1677.5491C2650.3557,-1654.5592 2362.4742,-1610.8071 2212.7825,-1588.057\"/>\n<polygon fill=\"#000000\" stroke=\"#000000\" points=\"2213.0987,-1584.5649 2202.6863,-1586.5226 2212.0468,-1591.4855 2213.0987,-1584.5649\"/>\n<text text-anchor=\"middle\" x=\"2217.5071\" y=\"-1602.9557\" font-family=\"Helvetica,sans-Serif\" font-size=\"14.00\" fill=\"#000000\">True</text>\n</g>\n<!-- 76 -->\n<g id=\"node77\" class=\"node\">\n<title>76</title>\n<path fill=\"#fefdfb\" stroke=\"#000000\" d=\"M3834,-1615C3834,-1615 3670,-1615 3670,-1615 3664,-1615 3658,-1609 3658,-1603 3658,-1603 3658,-1544 3658,-1544 3658,-1538 3664,-1532 3670,-1532 3670,-1532 3834,-1532 3834,-1532 3840,-1532 3846,-1538 3846,-1544 3846,-1544 3846,-1603 3846,-1603 3846,-1609 3840,-1615 3834,-1615\"/>\n<text text-anchor=\"start\" x=\"3718\" y=\"-1599.8\" font-family=\"Helvetica,sans-Serif\" font-size=\"14.00\" fill=\"#000000\">cp ≤ 0.356</text>\n<text text-anchor=\"start\" x=\"3714\" y=\"-1584.8\" font-family=\"Helvetica,sans-Serif\" font-size=\"14.00\" fill=\"#000000\">gini = 0.781</text>\n<text text-anchor=\"start\" x=\"3704\" y=\"-1569.8\" font-family=\"Helvetica,sans-Serif\" font-size=\"14.00\" fill=\"#000000\">samples = 137</text>\n<text text-anchor=\"start\" x=\"3666\" y=\"-1554.8\" font-family=\"Helvetica,sans-Serif\" font-size=\"14.00\" fill=\"#000000\">value = [35, 33, 29, 29, 11]</text>\n<text text-anchor=\"start\" x=\"3723\" y=\"-1539.8\" font-family=\"Helvetica,sans-Serif\" font-size=\"14.00\" fill=\"#000000\">class = 0</text>\n</g>\n<!-- 0&#45;&gt;76 -->\n<g id=\"edge76\" class=\"edge\">\n<title>0&#45;&gt;76</title>\n<path fill=\"none\" stroke=\"#000000\" d=\"M2998.151,-1678.7911C3160.0515,-1656.1782 3481.6441,-1611.261 3647.5707,-1588.0858\"/>\n<polygon fill=\"#000000\" stroke=\"#000000\" points=\"3648.3655,-1591.5088 3657.7852,-1586.6591 3647.3971,-1584.5761 3648.3655,-1591.5088\"/>\n<text text-anchor=\"middle\" x=\"3642.7228\" y=\"-1602.9122\" font-family=\"Helvetica,sans-Serif\" font-size=\"14.00\" fill=\"#000000\">False</text>\n</g>\n<!-- 2 -->\n<g id=\"node3\" class=\"node\">\n<title>2</title>\n<path fill=\"#e89051\" stroke=\"#000000\" d=\"M1474.5,-1496C1474.5,-1496 1327.5,-1496 1327.5,-1496 1321.5,-1496 1315.5,-1490 1315.5,-1484 1315.5,-1484 1315.5,-1425 1315.5,-1425 1315.5,-1419 1321.5,-1413 1327.5,-1413 1327.5,-1413 1474.5,-1413 1474.5,-1413 1480.5,-1413 1486.5,-1419 1486.5,-1425 1486.5,-1425 1486.5,-1484 1486.5,-1484 1486.5,-1490 1480.5,-1496 1474.5,-1496\"/>\n<text text-anchor=\"start\" x=\"1353\" y=\"-1480.8\" font-family=\"Helvetica,sans-Serif\" font-size=\"14.00\" fill=\"#000000\">trestbps ≤ 1.44</text>\n<text text-anchor=\"start\" x=\"1363\" y=\"-1465.8\" font-family=\"Helvetica,sans-Serif\" font-size=\"14.00\" fill=\"#000000\">gini = 0.201</text>\n<text text-anchor=\"start\" x=\"1353\" y=\"-1450.8\" font-family=\"Helvetica,sans-Serif\" font-size=\"14.00\" fill=\"#000000\">samples = 117</text>\n<text text-anchor=\"start\" x=\"1323.5\" y=\"-1435.8\" font-family=\"Helvetica,sans-Serif\" font-size=\"14.00\" fill=\"#000000\">value = [104, 11, 2, 0, 0]</text>\n<text text-anchor=\"start\" x=\"1372\" y=\"-1420.8\" font-family=\"Helvetica,sans-Serif\" font-size=\"14.00\" fill=\"#000000\">class = 0</text>\n</g>\n<!-- 1&#45;&gt;2 -->\n<g id=\"edge2\" class=\"edge\">\n<title>1&#45;&gt;2</title>\n<path fill=\"none\" stroke=\"#000000\" d=\"M2031.3449,-1559.264C1896.8609,-1536.9126 1637.07,-1493.7351 1496.6539,-1470.3978\"/>\n<polygon fill=\"#000000\" stroke=\"#000000\" points=\"1497.1922,-1466.9393 1486.7536,-1468.7523 1496.0444,-1473.8446 1497.1922,-1466.9393\"/>\n</g>\n<!-- 37 -->\n<g id=\"node38\" class=\"node\">\n<title>37</title>\n<path fill=\"#f5d1b6\" stroke=\"#000000\" d=\"M2186.5,-1496C2186.5,-1496 2047.5,-1496 2047.5,-1496 2041.5,-1496 2035.5,-1490 2035.5,-1484 2035.5,-1484 2035.5,-1425 2035.5,-1425 2035.5,-1419 2041.5,-1413 2047.5,-1413 2047.5,-1413 2186.5,-1413 2186.5,-1413 2192.5,-1413 2198.5,-1419 2198.5,-1425 2198.5,-1425 2198.5,-1484 2198.5,-1484 2198.5,-1490 2192.5,-1496 2186.5,-1496\"/>\n<text text-anchor=\"start\" x=\"2083\" y=\"-1480.8\" font-family=\"Helvetica,sans-Serif\" font-size=\"14.00\" fill=\"#000000\">cp ≤ 0.356</text>\n<text text-anchor=\"start\" x=\"2079\" y=\"-1465.8\" font-family=\"Helvetica,sans-Serif\" font-size=\"14.00\" fill=\"#000000\">gini = 0.662</text>\n<text text-anchor=\"start\" x=\"2073\" y=\"-1450.8\" font-family=\"Helvetica,sans-Serif\" font-size=\"14.00\" fill=\"#000000\">samples = 49</text>\n<text text-anchor=\"start\" x=\"2043.5\" y=\"-1435.8\" font-family=\"Helvetica,sans-Serif\" font-size=\"14.00\" fill=\"#000000\">value = [25, 11, 5, 6, 2]</text>\n<text text-anchor=\"start\" x=\"2088\" y=\"-1420.8\" font-family=\"Helvetica,sans-Serif\" font-size=\"14.00\" fill=\"#000000\">class = 0</text>\n</g>\n<!-- 1&#45;&gt;37 -->\n<g id=\"edge37\" class=\"edge\">\n<title>1&#45;&gt;37</title>\n<path fill=\"none\" stroke=\"#000000\" d=\"M2117,-1531.8796C2117,-1523.6838 2117,-1514.9891 2117,-1506.5013\"/>\n<polygon fill=\"#000000\" stroke=\"#000000\" points=\"2120.5001,-1506.298 2117,-1496.2981 2113.5001,-1506.2981 2120.5001,-1506.298\"/>\n</g>\n<!-- 3 -->\n<g id=\"node4\" class=\"node\">\n<title>3</title>\n<path fill=\"#e78c4a\" stroke=\"#000000\" d=\"M1215.5,-1377C1215.5,-1377 1076.5,-1377 1076.5,-1377 1070.5,-1377 1064.5,-1371 1064.5,-1365 1064.5,-1365 1064.5,-1306 1064.5,-1306 1064.5,-1300 1070.5,-1294 1076.5,-1294 1076.5,-1294 1215.5,-1294 1215.5,-1294 1221.5,-1294 1227.5,-1300 1227.5,-1306 1227.5,-1306 1227.5,-1365 1227.5,-1365 1227.5,-1371 1221.5,-1377 1215.5,-1377\"/>\n<text text-anchor=\"start\" x=\"1094\" y=\"-1361.8\" font-family=\"Helvetica,sans-Serif\" font-size=\"14.00\" fill=\"#000000\">thalach ≤ &#45;2.895</text>\n<text text-anchor=\"start\" x=\"1112.5\" y=\"-1346.8\" font-family=\"Helvetica,sans-Serif\" font-size=\"14.00\" fill=\"#000000\">gini = 0.15</text>\n<text text-anchor=\"start\" x=\"1098\" y=\"-1331.8\" font-family=\"Helvetica,sans-Serif\" font-size=\"14.00\" fill=\"#000000\">samples = 111</text>\n<text text-anchor=\"start\" x=\"1072.5\" y=\"-1316.8\" font-family=\"Helvetica,sans-Serif\" font-size=\"14.00\" fill=\"#000000\">value = [102, 8, 1, 0, 0]</text>\n<text text-anchor=\"start\" x=\"1117\" y=\"-1301.8\" font-family=\"Helvetica,sans-Serif\" font-size=\"14.00\" fill=\"#000000\">class = 0</text>\n</g>\n<!-- 2&#45;&gt;3 -->\n<g id=\"edge3\" class=\"edge\">\n<title>2&#45;&gt;3</title>\n<path fill=\"none\" stroke=\"#000000\" d=\"M1315.3793,-1414.5437C1290.1222,-1402.757 1262.3986,-1389.8194 1236.8263,-1377.8856\"/>\n<polygon fill=\"#000000\" stroke=\"#000000\" points=\"1238.0528,-1374.5957 1227.5108,-1373.5384 1235.0926,-1380.9389 1238.0528,-1374.5957\"/>\n</g>\n<!-- 32 -->\n<g id=\"node33\" class=\"node\">\n<title>32</title>\n<path fill=\"#def8ce\" stroke=\"#000000\" d=\"M1462,-1377C1462,-1377 1340,-1377 1340,-1377 1334,-1377 1328,-1371 1328,-1365 1328,-1365 1328,-1306 1328,-1306 1328,-1300 1334,-1294 1340,-1294 1340,-1294 1462,-1294 1462,-1294 1468,-1294 1474,-1300 1474,-1306 1474,-1306 1474,-1365 1474,-1365 1474,-1371 1468,-1377 1462,-1377\"/>\n<text text-anchor=\"start\" x=\"1361.5\" y=\"-1361.8\" font-family=\"Helvetica,sans-Serif\" font-size=\"14.00\" fill=\"#000000\">chol ≤ 1.321</text>\n<text text-anchor=\"start\" x=\"1363\" y=\"-1346.8\" font-family=\"Helvetica,sans-Serif\" font-size=\"14.00\" fill=\"#000000\">gini = 0.611</text>\n<text text-anchor=\"start\" x=\"1361.5\" y=\"-1331.8\" font-family=\"Helvetica,sans-Serif\" font-size=\"14.00\" fill=\"#000000\">samples = 6</text>\n<text text-anchor=\"start\" x=\"1336\" y=\"-1316.8\" font-family=\"Helvetica,sans-Serif\" font-size=\"14.00\" fill=\"#000000\">value = [2, 3, 1, 0, 0]</text>\n<text text-anchor=\"start\" x=\"1372\" y=\"-1301.8\" font-family=\"Helvetica,sans-Serif\" font-size=\"14.00\" fill=\"#000000\">class = 1</text>\n</g>\n<!-- 2&#45;&gt;32 -->\n<g id=\"edge32\" class=\"edge\">\n<title>2&#45;&gt;32</title>\n<path fill=\"none\" stroke=\"#000000\" d=\"M1401,-1412.8796C1401,-1404.6838 1401,-1395.9891 1401,-1387.5013\"/>\n<polygon fill=\"#000000\" stroke=\"#000000\" points=\"1404.5001,-1387.298 1401,-1377.2981 1397.5001,-1387.2981 1404.5001,-1387.298\"/>\n</g>\n<!-- 4 -->\n<g id=\"node5\" class=\"node\">\n<title>4</title>\n<path fill=\"#39e5c5\" stroke=\"#000000\" d=\"M1034,-1250.5C1034,-1250.5 912,-1250.5 912,-1250.5 906,-1250.5 900,-1244.5 900,-1238.5 900,-1238.5 900,-1194.5 900,-1194.5 900,-1188.5 906,-1182.5 912,-1182.5 912,-1182.5 1034,-1182.5 1034,-1182.5 1040,-1182.5 1046,-1188.5 1046,-1194.5 1046,-1194.5 1046,-1238.5 1046,-1238.5 1046,-1244.5 1040,-1250.5 1034,-1250.5\"/>\n<text text-anchor=\"start\" x=\"943.5\" y=\"-1235.3\" font-family=\"Helvetica,sans-Serif\" font-size=\"14.00\" fill=\"#000000\">gini = 0.0</text>\n<text text-anchor=\"start\" x=\"933.5\" y=\"-1220.3\" font-family=\"Helvetica,sans-Serif\" font-size=\"14.00\" fill=\"#000000\">samples = 1</text>\n<text text-anchor=\"start\" x=\"908\" y=\"-1205.3\" font-family=\"Helvetica,sans-Serif\" font-size=\"14.00\" fill=\"#000000\">value = [0, 0, 1, 0, 0]</text>\n<text text-anchor=\"start\" x=\"944\" y=\"-1190.3\" font-family=\"Helvetica,sans-Serif\" font-size=\"14.00\" fill=\"#000000\">class = 2</text>\n</g>\n<!-- 3&#45;&gt;4 -->\n<g id=\"edge4\" class=\"edge\">\n<title>3&#45;&gt;4</title>\n<path fill=\"none\" stroke=\"#000000\" d=\"M1085.493,-1293.8796C1067.8248,-1281.7263 1048.5615,-1268.4759 1031.0491,-1256.4297\"/>\n<polygon fill=\"#000000\" stroke=\"#000000\" points=\"1032.8301,-1253.4067 1022.6074,-1250.623 1028.8629,-1259.1741 1032.8301,-1253.4067\"/>\n</g>\n<!-- 5 -->\n<g id=\"node6\" class=\"node\">\n<title>5</title>\n<path fill=\"#e78b49\" stroke=\"#000000\" d=\"M1215.5,-1258C1215.5,-1258 1076.5,-1258 1076.5,-1258 1070.5,-1258 1064.5,-1252 1064.5,-1246 1064.5,-1246 1064.5,-1187 1064.5,-1187 1064.5,-1181 1070.5,-1175 1076.5,-1175 1076.5,-1175 1215.5,-1175 1215.5,-1175 1221.5,-1175 1227.5,-1181 1227.5,-1187 1227.5,-1187 1227.5,-1246 1227.5,-1246 1227.5,-1252 1221.5,-1258 1215.5,-1258\"/>\n<text text-anchor=\"start\" x=\"1094\" y=\"-1242.8\" font-family=\"Helvetica,sans-Serif\" font-size=\"14.00\" fill=\"#000000\">oldpeak ≤ 2.166</text>\n<text text-anchor=\"start\" x=\"1108\" y=\"-1227.8\" font-family=\"Helvetica,sans-Serif\" font-size=\"14.00\" fill=\"#000000\">gini = 0.135</text>\n<text text-anchor=\"start\" x=\"1098\" y=\"-1212.8\" font-family=\"Helvetica,sans-Serif\" font-size=\"14.00\" fill=\"#000000\">samples = 110</text>\n<text text-anchor=\"start\" x=\"1072.5\" y=\"-1197.8\" font-family=\"Helvetica,sans-Serif\" font-size=\"14.00\" fill=\"#000000\">value = [102, 8, 0, 0, 0]</text>\n<text text-anchor=\"start\" x=\"1117\" y=\"-1182.8\" font-family=\"Helvetica,sans-Serif\" font-size=\"14.00\" fill=\"#000000\">class = 0</text>\n</g>\n<!-- 3&#45;&gt;5 -->\n<g id=\"edge5\" class=\"edge\">\n<title>3&#45;&gt;5</title>\n<path fill=\"none\" stroke=\"#000000\" d=\"M1146,-1293.8796C1146,-1285.6838 1146,-1276.9891 1146,-1268.5013\"/>\n<polygon fill=\"#000000\" stroke=\"#000000\" points=\"1149.5001,-1268.298 1146,-1258.2981 1142.5001,-1268.2981 1149.5001,-1268.298\"/>\n</g>\n<!-- 6 -->\n<g id=\"node7\" class=\"node\">\n<title>6</title>\n<path fill=\"#e78a47\" stroke=\"#000000\" d=\"M1047.5,-1139C1047.5,-1139 908.5,-1139 908.5,-1139 902.5,-1139 896.5,-1133 896.5,-1127 896.5,-1127 896.5,-1068 896.5,-1068 896.5,-1062 902.5,-1056 908.5,-1056 908.5,-1056 1047.5,-1056 1047.5,-1056 1053.5,-1056 1059.5,-1062 1059.5,-1068 1059.5,-1068 1059.5,-1127 1059.5,-1127 1059.5,-1133 1053.5,-1139 1047.5,-1139\"/>\n<text text-anchor=\"start\" x=\"939.5\" y=\"-1123.8\" font-family=\"Helvetica,sans-Serif\" font-size=\"14.00\" fill=\"#000000\">age ≤ 0.561</text>\n<text text-anchor=\"start\" x=\"944.5\" y=\"-1108.8\" font-family=\"Helvetica,sans-Serif\" font-size=\"14.00\" fill=\"#000000\">gini = 0.12</text>\n<text text-anchor=\"start\" x=\"930\" y=\"-1093.8\" font-family=\"Helvetica,sans-Serif\" font-size=\"14.00\" fill=\"#000000\">samples = 109</text>\n<text text-anchor=\"start\" x=\"904.5\" y=\"-1078.8\" font-family=\"Helvetica,sans-Serif\" font-size=\"14.00\" fill=\"#000000\">value = [102, 7, 0, 0, 0]</text>\n<text text-anchor=\"start\" x=\"949\" y=\"-1063.8\" font-family=\"Helvetica,sans-Serif\" font-size=\"14.00\" fill=\"#000000\">class = 0</text>\n</g>\n<!-- 5&#45;&gt;6 -->\n<g id=\"edge6\" class=\"edge\">\n<title>5&#45;&gt;6</title>\n<path fill=\"none\" stroke=\"#000000\" d=\"M1087.2418,-1174.8796C1073.6857,-1165.2774 1059.1628,-1154.9903 1045.2754,-1145.1534\"/>\n<polygon fill=\"#000000\" stroke=\"#000000\" points=\"1046.9084,-1142.021 1036.7251,-1139.0969 1042.8623,-1147.7332 1046.9084,-1142.021\"/>\n</g>\n<!-- 31 -->\n<g id=\"node32\" class=\"node\">\n<title>31</title>\n<path fill=\"#7be539\" stroke=\"#000000\" d=\"M1212,-1131.5C1212,-1131.5 1090,-1131.5 1090,-1131.5 1084,-1131.5 1078,-1125.5 1078,-1119.5 1078,-1119.5 1078,-1075.5 1078,-1075.5 1078,-1069.5 1084,-1063.5 1090,-1063.5 1090,-1063.5 1212,-1063.5 1212,-1063.5 1218,-1063.5 1224,-1069.5 1224,-1075.5 1224,-1075.5 1224,-1119.5 1224,-1119.5 1224,-1125.5 1218,-1131.5 1212,-1131.5\"/>\n<text text-anchor=\"start\" x=\"1121.5\" y=\"-1116.3\" font-family=\"Helvetica,sans-Serif\" font-size=\"14.00\" fill=\"#000000\">gini = 0.0</text>\n<text text-anchor=\"start\" x=\"1111.5\" y=\"-1101.3\" font-family=\"Helvetica,sans-Serif\" font-size=\"14.00\" fill=\"#000000\">samples = 1</text>\n<text text-anchor=\"start\" x=\"1086\" y=\"-1086.3\" font-family=\"Helvetica,sans-Serif\" font-size=\"14.00\" fill=\"#000000\">value = [0, 1, 0, 0, 0]</text>\n<text text-anchor=\"start\" x=\"1122\" y=\"-1071.3\" font-family=\"Helvetica,sans-Serif\" font-size=\"14.00\" fill=\"#000000\">class = 1</text>\n</g>\n<!-- 5&#45;&gt;31 -->\n<g id=\"edge31\" class=\"edge\">\n<title>5&#45;&gt;31</title>\n<path fill=\"none\" stroke=\"#000000\" d=\"M1147.7488,-1174.8796C1148.1969,-1164.2134 1148.6806,-1152.7021 1149.1344,-1141.9015\"/>\n<polygon fill=\"#000000\" stroke=\"#000000\" points=\"1152.6352,-1141.9531 1149.5582,-1131.8149 1145.6414,-1141.6592 1152.6352,-1141.9531\"/>\n</g>\n<!-- 7 -->\n<g id=\"node8\" class=\"node\">\n<title>7</title>\n<path fill=\"#e6843e\" stroke=\"#000000\" d=\"M640.5,-1020C640.5,-1020 509.5,-1020 509.5,-1020 503.5,-1020 497.5,-1014 497.5,-1008 497.5,-1008 497.5,-949 497.5,-949 497.5,-943 503.5,-937 509.5,-937 509.5,-937 640.5,-937 640.5,-937 646.5,-937 652.5,-943 652.5,-949 652.5,-949 652.5,-1008 652.5,-1008 652.5,-1014 646.5,-1020 640.5,-1020\"/>\n<text text-anchor=\"start\" x=\"527\" y=\"-1004.8\" font-family=\"Helvetica,sans-Serif\" font-size=\"14.00\" fill=\"#000000\">oldpeak ≤ 0.57</text>\n<text text-anchor=\"start\" x=\"537\" y=\"-989.8\" font-family=\"Helvetica,sans-Serif\" font-size=\"14.00\" fill=\"#000000\">gini = 0.044</text>\n<text text-anchor=\"start\" x=\"531\" y=\"-974.8\" font-family=\"Helvetica,sans-Serif\" font-size=\"14.00\" fill=\"#000000\">samples = 89</text>\n<text text-anchor=\"start\" x=\"505.5\" y=\"-959.8\" font-family=\"Helvetica,sans-Serif\" font-size=\"14.00\" fill=\"#000000\">value = [87, 2, 0, 0, 0]</text>\n<text text-anchor=\"start\" x=\"546\" y=\"-944.8\" font-family=\"Helvetica,sans-Serif\" font-size=\"14.00\" fill=\"#000000\">class = 0</text>\n</g>\n<!-- 6&#45;&gt;7 -->\n<g id=\"edge7\" class=\"edge\">\n<title>6&#45;&gt;7</title>\n<path fill=\"none\" stroke=\"#000000\" d=\"M896.4469,-1073.4186C828.461,-1053.3433 731.8325,-1024.8103 662.2953,-1004.277\"/>\n<polygon fill=\"#000000\" stroke=\"#000000\" points=\"663.2507,-1000.9098 652.6689,-1001.4345 661.2683,-1007.6232 663.2507,-1000.9098\"/>\n</g>\n<!-- 18 -->\n<g id=\"node19\" class=\"node\">\n<title>18</title>\n<path fill=\"#eeab7b\" stroke=\"#000000\" d=\"M1044.5,-1020C1044.5,-1020 913.5,-1020 913.5,-1020 907.5,-1020 901.5,-1014 901.5,-1008 901.5,-1008 901.5,-949 901.5,-949 901.5,-943 907.5,-937 913.5,-937 913.5,-937 1044.5,-937 1044.5,-937 1050.5,-937 1056.5,-943 1056.5,-949 1056.5,-949 1056.5,-1008 1056.5,-1008 1056.5,-1014 1050.5,-1020 1044.5,-1020\"/>\n<text text-anchor=\"start\" x=\"929\" y=\"-1004.8\" font-family=\"Helvetica,sans-Serif\" font-size=\"14.00\" fill=\"#000000\">thalach ≤ 0.127</text>\n<text text-anchor=\"start\" x=\"941\" y=\"-989.8\" font-family=\"Helvetica,sans-Serif\" font-size=\"14.00\" fill=\"#000000\">gini = 0.375</text>\n<text text-anchor=\"start\" x=\"935\" y=\"-974.8\" font-family=\"Helvetica,sans-Serif\" font-size=\"14.00\" fill=\"#000000\">samples = 20</text>\n<text text-anchor=\"start\" x=\"909.5\" y=\"-959.8\" font-family=\"Helvetica,sans-Serif\" font-size=\"14.00\" fill=\"#000000\">value = [15, 5, 0, 0, 0]</text>\n<text text-anchor=\"start\" x=\"950\" y=\"-944.8\" font-family=\"Helvetica,sans-Serif\" font-size=\"14.00\" fill=\"#000000\">class = 0</text>\n</g>\n<!-- 6&#45;&gt;18 -->\n<g id=\"edge18\" class=\"edge\">\n<title>6&#45;&gt;18</title>\n<path fill=\"none\" stroke=\"#000000\" d=\"M978.3498,-1055.8796C978.4186,-1047.6838 978.4917,-1038.9891 978.563,-1030.5013\"/>\n<polygon fill=\"#000000\" stroke=\"#000000\" points=\"982.0645,-1030.3272 978.6488,-1020.2981 975.0648,-1030.2683 982.0645,-1030.3272\"/>\n</g>\n<!-- 8 -->\n<g id=\"node9\" class=\"node\">\n<title>8</title>\n<path fill=\"#e5833b\" stroke=\"#000000\" d=\"M389.5,-901C389.5,-901 258.5,-901 258.5,-901 252.5,-901 246.5,-895 246.5,-889 246.5,-889 246.5,-830 246.5,-830 246.5,-824 252.5,-818 258.5,-818 258.5,-818 389.5,-818 389.5,-818 395.5,-818 401.5,-824 401.5,-830 401.5,-830 401.5,-889 401.5,-889 401.5,-895 395.5,-901 389.5,-901\"/>\n<text text-anchor=\"start\" x=\"269.5\" y=\"-885.8\" font-family=\"Helvetica,sans-Serif\" font-size=\"14.00\" fill=\"#000000\">trestbps ≤ &#45;1.291</text>\n<text text-anchor=\"start\" x=\"286\" y=\"-870.8\" font-family=\"Helvetica,sans-Serif\" font-size=\"14.00\" fill=\"#000000\">gini = 0.024</text>\n<text text-anchor=\"start\" x=\"280\" y=\"-855.8\" font-family=\"Helvetica,sans-Serif\" font-size=\"14.00\" fill=\"#000000\">samples = 84</text>\n<text text-anchor=\"start\" x=\"254.5\" y=\"-840.8\" font-family=\"Helvetica,sans-Serif\" font-size=\"14.00\" fill=\"#000000\">value = [83, 1, 0, 0, 0]</text>\n<text text-anchor=\"start\" x=\"295\" y=\"-825.8\" font-family=\"Helvetica,sans-Serif\" font-size=\"14.00\" fill=\"#000000\">class = 0</text>\n</g>\n<!-- 7&#45;&gt;8 -->\n<g id=\"edge8\" class=\"edge\">\n<title>7&#45;&gt;8</title>\n<path fill=\"none\" stroke=\"#000000\" d=\"M497.301,-941.6626C470.0072,-928.7226 439.1672,-914.1012 411.1486,-900.8175\"/>\n<polygon fill=\"#000000\" stroke=\"#000000\" points=\"412.2993,-897.4896 401.764,-896.3682 409.3005,-903.8148 412.2993,-897.4896\"/>\n</g>\n<!-- 15 -->\n<g id=\"node16\" class=\"node\">\n<title>15</title>\n<path fill=\"#eca06a\" stroke=\"#000000\" d=\"M636,-901C636,-901 514,-901 514,-901 508,-901 502,-895 502,-889 502,-889 502,-830 502,-830 502,-824 508,-818 514,-818 514,-818 636,-818 636,-818 642,-818 648,-824 648,-830 648,-830 648,-889 648,-889 648,-895 642,-901 636,-901\"/>\n<text text-anchor=\"start\" x=\"538.5\" y=\"-885.8\" font-family=\"Helvetica,sans-Serif\" font-size=\"14.00\" fill=\"#000000\">cp ≤ &#45;0.687</text>\n<text text-anchor=\"start\" x=\"541.5\" y=\"-870.8\" font-family=\"Helvetica,sans-Serif\" font-size=\"14.00\" fill=\"#000000\">gini = 0.32</text>\n<text text-anchor=\"start\" x=\"535.5\" y=\"-855.8\" font-family=\"Helvetica,sans-Serif\" font-size=\"14.00\" fill=\"#000000\">samples = 5</text>\n<text text-anchor=\"start\" x=\"510\" y=\"-840.8\" font-family=\"Helvetica,sans-Serif\" font-size=\"14.00\" fill=\"#000000\">value = [4, 1, 0, 0, 0]</text>\n<text text-anchor=\"start\" x=\"546\" y=\"-825.8\" font-family=\"Helvetica,sans-Serif\" font-size=\"14.00\" fill=\"#000000\">class = 0</text>\n</g>\n<!-- 7&#45;&gt;15 -->\n<g id=\"edge15\" class=\"edge\">\n<title>7&#45;&gt;15</title>\n<path fill=\"none\" stroke=\"#000000\" d=\"M575,-936.8796C575,-928.6838 575,-919.9891 575,-911.5013\"/>\n<polygon fill=\"#000000\" stroke=\"#000000\" points=\"578.5001,-911.298 575,-901.2981 571.5001,-911.2981 578.5001,-911.298\"/>\n</g>\n<!-- 9 -->\n<g id=\"node10\" class=\"node\">\n<title>9</title>\n<path fill=\"#e99355\" stroke=\"#000000\" d=\"M216,-782C216,-782 94,-782 94,-782 88,-782 82,-776 82,-770 82,-770 82,-711 82,-711 82,-705 88,-699 94,-699 94,-699 216,-699 216,-699 222,-699 228,-705 228,-711 228,-711 228,-770 228,-770 228,-776 222,-782 216,-782\"/>\n<text text-anchor=\"start\" x=\"115\" y=\"-766.8\" font-family=\"Helvetica,sans-Serif\" font-size=\"14.00\" fill=\"#000000\">sex ≤ &#45;0.386</text>\n<text text-anchor=\"start\" x=\"117\" y=\"-751.8\" font-family=\"Helvetica,sans-Serif\" font-size=\"14.00\" fill=\"#000000\">gini = 0.219</text>\n<text text-anchor=\"start\" x=\"115.5\" y=\"-736.8\" font-family=\"Helvetica,sans-Serif\" font-size=\"14.00\" fill=\"#000000\">samples = 8</text>\n<text text-anchor=\"start\" x=\"90\" y=\"-721.8\" font-family=\"Helvetica,sans-Serif\" font-size=\"14.00\" fill=\"#000000\">value = [7, 1, 0, 0, 0]</text>\n<text text-anchor=\"start\" x=\"126\" y=\"-706.8\" font-family=\"Helvetica,sans-Serif\" font-size=\"14.00\" fill=\"#000000\">class = 0</text>\n</g>\n<!-- 8&#45;&gt;9 -->\n<g id=\"edge9\" class=\"edge\">\n<title>8&#45;&gt;9</title>\n<path fill=\"none\" stroke=\"#000000\" d=\"M264.892,-817.8796C251.1266,-808.1868 236.3701,-797.7961 222.2807,-787.8752\"/>\n<polygon fill=\"#000000\" stroke=\"#000000\" points=\"224.2661,-784.9926 214.0746,-782.0969 220.2359,-790.716 224.2661,-784.9926\"/>\n</g>\n<!-- 14 -->\n<g id=\"node15\" class=\"node\">\n<title>14</title>\n<path fill=\"#e58139\" stroke=\"#000000\" d=\"M389.5,-774.5C389.5,-774.5 258.5,-774.5 258.5,-774.5 252.5,-774.5 246.5,-768.5 246.5,-762.5 246.5,-762.5 246.5,-718.5 246.5,-718.5 246.5,-712.5 252.5,-706.5 258.5,-706.5 258.5,-706.5 389.5,-706.5 389.5,-706.5 395.5,-706.5 401.5,-712.5 401.5,-718.5 401.5,-718.5 401.5,-762.5 401.5,-762.5 401.5,-768.5 395.5,-774.5 389.5,-774.5\"/>\n<text text-anchor=\"start\" x=\"294.5\" y=\"-759.3\" font-family=\"Helvetica,sans-Serif\" font-size=\"14.00\" fill=\"#000000\">gini = 0.0</text>\n<text text-anchor=\"start\" x=\"280\" y=\"-744.3\" font-family=\"Helvetica,sans-Serif\" font-size=\"14.00\" fill=\"#000000\">samples = 76</text>\n<text text-anchor=\"start\" x=\"254.5\" y=\"-729.3\" font-family=\"Helvetica,sans-Serif\" font-size=\"14.00\" fill=\"#000000\">value = [76, 0, 0, 0, 0]</text>\n<text text-anchor=\"start\" x=\"295\" y=\"-714.3\" font-family=\"Helvetica,sans-Serif\" font-size=\"14.00\" fill=\"#000000\">class = 0</text>\n</g>\n<!-- 8&#45;&gt;14 -->\n<g id=\"edge14\" class=\"edge\">\n<title>8&#45;&gt;14</title>\n<path fill=\"none\" stroke=\"#000000\" d=\"M324,-817.8796C324,-807.2134 324,-795.7021 324,-784.9015\"/>\n<polygon fill=\"#000000\" stroke=\"#000000\" points=\"327.5001,-784.8149 324,-774.8149 320.5001,-784.815 327.5001,-784.8149\"/>\n</g>\n<!-- 10 -->\n<g id=\"node11\" class=\"node\">\n<title>10</title>\n<path fill=\"#e58139\" stroke=\"#000000\" d=\"M134,-655.5C134,-655.5 12,-655.5 12,-655.5 6,-655.5 0,-649.5 0,-643.5 0,-643.5 0,-599.5 0,-599.5 0,-593.5 6,-587.5 12,-587.5 12,-587.5 134,-587.5 134,-587.5 140,-587.5 146,-593.5 146,-599.5 146,-599.5 146,-643.5 146,-643.5 146,-649.5 140,-655.5 134,-655.5\"/>\n<text text-anchor=\"start\" x=\"43.5\" y=\"-640.3\" font-family=\"Helvetica,sans-Serif\" font-size=\"14.00\" fill=\"#000000\">gini = 0.0</text>\n<text text-anchor=\"start\" x=\"33.5\" y=\"-625.3\" font-family=\"Helvetica,sans-Serif\" font-size=\"14.00\" fill=\"#000000\">samples = 6</text>\n<text text-anchor=\"start\" x=\"8\" y=\"-610.3\" font-family=\"Helvetica,sans-Serif\" font-size=\"14.00\" fill=\"#000000\">value = [6, 0, 0, 0, 0]</text>\n<text text-anchor=\"start\" x=\"44\" y=\"-595.3\" font-family=\"Helvetica,sans-Serif\" font-size=\"14.00\" fill=\"#000000\">class = 0</text>\n</g>\n<!-- 9&#45;&gt;10 -->\n<g id=\"edge10\" class=\"edge\">\n<title>9&#45;&gt;10</title>\n<path fill=\"none\" stroke=\"#000000\" d=\"M126.3204,-698.8796C118.5917,-687.6636 110.2191,-675.5131 102.4492,-664.2372\"/>\n<polygon fill=\"#000000\" stroke=\"#000000\" points=\"105.2018,-662.0634 96.6456,-655.8149 99.4377,-666.0353 105.2018,-662.0634\"/>\n</g>\n<!-- 11 -->\n<g id=\"node12\" class=\"node\">\n<title>11</title>\n<path fill=\"#ffffff\" stroke=\"#000000\" d=\"M298,-663C298,-663 176,-663 176,-663 170,-663 164,-657 164,-651 164,-651 164,-592 164,-592 164,-586 170,-580 176,-580 176,-580 298,-580 298,-580 304,-580 310,-586 310,-592 310,-592 310,-651 310,-651 310,-657 304,-663 298,-663\"/>\n<text text-anchor=\"start\" x=\"185\" y=\"-647.8\" font-family=\"Helvetica,sans-Serif\" font-size=\"14.00\" fill=\"#000000\">thalach ≤ &#45;0.092</text>\n<text text-anchor=\"start\" x=\"207.5\" y=\"-632.8\" font-family=\"Helvetica,sans-Serif\" font-size=\"14.00\" fill=\"#000000\">gini = 0.5</text>\n<text text-anchor=\"start\" x=\"197.5\" y=\"-617.8\" font-family=\"Helvetica,sans-Serif\" font-size=\"14.00\" fill=\"#000000\">samples = 2</text>\n<text text-anchor=\"start\" x=\"172\" y=\"-602.8\" font-family=\"Helvetica,sans-Serif\" font-size=\"14.00\" fill=\"#000000\">value = [1, 1, 0, 0, 0]</text>\n<text text-anchor=\"start\" x=\"208\" y=\"-587.8\" font-family=\"Helvetica,sans-Serif\" font-size=\"14.00\" fill=\"#000000\">class = 0</text>\n</g>\n<!-- 9&#45;&gt;11 -->\n<g id=\"edge11\" class=\"edge\">\n<title>9&#45;&gt;11</title>\n<path fill=\"none\" stroke=\"#000000\" d=\"M183.6796,-698.8796C189.7615,-690.0534 196.2422,-680.6485 202.5141,-671.5466\"/>\n<polygon fill=\"#000000\" stroke=\"#000000\" points=\"205.4059,-673.5184 208.198,-663.2981 199.6418,-669.5465 205.4059,-673.5184\"/>\n</g>\n<!-- 12 -->\n<g id=\"node13\" class=\"node\">\n<title>12</title>\n<path fill=\"#e58139\" stroke=\"#000000\" d=\"M216,-536.5C216,-536.5 94,-536.5 94,-536.5 88,-536.5 82,-530.5 82,-524.5 82,-524.5 82,-480.5 82,-480.5 82,-474.5 88,-468.5 94,-468.5 94,-468.5 216,-468.5 216,-468.5 222,-468.5 228,-474.5 228,-480.5 228,-480.5 228,-524.5 228,-524.5 228,-530.5 222,-536.5 216,-536.5\"/>\n<text text-anchor=\"start\" x=\"125.5\" y=\"-521.3\" font-family=\"Helvetica,sans-Serif\" font-size=\"14.00\" fill=\"#000000\">gini = 0.0</text>\n<text text-anchor=\"start\" x=\"115.5\" y=\"-506.3\" font-family=\"Helvetica,sans-Serif\" font-size=\"14.00\" fill=\"#000000\">samples = 1</text>\n<text text-anchor=\"start\" x=\"90\" y=\"-491.3\" font-family=\"Helvetica,sans-Serif\" font-size=\"14.00\" fill=\"#000000\">value = [1, 0, 0, 0, 0]</text>\n<text text-anchor=\"start\" x=\"126\" y=\"-476.3\" font-family=\"Helvetica,sans-Serif\" font-size=\"14.00\" fill=\"#000000\">class = 0</text>\n</g>\n<!-- 11&#45;&gt;12 -->\n<g id=\"edge12\" class=\"edge\">\n<title>11&#45;&gt;12</title>\n<path fill=\"none\" stroke=\"#000000\" d=\"M208.3204,-579.8796C200.5917,-568.6636 192.2191,-556.5131 184.4492,-545.2372\"/>\n<polygon fill=\"#000000\" stroke=\"#000000\" points=\"187.2018,-543.0634 178.6456,-536.8149 181.4377,-547.0353 187.2018,-543.0634\"/>\n</g>\n<!-- 13 -->\n<g id=\"node14\" class=\"node\">\n<title>13</title>\n<path fill=\"#7be539\" stroke=\"#000000\" d=\"M380,-536.5C380,-536.5 258,-536.5 258,-536.5 252,-536.5 246,-530.5 246,-524.5 246,-524.5 246,-480.5 246,-480.5 246,-474.5 252,-468.5 258,-468.5 258,-468.5 380,-468.5 380,-468.5 386,-468.5 392,-474.5 392,-480.5 392,-480.5 392,-524.5 392,-524.5 392,-530.5 386,-536.5 380,-536.5\"/>\n<text text-anchor=\"start\" x=\"289.5\" y=\"-521.3\" font-family=\"Helvetica,sans-Serif\" font-size=\"14.00\" fill=\"#000000\">gini = 0.0</text>\n<text text-anchor=\"start\" x=\"279.5\" y=\"-506.3\" font-family=\"Helvetica,sans-Serif\" font-size=\"14.00\" fill=\"#000000\">samples = 1</text>\n<text text-anchor=\"start\" x=\"254\" y=\"-491.3\" font-family=\"Helvetica,sans-Serif\" font-size=\"14.00\" fill=\"#000000\">value = [0, 1, 0, 0, 0]</text>\n<text text-anchor=\"start\" x=\"290\" y=\"-476.3\" font-family=\"Helvetica,sans-Serif\" font-size=\"14.00\" fill=\"#000000\">class = 1</text>\n</g>\n<!-- 11&#45;&gt;13 -->\n<g id=\"edge13\" class=\"edge\">\n<title>11&#45;&gt;13</title>\n<path fill=\"none\" stroke=\"#000000\" d=\"M265.6796,-579.8796C273.4083,-568.6636 281.7809,-556.5131 289.5508,-545.2372\"/>\n<polygon fill=\"#000000\" stroke=\"#000000\" points=\"292.5623,-547.0353 295.3544,-536.8149 286.7982,-543.0634 292.5623,-547.0353\"/>\n</g>\n<!-- 16 -->\n<g id=\"node17\" class=\"node\">\n<title>16</title>\n<path fill=\"#7be539\" stroke=\"#000000\" d=\"M554,-774.5C554,-774.5 432,-774.5 432,-774.5 426,-774.5 420,-768.5 420,-762.5 420,-762.5 420,-718.5 420,-718.5 420,-712.5 426,-706.5 432,-706.5 432,-706.5 554,-706.5 554,-706.5 560,-706.5 566,-712.5 566,-718.5 566,-718.5 566,-762.5 566,-762.5 566,-768.5 560,-774.5 554,-774.5\"/>\n<text text-anchor=\"start\" x=\"463.5\" y=\"-759.3\" font-family=\"Helvetica,sans-Serif\" font-size=\"14.00\" fill=\"#000000\">gini = 0.0</text>\n<text text-anchor=\"start\" x=\"453.5\" y=\"-744.3\" font-family=\"Helvetica,sans-Serif\" font-size=\"14.00\" fill=\"#000000\">samples = 1</text>\n<text text-anchor=\"start\" x=\"428\" y=\"-729.3\" font-family=\"Helvetica,sans-Serif\" font-size=\"14.00\" fill=\"#000000\">value = [0, 1, 0, 0, 0]</text>\n<text text-anchor=\"start\" x=\"464\" y=\"-714.3\" font-family=\"Helvetica,sans-Serif\" font-size=\"14.00\" fill=\"#000000\">class = 1</text>\n</g>\n<!-- 15&#45;&gt;16 -->\n<g id=\"edge16\" class=\"edge\">\n<title>15&#45;&gt;16</title>\n<path fill=\"none\" stroke=\"#000000\" d=\"M546.3204,-817.8796C538.5917,-806.6636 530.2191,-794.5131 522.4492,-783.2372\"/>\n<polygon fill=\"#000000\" stroke=\"#000000\" points=\"525.2018,-781.0634 516.6456,-774.8149 519.4377,-785.0353 525.2018,-781.0634\"/>\n</g>\n<!-- 17 -->\n<g id=\"node18\" class=\"node\">\n<title>17</title>\n<path fill=\"#e58139\" stroke=\"#000000\" d=\"M718,-774.5C718,-774.5 596,-774.5 596,-774.5 590,-774.5 584,-768.5 584,-762.5 584,-762.5 584,-718.5 584,-718.5 584,-712.5 590,-706.5 596,-706.5 596,-706.5 718,-706.5 718,-706.5 724,-706.5 730,-712.5 730,-718.5 730,-718.5 730,-762.5 730,-762.5 730,-768.5 724,-774.5 718,-774.5\"/>\n<text text-anchor=\"start\" x=\"627.5\" y=\"-759.3\" font-family=\"Helvetica,sans-Serif\" font-size=\"14.00\" fill=\"#000000\">gini = 0.0</text>\n<text text-anchor=\"start\" x=\"617.5\" y=\"-744.3\" font-family=\"Helvetica,sans-Serif\" font-size=\"14.00\" fill=\"#000000\">samples = 4</text>\n<text text-anchor=\"start\" x=\"592\" y=\"-729.3\" font-family=\"Helvetica,sans-Serif\" font-size=\"14.00\" fill=\"#000000\">value = [4, 0, 0, 0, 0]</text>\n<text text-anchor=\"start\" x=\"628\" y=\"-714.3\" font-family=\"Helvetica,sans-Serif\" font-size=\"14.00\" fill=\"#000000\">class = 0</text>\n</g>\n<!-- 15&#45;&gt;17 -->\n<g id=\"edge17\" class=\"edge\">\n<title>15&#45;&gt;17</title>\n<path fill=\"none\" stroke=\"#000000\" d=\"M603.6796,-817.8796C611.4083,-806.6636 619.7809,-794.5131 627.5508,-783.2372\"/>\n<polygon fill=\"#000000\" stroke=\"#000000\" points=\"630.5623,-785.0353 633.3544,-774.8149 624.7982,-781.0634 630.5623,-785.0353\"/>\n</g>\n<!-- 19 -->\n<g id=\"node20\" class=\"node\">\n<title>19</title>\n<path fill=\"#e78c4b\" stroke=\"#000000\" d=\"M1044.5,-901C1044.5,-901 913.5,-901 913.5,-901 907.5,-901 901.5,-895 901.5,-889 901.5,-889 901.5,-830 901.5,-830 901.5,-824 907.5,-818 913.5,-818 913.5,-818 1044.5,-818 1044.5,-818 1050.5,-818 1056.5,-824 1056.5,-830 1056.5,-830 1056.5,-889 1056.5,-889 1056.5,-895 1050.5,-901 1044.5,-901\"/>\n<text text-anchor=\"start\" x=\"945\" y=\"-885.8\" font-family=\"Helvetica,sans-Serif\" font-size=\"14.00\" fill=\"#000000\">cp ≤ 0.356</text>\n<text text-anchor=\"start\" x=\"941\" y=\"-870.8\" font-family=\"Helvetica,sans-Serif\" font-size=\"14.00\" fill=\"#000000\">gini = 0.153</text>\n<text text-anchor=\"start\" x=\"935\" y=\"-855.8\" font-family=\"Helvetica,sans-Serif\" font-size=\"14.00\" fill=\"#000000\">samples = 12</text>\n<text text-anchor=\"start\" x=\"909.5\" y=\"-840.8\" font-family=\"Helvetica,sans-Serif\" font-size=\"14.00\" fill=\"#000000\">value = [11, 1, 0, 0, 0]</text>\n<text text-anchor=\"start\" x=\"950\" y=\"-825.8\" font-family=\"Helvetica,sans-Serif\" font-size=\"14.00\" fill=\"#000000\">class = 0</text>\n</g>\n<!-- 18&#45;&gt;19 -->\n<g id=\"edge19\" class=\"edge\">\n<title>18&#45;&gt;19</title>\n<path fill=\"none\" stroke=\"#000000\" d=\"M979,-936.8796C979,-928.6838 979,-919.9891 979,-911.5013\"/>\n<polygon fill=\"#000000\" stroke=\"#000000\" points=\"982.5001,-911.298 979,-901.2981 975.5001,-911.2981 982.5001,-911.298\"/>\n</g>\n<!-- 24 -->\n<g id=\"node25\" class=\"node\">\n<title>24</title>\n<path fill=\"#ffffff\" stroke=\"#000000\" d=\"M1210,-901C1210,-901 1088,-901 1088,-901 1082,-901 1076,-895 1076,-889 1076,-889 1076,-830 1076,-830 1076,-824 1082,-818 1088,-818 1088,-818 1210,-818 1210,-818 1216,-818 1222,-824 1222,-830 1222,-830 1222,-889 1222,-889 1222,-895 1216,-901 1210,-901\"/>\n<text text-anchor=\"start\" x=\"1097\" y=\"-885.8\" font-family=\"Helvetica,sans-Serif\" font-size=\"14.00\" fill=\"#000000\">oldpeak ≤ 0.225</text>\n<text text-anchor=\"start\" x=\"1119.5\" y=\"-870.8\" font-family=\"Helvetica,sans-Serif\" font-size=\"14.00\" fill=\"#000000\">gini = 0.5</text>\n<text text-anchor=\"start\" x=\"1109.5\" y=\"-855.8\" font-family=\"Helvetica,sans-Serif\" font-size=\"14.00\" fill=\"#000000\">samples = 8</text>\n<text text-anchor=\"start\" x=\"1084\" y=\"-840.8\" font-family=\"Helvetica,sans-Serif\" font-size=\"14.00\" fill=\"#000000\">value = [4, 4, 0, 0, 0]</text>\n<text text-anchor=\"start\" x=\"1120\" y=\"-825.8\" font-family=\"Helvetica,sans-Serif\" font-size=\"14.00\" fill=\"#000000\">class = 0</text>\n</g>\n<!-- 18&#45;&gt;24 -->\n<g id=\"edge24\" class=\"edge\">\n<title>18&#45;&gt;24</title>\n<path fill=\"none\" stroke=\"#000000\" d=\"M1038.4578,-936.8796C1052.3046,-927.1868 1067.1484,-916.7961 1081.3212,-906.8752\"/>\n<polygon fill=\"#000000\" stroke=\"#000000\" points=\"1083.3906,-909.6989 1089.5758,-901.0969 1079.3764,-903.9643 1083.3906,-909.6989\"/>\n</g>\n<!-- 20 -->\n<g id=\"node21\" class=\"node\">\n<title>20</title>\n<path fill=\"#e58139\" stroke=\"#000000\" d=\"M882,-774.5C882,-774.5 760,-774.5 760,-774.5 754,-774.5 748,-768.5 748,-762.5 748,-762.5 748,-718.5 748,-718.5 748,-712.5 754,-706.5 760,-706.5 760,-706.5 882,-706.5 882,-706.5 888,-706.5 894,-712.5 894,-718.5 894,-718.5 894,-762.5 894,-762.5 894,-768.5 888,-774.5 882,-774.5\"/>\n<text text-anchor=\"start\" x=\"791.5\" y=\"-759.3\" font-family=\"Helvetica,sans-Serif\" font-size=\"14.00\" fill=\"#000000\">gini = 0.0</text>\n<text text-anchor=\"start\" x=\"781.5\" y=\"-744.3\" font-family=\"Helvetica,sans-Serif\" font-size=\"14.00\" fill=\"#000000\">samples = 9</text>\n<text text-anchor=\"start\" x=\"756\" y=\"-729.3\" font-family=\"Helvetica,sans-Serif\" font-size=\"14.00\" fill=\"#000000\">value = [9, 0, 0, 0, 0]</text>\n<text text-anchor=\"start\" x=\"792\" y=\"-714.3\" font-family=\"Helvetica,sans-Serif\" font-size=\"14.00\" fill=\"#000000\">class = 0</text>\n</g>\n<!-- 19&#45;&gt;20 -->\n<g id=\"edge20\" class=\"edge\">\n<title>19&#45;&gt;20</title>\n<path fill=\"none\" stroke=\"#000000\" d=\"M923.7393,-817.8796C907.7497,-805.8368 890.3297,-792.7167 874.4526,-780.7586\"/>\n<polygon fill=\"#000000\" stroke=\"#000000\" points=\"876.3998,-777.8435 866.3062,-774.623 872.1884,-783.435 876.3998,-777.8435\"/>\n</g>\n<!-- 21 -->\n<g id=\"node22\" class=\"node\">\n<title>21</title>\n<path fill=\"#f2c09c\" stroke=\"#000000\" d=\"M1046,-782C1046,-782 924,-782 924,-782 918,-782 912,-776 912,-770 912,-770 912,-711 912,-711 912,-705 918,-699 924,-699 924,-699 1046,-699 1046,-699 1052,-699 1058,-705 1058,-711 1058,-711 1058,-770 1058,-770 1058,-776 1052,-782 1046,-782\"/>\n<text text-anchor=\"start\" x=\"930.5\" y=\"-766.8\" font-family=\"Helvetica,sans-Serif\" font-size=\"14.00\" fill=\"#000000\">trestbps ≤ &#45;0.551</text>\n<text text-anchor=\"start\" x=\"947\" y=\"-751.8\" font-family=\"Helvetica,sans-Serif\" font-size=\"14.00\" fill=\"#000000\">gini = 0.444</text>\n<text text-anchor=\"start\" x=\"945.5\" y=\"-736.8\" font-family=\"Helvetica,sans-Serif\" font-size=\"14.00\" fill=\"#000000\">samples = 3</text>\n<text text-anchor=\"start\" x=\"920\" y=\"-721.8\" font-family=\"Helvetica,sans-Serif\" font-size=\"14.00\" fill=\"#000000\">value = [2, 1, 0, 0, 0]</text>\n<text text-anchor=\"start\" x=\"956\" y=\"-706.8\" font-family=\"Helvetica,sans-Serif\" font-size=\"14.00\" fill=\"#000000\">class = 0</text>\n</g>\n<!-- 19&#45;&gt;21 -->\n<g id=\"edge21\" class=\"edge\">\n<title>19&#45;&gt;21</title>\n<path fill=\"none\" stroke=\"#000000\" d=\"M981.0985,-817.8796C981.5117,-809.6838 981.9501,-800.9891 982.3781,-792.5013\"/>\n<polygon fill=\"#000000\" stroke=\"#000000\" points=\"985.8844,-792.4617 982.8925,-782.2981 978.8933,-792.1091 985.8844,-792.4617\"/>\n</g>\n<!-- 22 -->\n<g id=\"node23\" class=\"node\">\n<title>22</title>\n<path fill=\"#e58139\" stroke=\"#000000\" d=\"M882,-655.5C882,-655.5 760,-655.5 760,-655.5 754,-655.5 748,-649.5 748,-643.5 748,-643.5 748,-599.5 748,-599.5 748,-593.5 754,-587.5 760,-587.5 760,-587.5 882,-587.5 882,-587.5 888,-587.5 894,-593.5 894,-599.5 894,-599.5 894,-643.5 894,-643.5 894,-649.5 888,-655.5 882,-655.5\"/>\n<text text-anchor=\"start\" x=\"791.5\" y=\"-640.3\" font-family=\"Helvetica,sans-Serif\" font-size=\"14.00\" fill=\"#000000\">gini = 0.0</text>\n<text text-anchor=\"start\" x=\"781.5\" y=\"-625.3\" font-family=\"Helvetica,sans-Serif\" font-size=\"14.00\" fill=\"#000000\">samples = 2</text>\n<text text-anchor=\"start\" x=\"756\" y=\"-610.3\" font-family=\"Helvetica,sans-Serif\" font-size=\"14.00\" fill=\"#000000\">value = [2, 0, 0, 0, 0]</text>\n<text text-anchor=\"start\" x=\"792\" y=\"-595.3\" font-family=\"Helvetica,sans-Serif\" font-size=\"14.00\" fill=\"#000000\">class = 0</text>\n</g>\n<!-- 21&#45;&gt;22 -->\n<g id=\"edge22\" class=\"edge\">\n<title>21&#45;&gt;22</title>\n<path fill=\"none\" stroke=\"#000000\" d=\"M927.6408,-698.8796C911.0439,-686.8368 892.9625,-673.7167 876.4824,-661.7586\"/>\n<polygon fill=\"#000000\" stroke=\"#000000\" points=\"878.176,-658.6632 868.0267,-655.623 874.0649,-664.3288 878.176,-658.6632\"/>\n</g>\n<!-- 23 -->\n<g id=\"node24\" class=\"node\">\n<title>23</title>\n<path fill=\"#7be539\" stroke=\"#000000\" d=\"M1046,-655.5C1046,-655.5 924,-655.5 924,-655.5 918,-655.5 912,-649.5 912,-643.5 912,-643.5 912,-599.5 912,-599.5 912,-593.5 918,-587.5 924,-587.5 924,-587.5 1046,-587.5 1046,-587.5 1052,-587.5 1058,-593.5 1058,-599.5 1058,-599.5 1058,-643.5 1058,-643.5 1058,-649.5 1052,-655.5 1046,-655.5\"/>\n<text text-anchor=\"start\" x=\"955.5\" y=\"-640.3\" font-family=\"Helvetica,sans-Serif\" font-size=\"14.00\" fill=\"#000000\">gini = 0.0</text>\n<text text-anchor=\"start\" x=\"945.5\" y=\"-625.3\" font-family=\"Helvetica,sans-Serif\" font-size=\"14.00\" fill=\"#000000\">samples = 1</text>\n<text text-anchor=\"start\" x=\"920\" y=\"-610.3\" font-family=\"Helvetica,sans-Serif\" font-size=\"14.00\" fill=\"#000000\">value = [0, 1, 0, 0, 0]</text>\n<text text-anchor=\"start\" x=\"956\" y=\"-595.3\" font-family=\"Helvetica,sans-Serif\" font-size=\"14.00\" fill=\"#000000\">class = 1</text>\n</g>\n<!-- 21&#45;&gt;23 -->\n<g id=\"edge23\" class=\"edge\">\n<title>21&#45;&gt;23</title>\n<path fill=\"none\" stroke=\"#000000\" d=\"M985,-698.8796C985,-688.2134 985,-676.7021 985,-665.9015\"/>\n<polygon fill=\"#000000\" stroke=\"#000000\" points=\"988.5001,-665.8149 985,-655.8149 981.5001,-665.815 988.5001,-665.8149\"/>\n</g>\n<!-- 25 -->\n<g id=\"node26\" class=\"node\">\n<title>25</title>\n<path fill=\"#f2c09c\" stroke=\"#000000\" d=\"M1210,-782C1210,-782 1088,-782 1088,-782 1082,-782 1076,-776 1076,-770 1076,-770 1076,-711 1076,-711 1076,-705 1082,-699 1088,-699 1088,-699 1210,-699 1210,-699 1216,-699 1222,-705 1222,-711 1222,-711 1222,-770 1222,-770 1222,-776 1216,-782 1210,-782\"/>\n<text text-anchor=\"start\" x=\"1109.5\" y=\"-766.8\" font-family=\"Helvetica,sans-Serif\" font-size=\"14.00\" fill=\"#000000\">chol ≤ 0.857</text>\n<text text-anchor=\"start\" x=\"1111\" y=\"-751.8\" font-family=\"Helvetica,sans-Serif\" font-size=\"14.00\" fill=\"#000000\">gini = 0.444</text>\n<text text-anchor=\"start\" x=\"1109.5\" y=\"-736.8\" font-family=\"Helvetica,sans-Serif\" font-size=\"14.00\" fill=\"#000000\">samples = 6</text>\n<text text-anchor=\"start\" x=\"1084\" y=\"-721.8\" font-family=\"Helvetica,sans-Serif\" font-size=\"14.00\" fill=\"#000000\">value = [4, 2, 0, 0, 0]</text>\n<text text-anchor=\"start\" x=\"1120\" y=\"-706.8\" font-family=\"Helvetica,sans-Serif\" font-size=\"14.00\" fill=\"#000000\">class = 0</text>\n</g>\n<!-- 24&#45;&gt;25 -->\n<g id=\"edge25\" class=\"edge\">\n<title>24&#45;&gt;25</title>\n<path fill=\"none\" stroke=\"#000000\" d=\"M1149,-817.8796C1149,-809.6838 1149,-800.9891 1149,-792.5013\"/>\n<polygon fill=\"#000000\" stroke=\"#000000\" points=\"1152.5001,-792.298 1149,-782.2981 1145.5001,-792.2981 1152.5001,-792.298\"/>\n</g>\n<!-- 30 -->\n<g id=\"node31\" class=\"node\">\n<title>30</title>\n<path fill=\"#7be539\" stroke=\"#000000\" d=\"M1374,-774.5C1374,-774.5 1252,-774.5 1252,-774.5 1246,-774.5 1240,-768.5 1240,-762.5 1240,-762.5 1240,-718.5 1240,-718.5 1240,-712.5 1246,-706.5 1252,-706.5 1252,-706.5 1374,-706.5 1374,-706.5 1380,-706.5 1386,-712.5 1386,-718.5 1386,-718.5 1386,-762.5 1386,-762.5 1386,-768.5 1380,-774.5 1374,-774.5\"/>\n<text text-anchor=\"start\" x=\"1283.5\" y=\"-759.3\" font-family=\"Helvetica,sans-Serif\" font-size=\"14.00\" fill=\"#000000\">gini = 0.0</text>\n<text text-anchor=\"start\" x=\"1273.5\" y=\"-744.3\" font-family=\"Helvetica,sans-Serif\" font-size=\"14.00\" fill=\"#000000\">samples = 2</text>\n<text text-anchor=\"start\" x=\"1248\" y=\"-729.3\" font-family=\"Helvetica,sans-Serif\" font-size=\"14.00\" fill=\"#000000\">value = [0, 2, 0, 0, 0]</text>\n<text text-anchor=\"start\" x=\"1284\" y=\"-714.3\" font-family=\"Helvetica,sans-Serif\" font-size=\"14.00\" fill=\"#000000\">class = 1</text>\n</g>\n<!-- 24&#45;&gt;30 -->\n<g id=\"edge30\" class=\"edge\">\n<title>24&#45;&gt;30</title>\n<path fill=\"none\" stroke=\"#000000\" d=\"M1206.3592,-817.8796C1222.9561,-805.8368 1241.0375,-792.7167 1257.5176,-780.7586\"/>\n<polygon fill=\"#000000\" stroke=\"#000000\" points=\"1259.9351,-783.3288 1265.9733,-774.623 1255.824,-777.6632 1259.9351,-783.3288\"/>\n</g>\n<!-- 26 -->\n<g id=\"node27\" class=\"node\">\n<title>26</title>\n<path fill=\"#e58139\" stroke=\"#000000\" d=\"M1210,-655.5C1210,-655.5 1088,-655.5 1088,-655.5 1082,-655.5 1076,-649.5 1076,-643.5 1076,-643.5 1076,-599.5 1076,-599.5 1076,-593.5 1082,-587.5 1088,-587.5 1088,-587.5 1210,-587.5 1210,-587.5 1216,-587.5 1222,-593.5 1222,-599.5 1222,-599.5 1222,-643.5 1222,-643.5 1222,-649.5 1216,-655.5 1210,-655.5\"/>\n<text text-anchor=\"start\" x=\"1119.5\" y=\"-640.3\" font-family=\"Helvetica,sans-Serif\" font-size=\"14.00\" fill=\"#000000\">gini = 0.0</text>\n<text text-anchor=\"start\" x=\"1109.5\" y=\"-625.3\" font-family=\"Helvetica,sans-Serif\" font-size=\"14.00\" fill=\"#000000\">samples = 3</text>\n<text text-anchor=\"start\" x=\"1084\" y=\"-610.3\" font-family=\"Helvetica,sans-Serif\" font-size=\"14.00\" fill=\"#000000\">value = [3, 0, 0, 0, 0]</text>\n<text text-anchor=\"start\" x=\"1120\" y=\"-595.3\" font-family=\"Helvetica,sans-Serif\" font-size=\"14.00\" fill=\"#000000\">class = 0</text>\n</g>\n<!-- 25&#45;&gt;26 -->\n<g id=\"edge26\" class=\"edge\">\n<title>25&#45;&gt;26</title>\n<path fill=\"none\" stroke=\"#000000\" d=\"M1149,-698.8796C1149,-688.2134 1149,-676.7021 1149,-665.9015\"/>\n<polygon fill=\"#000000\" stroke=\"#000000\" points=\"1152.5001,-665.8149 1149,-655.8149 1145.5001,-665.815 1152.5001,-665.8149\"/>\n</g>\n<!-- 27 -->\n<g id=\"node28\" class=\"node\">\n<title>27</title>\n<path fill=\"#bdf29c\" stroke=\"#000000\" d=\"M1374,-663C1374,-663 1252,-663 1252,-663 1246,-663 1240,-657 1240,-651 1240,-651 1240,-592 1240,-592 1240,-586 1246,-580 1252,-580 1252,-580 1374,-580 1374,-580 1380,-580 1386,-586 1386,-592 1386,-592 1386,-651 1386,-651 1386,-657 1380,-663 1374,-663\"/>\n<text text-anchor=\"start\" x=\"1273.5\" y=\"-647.8\" font-family=\"Helvetica,sans-Serif\" font-size=\"14.00\" fill=\"#000000\">chol ≤ 2.279</text>\n<text text-anchor=\"start\" x=\"1275\" y=\"-632.8\" font-family=\"Helvetica,sans-Serif\" font-size=\"14.00\" fill=\"#000000\">gini = 0.444</text>\n<text text-anchor=\"start\" x=\"1273.5\" y=\"-617.8\" font-family=\"Helvetica,sans-Serif\" font-size=\"14.00\" fill=\"#000000\">samples = 3</text>\n<text text-anchor=\"start\" x=\"1248\" y=\"-602.8\" font-family=\"Helvetica,sans-Serif\" font-size=\"14.00\" fill=\"#000000\">value = [1, 2, 0, 0, 0]</text>\n<text text-anchor=\"start\" x=\"1284\" y=\"-587.8\" font-family=\"Helvetica,sans-Serif\" font-size=\"14.00\" fill=\"#000000\">class = 1</text>\n</g>\n<!-- 25&#45;&gt;27 -->\n<g id=\"edge27\" class=\"edge\">\n<title>25&#45;&gt;27</title>\n<path fill=\"none\" stroke=\"#000000\" d=\"M1206.3592,-698.8796C1219.5925,-689.2774 1233.7697,-678.9903 1247.3264,-669.1534\"/>\n<polygon fill=\"#000000\" stroke=\"#000000\" points=\"1249.6349,-671.8027 1255.6731,-663.0969 1245.5238,-666.1371 1249.6349,-671.8027\"/>\n</g>\n<!-- 28 -->\n<g id=\"node29\" class=\"node\">\n<title>28</title>\n<path fill=\"#7be539\" stroke=\"#000000\" d=\"M1292,-536.5C1292,-536.5 1170,-536.5 1170,-536.5 1164,-536.5 1158,-530.5 1158,-524.5 1158,-524.5 1158,-480.5 1158,-480.5 1158,-474.5 1164,-468.5 1170,-468.5 1170,-468.5 1292,-468.5 1292,-468.5 1298,-468.5 1304,-474.5 1304,-480.5 1304,-480.5 1304,-524.5 1304,-524.5 1304,-530.5 1298,-536.5 1292,-536.5\"/>\n<text text-anchor=\"start\" x=\"1201.5\" y=\"-521.3\" font-family=\"Helvetica,sans-Serif\" font-size=\"14.00\" fill=\"#000000\">gini = 0.0</text>\n<text text-anchor=\"start\" x=\"1191.5\" y=\"-506.3\" font-family=\"Helvetica,sans-Serif\" font-size=\"14.00\" fill=\"#000000\">samples = 2</text>\n<text text-anchor=\"start\" x=\"1166\" y=\"-491.3\" font-family=\"Helvetica,sans-Serif\" font-size=\"14.00\" fill=\"#000000\">value = [0, 2, 0, 0, 0]</text>\n<text text-anchor=\"start\" x=\"1202\" y=\"-476.3\" font-family=\"Helvetica,sans-Serif\" font-size=\"14.00\" fill=\"#000000\">class = 1</text>\n</g>\n<!-- 27&#45;&gt;28 -->\n<g id=\"edge28\" class=\"edge\">\n<title>27&#45;&gt;28</title>\n<path fill=\"none\" stroke=\"#000000\" d=\"M1284.3204,-579.8796C1276.5917,-568.6636 1268.2191,-556.5131 1260.4492,-545.2372\"/>\n<polygon fill=\"#000000\" stroke=\"#000000\" points=\"1263.2018,-543.0634 1254.6456,-536.8149 1257.4377,-547.0353 1263.2018,-543.0634\"/>\n</g>\n<!-- 29 -->\n<g id=\"node30\" class=\"node\">\n<title>29</title>\n<path fill=\"#e58139\" stroke=\"#000000\" d=\"M1456,-536.5C1456,-536.5 1334,-536.5 1334,-536.5 1328,-536.5 1322,-530.5 1322,-524.5 1322,-524.5 1322,-480.5 1322,-480.5 1322,-474.5 1328,-468.5 1334,-468.5 1334,-468.5 1456,-468.5 1456,-468.5 1462,-468.5 1468,-474.5 1468,-480.5 1468,-480.5 1468,-524.5 1468,-524.5 1468,-530.5 1462,-536.5 1456,-536.5\"/>\n<text text-anchor=\"start\" x=\"1365.5\" y=\"-521.3\" font-family=\"Helvetica,sans-Serif\" font-size=\"14.00\" fill=\"#000000\">gini = 0.0</text>\n<text text-anchor=\"start\" x=\"1355.5\" y=\"-506.3\" font-family=\"Helvetica,sans-Serif\" font-size=\"14.00\" fill=\"#000000\">samples = 1</text>\n<text text-anchor=\"start\" x=\"1330\" y=\"-491.3\" font-family=\"Helvetica,sans-Serif\" font-size=\"14.00\" fill=\"#000000\">value = [1, 0, 0, 0, 0]</text>\n<text text-anchor=\"start\" x=\"1366\" y=\"-476.3\" font-family=\"Helvetica,sans-Serif\" font-size=\"14.00\" fill=\"#000000\">class = 0</text>\n</g>\n<!-- 27&#45;&gt;29 -->\n<g id=\"edge29\" class=\"edge\">\n<title>27&#45;&gt;29</title>\n<path fill=\"none\" stroke=\"#000000\" d=\"M1341.6796,-579.8796C1349.4083,-568.6636 1357.7809,-556.5131 1365.5508,-545.2372\"/>\n<polygon fill=\"#000000\" stroke=\"#000000\" points=\"1368.5623,-547.0353 1371.3544,-536.8149 1362.7982,-543.0634 1368.5623,-547.0353\"/>\n</g>\n<!-- 33 -->\n<g id=\"node34\" class=\"node\">\n<title>33</title>\n<path fill=\"#7be539\" stroke=\"#000000\" d=\"M1380,-1250.5C1380,-1250.5 1258,-1250.5 1258,-1250.5 1252,-1250.5 1246,-1244.5 1246,-1238.5 1246,-1238.5 1246,-1194.5 1246,-1194.5 1246,-1188.5 1252,-1182.5 1258,-1182.5 1258,-1182.5 1380,-1182.5 1380,-1182.5 1386,-1182.5 1392,-1188.5 1392,-1194.5 1392,-1194.5 1392,-1238.5 1392,-1238.5 1392,-1244.5 1386,-1250.5 1380,-1250.5\"/>\n<text text-anchor=\"start\" x=\"1289.5\" y=\"-1235.3\" font-family=\"Helvetica,sans-Serif\" font-size=\"14.00\" fill=\"#000000\">gini = 0.0</text>\n<text text-anchor=\"start\" x=\"1279.5\" y=\"-1220.3\" font-family=\"Helvetica,sans-Serif\" font-size=\"14.00\" fill=\"#000000\">samples = 3</text>\n<text text-anchor=\"start\" x=\"1254\" y=\"-1205.3\" font-family=\"Helvetica,sans-Serif\" font-size=\"14.00\" fill=\"#000000\">value = [0, 3, 0, 0, 0]</text>\n<text text-anchor=\"start\" x=\"1290\" y=\"-1190.3\" font-family=\"Helvetica,sans-Serif\" font-size=\"14.00\" fill=\"#000000\">class = 1</text>\n</g>\n<!-- 32&#45;&gt;33 -->\n<g id=\"edge33\" class=\"edge\">\n<title>32&#45;&gt;33</title>\n<path fill=\"none\" stroke=\"#000000\" d=\"M1372.3204,-1293.8796C1364.5917,-1282.6636 1356.2191,-1270.5131 1348.4492,-1259.2372\"/>\n<polygon fill=\"#000000\" stroke=\"#000000\" points=\"1351.2018,-1257.0634 1342.6456,-1250.8149 1345.4377,-1261.0353 1351.2018,-1257.0634\"/>\n</g>\n<!-- 34 -->\n<g id=\"node35\" class=\"node\">\n<title>34</title>\n<path fill=\"#f2c09c\" stroke=\"#000000\" d=\"M1544,-1258C1544,-1258 1422,-1258 1422,-1258 1416,-1258 1410,-1252 1410,-1246 1410,-1246 1410,-1187 1410,-1187 1410,-1181 1416,-1175 1422,-1175 1422,-1175 1544,-1175 1544,-1175 1550,-1175 1556,-1181 1556,-1187 1556,-1187 1556,-1246 1556,-1246 1556,-1252 1550,-1258 1544,-1258\"/>\n<text text-anchor=\"start\" x=\"1437\" y=\"-1242.8\" font-family=\"Helvetica,sans-Serif\" font-size=\"14.00\" fill=\"#000000\">slope ≤ &#45;0.164</text>\n<text text-anchor=\"start\" x=\"1445\" y=\"-1227.8\" font-family=\"Helvetica,sans-Serif\" font-size=\"14.00\" fill=\"#000000\">gini = 0.444</text>\n<text text-anchor=\"start\" x=\"1443.5\" y=\"-1212.8\" font-family=\"Helvetica,sans-Serif\" font-size=\"14.00\" fill=\"#000000\">samples = 3</text>\n<text text-anchor=\"start\" x=\"1418\" y=\"-1197.8\" font-family=\"Helvetica,sans-Serif\" font-size=\"14.00\" fill=\"#000000\">value = [2, 0, 1, 0, 0]</text>\n<text text-anchor=\"start\" x=\"1454\" y=\"-1182.8\" font-family=\"Helvetica,sans-Serif\" font-size=\"14.00\" fill=\"#000000\">class = 0</text>\n</g>\n<!-- 32&#45;&gt;34 -->\n<g id=\"edge34\" class=\"edge\">\n<title>32&#45;&gt;34</title>\n<path fill=\"none\" stroke=\"#000000\" d=\"M1429.6796,-1293.8796C1435.7615,-1285.0534 1442.2422,-1275.6485 1448.5141,-1266.5466\"/>\n<polygon fill=\"#000000\" stroke=\"#000000\" points=\"1451.4059,-1268.5184 1454.198,-1258.2981 1445.6418,-1264.5465 1451.4059,-1268.5184\"/>\n</g>\n<!-- 35 -->\n<g id=\"node36\" class=\"node\">\n<title>35</title>\n<path fill=\"#e58139\" stroke=\"#000000\" d=\"M1380,-1131.5C1380,-1131.5 1258,-1131.5 1258,-1131.5 1252,-1131.5 1246,-1125.5 1246,-1119.5 1246,-1119.5 1246,-1075.5 1246,-1075.5 1246,-1069.5 1252,-1063.5 1258,-1063.5 1258,-1063.5 1380,-1063.5 1380,-1063.5 1386,-1063.5 1392,-1069.5 1392,-1075.5 1392,-1075.5 1392,-1119.5 1392,-1119.5 1392,-1125.5 1386,-1131.5 1380,-1131.5\"/>\n<text text-anchor=\"start\" x=\"1289.5\" y=\"-1116.3\" font-family=\"Helvetica,sans-Serif\" font-size=\"14.00\" fill=\"#000000\">gini = 0.0</text>\n<text text-anchor=\"start\" x=\"1279.5\" y=\"-1101.3\" font-family=\"Helvetica,sans-Serif\" font-size=\"14.00\" fill=\"#000000\">samples = 2</text>\n<text text-anchor=\"start\" x=\"1254\" y=\"-1086.3\" font-family=\"Helvetica,sans-Serif\" font-size=\"14.00\" fill=\"#000000\">value = [2, 0, 0, 0, 0]</text>\n<text text-anchor=\"start\" x=\"1290\" y=\"-1071.3\" font-family=\"Helvetica,sans-Serif\" font-size=\"14.00\" fill=\"#000000\">class = 0</text>\n</g>\n<!-- 34&#45;&gt;35 -->\n<g id=\"edge35\" class=\"edge\">\n<title>34&#45;&gt;35</title>\n<path fill=\"none\" stroke=\"#000000\" d=\"M1425.6408,-1174.8796C1409.0439,-1162.8368 1390.9625,-1149.7167 1374.4824,-1137.7586\"/>\n<polygon fill=\"#000000\" stroke=\"#000000\" points=\"1376.176,-1134.6632 1366.0267,-1131.623 1372.0649,-1140.3288 1376.176,-1134.6632\"/>\n</g>\n<!-- 36 -->\n<g id=\"node37\" class=\"node\">\n<title>36</title>\n<path fill=\"#39e5c5\" stroke=\"#000000\" d=\"M1544,-1131.5C1544,-1131.5 1422,-1131.5 1422,-1131.5 1416,-1131.5 1410,-1125.5 1410,-1119.5 1410,-1119.5 1410,-1075.5 1410,-1075.5 1410,-1069.5 1416,-1063.5 1422,-1063.5 1422,-1063.5 1544,-1063.5 1544,-1063.5 1550,-1063.5 1556,-1069.5 1556,-1075.5 1556,-1075.5 1556,-1119.5 1556,-1119.5 1556,-1125.5 1550,-1131.5 1544,-1131.5\"/>\n<text text-anchor=\"start\" x=\"1453.5\" y=\"-1116.3\" font-family=\"Helvetica,sans-Serif\" font-size=\"14.00\" fill=\"#000000\">gini = 0.0</text>\n<text text-anchor=\"start\" x=\"1443.5\" y=\"-1101.3\" font-family=\"Helvetica,sans-Serif\" font-size=\"14.00\" fill=\"#000000\">samples = 1</text>\n<text text-anchor=\"start\" x=\"1418\" y=\"-1086.3\" font-family=\"Helvetica,sans-Serif\" font-size=\"14.00\" fill=\"#000000\">value = [0, 0, 1, 0, 0]</text>\n<text text-anchor=\"start\" x=\"1454\" y=\"-1071.3\" font-family=\"Helvetica,sans-Serif\" font-size=\"14.00\" fill=\"#000000\">class = 2</text>\n</g>\n<!-- 34&#45;&gt;36 -->\n<g id=\"edge36\" class=\"edge\">\n<title>34&#45;&gt;36</title>\n<path fill=\"none\" stroke=\"#000000\" d=\"M1483,-1174.8796C1483,-1164.2134 1483,-1152.7021 1483,-1141.9015\"/>\n<polygon fill=\"#000000\" stroke=\"#000000\" points=\"1486.5001,-1141.8149 1483,-1131.8149 1479.5001,-1141.815 1486.5001,-1141.8149\"/>\n</g>\n<!-- 38 -->\n<g id=\"node39\" class=\"node\">\n<title>38</title>\n<path fill=\"#eda673\" stroke=\"#000000\" d=\"M2088.5,-1377C2088.5,-1377 1957.5,-1377 1957.5,-1377 1951.5,-1377 1945.5,-1371 1945.5,-1365 1945.5,-1365 1945.5,-1306 1945.5,-1306 1945.5,-1300 1951.5,-1294 1957.5,-1294 1957.5,-1294 2088.5,-1294 2088.5,-1294 2094.5,-1294 2100.5,-1300 2100.5,-1306 2100.5,-1306 2100.5,-1365 2100.5,-1365 2100.5,-1371 2094.5,-1377 2088.5,-1377\"/>\n<text text-anchor=\"start\" x=\"1971\" y=\"-1361.8\" font-family=\"Helvetica,sans-Serif\" font-size=\"14.00\" fill=\"#000000\">oldpeak ≤ 1.044</text>\n<text text-anchor=\"start\" x=\"1985\" y=\"-1346.8\" font-family=\"Helvetica,sans-Serif\" font-size=\"14.00\" fill=\"#000000\">gini = 0.392</text>\n<text text-anchor=\"start\" x=\"1979\" y=\"-1331.8\" font-family=\"Helvetica,sans-Serif\" font-size=\"14.00\" fill=\"#000000\">samples = 29</text>\n<text text-anchor=\"start\" x=\"1953.5\" y=\"-1316.8\" font-family=\"Helvetica,sans-Serif\" font-size=\"14.00\" fill=\"#000000\">value = [22, 5, 1, 1, 0]</text>\n<text text-anchor=\"start\" x=\"1994\" y=\"-1301.8\" font-family=\"Helvetica,sans-Serif\" font-size=\"14.00\" fill=\"#000000\">class = 0</text>\n</g>\n<!-- 37&#45;&gt;38 -->\n<g id=\"edge38\" class=\"edge\">\n<title>37&#45;&gt;38</title>\n<path fill=\"none\" stroke=\"#000000\" d=\"M2084.1234,-1412.8796C2077.0803,-1403.9633 2069.5707,-1394.4565 2062.3126,-1385.268\"/>\n<polygon fill=\"#000000\" stroke=\"#000000\" points=\"2064.9621,-1382.9757 2056.017,-1377.2981 2059.4691,-1387.3147 2064.9621,-1382.9757\"/>\n</g>\n<!-- 53 -->\n<g id=\"node54\" class=\"node\">\n<title>53</title>\n<path fill=\"#f6fdf2\" stroke=\"#000000\" d=\"M2272,-1377C2272,-1377 2150,-1377 2150,-1377 2144,-1377 2138,-1371 2138,-1365 2138,-1365 2138,-1306 2138,-1306 2138,-1300 2144,-1294 2150,-1294 2150,-1294 2272,-1294 2272,-1294 2278,-1294 2284,-1300 2284,-1306 2284,-1306 2284,-1365 2284,-1365 2284,-1371 2278,-1377 2272,-1377\"/>\n<text text-anchor=\"start\" x=\"2167\" y=\"-1361.8\" font-family=\"Helvetica,sans-Serif\" font-size=\"14.00\" fill=\"#000000\">slope ≤ 1.462</text>\n<text text-anchor=\"start\" x=\"2173\" y=\"-1346.8\" font-family=\"Helvetica,sans-Serif\" font-size=\"14.00\" fill=\"#000000\">gini = 0.775</text>\n<text text-anchor=\"start\" x=\"2167\" y=\"-1331.8\" font-family=\"Helvetica,sans-Serif\" font-size=\"14.00\" fill=\"#000000\">samples = 20</text>\n<text text-anchor=\"start\" x=\"2146\" y=\"-1316.8\" font-family=\"Helvetica,sans-Serif\" font-size=\"14.00\" fill=\"#000000\">value = [3, 6, 4, 5, 2]</text>\n<text text-anchor=\"start\" x=\"2182\" y=\"-1301.8\" font-family=\"Helvetica,sans-Serif\" font-size=\"14.00\" fill=\"#000000\">class = 1</text>\n</g>\n<!-- 37&#45;&gt;53 -->\n<g id=\"edge53\" class=\"edge\">\n<title>37&#45;&gt;53</title>\n<path fill=\"none\" stroke=\"#000000\" d=\"M2149.8766,-1412.8796C2156.9197,-1403.9633 2164.4293,-1394.4565 2171.6874,-1385.268\"/>\n<polygon fill=\"#000000\" stroke=\"#000000\" points=\"2174.5309,-1387.3147 2177.983,-1377.2981 2169.0379,-1382.9757 2174.5309,-1387.3147\"/>\n</g>\n<!-- 39 -->\n<g id=\"node40\" class=\"node\">\n<title>39</title>\n<path fill=\"#eca26d\" stroke=\"#000000\" d=\"M1881.5,-1258C1881.5,-1258 1750.5,-1258 1750.5,-1258 1744.5,-1258 1738.5,-1252 1738.5,-1246 1738.5,-1246 1738.5,-1187 1738.5,-1187 1738.5,-1181 1744.5,-1175 1750.5,-1175 1750.5,-1175 1881.5,-1175 1881.5,-1175 1887.5,-1175 1893.5,-1181 1893.5,-1187 1893.5,-1187 1893.5,-1246 1893.5,-1246 1893.5,-1252 1887.5,-1258 1881.5,-1258\"/>\n<text text-anchor=\"start\" x=\"1774\" y=\"-1242.8\" font-family=\"Helvetica,sans-Serif\" font-size=\"14.00\" fill=\"#000000\">chol ≤ &#45;1.445</text>\n<text text-anchor=\"start\" x=\"1778\" y=\"-1227.8\" font-family=\"Helvetica,sans-Serif\" font-size=\"14.00\" fill=\"#000000\">gini = 0.349</text>\n<text text-anchor=\"start\" x=\"1772\" y=\"-1212.8\" font-family=\"Helvetica,sans-Serif\" font-size=\"14.00\" fill=\"#000000\">samples = 28</text>\n<text text-anchor=\"start\" x=\"1746.5\" y=\"-1197.8\" font-family=\"Helvetica,sans-Serif\" font-size=\"14.00\" fill=\"#000000\">value = [22, 5, 0, 1, 0]</text>\n<text text-anchor=\"start\" x=\"1787\" y=\"-1182.8\" font-family=\"Helvetica,sans-Serif\" font-size=\"14.00\" fill=\"#000000\">class = 0</text>\n</g>\n<!-- 38&#45;&gt;39 -->\n<g id=\"edge39\" class=\"edge\">\n<title>38&#45;&gt;39</title>\n<path fill=\"none\" stroke=\"#000000\" d=\"M1950.6014,-1293.8796C1933.4257,-1284.0056 1914.9903,-1273.4075 1897.442,-1263.3193\"/>\n<polygon fill=\"#000000\" stroke=\"#000000\" points=\"1898.7716,-1260.0466 1888.3577,-1258.0969 1895.2828,-1266.1152 1898.7716,-1260.0466\"/>\n</g>\n<!-- 52 -->\n<g id=\"node53\" class=\"node\">\n<title>52</title>\n<path fill=\"#39e5c5\" stroke=\"#000000\" d=\"M2084,-1250.5C2084,-1250.5 1962,-1250.5 1962,-1250.5 1956,-1250.5 1950,-1244.5 1950,-1238.5 1950,-1238.5 1950,-1194.5 1950,-1194.5 1950,-1188.5 1956,-1182.5 1962,-1182.5 1962,-1182.5 2084,-1182.5 2084,-1182.5 2090,-1182.5 2096,-1188.5 2096,-1194.5 2096,-1194.5 2096,-1238.5 2096,-1238.5 2096,-1244.5 2090,-1250.5 2084,-1250.5\"/>\n<text text-anchor=\"start\" x=\"1993.5\" y=\"-1235.3\" font-family=\"Helvetica,sans-Serif\" font-size=\"14.00\" fill=\"#000000\">gini = 0.0</text>\n<text text-anchor=\"start\" x=\"1983.5\" y=\"-1220.3\" font-family=\"Helvetica,sans-Serif\" font-size=\"14.00\" fill=\"#000000\">samples = 1</text>\n<text text-anchor=\"start\" x=\"1958\" y=\"-1205.3\" font-family=\"Helvetica,sans-Serif\" font-size=\"14.00\" fill=\"#000000\">value = [0, 0, 1, 0, 0]</text>\n<text text-anchor=\"start\" x=\"1994\" y=\"-1190.3\" font-family=\"Helvetica,sans-Serif\" font-size=\"14.00\" fill=\"#000000\">class = 2</text>\n</g>\n<!-- 38&#45;&gt;52 -->\n<g id=\"edge52\" class=\"edge\">\n<title>38&#45;&gt;52</title>\n<path fill=\"none\" stroke=\"#000000\" d=\"M2023,-1293.8796C2023,-1283.2134 2023,-1271.7021 2023,-1260.9015\"/>\n<polygon fill=\"#000000\" stroke=\"#000000\" points=\"2026.5001,-1260.8149 2023,-1250.8149 2019.5001,-1260.815 2026.5001,-1260.8149\"/>\n</g>\n<!-- 40 -->\n<g id=\"node41\" class=\"node\">\n<title>40</title>\n<path fill=\"#7be539\" stroke=\"#000000\" d=\"M1708,-1131.5C1708,-1131.5 1586,-1131.5 1586,-1131.5 1580,-1131.5 1574,-1125.5 1574,-1119.5 1574,-1119.5 1574,-1075.5 1574,-1075.5 1574,-1069.5 1580,-1063.5 1586,-1063.5 1586,-1063.5 1708,-1063.5 1708,-1063.5 1714,-1063.5 1720,-1069.5 1720,-1075.5 1720,-1075.5 1720,-1119.5 1720,-1119.5 1720,-1125.5 1714,-1131.5 1708,-1131.5\"/>\n<text text-anchor=\"start\" x=\"1617.5\" y=\"-1116.3\" font-family=\"Helvetica,sans-Serif\" font-size=\"14.00\" fill=\"#000000\">gini = 0.0</text>\n<text text-anchor=\"start\" x=\"1607.5\" y=\"-1101.3\" font-family=\"Helvetica,sans-Serif\" font-size=\"14.00\" fill=\"#000000\">samples = 1</text>\n<text text-anchor=\"start\" x=\"1582\" y=\"-1086.3\" font-family=\"Helvetica,sans-Serif\" font-size=\"14.00\" fill=\"#000000\">value = [0, 1, 0, 0, 0]</text>\n<text text-anchor=\"start\" x=\"1618\" y=\"-1071.3\" font-family=\"Helvetica,sans-Serif\" font-size=\"14.00\" fill=\"#000000\">class = 1</text>\n</g>\n<!-- 39&#45;&gt;40 -->\n<g id=\"edge40\" class=\"edge\">\n<title>39&#45;&gt;40</title>\n<path fill=\"none\" stroke=\"#000000\" d=\"M1756.892,-1174.8796C1739.6323,-1162.7263 1720.8144,-1149.4759 1703.707,-1137.4297\"/>\n<polygon fill=\"#000000\" stroke=\"#000000\" points=\"1705.6519,-1134.5187 1695.4604,-1131.623 1701.6218,-1140.2421 1705.6519,-1134.5187\"/>\n</g>\n<!-- 41 -->\n<g id=\"node42\" class=\"node\">\n<title>41</title>\n<path fill=\"#eb9c64\" stroke=\"#000000\" d=\"M1881.5,-1139C1881.5,-1139 1750.5,-1139 1750.5,-1139 1744.5,-1139 1738.5,-1133 1738.5,-1127 1738.5,-1127 1738.5,-1068 1738.5,-1068 1738.5,-1062 1744.5,-1056 1750.5,-1056 1750.5,-1056 1881.5,-1056 1881.5,-1056 1887.5,-1056 1893.5,-1062 1893.5,-1068 1893.5,-1068 1893.5,-1127 1893.5,-1127 1893.5,-1133 1887.5,-1139 1881.5,-1139\"/>\n<text text-anchor=\"start\" x=\"1777.5\" y=\"-1123.8\" font-family=\"Helvetica,sans-Serif\" font-size=\"14.00\" fill=\"#000000\">age ≤ 0.118</text>\n<text text-anchor=\"start\" x=\"1778\" y=\"-1108.8\" font-family=\"Helvetica,sans-Serif\" font-size=\"14.00\" fill=\"#000000\">gini = 0.313</text>\n<text text-anchor=\"start\" x=\"1772\" y=\"-1093.8\" font-family=\"Helvetica,sans-Serif\" font-size=\"14.00\" fill=\"#000000\">samples = 27</text>\n<text text-anchor=\"start\" x=\"1746.5\" y=\"-1078.8\" font-family=\"Helvetica,sans-Serif\" font-size=\"14.00\" fill=\"#000000\">value = [22, 4, 0, 1, 0]</text>\n<text text-anchor=\"start\" x=\"1787\" y=\"-1063.8\" font-family=\"Helvetica,sans-Serif\" font-size=\"14.00\" fill=\"#000000\">class = 0</text>\n</g>\n<!-- 39&#45;&gt;41 -->\n<g id=\"edge41\" class=\"edge\">\n<title>39&#45;&gt;41</title>\n<path fill=\"none\" stroke=\"#000000\" d=\"M1816,-1174.8796C1816,-1166.6838 1816,-1157.9891 1816,-1149.5013\"/>\n<polygon fill=\"#000000\" stroke=\"#000000\" points=\"1819.5001,-1149.298 1816,-1139.2981 1812.5001,-1149.2981 1819.5001,-1149.298\"/>\n</g>\n<!-- 42 -->\n<g id=\"node43\" class=\"node\">\n<title>42</title>\n<path fill=\"#e58139\" stroke=\"#000000\" d=\"M1705.5,-1012.5C1705.5,-1012.5 1574.5,-1012.5 1574.5,-1012.5 1568.5,-1012.5 1562.5,-1006.5 1562.5,-1000.5 1562.5,-1000.5 1562.5,-956.5 1562.5,-956.5 1562.5,-950.5 1568.5,-944.5 1574.5,-944.5 1574.5,-944.5 1705.5,-944.5 1705.5,-944.5 1711.5,-944.5 1717.5,-950.5 1717.5,-956.5 1717.5,-956.5 1717.5,-1000.5 1717.5,-1000.5 1717.5,-1006.5 1711.5,-1012.5 1705.5,-1012.5\"/>\n<text text-anchor=\"start\" x=\"1610.5\" y=\"-997.3\" font-family=\"Helvetica,sans-Serif\" font-size=\"14.00\" fill=\"#000000\">gini = 0.0</text>\n<text text-anchor=\"start\" x=\"1596\" y=\"-982.3\" font-family=\"Helvetica,sans-Serif\" font-size=\"14.00\" fill=\"#000000\">samples = 12</text>\n<text text-anchor=\"start\" x=\"1570.5\" y=\"-967.3\" font-family=\"Helvetica,sans-Serif\" font-size=\"14.00\" fill=\"#000000\">value = [12, 0, 0, 0, 0]</text>\n<text text-anchor=\"start\" x=\"1611\" y=\"-952.3\" font-family=\"Helvetica,sans-Serif\" font-size=\"14.00\" fill=\"#000000\">class = 0</text>\n</g>\n<!-- 41&#45;&gt;42 -->\n<g id=\"edge42\" class=\"edge\">\n<title>41&#45;&gt;42</title>\n<path fill=\"none\" stroke=\"#000000\" d=\"M1754.4437,-1055.8796C1736.4691,-1043.7263 1716.8718,-1030.4759 1699.0558,-1018.4297\"/>\n<polygon fill=\"#000000\" stroke=\"#000000\" points=\"1700.7123,-1015.3248 1690.4677,-1012.623 1696.7914,-1021.1237 1700.7123,-1015.3248\"/>\n</g>\n<!-- 43 -->\n<g id=\"node44\" class=\"node\">\n<title>43</title>\n<path fill=\"#f1ba93\" stroke=\"#000000\" d=\"M1878.5,-1020C1878.5,-1020 1747.5,-1020 1747.5,-1020 1741.5,-1020 1735.5,-1014 1735.5,-1008 1735.5,-1008 1735.5,-949 1735.5,-949 1735.5,-943 1741.5,-937 1747.5,-937 1747.5,-937 1878.5,-937 1878.5,-937 1884.5,-937 1890.5,-943 1890.5,-949 1890.5,-949 1890.5,-1008 1890.5,-1008 1890.5,-1014 1884.5,-1020 1878.5,-1020\"/>\n<text text-anchor=\"start\" x=\"1774.5\" y=\"-1004.8\" font-family=\"Helvetica,sans-Serif\" font-size=\"14.00\" fill=\"#000000\">age ≤ 0.561</text>\n<text text-anchor=\"start\" x=\"1779.5\" y=\"-989.8\" font-family=\"Helvetica,sans-Serif\" font-size=\"14.00\" fill=\"#000000\">gini = 0.48</text>\n<text text-anchor=\"start\" x=\"1769\" y=\"-974.8\" font-family=\"Helvetica,sans-Serif\" font-size=\"14.00\" fill=\"#000000\">samples = 15</text>\n<text text-anchor=\"start\" x=\"1743.5\" y=\"-959.8\" font-family=\"Helvetica,sans-Serif\" font-size=\"14.00\" fill=\"#000000\">value = [10, 4, 0, 1, 0]</text>\n<text text-anchor=\"start\" x=\"1784\" y=\"-944.8\" font-family=\"Helvetica,sans-Serif\" font-size=\"14.00\" fill=\"#000000\">class = 0</text>\n</g>\n<!-- 41&#45;&gt;43 -->\n<g id=\"edge43\" class=\"edge\">\n<title>41&#45;&gt;43</title>\n<path fill=\"none\" stroke=\"#000000\" d=\"M1814.9507,-1055.8796C1814.7441,-1047.6838 1814.5249,-1038.9891 1814.311,-1030.5013\"/>\n<polygon fill=\"#000000\" stroke=\"#000000\" points=\"1817.8047,-1030.2067 1814.0537,-1020.2981 1810.807,-1030.3831 1817.8047,-1030.2067\"/>\n</g>\n<!-- 44 -->\n<g id=\"node45\" class=\"node\">\n<title>44</title>\n<path fill=\"#a7ee7b\" stroke=\"#000000\" d=\"M1701,-901C1701,-901 1579,-901 1579,-901 1573,-901 1567,-895 1567,-889 1567,-889 1567,-830 1567,-830 1567,-824 1573,-818 1579,-818 1579,-818 1701,-818 1701,-818 1707,-818 1713,-824 1713,-830 1713,-830 1713,-889 1713,-889 1713,-895 1707,-901 1701,-901\"/>\n<text text-anchor=\"start\" x=\"1600.5\" y=\"-885.8\" font-family=\"Helvetica,sans-Serif\" font-size=\"14.00\" fill=\"#000000\">chol ≤ 0.596</text>\n<text text-anchor=\"start\" x=\"1602\" y=\"-870.8\" font-family=\"Helvetica,sans-Serif\" font-size=\"14.00\" fill=\"#000000\">gini = 0.375</text>\n<text text-anchor=\"start\" x=\"1600.5\" y=\"-855.8\" font-family=\"Helvetica,sans-Serif\" font-size=\"14.00\" fill=\"#000000\">samples = 4</text>\n<text text-anchor=\"start\" x=\"1575\" y=\"-840.8\" font-family=\"Helvetica,sans-Serif\" font-size=\"14.00\" fill=\"#000000\">value = [0, 3, 0, 1, 0]</text>\n<text text-anchor=\"start\" x=\"1611\" y=\"-825.8\" font-family=\"Helvetica,sans-Serif\" font-size=\"14.00\" fill=\"#000000\">class = 1</text>\n</g>\n<!-- 43&#45;&gt;44 -->\n<g id=\"edge44\" class=\"edge\">\n<title>43&#45;&gt;44</title>\n<path fill=\"none\" stroke=\"#000000\" d=\"M1752.493,-936.8796C1738.4018,-927.1868 1723.2961,-916.7961 1708.8731,-906.8752\"/>\n<polygon fill=\"#000000\" stroke=\"#000000\" points=\"1710.6955,-903.8806 1700.4728,-901.0969 1706.7283,-909.6479 1710.6955,-903.8806\"/>\n</g>\n<!-- 47 -->\n<g id=\"node48\" class=\"node\">\n<title>47</title>\n<path fill=\"#e88e4d\" stroke=\"#000000\" d=\"M1874.5,-901C1874.5,-901 1743.5,-901 1743.5,-901 1737.5,-901 1731.5,-895 1731.5,-889 1731.5,-889 1731.5,-830 1731.5,-830 1731.5,-824 1737.5,-818 1743.5,-818 1743.5,-818 1874.5,-818 1874.5,-818 1880.5,-818 1886.5,-824 1886.5,-830 1886.5,-830 1886.5,-889 1886.5,-889 1886.5,-895 1880.5,-901 1874.5,-901\"/>\n<text text-anchor=\"start\" x=\"1769\" y=\"-885.8\" font-family=\"Helvetica,sans-Serif\" font-size=\"14.00\" fill=\"#000000\">sex ≤ &#45;0.386</text>\n<text text-anchor=\"start\" x=\"1771\" y=\"-870.8\" font-family=\"Helvetica,sans-Serif\" font-size=\"14.00\" fill=\"#000000\">gini = 0.165</text>\n<text text-anchor=\"start\" x=\"1765\" y=\"-855.8\" font-family=\"Helvetica,sans-Serif\" font-size=\"14.00\" fill=\"#000000\">samples = 11</text>\n<text text-anchor=\"start\" x=\"1739.5\" y=\"-840.8\" font-family=\"Helvetica,sans-Serif\" font-size=\"14.00\" fill=\"#000000\">value = [10, 1, 0, 0, 0]</text>\n<text text-anchor=\"start\" x=\"1780\" y=\"-825.8\" font-family=\"Helvetica,sans-Serif\" font-size=\"14.00\" fill=\"#000000\">class = 0</text>\n</g>\n<!-- 43&#45;&gt;47 -->\n<g id=\"edge47\" class=\"edge\">\n<title>43&#45;&gt;47</title>\n<path fill=\"none\" stroke=\"#000000\" d=\"M1811.601,-936.8796C1811.3255,-928.6838 1811.0332,-919.9891 1810.7479,-911.5013\"/>\n<polygon fill=\"#000000\" stroke=\"#000000\" points=\"1814.239,-911.1748 1810.405,-901.2981 1807.243,-911.41 1814.239,-911.1748\"/>\n</g>\n<!-- 45 -->\n<g id=\"node46\" class=\"node\">\n<title>45</title>\n<path fill=\"#7be539\" stroke=\"#000000\" d=\"M1540,-774.5C1540,-774.5 1418,-774.5 1418,-774.5 1412,-774.5 1406,-768.5 1406,-762.5 1406,-762.5 1406,-718.5 1406,-718.5 1406,-712.5 1412,-706.5 1418,-706.5 1418,-706.5 1540,-706.5 1540,-706.5 1546,-706.5 1552,-712.5 1552,-718.5 1552,-718.5 1552,-762.5 1552,-762.5 1552,-768.5 1546,-774.5 1540,-774.5\"/>\n<text text-anchor=\"start\" x=\"1449.5\" y=\"-759.3\" font-family=\"Helvetica,sans-Serif\" font-size=\"14.00\" fill=\"#000000\">gini = 0.0</text>\n<text text-anchor=\"start\" x=\"1439.5\" y=\"-744.3\" font-family=\"Helvetica,sans-Serif\" font-size=\"14.00\" fill=\"#000000\">samples = 3</text>\n<text text-anchor=\"start\" x=\"1414\" y=\"-729.3\" font-family=\"Helvetica,sans-Serif\" font-size=\"14.00\" fill=\"#000000\">value = [0, 3, 0, 0, 0]</text>\n<text text-anchor=\"start\" x=\"1450\" y=\"-714.3\" font-family=\"Helvetica,sans-Serif\" font-size=\"14.00\" fill=\"#000000\">class = 1</text>\n</g>\n<!-- 44&#45;&gt;45 -->\n<g id=\"edge45\" class=\"edge\">\n<title>44&#45;&gt;45</title>\n<path fill=\"none\" stroke=\"#000000\" d=\"M1583.69,-817.8796C1567.3968,-805.8368 1549.6461,-792.7167 1533.4675,-780.7586\"/>\n<polygon fill=\"#000000\" stroke=\"#000000\" points=\"1535.2886,-777.7524 1525.1665,-774.623 1531.1279,-783.3816 1535.2886,-777.7524\"/>\n</g>\n<!-- 46 -->\n<g id=\"node47\" class=\"node\">\n<title>46</title>\n<path fill=\"#3c39e5\" stroke=\"#000000\" d=\"M1704,-774.5C1704,-774.5 1582,-774.5 1582,-774.5 1576,-774.5 1570,-768.5 1570,-762.5 1570,-762.5 1570,-718.5 1570,-718.5 1570,-712.5 1576,-706.5 1582,-706.5 1582,-706.5 1704,-706.5 1704,-706.5 1710,-706.5 1716,-712.5 1716,-718.5 1716,-718.5 1716,-762.5 1716,-762.5 1716,-768.5 1710,-774.5 1704,-774.5\"/>\n<text text-anchor=\"start\" x=\"1613.5\" y=\"-759.3\" font-family=\"Helvetica,sans-Serif\" font-size=\"14.00\" fill=\"#000000\">gini = 0.0</text>\n<text text-anchor=\"start\" x=\"1603.5\" y=\"-744.3\" font-family=\"Helvetica,sans-Serif\" font-size=\"14.00\" fill=\"#000000\">samples = 1</text>\n<text text-anchor=\"start\" x=\"1578\" y=\"-729.3\" font-family=\"Helvetica,sans-Serif\" font-size=\"14.00\" fill=\"#000000\">value = [0, 0, 0, 1, 0]</text>\n<text text-anchor=\"start\" x=\"1614\" y=\"-714.3\" font-family=\"Helvetica,sans-Serif\" font-size=\"14.00\" fill=\"#000000\">class = 3</text>\n</g>\n<!-- 44&#45;&gt;46 -->\n<g id=\"edge46\" class=\"edge\">\n<title>44&#45;&gt;46</title>\n<path fill=\"none\" stroke=\"#000000\" d=\"M1641.0493,-817.8796C1641.3182,-807.2134 1641.6084,-795.7021 1641.8806,-784.9015\"/>\n<polygon fill=\"#000000\" stroke=\"#000000\" points=\"1645.3817,-784.9 1642.1349,-774.8149 1638.3839,-784.7235 1645.3817,-784.9\"/>\n</g>\n<!-- 48 -->\n<g id=\"node49\" class=\"node\">\n<title>48</title>\n<path fill=\"#e58139\" stroke=\"#000000\" d=\"M1869,-774.5C1869,-774.5 1747,-774.5 1747,-774.5 1741,-774.5 1735,-768.5 1735,-762.5 1735,-762.5 1735,-718.5 1735,-718.5 1735,-712.5 1741,-706.5 1747,-706.5 1747,-706.5 1869,-706.5 1869,-706.5 1875,-706.5 1881,-712.5 1881,-718.5 1881,-718.5 1881,-762.5 1881,-762.5 1881,-768.5 1875,-774.5 1869,-774.5\"/>\n<text text-anchor=\"start\" x=\"1778.5\" y=\"-759.3\" font-family=\"Helvetica,sans-Serif\" font-size=\"14.00\" fill=\"#000000\">gini = 0.0</text>\n<text text-anchor=\"start\" x=\"1768.5\" y=\"-744.3\" font-family=\"Helvetica,sans-Serif\" font-size=\"14.00\" fill=\"#000000\">samples = 9</text>\n<text text-anchor=\"start\" x=\"1743\" y=\"-729.3\" font-family=\"Helvetica,sans-Serif\" font-size=\"14.00\" fill=\"#000000\">value = [9, 0, 0, 0, 0]</text>\n<text text-anchor=\"start\" x=\"1779\" y=\"-714.3\" font-family=\"Helvetica,sans-Serif\" font-size=\"14.00\" fill=\"#000000\">class = 0</text>\n</g>\n<!-- 47&#45;&gt;48 -->\n<g id=\"edge48\" class=\"edge\">\n<title>47&#45;&gt;48</title>\n<path fill=\"none\" stroke=\"#000000\" d=\"M1808.6502,-817.8796C1808.5606,-807.2134 1808.4639,-795.7021 1808.3731,-784.9015\"/>\n<polygon fill=\"#000000\" stroke=\"#000000\" points=\"1811.8724,-784.7851 1808.2884,-774.8149 1804.8726,-784.844 1811.8724,-784.7851\"/>\n</g>\n<!-- 49 -->\n<g id=\"node50\" class=\"node\">\n<title>49</title>\n<path fill=\"#ffffff\" stroke=\"#000000\" d=\"M2033,-782C2033,-782 1911,-782 1911,-782 1905,-782 1899,-776 1899,-770 1899,-770 1899,-711 1899,-711 1899,-705 1905,-699 1911,-699 1911,-699 2033,-699 2033,-699 2039,-699 2045,-705 2045,-711 2045,-711 2045,-770 2045,-770 2045,-776 2039,-782 2033,-782\"/>\n<text text-anchor=\"start\" x=\"1920\" y=\"-766.8\" font-family=\"Helvetica,sans-Serif\" font-size=\"14.00\" fill=\"#000000\">trestbps ≤ 0.985</text>\n<text text-anchor=\"start\" x=\"1942.5\" y=\"-751.8\" font-family=\"Helvetica,sans-Serif\" font-size=\"14.00\" fill=\"#000000\">gini = 0.5</text>\n<text text-anchor=\"start\" x=\"1932.5\" y=\"-736.8\" font-family=\"Helvetica,sans-Serif\" font-size=\"14.00\" fill=\"#000000\">samples = 2</text>\n<text text-anchor=\"start\" x=\"1907\" y=\"-721.8\" font-family=\"Helvetica,sans-Serif\" font-size=\"14.00\" fill=\"#000000\">value = [1, 1, 0, 0, 0]</text>\n<text text-anchor=\"start\" x=\"1943\" y=\"-706.8\" font-family=\"Helvetica,sans-Serif\" font-size=\"14.00\" fill=\"#000000\">class = 0</text>\n</g>\n<!-- 47&#45;&gt;49 -->\n<g id=\"edge49\" class=\"edge\">\n<title>47&#45;&gt;49</title>\n<path fill=\"none\" stroke=\"#000000\" d=\"M1866.0095,-817.8796C1879.1621,-808.2774 1893.2528,-797.9903 1906.7268,-788.1534\"/>\n<polygon fill=\"#000000\" stroke=\"#000000\" points=\"1909.0098,-790.8202 1915.0227,-782.0969 1904.8823,-785.1666 1909.0098,-790.8202\"/>\n</g>\n<!-- 50 -->\n<g id=\"node51\" class=\"node\">\n<title>50</title>\n<path fill=\"#7be539\" stroke=\"#000000\" d=\"M1951,-655.5C1951,-655.5 1829,-655.5 1829,-655.5 1823,-655.5 1817,-649.5 1817,-643.5 1817,-643.5 1817,-599.5 1817,-599.5 1817,-593.5 1823,-587.5 1829,-587.5 1829,-587.5 1951,-587.5 1951,-587.5 1957,-587.5 1963,-593.5 1963,-599.5 1963,-599.5 1963,-643.5 1963,-643.5 1963,-649.5 1957,-655.5 1951,-655.5\"/>\n<text text-anchor=\"start\" x=\"1860.5\" y=\"-640.3\" font-family=\"Helvetica,sans-Serif\" font-size=\"14.00\" fill=\"#000000\">gini = 0.0</text>\n<text text-anchor=\"start\" x=\"1850.5\" y=\"-625.3\" font-family=\"Helvetica,sans-Serif\" font-size=\"14.00\" fill=\"#000000\">samples = 1</text>\n<text text-anchor=\"start\" x=\"1825\" y=\"-610.3\" font-family=\"Helvetica,sans-Serif\" font-size=\"14.00\" fill=\"#000000\">value = [0, 1, 0, 0, 0]</text>\n<text text-anchor=\"start\" x=\"1861\" y=\"-595.3\" font-family=\"Helvetica,sans-Serif\" font-size=\"14.00\" fill=\"#000000\">class = 1</text>\n</g>\n<!-- 49&#45;&gt;50 -->\n<g id=\"edge50\" class=\"edge\">\n<title>49&#45;&gt;50</title>\n<path fill=\"none\" stroke=\"#000000\" d=\"M1943.3204,-698.8796C1935.5917,-687.6636 1927.2191,-675.5131 1919.4492,-664.2372\"/>\n<polygon fill=\"#000000\" stroke=\"#000000\" points=\"1922.2018,-662.0634 1913.6456,-655.8149 1916.4377,-666.0353 1922.2018,-662.0634\"/>\n</g>\n<!-- 51 -->\n<g id=\"node52\" class=\"node\">\n<title>51</title>\n<path fill=\"#e58139\" stroke=\"#000000\" d=\"M2115,-655.5C2115,-655.5 1993,-655.5 1993,-655.5 1987,-655.5 1981,-649.5 1981,-643.5 1981,-643.5 1981,-599.5 1981,-599.5 1981,-593.5 1987,-587.5 1993,-587.5 1993,-587.5 2115,-587.5 2115,-587.5 2121,-587.5 2127,-593.5 2127,-599.5 2127,-599.5 2127,-643.5 2127,-643.5 2127,-649.5 2121,-655.5 2115,-655.5\"/>\n<text text-anchor=\"start\" x=\"2024.5\" y=\"-640.3\" font-family=\"Helvetica,sans-Serif\" font-size=\"14.00\" fill=\"#000000\">gini = 0.0</text>\n<text text-anchor=\"start\" x=\"2014.5\" y=\"-625.3\" font-family=\"Helvetica,sans-Serif\" font-size=\"14.00\" fill=\"#000000\">samples = 1</text>\n<text text-anchor=\"start\" x=\"1989\" y=\"-610.3\" font-family=\"Helvetica,sans-Serif\" font-size=\"14.00\" fill=\"#000000\">value = [1, 0, 0, 0, 0]</text>\n<text text-anchor=\"start\" x=\"2025\" y=\"-595.3\" font-family=\"Helvetica,sans-Serif\" font-size=\"14.00\" fill=\"#000000\">class = 0</text>\n</g>\n<!-- 49&#45;&gt;51 -->\n<g id=\"edge51\" class=\"edge\">\n<title>49&#45;&gt;51</title>\n<path fill=\"none\" stroke=\"#000000\" d=\"M2000.6796,-698.8796C2008.4083,-687.6636 2016.7809,-675.5131 2024.5508,-664.2372\"/>\n<polygon fill=\"#000000\" stroke=\"#000000\" points=\"2027.5623,-666.0353 2030.3544,-655.8149 2021.7982,-662.0634 2027.5623,-666.0353\"/>\n</g>\n<!-- 54 -->\n<g id=\"node55\" class=\"node\">\n<title>54</title>\n<path fill=\"#ecfbe3\" stroke=\"#000000\" d=\"M2272,-1258C2272,-1258 2150,-1258 2150,-1258 2144,-1258 2138,-1252 2138,-1246 2138,-1246 2138,-1187 2138,-1187 2138,-1181 2144,-1175 2150,-1175 2150,-1175 2272,-1175 2272,-1175 2278,-1175 2284,-1181 2284,-1187 2284,-1187 2284,-1246 2284,-1246 2284,-1252 2278,-1258 2272,-1258\"/>\n<text text-anchor=\"start\" x=\"2171\" y=\"-1242.8\" font-family=\"Helvetica,sans-Serif\" font-size=\"14.00\" fill=\"#000000\">sex ≤ &#45;0.386</text>\n<text text-anchor=\"start\" x=\"2173\" y=\"-1227.8\" font-family=\"Helvetica,sans-Serif\" font-size=\"14.00\" fill=\"#000000\">gini = 0.772</text>\n<text text-anchor=\"start\" x=\"2167\" y=\"-1212.8\" font-family=\"Helvetica,sans-Serif\" font-size=\"14.00\" fill=\"#000000\">samples = 18</text>\n<text text-anchor=\"start\" x=\"2146\" y=\"-1197.8\" font-family=\"Helvetica,sans-Serif\" font-size=\"14.00\" fill=\"#000000\">value = [3, 6, 4, 3, 2]</text>\n<text text-anchor=\"start\" x=\"2182\" y=\"-1182.8\" font-family=\"Helvetica,sans-Serif\" font-size=\"14.00\" fill=\"#000000\">class = 1</text>\n</g>\n<!-- 53&#45;&gt;54 -->\n<g id=\"edge54\" class=\"edge\">\n<title>53&#45;&gt;54</title>\n<path fill=\"none\" stroke=\"#000000\" d=\"M2211,-1293.8796C2211,-1285.6838 2211,-1276.9891 2211,-1268.5013\"/>\n<polygon fill=\"#000000\" stroke=\"#000000\" points=\"2214.5001,-1268.298 2211,-1258.2981 2207.5001,-1268.2981 2214.5001,-1268.298\"/>\n</g>\n<!-- 75 -->\n<g id=\"node76\" class=\"node\">\n<title>75</title>\n<path fill=\"#3c39e5\" stroke=\"#000000\" d=\"M2436,-1250.5C2436,-1250.5 2314,-1250.5 2314,-1250.5 2308,-1250.5 2302,-1244.5 2302,-1238.5 2302,-1238.5 2302,-1194.5 2302,-1194.5 2302,-1188.5 2308,-1182.5 2314,-1182.5 2314,-1182.5 2436,-1182.5 2436,-1182.5 2442,-1182.5 2448,-1188.5 2448,-1194.5 2448,-1194.5 2448,-1238.5 2448,-1238.5 2448,-1244.5 2442,-1250.5 2436,-1250.5\"/>\n<text text-anchor=\"start\" x=\"2345.5\" y=\"-1235.3\" font-family=\"Helvetica,sans-Serif\" font-size=\"14.00\" fill=\"#000000\">gini = 0.0</text>\n<text text-anchor=\"start\" x=\"2335.5\" y=\"-1220.3\" font-family=\"Helvetica,sans-Serif\" font-size=\"14.00\" fill=\"#000000\">samples = 2</text>\n<text text-anchor=\"start\" x=\"2310\" y=\"-1205.3\" font-family=\"Helvetica,sans-Serif\" font-size=\"14.00\" fill=\"#000000\">value = [0, 0, 0, 2, 0]</text>\n<text text-anchor=\"start\" x=\"2346\" y=\"-1190.3\" font-family=\"Helvetica,sans-Serif\" font-size=\"14.00\" fill=\"#000000\">class = 3</text>\n</g>\n<!-- 53&#45;&gt;75 -->\n<g id=\"edge75\" class=\"edge\">\n<title>53&#45;&gt;75</title>\n<path fill=\"none\" stroke=\"#000000\" d=\"M2268.3592,-1293.8796C2284.9561,-1281.8368 2303.0375,-1268.7167 2319.5176,-1256.7586\"/>\n<polygon fill=\"#000000\" stroke=\"#000000\" points=\"2321.9351,-1259.3288 2327.9733,-1250.623 2317.824,-1253.6632 2321.9351,-1259.3288\"/>\n</g>\n<!-- 55 -->\n<g id=\"node56\" class=\"node\">\n<title>55</title>\n<path fill=\"#f2c09c\" stroke=\"#000000\" d=\"M2272,-1139C2272,-1139 2150,-1139 2150,-1139 2144,-1139 2138,-1133 2138,-1127 2138,-1127 2138,-1068 2138,-1068 2138,-1062 2144,-1056 2150,-1056 2150,-1056 2272,-1056 2272,-1056 2278,-1056 2284,-1062 2284,-1068 2284,-1068 2284,-1127 2284,-1127 2284,-1133 2278,-1139 2272,-1139\"/>\n<text text-anchor=\"start\" x=\"2164.5\" y=\"-1123.8\" font-family=\"Helvetica,sans-Serif\" font-size=\"14.00\" fill=\"#000000\">exang ≤ 0.369</text>\n<text text-anchor=\"start\" x=\"2177.5\" y=\"-1108.8\" font-family=\"Helvetica,sans-Serif\" font-size=\"14.00\" fill=\"#000000\">gini = 0.56</text>\n<text text-anchor=\"start\" x=\"2171.5\" y=\"-1093.8\" font-family=\"Helvetica,sans-Serif\" font-size=\"14.00\" fill=\"#000000\">samples = 5</text>\n<text text-anchor=\"start\" x=\"2146\" y=\"-1078.8\" font-family=\"Helvetica,sans-Serif\" font-size=\"14.00\" fill=\"#000000\">value = [3, 1, 1, 0, 0]</text>\n<text text-anchor=\"start\" x=\"2182\" y=\"-1063.8\" font-family=\"Helvetica,sans-Serif\" font-size=\"14.00\" fill=\"#000000\">class = 0</text>\n</g>\n<!-- 54&#45;&gt;55 -->\n<g id=\"edge55\" class=\"edge\">\n<title>54&#45;&gt;55</title>\n<path fill=\"none\" stroke=\"#000000\" d=\"M2211,-1174.8796C2211,-1166.6838 2211,-1157.9891 2211,-1149.5013\"/>\n<polygon fill=\"#000000\" stroke=\"#000000\" points=\"2214.5001,-1149.298 2211,-1139.2981 2207.5001,-1149.2981 2214.5001,-1149.298\"/>\n</g>\n<!-- 60 -->\n<g id=\"node61\" class=\"node\">\n<title>60</title>\n<path fill=\"#e5fad7\" stroke=\"#000000\" d=\"M2515,-1139C2515,-1139 2393,-1139 2393,-1139 2387,-1139 2381,-1133 2381,-1127 2381,-1127 2381,-1068 2381,-1068 2381,-1062 2387,-1056 2393,-1056 2393,-1056 2515,-1056 2515,-1056 2521,-1056 2527,-1062 2527,-1068 2527,-1068 2527,-1127 2527,-1127 2527,-1133 2521,-1139 2515,-1139\"/>\n<text text-anchor=\"start\" x=\"2413\" y=\"-1123.8\" font-family=\"Helvetica,sans-Serif\" font-size=\"14.00\" fill=\"#000000\">age ≤ &#45;0.159</text>\n<text text-anchor=\"start\" x=\"2416\" y=\"-1108.8\" font-family=\"Helvetica,sans-Serif\" font-size=\"14.00\" fill=\"#000000\">gini = 0.722</text>\n<text text-anchor=\"start\" x=\"2410\" y=\"-1093.8\" font-family=\"Helvetica,sans-Serif\" font-size=\"14.00\" fill=\"#000000\">samples = 13</text>\n<text text-anchor=\"start\" x=\"2389\" y=\"-1078.8\" font-family=\"Helvetica,sans-Serif\" font-size=\"14.00\" fill=\"#000000\">value = [0, 5, 3, 3, 2]</text>\n<text text-anchor=\"start\" x=\"2425\" y=\"-1063.8\" font-family=\"Helvetica,sans-Serif\" font-size=\"14.00\" fill=\"#000000\">class = 1</text>\n</g>\n<!-- 54&#45;&gt;60 -->\n<g id=\"edge60\" class=\"edge\">\n<title>54&#45;&gt;60</title>\n<path fill=\"none\" stroke=\"#000000\" d=\"M2284.2814,-1179.3218C2287.2238,-1177.8578 2290.1386,-1176.4126 2293,-1175 2318.5171,-1162.403 2346.42,-1148.8825 2371.7224,-1136.7179\"/>\n<polygon fill=\"#000000\" stroke=\"#000000\" points=\"2373.4184,-1139.7861 2380.9174,-1132.3017 2370.3879,-1133.4761 2373.4184,-1139.7861\"/>\n</g>\n<!-- 56 -->\n<g id=\"node57\" class=\"node\">\n<title>56</title>\n<path fill=\"#eeab7b\" stroke=\"#000000\" d=\"M2147,-1020C2147,-1020 2025,-1020 2025,-1020 2019,-1020 2013,-1014 2013,-1008 2013,-1008 2013,-949 2013,-949 2013,-943 2019,-937 2025,-937 2025,-937 2147,-937 2147,-937 2153,-937 2159,-943 2159,-949 2159,-949 2159,-1008 2159,-1008 2159,-1014 2153,-1020 2147,-1020\"/>\n<text text-anchor=\"start\" x=\"2050\" y=\"-1004.8\" font-family=\"Helvetica,sans-Serif\" font-size=\"14.00\" fill=\"#000000\">fbs ≤ 0.988</text>\n<text text-anchor=\"start\" x=\"2048\" y=\"-989.8\" font-family=\"Helvetica,sans-Serif\" font-size=\"14.00\" fill=\"#000000\">gini = 0.375</text>\n<text text-anchor=\"start\" x=\"2046.5\" y=\"-974.8\" font-family=\"Helvetica,sans-Serif\" font-size=\"14.00\" fill=\"#000000\">samples = 4</text>\n<text text-anchor=\"start\" x=\"2021\" y=\"-959.8\" font-family=\"Helvetica,sans-Serif\" font-size=\"14.00\" fill=\"#000000\">value = [3, 0, 1, 0, 0]</text>\n<text text-anchor=\"start\" x=\"2057\" y=\"-944.8\" font-family=\"Helvetica,sans-Serif\" font-size=\"14.00\" fill=\"#000000\">class = 0</text>\n</g>\n<!-- 55&#45;&gt;56 -->\n<g id=\"edge56\" class=\"edge\">\n<title>55&#45;&gt;56</title>\n<path fill=\"none\" stroke=\"#000000\" d=\"M2167.2811,-1055.8796C2157.6314,-1046.6931 2147.3234,-1036.8798 2137.4009,-1027.4336\"/>\n<polygon fill=\"#000000\" stroke=\"#000000\" points=\"2139.5616,-1024.6582 2129.9055,-1020.2981 2134.735,-1029.7282 2139.5616,-1024.6582\"/>\n</g>\n<!-- 59 -->\n<g id=\"node60\" class=\"node\">\n<title>59</title>\n<path fill=\"#7be539\" stroke=\"#000000\" d=\"M2311,-1012.5C2311,-1012.5 2189,-1012.5 2189,-1012.5 2183,-1012.5 2177,-1006.5 2177,-1000.5 2177,-1000.5 2177,-956.5 2177,-956.5 2177,-950.5 2183,-944.5 2189,-944.5 2189,-944.5 2311,-944.5 2311,-944.5 2317,-944.5 2323,-950.5 2323,-956.5 2323,-956.5 2323,-1000.5 2323,-1000.5 2323,-1006.5 2317,-1012.5 2311,-1012.5\"/>\n<text text-anchor=\"start\" x=\"2220.5\" y=\"-997.3\" font-family=\"Helvetica,sans-Serif\" font-size=\"14.00\" fill=\"#000000\">gini = 0.0</text>\n<text text-anchor=\"start\" x=\"2210.5\" y=\"-982.3\" font-family=\"Helvetica,sans-Serif\" font-size=\"14.00\" fill=\"#000000\">samples = 1</text>\n<text text-anchor=\"start\" x=\"2185\" y=\"-967.3\" font-family=\"Helvetica,sans-Serif\" font-size=\"14.00\" fill=\"#000000\">value = [0, 1, 0, 0, 0]</text>\n<text text-anchor=\"start\" x=\"2221\" y=\"-952.3\" font-family=\"Helvetica,sans-Serif\" font-size=\"14.00\" fill=\"#000000\">class = 1</text>\n</g>\n<!-- 55&#45;&gt;59 -->\n<g id=\"edge59\" class=\"edge\">\n<title>55&#45;&gt;59</title>\n<path fill=\"none\" stroke=\"#000000\" d=\"M2224.6403,-1055.8796C2228.172,-1045.1034 2231.9864,-1033.4647 2235.5576,-1022.5677\"/>\n<polygon fill=\"#000000\" stroke=\"#000000\" points=\"2238.9655,-1023.4077 2238.7539,-1012.8149 2232.3136,-1021.2276 2238.9655,-1023.4077\"/>\n</g>\n<!-- 57 -->\n<g id=\"node58\" class=\"node\">\n<title>57</title>\n<path fill=\"#e58139\" stroke=\"#000000\" d=\"M2039,-893.5C2039,-893.5 1917,-893.5 1917,-893.5 1911,-893.5 1905,-887.5 1905,-881.5 1905,-881.5 1905,-837.5 1905,-837.5 1905,-831.5 1911,-825.5 1917,-825.5 1917,-825.5 2039,-825.5 2039,-825.5 2045,-825.5 2051,-831.5 2051,-837.5 2051,-837.5 2051,-881.5 2051,-881.5 2051,-887.5 2045,-893.5 2039,-893.5\"/>\n<text text-anchor=\"start\" x=\"1948.5\" y=\"-878.3\" font-family=\"Helvetica,sans-Serif\" font-size=\"14.00\" fill=\"#000000\">gini = 0.0</text>\n<text text-anchor=\"start\" x=\"1938.5\" y=\"-863.3\" font-family=\"Helvetica,sans-Serif\" font-size=\"14.00\" fill=\"#000000\">samples = 3</text>\n<text text-anchor=\"start\" x=\"1913\" y=\"-848.3\" font-family=\"Helvetica,sans-Serif\" font-size=\"14.00\" fill=\"#000000\">value = [3, 0, 0, 0, 0]</text>\n<text text-anchor=\"start\" x=\"1949\" y=\"-833.3\" font-family=\"Helvetica,sans-Serif\" font-size=\"14.00\" fill=\"#000000\">class = 0</text>\n</g>\n<!-- 56&#45;&gt;57 -->\n<g id=\"edge57\" class=\"edge\">\n<title>56&#45;&gt;57</title>\n<path fill=\"none\" stroke=\"#000000\" d=\"M2048.2268,-936.8796C2037.7482,-925.3337 2026.3709,-912.7976 2015.8859,-901.2446\"/>\n<polygon fill=\"#000000\" stroke=\"#000000\" points=\"2018.4553,-898.8678 2009.143,-893.8149 2013.2718,-903.5722 2018.4553,-898.8678\"/>\n</g>\n<!-- 58 -->\n<g id=\"node59\" class=\"node\">\n<title>58</title>\n<path fill=\"#39e5c5\" stroke=\"#000000\" d=\"M2203,-893.5C2203,-893.5 2081,-893.5 2081,-893.5 2075,-893.5 2069,-887.5 2069,-881.5 2069,-881.5 2069,-837.5 2069,-837.5 2069,-831.5 2075,-825.5 2081,-825.5 2081,-825.5 2203,-825.5 2203,-825.5 2209,-825.5 2215,-831.5 2215,-837.5 2215,-837.5 2215,-881.5 2215,-881.5 2215,-887.5 2209,-893.5 2203,-893.5\"/>\n<text text-anchor=\"start\" x=\"2112.5\" y=\"-878.3\" font-family=\"Helvetica,sans-Serif\" font-size=\"14.00\" fill=\"#000000\">gini = 0.0</text>\n<text text-anchor=\"start\" x=\"2102.5\" y=\"-863.3\" font-family=\"Helvetica,sans-Serif\" font-size=\"14.00\" fill=\"#000000\">samples = 1</text>\n<text text-anchor=\"start\" x=\"2077\" y=\"-848.3\" font-family=\"Helvetica,sans-Serif\" font-size=\"14.00\" fill=\"#000000\">value = [0, 0, 1, 0, 0]</text>\n<text text-anchor=\"start\" x=\"2113\" y=\"-833.3\" font-family=\"Helvetica,sans-Serif\" font-size=\"14.00\" fill=\"#000000\">class = 2</text>\n</g>\n<!-- 56&#45;&gt;58 -->\n<g id=\"edge58\" class=\"edge\">\n<title>56&#45;&gt;58</title>\n<path fill=\"none\" stroke=\"#000000\" d=\"M2105.5861,-936.8796C2110.7607,-925.8835 2116.358,-913.9893 2121.5758,-902.9015\"/>\n<polygon fill=\"#000000\" stroke=\"#000000\" points=\"2124.7606,-904.3534 2125.8518,-893.8149 2118.4269,-901.3728 2124.7606,-904.3534\"/>\n</g>\n<!-- 61 -->\n<g id=\"node62\" class=\"node\">\n<title>61</title>\n<path fill=\"#a7ee7b\" stroke=\"#000000\" d=\"M2515,-1020C2515,-1020 2393,-1020 2393,-1020 2387,-1020 2381,-1014 2381,-1008 2381,-1008 2381,-949 2381,-949 2381,-943 2387,-937 2393,-937 2393,-937 2515,-937 2515,-937 2521,-937 2527,-943 2527,-949 2527,-949 2527,-1008 2527,-1008 2527,-1014 2521,-1020 2515,-1020\"/>\n<text text-anchor=\"start\" x=\"2414.5\" y=\"-1004.8\" font-family=\"Helvetica,sans-Serif\" font-size=\"14.00\" fill=\"#000000\">chol ≤ 0.693</text>\n<text text-anchor=\"start\" x=\"2416\" y=\"-989.8\" font-family=\"Helvetica,sans-Serif\" font-size=\"14.00\" fill=\"#000000\">gini = 0.375</text>\n<text text-anchor=\"start\" x=\"2414.5\" y=\"-974.8\" font-family=\"Helvetica,sans-Serif\" font-size=\"14.00\" fill=\"#000000\">samples = 4</text>\n<text text-anchor=\"start\" x=\"2389\" y=\"-959.8\" font-family=\"Helvetica,sans-Serif\" font-size=\"14.00\" fill=\"#000000\">value = [0, 3, 1, 0, 0]</text>\n<text text-anchor=\"start\" x=\"2425\" y=\"-944.8\" font-family=\"Helvetica,sans-Serif\" font-size=\"14.00\" fill=\"#000000\">class = 1</text>\n</g>\n<!-- 60&#45;&gt;61 -->\n<g id=\"edge61\" class=\"edge\">\n<title>60&#45;&gt;61</title>\n<path fill=\"none\" stroke=\"#000000\" d=\"M2454,-1055.8796C2454,-1047.6838 2454,-1038.9891 2454,-1030.5013\"/>\n<polygon fill=\"#000000\" stroke=\"#000000\" points=\"2457.5001,-1030.298 2454,-1020.2981 2450.5001,-1030.2981 2457.5001,-1030.298\"/>\n</g>\n<!-- 64 -->\n<g id=\"node65\" class=\"node\">\n<title>64</title>\n<path fill=\"#e3e3fb\" stroke=\"#000000\" d=\"M2695,-1020C2695,-1020 2573,-1020 2573,-1020 2567,-1020 2561,-1014 2561,-1008 2561,-1008 2561,-949 2561,-949 2561,-943 2567,-937 2573,-937 2573,-937 2695,-937 2695,-937 2701,-937 2707,-943 2707,-949 2707,-949 2707,-1008 2707,-1008 2707,-1014 2701,-1020 2695,-1020\"/>\n<text text-anchor=\"start\" x=\"2579.5\" y=\"-1004.8\" font-family=\"Helvetica,sans-Serif\" font-size=\"14.00\" fill=\"#000000\">trestbps ≤ &#45;0.466</text>\n<text text-anchor=\"start\" x=\"2596\" y=\"-989.8\" font-family=\"Helvetica,sans-Serif\" font-size=\"14.00\" fill=\"#000000\">gini = 0.741</text>\n<text text-anchor=\"start\" x=\"2594.5\" y=\"-974.8\" font-family=\"Helvetica,sans-Serif\" font-size=\"14.00\" fill=\"#000000\">samples = 9</text>\n<text text-anchor=\"start\" x=\"2569\" y=\"-959.8\" font-family=\"Helvetica,sans-Serif\" font-size=\"14.00\" fill=\"#000000\">value = [0, 2, 2, 3, 2]</text>\n<text text-anchor=\"start\" x=\"2605\" y=\"-944.8\" font-family=\"Helvetica,sans-Serif\" font-size=\"14.00\" fill=\"#000000\">class = 3</text>\n</g>\n<!-- 60&#45;&gt;64 -->\n<g id=\"edge64\" class=\"edge\">\n<title>60&#45;&gt;64</title>\n<path fill=\"none\" stroke=\"#000000\" d=\"M2516.9553,-1055.8796C2531.6166,-1046.1868 2547.3336,-1035.7961 2562.3401,-1025.8752\"/>\n<polygon fill=\"#000000\" stroke=\"#000000\" points=\"2564.6687,-1028.5315 2571.0803,-1020.0969 2560.8082,-1022.6922 2564.6687,-1028.5315\"/>\n</g>\n<!-- 62 -->\n<g id=\"node63\" class=\"node\">\n<title>62</title>\n<path fill=\"#7be539\" stroke=\"#000000\" d=\"M2367,-893.5C2367,-893.5 2245,-893.5 2245,-893.5 2239,-893.5 2233,-887.5 2233,-881.5 2233,-881.5 2233,-837.5 2233,-837.5 2233,-831.5 2239,-825.5 2245,-825.5 2245,-825.5 2367,-825.5 2367,-825.5 2373,-825.5 2379,-831.5 2379,-837.5 2379,-837.5 2379,-881.5 2379,-881.5 2379,-887.5 2373,-893.5 2367,-893.5\"/>\n<text text-anchor=\"start\" x=\"2276.5\" y=\"-878.3\" font-family=\"Helvetica,sans-Serif\" font-size=\"14.00\" fill=\"#000000\">gini = 0.0</text>\n<text text-anchor=\"start\" x=\"2266.5\" y=\"-863.3\" font-family=\"Helvetica,sans-Serif\" font-size=\"14.00\" fill=\"#000000\">samples = 3</text>\n<text text-anchor=\"start\" x=\"2241\" y=\"-848.3\" font-family=\"Helvetica,sans-Serif\" font-size=\"14.00\" fill=\"#000000\">value = [0, 3, 0, 0, 0]</text>\n<text text-anchor=\"start\" x=\"2277\" y=\"-833.3\" font-family=\"Helvetica,sans-Serif\" font-size=\"14.00\" fill=\"#000000\">class = 1</text>\n</g>\n<!-- 61&#45;&gt;62 -->\n<g id=\"edge62\" class=\"edge\">\n<title>61&#45;&gt;62</title>\n<path fill=\"none\" stroke=\"#000000\" d=\"M2402.2368,-936.8796C2387.4669,-925.0038 2371.3941,-912.0804 2356.6892,-900.2568\"/>\n<polygon fill=\"#000000\" stroke=\"#000000\" points=\"2358.6639,-897.3535 2348.6774,-893.8149 2354.2775,-902.8088 2358.6639,-897.3535\"/>\n</g>\n<!-- 63 -->\n<g id=\"node64\" class=\"node\">\n<title>63</title>\n<path fill=\"#39e5c5\" stroke=\"#000000\" d=\"M2531,-893.5C2531,-893.5 2409,-893.5 2409,-893.5 2403,-893.5 2397,-887.5 2397,-881.5 2397,-881.5 2397,-837.5 2397,-837.5 2397,-831.5 2403,-825.5 2409,-825.5 2409,-825.5 2531,-825.5 2531,-825.5 2537,-825.5 2543,-831.5 2543,-837.5 2543,-837.5 2543,-881.5 2543,-881.5 2543,-887.5 2537,-893.5 2531,-893.5\"/>\n<text text-anchor=\"start\" x=\"2440.5\" y=\"-878.3\" font-family=\"Helvetica,sans-Serif\" font-size=\"14.00\" fill=\"#000000\">gini = 0.0</text>\n<text text-anchor=\"start\" x=\"2430.5\" y=\"-863.3\" font-family=\"Helvetica,sans-Serif\" font-size=\"14.00\" fill=\"#000000\">samples = 1</text>\n<text text-anchor=\"start\" x=\"2405\" y=\"-848.3\" font-family=\"Helvetica,sans-Serif\" font-size=\"14.00\" fill=\"#000000\">value = [0, 0, 1, 0, 0]</text>\n<text text-anchor=\"start\" x=\"2441\" y=\"-833.3\" font-family=\"Helvetica,sans-Serif\" font-size=\"14.00\" fill=\"#000000\">class = 2</text>\n</g>\n<!-- 61&#45;&gt;63 -->\n<g id=\"edge63\" class=\"edge\">\n<title>61&#45;&gt;63</title>\n<path fill=\"none\" stroke=\"#000000\" d=\"M2459.596,-936.8796C2461.0301,-926.2134 2462.5779,-914.7021 2464.03,-903.9015\"/>\n<polygon fill=\"#000000\" stroke=\"#000000\" points=\"2467.5224,-904.1922 2465.3862,-893.8149 2460.5848,-903.2593 2467.5224,-904.1922\"/>\n</g>\n<!-- 65 -->\n<g id=\"node66\" class=\"node\">\n<title>65</title>\n<path fill=\"#7d7bee\" stroke=\"#000000\" d=\"M2695,-901C2695,-901 2573,-901 2573,-901 2567,-901 2561,-895 2561,-889 2561,-889 2561,-830 2561,-830 2561,-824 2567,-818 2573,-818 2573,-818 2695,-818 2695,-818 2701,-818 2707,-824 2707,-830 2707,-830 2707,-889 2707,-889 2707,-895 2701,-901 2695,-901\"/>\n<text text-anchor=\"start\" x=\"2588\" y=\"-885.8\" font-family=\"Helvetica,sans-Serif\" font-size=\"14.00\" fill=\"#000000\">slope ≤ &#45;0.164</text>\n<text text-anchor=\"start\" x=\"2596\" y=\"-870.8\" font-family=\"Helvetica,sans-Serif\" font-size=\"14.00\" fill=\"#000000\">gini = 0.375</text>\n<text text-anchor=\"start\" x=\"2594.5\" y=\"-855.8\" font-family=\"Helvetica,sans-Serif\" font-size=\"14.00\" fill=\"#000000\">samples = 4</text>\n<text text-anchor=\"start\" x=\"2569\" y=\"-840.8\" font-family=\"Helvetica,sans-Serif\" font-size=\"14.00\" fill=\"#000000\">value = [0, 0, 1, 3, 0]</text>\n<text text-anchor=\"start\" x=\"2605\" y=\"-825.8\" font-family=\"Helvetica,sans-Serif\" font-size=\"14.00\" fill=\"#000000\">class = 3</text>\n</g>\n<!-- 64&#45;&gt;65 -->\n<g id=\"edge65\" class=\"edge\">\n<title>64&#45;&gt;65</title>\n<path fill=\"none\" stroke=\"#000000\" d=\"M2634,-936.8796C2634,-928.6838 2634,-919.9891 2634,-911.5013\"/>\n<polygon fill=\"#000000\" stroke=\"#000000\" points=\"2637.5001,-911.298 2634,-901.2981 2630.5001,-911.2981 2637.5001,-911.298\"/>\n</g>\n<!-- 68 -->\n<g id=\"node69\" class=\"node\">\n<title>68</title>\n<path fill=\"#ffffff\" stroke=\"#000000\" d=\"M2859,-901C2859,-901 2737,-901 2737,-901 2731,-901 2725,-895 2725,-889 2725,-889 2725,-830 2725,-830 2725,-824 2731,-818 2737,-818 2737,-818 2859,-818 2859,-818 2865,-818 2871,-824 2871,-830 2871,-830 2871,-889 2871,-889 2871,-895 2865,-901 2859,-901\"/>\n<text text-anchor=\"start\" x=\"2754\" y=\"-885.8\" font-family=\"Helvetica,sans-Serif\" font-size=\"14.00\" fill=\"#000000\">thalach ≤ &#45;1.8</text>\n<text text-anchor=\"start\" x=\"2764.5\" y=\"-870.8\" font-family=\"Helvetica,sans-Serif\" font-size=\"14.00\" fill=\"#000000\">gini = 0.64</text>\n<text text-anchor=\"start\" x=\"2758.5\" y=\"-855.8\" font-family=\"Helvetica,sans-Serif\" font-size=\"14.00\" fill=\"#000000\">samples = 5</text>\n<text text-anchor=\"start\" x=\"2733\" y=\"-840.8\" font-family=\"Helvetica,sans-Serif\" font-size=\"14.00\" fill=\"#000000\">value = [0, 2, 1, 0, 2]</text>\n<text text-anchor=\"start\" x=\"2769\" y=\"-825.8\" font-family=\"Helvetica,sans-Serif\" font-size=\"14.00\" fill=\"#000000\">class = 1</text>\n</g>\n<!-- 64&#45;&gt;68 -->\n<g id=\"edge68\" class=\"edge\">\n<title>64&#45;&gt;68</title>\n<path fill=\"none\" stroke=\"#000000\" d=\"M2691.3592,-936.8796C2704.5925,-927.2774 2718.7697,-916.9903 2732.3264,-907.1534\"/>\n<polygon fill=\"#000000\" stroke=\"#000000\" points=\"2734.6349,-909.8027 2740.6731,-901.0969 2730.5238,-904.1371 2734.6349,-909.8027\"/>\n</g>\n<!-- 66 -->\n<g id=\"node67\" class=\"node\">\n<title>66</title>\n<path fill=\"#39e5c5\" stroke=\"#000000\" d=\"M2531,-774.5C2531,-774.5 2409,-774.5 2409,-774.5 2403,-774.5 2397,-768.5 2397,-762.5 2397,-762.5 2397,-718.5 2397,-718.5 2397,-712.5 2403,-706.5 2409,-706.5 2409,-706.5 2531,-706.5 2531,-706.5 2537,-706.5 2543,-712.5 2543,-718.5 2543,-718.5 2543,-762.5 2543,-762.5 2543,-768.5 2537,-774.5 2531,-774.5\"/>\n<text text-anchor=\"start\" x=\"2440.5\" y=\"-759.3\" font-family=\"Helvetica,sans-Serif\" font-size=\"14.00\" fill=\"#000000\">gini = 0.0</text>\n<text text-anchor=\"start\" x=\"2430.5\" y=\"-744.3\" font-family=\"Helvetica,sans-Serif\" font-size=\"14.00\" fill=\"#000000\">samples = 1</text>\n<text text-anchor=\"start\" x=\"2405\" y=\"-729.3\" font-family=\"Helvetica,sans-Serif\" font-size=\"14.00\" fill=\"#000000\">value = [0, 0, 1, 0, 0]</text>\n<text text-anchor=\"start\" x=\"2441\" y=\"-714.3\" font-family=\"Helvetica,sans-Serif\" font-size=\"14.00\" fill=\"#000000\">class = 2</text>\n</g>\n<!-- 65&#45;&gt;66 -->\n<g id=\"edge66\" class=\"edge\">\n<title>65&#45;&gt;66</title>\n<path fill=\"none\" stroke=\"#000000\" d=\"M2576.6408,-817.8796C2560.0439,-805.8368 2541.9625,-792.7167 2525.4824,-780.7586\"/>\n<polygon fill=\"#000000\" stroke=\"#000000\" points=\"2527.176,-777.6632 2517.0267,-774.623 2523.0649,-783.3288 2527.176,-777.6632\"/>\n</g>\n<!-- 67 -->\n<g id=\"node68\" class=\"node\">\n<title>67</title>\n<path fill=\"#3c39e5\" stroke=\"#000000\" d=\"M2695,-774.5C2695,-774.5 2573,-774.5 2573,-774.5 2567,-774.5 2561,-768.5 2561,-762.5 2561,-762.5 2561,-718.5 2561,-718.5 2561,-712.5 2567,-706.5 2573,-706.5 2573,-706.5 2695,-706.5 2695,-706.5 2701,-706.5 2707,-712.5 2707,-718.5 2707,-718.5 2707,-762.5 2707,-762.5 2707,-768.5 2701,-774.5 2695,-774.5\"/>\n<text text-anchor=\"start\" x=\"2604.5\" y=\"-759.3\" font-family=\"Helvetica,sans-Serif\" font-size=\"14.00\" fill=\"#000000\">gini = 0.0</text>\n<text text-anchor=\"start\" x=\"2594.5\" y=\"-744.3\" font-family=\"Helvetica,sans-Serif\" font-size=\"14.00\" fill=\"#000000\">samples = 3</text>\n<text text-anchor=\"start\" x=\"2569\" y=\"-729.3\" font-family=\"Helvetica,sans-Serif\" font-size=\"14.00\" fill=\"#000000\">value = [0, 0, 0, 3, 0]</text>\n<text text-anchor=\"start\" x=\"2605\" y=\"-714.3\" font-family=\"Helvetica,sans-Serif\" font-size=\"14.00\" fill=\"#000000\">class = 3</text>\n</g>\n<!-- 65&#45;&gt;67 -->\n<g id=\"edge67\" class=\"edge\">\n<title>65&#45;&gt;67</title>\n<path fill=\"none\" stroke=\"#000000\" d=\"M2634,-817.8796C2634,-807.2134 2634,-795.7021 2634,-784.9015\"/>\n<polygon fill=\"#000000\" stroke=\"#000000\" points=\"2637.5001,-784.8149 2634,-774.8149 2630.5001,-784.815 2637.5001,-784.8149\"/>\n</g>\n<!-- 69 -->\n<g id=\"node70\" class=\"node\">\n<title>69</title>\n<path fill=\"#39e5c5\" stroke=\"#000000\" d=\"M2859,-774.5C2859,-774.5 2737,-774.5 2737,-774.5 2731,-774.5 2725,-768.5 2725,-762.5 2725,-762.5 2725,-718.5 2725,-718.5 2725,-712.5 2731,-706.5 2737,-706.5 2737,-706.5 2859,-706.5 2859,-706.5 2865,-706.5 2871,-712.5 2871,-718.5 2871,-718.5 2871,-762.5 2871,-762.5 2871,-768.5 2865,-774.5 2859,-774.5\"/>\n<text text-anchor=\"start\" x=\"2768.5\" y=\"-759.3\" font-family=\"Helvetica,sans-Serif\" font-size=\"14.00\" fill=\"#000000\">gini = 0.0</text>\n<text text-anchor=\"start\" x=\"2758.5\" y=\"-744.3\" font-family=\"Helvetica,sans-Serif\" font-size=\"14.00\" fill=\"#000000\">samples = 1</text>\n<text text-anchor=\"start\" x=\"2733\" y=\"-729.3\" font-family=\"Helvetica,sans-Serif\" font-size=\"14.00\" fill=\"#000000\">value = [0, 0, 1, 0, 0]</text>\n<text text-anchor=\"start\" x=\"2769\" y=\"-714.3\" font-family=\"Helvetica,sans-Serif\" font-size=\"14.00\" fill=\"#000000\">class = 2</text>\n</g>\n<!-- 68&#45;&gt;69 -->\n<g id=\"edge69\" class=\"edge\">\n<title>68&#45;&gt;69</title>\n<path fill=\"none\" stroke=\"#000000\" d=\"M2798,-817.8796C2798,-807.2134 2798,-795.7021 2798,-784.9015\"/>\n<polygon fill=\"#000000\" stroke=\"#000000\" points=\"2801.5001,-784.8149 2798,-774.8149 2794.5001,-784.815 2801.5001,-784.8149\"/>\n</g>\n<!-- 70 -->\n<g id=\"node71\" class=\"node\">\n<title>70</title>\n<path fill=\"#ffffff\" stroke=\"#000000\" d=\"M3023,-782C3023,-782 2901,-782 2901,-782 2895,-782 2889,-776 2889,-770 2889,-770 2889,-711 2889,-711 2889,-705 2895,-699 2901,-699 2901,-699 3023,-699 3023,-699 3029,-699 3035,-705 3035,-711 3035,-711 3035,-770 3035,-770 3035,-776 3029,-782 3023,-782\"/>\n<text text-anchor=\"start\" x=\"2916\" y=\"-766.8\" font-family=\"Helvetica,sans-Serif\" font-size=\"14.00\" fill=\"#000000\">slope ≤ &#45;0.164</text>\n<text text-anchor=\"start\" x=\"2932.5\" y=\"-751.8\" font-family=\"Helvetica,sans-Serif\" font-size=\"14.00\" fill=\"#000000\">gini = 0.5</text>\n<text text-anchor=\"start\" x=\"2922.5\" y=\"-736.8\" font-family=\"Helvetica,sans-Serif\" font-size=\"14.00\" fill=\"#000000\">samples = 4</text>\n<text text-anchor=\"start\" x=\"2897\" y=\"-721.8\" font-family=\"Helvetica,sans-Serif\" font-size=\"14.00\" fill=\"#000000\">value = [0, 2, 0, 0, 2]</text>\n<text text-anchor=\"start\" x=\"2933\" y=\"-706.8\" font-family=\"Helvetica,sans-Serif\" font-size=\"14.00\" fill=\"#000000\">class = 1</text>\n</g>\n<!-- 68&#45;&gt;70 -->\n<g id=\"edge70\" class=\"edge\">\n<title>68&#45;&gt;70</title>\n<path fill=\"none\" stroke=\"#000000\" d=\"M2855.3592,-817.8796C2868.5925,-808.2774 2882.7697,-797.9903 2896.3264,-788.1534\"/>\n<polygon fill=\"#000000\" stroke=\"#000000\" points=\"2898.6349,-790.8027 2904.6731,-782.0969 2894.5238,-785.1371 2898.6349,-790.8027\"/>\n</g>\n<!-- 71 -->\n<g id=\"node72\" class=\"node\">\n<title>71</title>\n<path fill=\"#e539c0\" stroke=\"#000000\" d=\"M2864,-655.5C2864,-655.5 2742,-655.5 2742,-655.5 2736,-655.5 2730,-649.5 2730,-643.5 2730,-643.5 2730,-599.5 2730,-599.5 2730,-593.5 2736,-587.5 2742,-587.5 2742,-587.5 2864,-587.5 2864,-587.5 2870,-587.5 2876,-593.5 2876,-599.5 2876,-599.5 2876,-643.5 2876,-643.5 2876,-649.5 2870,-655.5 2864,-655.5\"/>\n<text text-anchor=\"start\" x=\"2773.5\" y=\"-640.3\" font-family=\"Helvetica,sans-Serif\" font-size=\"14.00\" fill=\"#000000\">gini = 0.0</text>\n<text text-anchor=\"start\" x=\"2763.5\" y=\"-625.3\" font-family=\"Helvetica,sans-Serif\" font-size=\"14.00\" fill=\"#000000\">samples = 1</text>\n<text text-anchor=\"start\" x=\"2738\" y=\"-610.3\" font-family=\"Helvetica,sans-Serif\" font-size=\"14.00\" fill=\"#000000\">value = [0, 0, 0, 0, 1]</text>\n<text text-anchor=\"start\" x=\"2774\" y=\"-595.3\" font-family=\"Helvetica,sans-Serif\" font-size=\"14.00\" fill=\"#000000\">class = 4</text>\n</g>\n<!-- 70&#45;&gt;71 -->\n<g id=\"edge71\" class=\"edge\">\n<title>70&#45;&gt;71</title>\n<path fill=\"none\" stroke=\"#000000\" d=\"M2906.3895,-698.8796C2890.2987,-686.8368 2872.7685,-673.7167 2856.7909,-661.7586\"/>\n<polygon fill=\"#000000\" stroke=\"#000000\" points=\"2858.6962,-658.8129 2848.593,-655.623 2854.5018,-664.4171 2858.6962,-658.8129\"/>\n</g>\n<!-- 72 -->\n<g id=\"node73\" class=\"node\">\n<title>72</title>\n<path fill=\"#bdf29c\" stroke=\"#000000\" d=\"M3028,-663C3028,-663 2906,-663 2906,-663 2900,-663 2894,-657 2894,-651 2894,-651 2894,-592 2894,-592 2894,-586 2900,-580 2906,-580 2906,-580 3028,-580 3028,-580 3034,-580 3040,-586 3040,-592 3040,-592 3040,-651 3040,-651 3040,-657 3034,-663 3028,-663\"/>\n<text text-anchor=\"start\" x=\"2915\" y=\"-647.8\" font-family=\"Helvetica,sans-Serif\" font-size=\"14.00\" fill=\"#000000\">oldpeak ≤ 1.691</text>\n<text text-anchor=\"start\" x=\"2929\" y=\"-632.8\" font-family=\"Helvetica,sans-Serif\" font-size=\"14.00\" fill=\"#000000\">gini = 0.444</text>\n<text text-anchor=\"start\" x=\"2927.5\" y=\"-617.8\" font-family=\"Helvetica,sans-Serif\" font-size=\"14.00\" fill=\"#000000\">samples = 3</text>\n<text text-anchor=\"start\" x=\"2902\" y=\"-602.8\" font-family=\"Helvetica,sans-Serif\" font-size=\"14.00\" fill=\"#000000\">value = [0, 2, 0, 0, 1]</text>\n<text text-anchor=\"start\" x=\"2938\" y=\"-587.8\" font-family=\"Helvetica,sans-Serif\" font-size=\"14.00\" fill=\"#000000\">class = 1</text>\n</g>\n<!-- 70&#45;&gt;72 -->\n<g id=\"edge72\" class=\"edge\">\n<title>70&#45;&gt;72</title>\n<path fill=\"none\" stroke=\"#000000\" d=\"M2963.7488,-698.8796C2964.0931,-690.6838 2964.4584,-681.9891 2964.8151,-673.5013\"/>\n<polygon fill=\"#000000\" stroke=\"#000000\" points=\"2968.3208,-673.4362 2965.2438,-663.2981 2961.327,-673.1423 2968.3208,-673.4362\"/>\n</g>\n<!-- 73 -->\n<g id=\"node74\" class=\"node\">\n<title>73</title>\n<path fill=\"#7be539\" stroke=\"#000000\" d=\"M2946,-536.5C2946,-536.5 2824,-536.5 2824,-536.5 2818,-536.5 2812,-530.5 2812,-524.5 2812,-524.5 2812,-480.5 2812,-480.5 2812,-474.5 2818,-468.5 2824,-468.5 2824,-468.5 2946,-468.5 2946,-468.5 2952,-468.5 2958,-474.5 2958,-480.5 2958,-480.5 2958,-524.5 2958,-524.5 2958,-530.5 2952,-536.5 2946,-536.5\"/>\n<text text-anchor=\"start\" x=\"2855.5\" y=\"-521.3\" font-family=\"Helvetica,sans-Serif\" font-size=\"14.00\" fill=\"#000000\">gini = 0.0</text>\n<text text-anchor=\"start\" x=\"2845.5\" y=\"-506.3\" font-family=\"Helvetica,sans-Serif\" font-size=\"14.00\" fill=\"#000000\">samples = 2</text>\n<text text-anchor=\"start\" x=\"2820\" y=\"-491.3\" font-family=\"Helvetica,sans-Serif\" font-size=\"14.00\" fill=\"#000000\">value = [0, 2, 0, 0, 0]</text>\n<text text-anchor=\"start\" x=\"2856\" y=\"-476.3\" font-family=\"Helvetica,sans-Serif\" font-size=\"14.00\" fill=\"#000000\">class = 1</text>\n</g>\n<!-- 72&#45;&gt;73 -->\n<g id=\"edge73\" class=\"edge\">\n<title>72&#45;&gt;73</title>\n<path fill=\"none\" stroke=\"#000000\" d=\"M2938.3204,-579.8796C2930.5917,-568.6636 2922.2191,-556.5131 2914.4492,-545.2372\"/>\n<polygon fill=\"#000000\" stroke=\"#000000\" points=\"2917.2018,-543.0634 2908.6456,-536.8149 2911.4377,-547.0353 2917.2018,-543.0634\"/>\n</g>\n<!-- 74 -->\n<g id=\"node75\" class=\"node\">\n<title>74</title>\n<path fill=\"#e539c0\" stroke=\"#000000\" d=\"M3110,-536.5C3110,-536.5 2988,-536.5 2988,-536.5 2982,-536.5 2976,-530.5 2976,-524.5 2976,-524.5 2976,-480.5 2976,-480.5 2976,-474.5 2982,-468.5 2988,-468.5 2988,-468.5 3110,-468.5 3110,-468.5 3116,-468.5 3122,-474.5 3122,-480.5 3122,-480.5 3122,-524.5 3122,-524.5 3122,-530.5 3116,-536.5 3110,-536.5\"/>\n<text text-anchor=\"start\" x=\"3019.5\" y=\"-521.3\" font-family=\"Helvetica,sans-Serif\" font-size=\"14.00\" fill=\"#000000\">gini = 0.0</text>\n<text text-anchor=\"start\" x=\"3009.5\" y=\"-506.3\" font-family=\"Helvetica,sans-Serif\" font-size=\"14.00\" fill=\"#000000\">samples = 1</text>\n<text text-anchor=\"start\" x=\"2984\" y=\"-491.3\" font-family=\"Helvetica,sans-Serif\" font-size=\"14.00\" fill=\"#000000\">value = [0, 0, 0, 0, 1]</text>\n<text text-anchor=\"start\" x=\"3020\" y=\"-476.3\" font-family=\"Helvetica,sans-Serif\" font-size=\"14.00\" fill=\"#000000\">class = 4</text>\n</g>\n<!-- 72&#45;&gt;74 -->\n<g id=\"edge74\" class=\"edge\">\n<title>72&#45;&gt;74</title>\n<path fill=\"none\" stroke=\"#000000\" d=\"M2995.6796,-579.8796C3003.4083,-568.6636 3011.7809,-556.5131 3019.5508,-545.2372\"/>\n<polygon fill=\"#000000\" stroke=\"#000000\" points=\"3022.5623,-547.0353 3025.3544,-536.8149 3016.7982,-543.0634 3022.5623,-547.0353\"/>\n</g>\n<!-- 77 -->\n<g id=\"node78\" class=\"node\">\n<title>77</title>\n<path fill=\"#f4c9a9\" stroke=\"#000000\" d=\"M3817.5,-1496C3817.5,-1496 3686.5,-1496 3686.5,-1496 3680.5,-1496 3674.5,-1490 3674.5,-1484 3674.5,-1484 3674.5,-1425 3674.5,-1425 3674.5,-1419 3680.5,-1413 3686.5,-1413 3686.5,-1413 3817.5,-1413 3817.5,-1413 3823.5,-1413 3829.5,-1419 3829.5,-1425 3829.5,-1425 3829.5,-1484 3829.5,-1484 3829.5,-1490 3823.5,-1496 3817.5,-1496\"/>\n<text text-anchor=\"start\" x=\"3718\" y=\"-1480.8\" font-family=\"Helvetica,sans-Serif\" font-size=\"14.00\" fill=\"#000000\">ca ≤ 0.175</text>\n<text text-anchor=\"start\" x=\"3714\" y=\"-1465.8\" font-family=\"Helvetica,sans-Serif\" font-size=\"14.00\" fill=\"#000000\">gini = 0.641</text>\n<text text-anchor=\"start\" x=\"3708\" y=\"-1450.8\" font-family=\"Helvetica,sans-Serif\" font-size=\"14.00\" fill=\"#000000\">samples = 46</text>\n<text text-anchor=\"start\" x=\"3682.5\" y=\"-1435.8\" font-family=\"Helvetica,sans-Serif\" font-size=\"14.00\" fill=\"#000000\">value = [25, 9, 5, 5, 2]</text>\n<text text-anchor=\"start\" x=\"3723\" y=\"-1420.8\" font-family=\"Helvetica,sans-Serif\" font-size=\"14.00\" fill=\"#000000\">class = 0</text>\n</g>\n<!-- 76&#45;&gt;77 -->\n<g id=\"edge77\" class=\"edge\">\n<title>76&#45;&gt;77</title>\n<path fill=\"none\" stroke=\"#000000\" d=\"M3752,-1531.8796C3752,-1523.6838 3752,-1514.9891 3752,-1506.5013\"/>\n<polygon fill=\"#000000\" stroke=\"#000000\" points=\"3755.5001,-1506.298 3752,-1496.2981 3748.5001,-1506.2981 3755.5001,-1506.298\"/>\n</g>\n<!-- 118 -->\n<g id=\"node119\" class=\"node\">\n<title>118</title>\n<path fill=\"#ffffff\" stroke=\"#000000\" d=\"M4915.5,-1496C4915.5,-1496 4760.5,-1496 4760.5,-1496 4754.5,-1496 4748.5,-1490 4748.5,-1484 4748.5,-1484 4748.5,-1425 4748.5,-1425 4748.5,-1419 4754.5,-1413 4760.5,-1413 4760.5,-1413 4915.5,-1413 4915.5,-1413 4921.5,-1413 4927.5,-1419 4927.5,-1425 4927.5,-1425 4927.5,-1484 4927.5,-1484 4927.5,-1490 4921.5,-1496 4915.5,-1496\"/>\n<text text-anchor=\"start\" x=\"4783.5\" y=\"-1480.8\" font-family=\"Helvetica,sans-Serif\" font-size=\"14.00\" fill=\"#000000\">oldpeak ≤ &#45;0.293</text>\n<text text-anchor=\"start\" x=\"4800\" y=\"-1465.8\" font-family=\"Helvetica,sans-Serif\" font-size=\"14.00\" fill=\"#000000\">gini = 0.769</text>\n<text text-anchor=\"start\" x=\"4794\" y=\"-1450.8\" font-family=\"Helvetica,sans-Serif\" font-size=\"14.00\" fill=\"#000000\">samples = 91</text>\n<text text-anchor=\"start\" x=\"4756.5\" y=\"-1435.8\" font-family=\"Helvetica,sans-Serif\" font-size=\"14.00\" fill=\"#000000\">value = [10, 24, 24, 24, 9]</text>\n<text text-anchor=\"start\" x=\"4809\" y=\"-1420.8\" font-family=\"Helvetica,sans-Serif\" font-size=\"14.00\" fill=\"#000000\">class = 1</text>\n</g>\n<!-- 76&#45;&gt;118 -->\n<g id=\"edge118\" class=\"edge\">\n<title>76&#45;&gt;118</title>\n<path fill=\"none\" stroke=\"#000000\" d=\"M3846.0031,-1563.1995C4049.5529,-1540.8952 4529.5235,-1488.3018 4738.2041,-1465.4353\"/>\n<polygon fill=\"#000000\" stroke=\"#000000\" points=\"4738.677,-1468.9045 4748.2362,-1464.336 4737.9145,-1461.9462 4738.677,-1468.9045\"/>\n</g>\n<!-- 78 -->\n<g id=\"node79\" class=\"node\">\n<title>78</title>\n<path fill=\"#eead7e\" stroke=\"#000000\" d=\"M3633.5,-1377C3633.5,-1377 3502.5,-1377 3502.5,-1377 3496.5,-1377 3490.5,-1371 3490.5,-1365 3490.5,-1365 3490.5,-1306 3490.5,-1306 3490.5,-1300 3496.5,-1294 3502.5,-1294 3502.5,-1294 3633.5,-1294 3633.5,-1294 3639.5,-1294 3645.5,-1300 3645.5,-1306 3645.5,-1306 3645.5,-1365 3645.5,-1365 3645.5,-1371 3639.5,-1377 3633.5,-1377\"/>\n<text text-anchor=\"start\" x=\"3527\" y=\"-1361.8\" font-family=\"Helvetica,sans-Serif\" font-size=\"14.00\" fill=\"#000000\">age ≤ &#45;1.711</text>\n<text text-anchor=\"start\" x=\"3534.5\" y=\"-1346.8\" font-family=\"Helvetica,sans-Serif\" font-size=\"14.00\" fill=\"#000000\">gini = 0.43</text>\n<text text-anchor=\"start\" x=\"3524\" y=\"-1331.8\" font-family=\"Helvetica,sans-Serif\" font-size=\"14.00\" fill=\"#000000\">samples = 29</text>\n<text text-anchor=\"start\" x=\"3498.5\" y=\"-1316.8\" font-family=\"Helvetica,sans-Serif\" font-size=\"14.00\" fill=\"#000000\">value = [21, 6, 0, 1, 1]</text>\n<text text-anchor=\"start\" x=\"3539\" y=\"-1301.8\" font-family=\"Helvetica,sans-Serif\" font-size=\"14.00\" fill=\"#000000\">class = 0</text>\n</g>\n<!-- 77&#45;&gt;78 -->\n<g id=\"edge78\" class=\"edge\">\n<title>77&#45;&gt;78</title>\n<path fill=\"none\" stroke=\"#000000\" d=\"M3687.6457,-1412.8796C3672.5185,-1403.0962 3656.2919,-1392.6019 3640.8224,-1382.5971\"/>\n<polygon fill=\"#000000\" stroke=\"#000000\" points=\"3642.6156,-1379.5887 3632.3179,-1377.0969 3638.8141,-1385.4665 3642.6156,-1379.5887\"/>\n</g>\n<!-- 99 -->\n<g id=\"node100\" class=\"node\">\n<title>99</title>\n<path fill=\"#f0fdfb\" stroke=\"#000000\" d=\"M3915,-1377C3915,-1377 3793,-1377 3793,-1377 3787,-1377 3781,-1371 3781,-1365 3781,-1365 3781,-1306 3781,-1306 3781,-1300 3787,-1294 3793,-1294 3793,-1294 3915,-1294 3915,-1294 3921,-1294 3927,-1300 3927,-1306 3927,-1306 3927,-1365 3927,-1365 3927,-1371 3921,-1377 3915,-1377\"/>\n<text text-anchor=\"start\" x=\"3806\" y=\"-1361.8\" font-family=\"Helvetica,sans-Serif\" font-size=\"14.00\" fill=\"#000000\">thalach ≤ &#45;0.07</text>\n<text text-anchor=\"start\" x=\"3816\" y=\"-1346.8\" font-family=\"Helvetica,sans-Serif\" font-size=\"14.00\" fill=\"#000000\">gini = 0.768</text>\n<text text-anchor=\"start\" x=\"3810\" y=\"-1331.8\" font-family=\"Helvetica,sans-Serif\" font-size=\"14.00\" fill=\"#000000\">samples = 17</text>\n<text text-anchor=\"start\" x=\"3789\" y=\"-1316.8\" font-family=\"Helvetica,sans-Serif\" font-size=\"14.00\" fill=\"#000000\">value = [4, 3, 5, 4, 1]</text>\n<text text-anchor=\"start\" x=\"3825\" y=\"-1301.8\" font-family=\"Helvetica,sans-Serif\" font-size=\"14.00\" fill=\"#000000\">class = 2</text>\n</g>\n<!-- 77&#45;&gt;99 -->\n<g id=\"edge99\" class=\"edge\">\n<title>77&#45;&gt;99</title>\n<path fill=\"none\" stroke=\"#000000\" d=\"M3787.6747,-1412.8796C3795.3943,-1403.8733 3803.6305,-1394.2644 3811.5803,-1384.9897\"/>\n<polygon fill=\"#000000\" stroke=\"#000000\" points=\"3814.3225,-1387.1684 3818.1731,-1377.2981 3809.0077,-1382.6129 3814.3225,-1387.1684\"/>\n</g>\n<!-- 79 -->\n<g id=\"node80\" class=\"node\">\n<title>79</title>\n<path fill=\"#e539c0\" stroke=\"#000000\" d=\"M3460,-1250.5C3460,-1250.5 3338,-1250.5 3338,-1250.5 3332,-1250.5 3326,-1244.5 3326,-1238.5 3326,-1238.5 3326,-1194.5 3326,-1194.5 3326,-1188.5 3332,-1182.5 3338,-1182.5 3338,-1182.5 3460,-1182.5 3460,-1182.5 3466,-1182.5 3472,-1188.5 3472,-1194.5 3472,-1194.5 3472,-1238.5 3472,-1238.5 3472,-1244.5 3466,-1250.5 3460,-1250.5\"/>\n<text text-anchor=\"start\" x=\"3369.5\" y=\"-1235.3\" font-family=\"Helvetica,sans-Serif\" font-size=\"14.00\" fill=\"#000000\">gini = 0.0</text>\n<text text-anchor=\"start\" x=\"3359.5\" y=\"-1220.3\" font-family=\"Helvetica,sans-Serif\" font-size=\"14.00\" fill=\"#000000\">samples = 1</text>\n<text text-anchor=\"start\" x=\"3334\" y=\"-1205.3\" font-family=\"Helvetica,sans-Serif\" font-size=\"14.00\" fill=\"#000000\">value = [0, 0, 0, 0, 1]</text>\n<text text-anchor=\"start\" x=\"3370\" y=\"-1190.3\" font-family=\"Helvetica,sans-Serif\" font-size=\"14.00\" fill=\"#000000\">class = 4</text>\n</g>\n<!-- 78&#45;&gt;79 -->\n<g id=\"edge79\" class=\"edge\">\n<title>78&#45;&gt;79</title>\n<path fill=\"none\" stroke=\"#000000\" d=\"M3508.892,-1293.8796C3491.6323,-1281.7263 3472.8144,-1268.4759 3455.707,-1256.4297\"/>\n<polygon fill=\"#000000\" stroke=\"#000000\" points=\"3457.6519,-1253.5187 3447.4604,-1250.623 3453.6218,-1259.2421 3457.6519,-1253.5187\"/>\n</g>\n<!-- 80 -->\n<g id=\"node81\" class=\"node\">\n<title>80</title>\n<path fill=\"#eda978\" stroke=\"#000000\" d=\"M3633.5,-1258C3633.5,-1258 3502.5,-1258 3502.5,-1258 3496.5,-1258 3490.5,-1252 3490.5,-1246 3490.5,-1246 3490.5,-1187 3490.5,-1187 3490.5,-1181 3496.5,-1175 3502.5,-1175 3502.5,-1175 3633.5,-1175 3633.5,-1175 3639.5,-1175 3645.5,-1181 3645.5,-1187 3645.5,-1187 3645.5,-1246 3645.5,-1246 3645.5,-1252 3639.5,-1258 3633.5,-1258\"/>\n<text text-anchor=\"start\" x=\"3516\" y=\"-1242.8\" font-family=\"Helvetica,sans-Serif\" font-size=\"14.00\" fill=\"#000000\">trestbps ≤ 2.693</text>\n<text text-anchor=\"start\" x=\"3534.5\" y=\"-1227.8\" font-family=\"Helvetica,sans-Serif\" font-size=\"14.00\" fill=\"#000000\">gini = 0.39</text>\n<text text-anchor=\"start\" x=\"3524\" y=\"-1212.8\" font-family=\"Helvetica,sans-Serif\" font-size=\"14.00\" fill=\"#000000\">samples = 28</text>\n<text text-anchor=\"start\" x=\"3498.5\" y=\"-1197.8\" font-family=\"Helvetica,sans-Serif\" font-size=\"14.00\" fill=\"#000000\">value = [21, 6, 0, 1, 0]</text>\n<text text-anchor=\"start\" x=\"3539\" y=\"-1182.8\" font-family=\"Helvetica,sans-Serif\" font-size=\"14.00\" fill=\"#000000\">class = 0</text>\n</g>\n<!-- 78&#45;&gt;80 -->\n<g id=\"edge80\" class=\"edge\">\n<title>78&#45;&gt;80</title>\n<path fill=\"none\" stroke=\"#000000\" d=\"M3568,-1293.8796C3568,-1285.6838 3568,-1276.9891 3568,-1268.5013\"/>\n<polygon fill=\"#000000\" stroke=\"#000000\" points=\"3571.5001,-1268.298 3568,-1258.2981 3564.5001,-1268.2981 3571.5001,-1268.298\"/>\n</g>\n<!-- 81 -->\n<g id=\"node82\" class=\"node\">\n<title>81</title>\n<path fill=\"#eca572\" stroke=\"#000000\" d=\"M3385.5,-1139C3385.5,-1139 3254.5,-1139 3254.5,-1139 3248.5,-1139 3242.5,-1133 3242.5,-1127 3242.5,-1127 3242.5,-1068 3242.5,-1068 3242.5,-1062 3248.5,-1056 3254.5,-1056 3254.5,-1056 3385.5,-1056 3385.5,-1056 3391.5,-1056 3397.5,-1062 3397.5,-1068 3397.5,-1068 3397.5,-1127 3397.5,-1127 3397.5,-1133 3391.5,-1139 3385.5,-1139\"/>\n<text text-anchor=\"start\" x=\"3268\" y=\"-1123.8\" font-family=\"Helvetica,sans-Serif\" font-size=\"14.00\" fill=\"#000000\">thalach ≤ &#45;0.311</text>\n<text text-anchor=\"start\" x=\"3282\" y=\"-1108.8\" font-family=\"Helvetica,sans-Serif\" font-size=\"14.00\" fill=\"#000000\">gini = 0.346</text>\n<text text-anchor=\"start\" x=\"3276\" y=\"-1093.8\" font-family=\"Helvetica,sans-Serif\" font-size=\"14.00\" fill=\"#000000\">samples = 27</text>\n<text text-anchor=\"start\" x=\"3250.5\" y=\"-1078.8\" font-family=\"Helvetica,sans-Serif\" font-size=\"14.00\" fill=\"#000000\">value = [21, 6, 0, 0, 0]</text>\n<text text-anchor=\"start\" x=\"3291\" y=\"-1063.8\" font-family=\"Helvetica,sans-Serif\" font-size=\"14.00\" fill=\"#000000\">class = 0</text>\n</g>\n<!-- 80&#45;&gt;81 -->\n<g id=\"edge81\" class=\"edge\">\n<title>80&#45;&gt;81</title>\n<path fill=\"none\" stroke=\"#000000\" d=\"M3490.2117,-1179.1742C3463.6658,-1166.4364 3433.8227,-1152.1165 3406.6256,-1139.0663\"/>\n<polygon fill=\"#000000\" stroke=\"#000000\" points=\"3408.0423,-1135.8641 3397.5123,-1134.6934 3405.0139,-1142.1751 3408.0423,-1135.8641\"/>\n</g>\n<!-- 98 -->\n<g id=\"node99\" class=\"node\">\n<title>98</title>\n<path fill=\"#3c39e5\" stroke=\"#000000\" d=\"M3629,-1131.5C3629,-1131.5 3507,-1131.5 3507,-1131.5 3501,-1131.5 3495,-1125.5 3495,-1119.5 3495,-1119.5 3495,-1075.5 3495,-1075.5 3495,-1069.5 3501,-1063.5 3507,-1063.5 3507,-1063.5 3629,-1063.5 3629,-1063.5 3635,-1063.5 3641,-1069.5 3641,-1075.5 3641,-1075.5 3641,-1119.5 3641,-1119.5 3641,-1125.5 3635,-1131.5 3629,-1131.5\"/>\n<text text-anchor=\"start\" x=\"3538.5\" y=\"-1116.3\" font-family=\"Helvetica,sans-Serif\" font-size=\"14.00\" fill=\"#000000\">gini = 0.0</text>\n<text text-anchor=\"start\" x=\"3528.5\" y=\"-1101.3\" font-family=\"Helvetica,sans-Serif\" font-size=\"14.00\" fill=\"#000000\">samples = 1</text>\n<text text-anchor=\"start\" x=\"3503\" y=\"-1086.3\" font-family=\"Helvetica,sans-Serif\" font-size=\"14.00\" fill=\"#000000\">value = [0, 0, 0, 1, 0]</text>\n<text text-anchor=\"start\" x=\"3539\" y=\"-1071.3\" font-family=\"Helvetica,sans-Serif\" font-size=\"14.00\" fill=\"#000000\">class = 3</text>\n</g>\n<!-- 80&#45;&gt;98 -->\n<g id=\"edge98\" class=\"edge\">\n<title>80&#45;&gt;98</title>\n<path fill=\"none\" stroke=\"#000000\" d=\"M3568,-1174.8796C3568,-1164.2134 3568,-1152.7021 3568,-1141.9015\"/>\n<polygon fill=\"#000000\" stroke=\"#000000\" points=\"3571.5001,-1141.8149 3568,-1131.8149 3564.5001,-1141.815 3571.5001,-1141.8149\"/>\n</g>\n<!-- 82 -->\n<g id=\"node83\" class=\"node\">\n<title>82</title>\n<path fill=\"#ffffff\" stroke=\"#000000\" d=\"M3192,-1020C3192,-1020 3070,-1020 3070,-1020 3064,-1020 3058,-1014 3058,-1008 3058,-1008 3058,-949 3058,-949 3058,-943 3064,-937 3070,-937 3070,-937 3192,-937 3192,-937 3198,-937 3204,-943 3204,-949 3204,-949 3204,-1008 3204,-1008 3204,-1014 3198,-1020 3192,-1020\"/>\n<text text-anchor=\"start\" x=\"3076.5\" y=\"-1004.8\" font-family=\"Helvetica,sans-Serif\" font-size=\"14.00\" fill=\"#000000\">trestbps ≤ &#45;0.295</text>\n<text text-anchor=\"start\" x=\"3101.5\" y=\"-989.8\" font-family=\"Helvetica,sans-Serif\" font-size=\"14.00\" fill=\"#000000\">gini = 0.5</text>\n<text text-anchor=\"start\" x=\"3091.5\" y=\"-974.8\" font-family=\"Helvetica,sans-Serif\" font-size=\"14.00\" fill=\"#000000\">samples = 6</text>\n<text text-anchor=\"start\" x=\"3066\" y=\"-959.8\" font-family=\"Helvetica,sans-Serif\" font-size=\"14.00\" fill=\"#000000\">value = [3, 3, 0, 0, 0]</text>\n<text text-anchor=\"start\" x=\"3102\" y=\"-944.8\" font-family=\"Helvetica,sans-Serif\" font-size=\"14.00\" fill=\"#000000\">class = 0</text>\n</g>\n<!-- 81&#45;&gt;82 -->\n<g id=\"edge82\" class=\"edge\">\n<title>81&#45;&gt;82</title>\n<path fill=\"none\" stroke=\"#000000\" d=\"M3253.897,-1055.8796C3238.3587,-1046.0962 3221.6912,-1035.6019 3205.8013,-1025.5971\"/>\n<polygon fill=\"#000000\" stroke=\"#000000\" points=\"3207.3929,-1022.4633 3197.0657,-1020.0969 3203.6632,-1028.3869 3207.3929,-1022.4633\"/>\n</g>\n<!-- 85 -->\n<g id=\"node86\" class=\"node\">\n<title>85</title>\n<path fill=\"#e9965a\" stroke=\"#000000\" d=\"M3385.5,-1020C3385.5,-1020 3254.5,-1020 3254.5,-1020 3248.5,-1020 3242.5,-1014 3242.5,-1008 3242.5,-1008 3242.5,-949 3242.5,-949 3242.5,-943 3248.5,-937 3254.5,-937 3254.5,-937 3385.5,-937 3385.5,-937 3391.5,-937 3397.5,-943 3397.5,-949 3397.5,-949 3397.5,-1008 3397.5,-1008 3397.5,-1014 3391.5,-1020 3385.5,-1020\"/>\n<text text-anchor=\"start\" x=\"3285.5\" y=\"-1004.8\" font-family=\"Helvetica,sans-Serif\" font-size=\"14.00\" fill=\"#000000\">age ≤ 0.45</text>\n<text text-anchor=\"start\" x=\"3282\" y=\"-989.8\" font-family=\"Helvetica,sans-Serif\" font-size=\"14.00\" fill=\"#000000\">gini = 0.245</text>\n<text text-anchor=\"start\" x=\"3276\" y=\"-974.8\" font-family=\"Helvetica,sans-Serif\" font-size=\"14.00\" fill=\"#000000\">samples = 21</text>\n<text text-anchor=\"start\" x=\"3250.5\" y=\"-959.8\" font-family=\"Helvetica,sans-Serif\" font-size=\"14.00\" fill=\"#000000\">value = [18, 3, 0, 0, 0]</text>\n<text text-anchor=\"start\" x=\"3291\" y=\"-944.8\" font-family=\"Helvetica,sans-Serif\" font-size=\"14.00\" fill=\"#000000\">class = 0</text>\n</g>\n<!-- 81&#45;&gt;85 -->\n<g id=\"edge85\" class=\"edge\">\n<title>81&#45;&gt;85</title>\n<path fill=\"none\" stroke=\"#000000\" d=\"M3320,-1055.8796C3320,-1047.6838 3320,-1038.9891 3320,-1030.5013\"/>\n<polygon fill=\"#000000\" stroke=\"#000000\" points=\"3323.5001,-1030.298 3320,-1020.2981 3316.5001,-1030.2981 3323.5001,-1030.298\"/>\n</g>\n<!-- 83 -->\n<g id=\"node84\" class=\"node\">\n<title>83</title>\n<path fill=\"#7be539\" stroke=\"#000000\" d=\"M3028,-893.5C3028,-893.5 2906,-893.5 2906,-893.5 2900,-893.5 2894,-887.5 2894,-881.5 2894,-881.5 2894,-837.5 2894,-837.5 2894,-831.5 2900,-825.5 2906,-825.5 2906,-825.5 3028,-825.5 3028,-825.5 3034,-825.5 3040,-831.5 3040,-837.5 3040,-837.5 3040,-881.5 3040,-881.5 3040,-887.5 3034,-893.5 3028,-893.5\"/>\n<text text-anchor=\"start\" x=\"2937.5\" y=\"-878.3\" font-family=\"Helvetica,sans-Serif\" font-size=\"14.00\" fill=\"#000000\">gini = 0.0</text>\n<text text-anchor=\"start\" x=\"2927.5\" y=\"-863.3\" font-family=\"Helvetica,sans-Serif\" font-size=\"14.00\" fill=\"#000000\">samples = 3</text>\n<text text-anchor=\"start\" x=\"2902\" y=\"-848.3\" font-family=\"Helvetica,sans-Serif\" font-size=\"14.00\" fill=\"#000000\">value = [0, 3, 0, 0, 0]</text>\n<text text-anchor=\"start\" x=\"2938\" y=\"-833.3\" font-family=\"Helvetica,sans-Serif\" font-size=\"14.00\" fill=\"#000000\">class = 1</text>\n</g>\n<!-- 82&#45;&gt;83 -->\n<g id=\"edge83\" class=\"edge\">\n<title>82&#45;&gt;83</title>\n<path fill=\"none\" stroke=\"#000000\" d=\"M3073.6408,-936.8796C3057.0439,-924.8368 3038.9625,-911.7167 3022.4824,-899.7586\"/>\n<polygon fill=\"#000000\" stroke=\"#000000\" points=\"3024.176,-896.6632 3014.0267,-893.623 3020.0649,-902.3288 3024.176,-896.6632\"/>\n</g>\n<!-- 84 -->\n<g id=\"node85\" class=\"node\">\n<title>84</title>\n<path fill=\"#e58139\" stroke=\"#000000\" d=\"M3192,-893.5C3192,-893.5 3070,-893.5 3070,-893.5 3064,-893.5 3058,-887.5 3058,-881.5 3058,-881.5 3058,-837.5 3058,-837.5 3058,-831.5 3064,-825.5 3070,-825.5 3070,-825.5 3192,-825.5 3192,-825.5 3198,-825.5 3204,-831.5 3204,-837.5 3204,-837.5 3204,-881.5 3204,-881.5 3204,-887.5 3198,-893.5 3192,-893.5\"/>\n<text text-anchor=\"start\" x=\"3101.5\" y=\"-878.3\" font-family=\"Helvetica,sans-Serif\" font-size=\"14.00\" fill=\"#000000\">gini = 0.0</text>\n<text text-anchor=\"start\" x=\"3091.5\" y=\"-863.3\" font-family=\"Helvetica,sans-Serif\" font-size=\"14.00\" fill=\"#000000\">samples = 3</text>\n<text text-anchor=\"start\" x=\"3066\" y=\"-848.3\" font-family=\"Helvetica,sans-Serif\" font-size=\"14.00\" fill=\"#000000\">value = [3, 0, 0, 0, 0]</text>\n<text text-anchor=\"start\" x=\"3102\" y=\"-833.3\" font-family=\"Helvetica,sans-Serif\" font-size=\"14.00\" fill=\"#000000\">class = 0</text>\n</g>\n<!-- 82&#45;&gt;84 -->\n<g id=\"edge84\" class=\"edge\">\n<title>82&#45;&gt;84</title>\n<path fill=\"none\" stroke=\"#000000\" d=\"M3131,-936.8796C3131,-926.2134 3131,-914.7021 3131,-903.9015\"/>\n<polygon fill=\"#000000\" stroke=\"#000000\" points=\"3134.5001,-903.8149 3131,-893.8149 3127.5001,-903.815 3134.5001,-903.8149\"/>\n</g>\n<!-- 86 -->\n<g id=\"node87\" class=\"node\">\n<title>86</title>\n<path fill=\"#e78a47\" stroke=\"#000000\" d=\"M3365.5,-901C3365.5,-901 3234.5,-901 3234.5,-901 3228.5,-901 3222.5,-895 3222.5,-889 3222.5,-889 3222.5,-830 3222.5,-830 3222.5,-824 3228.5,-818 3234.5,-818 3234.5,-818 3365.5,-818 3365.5,-818 3371.5,-818 3377.5,-824 3377.5,-830 3377.5,-830 3377.5,-889 3377.5,-889 3377.5,-895 3371.5,-901 3365.5,-901\"/>\n<text text-anchor=\"start\" x=\"3256\" y=\"-885.8\" font-family=\"Helvetica,sans-Serif\" font-size=\"14.00\" fill=\"#000000\">slope ≤ 1.462</text>\n<text text-anchor=\"start\" x=\"3262\" y=\"-870.8\" font-family=\"Helvetica,sans-Serif\" font-size=\"14.00\" fill=\"#000000\">gini = 0.124</text>\n<text text-anchor=\"start\" x=\"3256\" y=\"-855.8\" font-family=\"Helvetica,sans-Serif\" font-size=\"14.00\" fill=\"#000000\">samples = 15</text>\n<text text-anchor=\"start\" x=\"3230.5\" y=\"-840.8\" font-family=\"Helvetica,sans-Serif\" font-size=\"14.00\" fill=\"#000000\">value = [14, 1, 0, 0, 0]</text>\n<text text-anchor=\"start\" x=\"3271\" y=\"-825.8\" font-family=\"Helvetica,sans-Serif\" font-size=\"14.00\" fill=\"#000000\">class = 0</text>\n</g>\n<!-- 85&#45;&gt;86 -->\n<g id=\"edge86\" class=\"edge\">\n<title>85&#45;&gt;86</title>\n<path fill=\"none\" stroke=\"#000000\" d=\"M3313.005,-936.8796C3311.6124,-928.5938 3310.1341,-919.798 3308.6927,-911.2216\"/>\n<polygon fill=\"#000000\" stroke=\"#000000\" points=\"3312.134,-910.5796 3307.0249,-901.2981 3305.2308,-911.7399 3312.134,-910.5796\"/>\n</g>\n<!-- 91 -->\n<g id=\"node92\" class=\"node\">\n<title>91</title>\n<path fill=\"#f2c09c\" stroke=\"#000000\" d=\"M3530,-901C3530,-901 3408,-901 3408,-901 3402,-901 3396,-895 3396,-889 3396,-889 3396,-830 3396,-830 3396,-824 3402,-818 3408,-818 3408,-818 3530,-818 3530,-818 3536,-818 3542,-824 3542,-830 3542,-830 3542,-889 3542,-889 3542,-895 3536,-901 3530,-901\"/>\n<text text-anchor=\"start\" x=\"3417\" y=\"-885.8\" font-family=\"Helvetica,sans-Serif\" font-size=\"14.00\" fill=\"#000000\">oldpeak ≤ 0.138</text>\n<text text-anchor=\"start\" x=\"3431\" y=\"-870.8\" font-family=\"Helvetica,sans-Serif\" font-size=\"14.00\" fill=\"#000000\">gini = 0.444</text>\n<text text-anchor=\"start\" x=\"3429.5\" y=\"-855.8\" font-family=\"Helvetica,sans-Serif\" font-size=\"14.00\" fill=\"#000000\">samples = 6</text>\n<text text-anchor=\"start\" x=\"3404\" y=\"-840.8\" font-family=\"Helvetica,sans-Serif\" font-size=\"14.00\" fill=\"#000000\">value = [4, 2, 0, 0, 0]</text>\n<text text-anchor=\"start\" x=\"3440\" y=\"-825.8\" font-family=\"Helvetica,sans-Serif\" font-size=\"14.00\" fill=\"#000000\">class = 0</text>\n</g>\n<!-- 85&#45;&gt;91 -->\n<g id=\"edge91\" class=\"edge\">\n<title>85&#45;&gt;91</title>\n<path fill=\"none\" stroke=\"#000000\" d=\"M3372.113,-936.8796C3384.0225,-927.368 3396.7734,-917.1843 3408.9844,-907.432\"/>\n<polygon fill=\"#000000\" stroke=\"#000000\" points=\"3411.2868,-910.0724 3416.9165,-901.0969 3406.9184,-904.6027 3411.2868,-910.0724\"/>\n</g>\n<!-- 87 -->\n<g id=\"node88\" class=\"node\">\n<title>87</title>\n<path fill=\"#e58139\" stroke=\"#000000\" d=\"M3196.5,-774.5C3196.5,-774.5 3065.5,-774.5 3065.5,-774.5 3059.5,-774.5 3053.5,-768.5 3053.5,-762.5 3053.5,-762.5 3053.5,-718.5 3053.5,-718.5 3053.5,-712.5 3059.5,-706.5 3065.5,-706.5 3065.5,-706.5 3196.5,-706.5 3196.5,-706.5 3202.5,-706.5 3208.5,-712.5 3208.5,-718.5 3208.5,-718.5 3208.5,-762.5 3208.5,-762.5 3208.5,-768.5 3202.5,-774.5 3196.5,-774.5\"/>\n<text text-anchor=\"start\" x=\"3101.5\" y=\"-759.3\" font-family=\"Helvetica,sans-Serif\" font-size=\"14.00\" fill=\"#000000\">gini = 0.0</text>\n<text text-anchor=\"start\" x=\"3087\" y=\"-744.3\" font-family=\"Helvetica,sans-Serif\" font-size=\"14.00\" fill=\"#000000\">samples = 13</text>\n<text text-anchor=\"start\" x=\"3061.5\" y=\"-729.3\" font-family=\"Helvetica,sans-Serif\" font-size=\"14.00\" fill=\"#000000\">value = [13, 0, 0, 0, 0]</text>\n<text text-anchor=\"start\" x=\"3102\" y=\"-714.3\" font-family=\"Helvetica,sans-Serif\" font-size=\"14.00\" fill=\"#000000\">class = 0</text>\n</g>\n<!-- 86&#45;&gt;87 -->\n<g id=\"edge87\" class=\"edge\">\n<title>86&#45;&gt;87</title>\n<path fill=\"none\" stroke=\"#000000\" d=\"M3240.892,-817.8796C3223.6323,-805.7263 3204.8144,-792.4759 3187.707,-780.4297\"/>\n<polygon fill=\"#000000\" stroke=\"#000000\" points=\"3189.6519,-777.5187 3179.4604,-774.623 3185.6218,-783.2421 3189.6519,-777.5187\"/>\n</g>\n<!-- 88 -->\n<g id=\"node89\" class=\"node\">\n<title>88</title>\n<path fill=\"#ffffff\" stroke=\"#000000\" d=\"M3361,-782C3361,-782 3239,-782 3239,-782 3233,-782 3227,-776 3227,-770 3227,-770 3227,-711 3227,-711 3227,-705 3233,-699 3239,-699 3239,-699 3361,-699 3361,-699 3367,-699 3373,-705 3373,-711 3373,-711 3373,-770 3373,-770 3373,-776 3367,-782 3361,-782\"/>\n<text text-anchor=\"start\" x=\"3263.5\" y=\"-766.8\" font-family=\"Helvetica,sans-Serif\" font-size=\"14.00\" fill=\"#000000\">cp ≤ &#45;0.687</text>\n<text text-anchor=\"start\" x=\"3270.5\" y=\"-751.8\" font-family=\"Helvetica,sans-Serif\" font-size=\"14.00\" fill=\"#000000\">gini = 0.5</text>\n<text text-anchor=\"start\" x=\"3260.5\" y=\"-736.8\" font-family=\"Helvetica,sans-Serif\" font-size=\"14.00\" fill=\"#000000\">samples = 2</text>\n<text text-anchor=\"start\" x=\"3235\" y=\"-721.8\" font-family=\"Helvetica,sans-Serif\" font-size=\"14.00\" fill=\"#000000\">value = [1, 1, 0, 0, 0]</text>\n<text text-anchor=\"start\" x=\"3271\" y=\"-706.8\" font-family=\"Helvetica,sans-Serif\" font-size=\"14.00\" fill=\"#000000\">class = 0</text>\n</g>\n<!-- 86&#45;&gt;88 -->\n<g id=\"edge88\" class=\"edge\">\n<title>86&#45;&gt;88</title>\n<path fill=\"none\" stroke=\"#000000\" d=\"M3300,-817.8796C3300,-809.6838 3300,-800.9891 3300,-792.5013\"/>\n<polygon fill=\"#000000\" stroke=\"#000000\" points=\"3303.5001,-792.298 3300,-782.2981 3296.5001,-792.2981 3303.5001,-792.298\"/>\n</g>\n<!-- 89 -->\n<g id=\"node90\" class=\"node\">\n<title>89</title>\n<path fill=\"#7be539\" stroke=\"#000000\" d=\"M3197,-655.5C3197,-655.5 3075,-655.5 3075,-655.5 3069,-655.5 3063,-649.5 3063,-643.5 3063,-643.5 3063,-599.5 3063,-599.5 3063,-593.5 3069,-587.5 3075,-587.5 3075,-587.5 3197,-587.5 3197,-587.5 3203,-587.5 3209,-593.5 3209,-599.5 3209,-599.5 3209,-643.5 3209,-643.5 3209,-649.5 3203,-655.5 3197,-655.5\"/>\n<text text-anchor=\"start\" x=\"3106.5\" y=\"-640.3\" font-family=\"Helvetica,sans-Serif\" font-size=\"14.00\" fill=\"#000000\">gini = 0.0</text>\n<text text-anchor=\"start\" x=\"3096.5\" y=\"-625.3\" font-family=\"Helvetica,sans-Serif\" font-size=\"14.00\" fill=\"#000000\">samples = 1</text>\n<text text-anchor=\"start\" x=\"3071\" y=\"-610.3\" font-family=\"Helvetica,sans-Serif\" font-size=\"14.00\" fill=\"#000000\">value = [0, 1, 0, 0, 0]</text>\n<text text-anchor=\"start\" x=\"3107\" y=\"-595.3\" font-family=\"Helvetica,sans-Serif\" font-size=\"14.00\" fill=\"#000000\">class = 1</text>\n</g>\n<!-- 88&#45;&gt;89 -->\n<g id=\"edge89\" class=\"edge\">\n<title>88&#45;&gt;89</title>\n<path fill=\"none\" stroke=\"#000000\" d=\"M3242.6408,-698.8796C3226.0439,-686.8368 3207.9625,-673.7167 3191.4824,-661.7586\"/>\n<polygon fill=\"#000000\" stroke=\"#000000\" points=\"3193.176,-658.6632 3183.0267,-655.623 3189.0649,-664.3288 3193.176,-658.6632\"/>\n</g>\n<!-- 90 -->\n<g id=\"node91\" class=\"node\">\n<title>90</title>\n<path fill=\"#e58139\" stroke=\"#000000\" d=\"M3361,-655.5C3361,-655.5 3239,-655.5 3239,-655.5 3233,-655.5 3227,-649.5 3227,-643.5 3227,-643.5 3227,-599.5 3227,-599.5 3227,-593.5 3233,-587.5 3239,-587.5 3239,-587.5 3361,-587.5 3361,-587.5 3367,-587.5 3373,-593.5 3373,-599.5 3373,-599.5 3373,-643.5 3373,-643.5 3373,-649.5 3367,-655.5 3361,-655.5\"/>\n<text text-anchor=\"start\" x=\"3270.5\" y=\"-640.3\" font-family=\"Helvetica,sans-Serif\" font-size=\"14.00\" fill=\"#000000\">gini = 0.0</text>\n<text text-anchor=\"start\" x=\"3260.5\" y=\"-625.3\" font-family=\"Helvetica,sans-Serif\" font-size=\"14.00\" fill=\"#000000\">samples = 1</text>\n<text text-anchor=\"start\" x=\"3235\" y=\"-610.3\" font-family=\"Helvetica,sans-Serif\" font-size=\"14.00\" fill=\"#000000\">value = [1, 0, 0, 0, 0]</text>\n<text text-anchor=\"start\" x=\"3271\" y=\"-595.3\" font-family=\"Helvetica,sans-Serif\" font-size=\"14.00\" fill=\"#000000\">class = 0</text>\n</g>\n<!-- 88&#45;&gt;90 -->\n<g id=\"edge90\" class=\"edge\">\n<title>88&#45;&gt;90</title>\n<path fill=\"none\" stroke=\"#000000\" d=\"M3300,-698.8796C3300,-688.2134 3300,-676.7021 3300,-665.9015\"/>\n<polygon fill=\"#000000\" stroke=\"#000000\" points=\"3303.5001,-665.8149 3300,-655.8149 3296.5001,-665.815 3303.5001,-665.8149\"/>\n</g>\n<!-- 92 -->\n<g id=\"node93\" class=\"node\">\n<title>92</title>\n<path fill=\"#bdf29c\" stroke=\"#000000\" d=\"M3525,-782C3525,-782 3403,-782 3403,-782 3397,-782 3391,-776 3391,-770 3391,-770 3391,-711 3391,-711 3391,-705 3397,-699 3403,-699 3403,-699 3525,-699 3525,-699 3531,-699 3537,-705 3537,-711 3537,-711 3537,-770 3537,-770 3537,-776 3531,-782 3525,-782\"/>\n<text text-anchor=\"start\" x=\"3414\" y=\"-766.8\" font-family=\"Helvetica,sans-Serif\" font-size=\"14.00\" fill=\"#000000\">thalach ≤ 0.127</text>\n<text text-anchor=\"start\" x=\"3426\" y=\"-751.8\" font-family=\"Helvetica,sans-Serif\" font-size=\"14.00\" fill=\"#000000\">gini = 0.444</text>\n<text text-anchor=\"start\" x=\"3424.5\" y=\"-736.8\" font-family=\"Helvetica,sans-Serif\" font-size=\"14.00\" fill=\"#000000\">samples = 3</text>\n<text text-anchor=\"start\" x=\"3399\" y=\"-721.8\" font-family=\"Helvetica,sans-Serif\" font-size=\"14.00\" fill=\"#000000\">value = [1, 2, 0, 0, 0]</text>\n<text text-anchor=\"start\" x=\"3435\" y=\"-706.8\" font-family=\"Helvetica,sans-Serif\" font-size=\"14.00\" fill=\"#000000\">class = 1</text>\n</g>\n<!-- 91&#45;&gt;92 -->\n<g id=\"edge92\" class=\"edge\">\n<title>91&#45;&gt;92</title>\n<path fill=\"none\" stroke=\"#000000\" d=\"M3467.2512,-817.8796C3466.9069,-809.6838 3466.5416,-800.9891 3466.1849,-792.5013\"/>\n<polygon fill=\"#000000\" stroke=\"#000000\" points=\"3469.673,-792.1423 3465.7562,-782.2981 3462.6792,-792.4362 3469.673,-792.1423\"/>\n</g>\n<!-- 97 -->\n<g id=\"node98\" class=\"node\">\n<title>97</title>\n<path fill=\"#e58139\" stroke=\"#000000\" d=\"M3689,-774.5C3689,-774.5 3567,-774.5 3567,-774.5 3561,-774.5 3555,-768.5 3555,-762.5 3555,-762.5 3555,-718.5 3555,-718.5 3555,-712.5 3561,-706.5 3567,-706.5 3567,-706.5 3689,-706.5 3689,-706.5 3695,-706.5 3701,-712.5 3701,-718.5 3701,-718.5 3701,-762.5 3701,-762.5 3701,-768.5 3695,-774.5 3689,-774.5\"/>\n<text text-anchor=\"start\" x=\"3598.5\" y=\"-759.3\" font-family=\"Helvetica,sans-Serif\" font-size=\"14.00\" fill=\"#000000\">gini = 0.0</text>\n<text text-anchor=\"start\" x=\"3588.5\" y=\"-744.3\" font-family=\"Helvetica,sans-Serif\" font-size=\"14.00\" fill=\"#000000\">samples = 3</text>\n<text text-anchor=\"start\" x=\"3563\" y=\"-729.3\" font-family=\"Helvetica,sans-Serif\" font-size=\"14.00\" fill=\"#000000\">value = [3, 0, 0, 0, 0]</text>\n<text text-anchor=\"start\" x=\"3599\" y=\"-714.3\" font-family=\"Helvetica,sans-Serif\" font-size=\"14.00\" fill=\"#000000\">class = 0</text>\n</g>\n<!-- 91&#45;&gt;97 -->\n<g id=\"edge97\" class=\"edge\">\n<title>91&#45;&gt;97</title>\n<path fill=\"none\" stroke=\"#000000\" d=\"M3524.6105,-817.8796C3540.7013,-805.8368 3558.2315,-792.7167 3574.2091,-780.7586\"/>\n<polygon fill=\"#000000\" stroke=\"#000000\" points=\"3576.4982,-783.4171 3582.407,-774.623 3572.3038,-777.8129 3576.4982,-783.4171\"/>\n</g>\n<!-- 93 -->\n<g id=\"node94\" class=\"node\">\n<title>93</title>\n<path fill=\"#7be539\" stroke=\"#000000\" d=\"M3525,-655.5C3525,-655.5 3403,-655.5 3403,-655.5 3397,-655.5 3391,-649.5 3391,-643.5 3391,-643.5 3391,-599.5 3391,-599.5 3391,-593.5 3397,-587.5 3403,-587.5 3403,-587.5 3525,-587.5 3525,-587.5 3531,-587.5 3537,-593.5 3537,-599.5 3537,-599.5 3537,-643.5 3537,-643.5 3537,-649.5 3531,-655.5 3525,-655.5\"/>\n<text text-anchor=\"start\" x=\"3434.5\" y=\"-640.3\" font-family=\"Helvetica,sans-Serif\" font-size=\"14.00\" fill=\"#000000\">gini = 0.0</text>\n<text text-anchor=\"start\" x=\"3424.5\" y=\"-625.3\" font-family=\"Helvetica,sans-Serif\" font-size=\"14.00\" fill=\"#000000\">samples = 1</text>\n<text text-anchor=\"start\" x=\"3399\" y=\"-610.3\" font-family=\"Helvetica,sans-Serif\" font-size=\"14.00\" fill=\"#000000\">value = [0, 1, 0, 0, 0]</text>\n<text text-anchor=\"start\" x=\"3435\" y=\"-595.3\" font-family=\"Helvetica,sans-Serif\" font-size=\"14.00\" fill=\"#000000\">class = 1</text>\n</g>\n<!-- 92&#45;&gt;93 -->\n<g id=\"edge93\" class=\"edge\">\n<title>92&#45;&gt;93</title>\n<path fill=\"none\" stroke=\"#000000\" d=\"M3464,-698.8796C3464,-688.2134 3464,-676.7021 3464,-665.9015\"/>\n<polygon fill=\"#000000\" stroke=\"#000000\" points=\"3467.5001,-665.8149 3464,-655.8149 3460.5001,-665.815 3467.5001,-665.8149\"/>\n</g>\n<!-- 94 -->\n<g id=\"node95\" class=\"node\">\n<title>94</title>\n<path fill=\"#ffffff\" stroke=\"#000000\" d=\"M3689,-663C3689,-663 3567,-663 3567,-663 3561,-663 3555,-657 3555,-651 3555,-651 3555,-592 3555,-592 3555,-586 3561,-580 3567,-580 3567,-580 3689,-580 3689,-580 3695,-580 3701,-586 3701,-592 3701,-592 3701,-651 3701,-651 3701,-657 3695,-663 3689,-663\"/>\n<text text-anchor=\"start\" x=\"3588.5\" y=\"-647.8\" font-family=\"Helvetica,sans-Serif\" font-size=\"14.00\" fill=\"#000000\">chol ≤ 0.209</text>\n<text text-anchor=\"start\" x=\"3598.5\" y=\"-632.8\" font-family=\"Helvetica,sans-Serif\" font-size=\"14.00\" fill=\"#000000\">gini = 0.5</text>\n<text text-anchor=\"start\" x=\"3588.5\" y=\"-617.8\" font-family=\"Helvetica,sans-Serif\" font-size=\"14.00\" fill=\"#000000\">samples = 2</text>\n<text text-anchor=\"start\" x=\"3563\" y=\"-602.8\" font-family=\"Helvetica,sans-Serif\" font-size=\"14.00\" fill=\"#000000\">value = [1, 1, 0, 0, 0]</text>\n<text text-anchor=\"start\" x=\"3599\" y=\"-587.8\" font-family=\"Helvetica,sans-Serif\" font-size=\"14.00\" fill=\"#000000\">class = 0</text>\n</g>\n<!-- 92&#45;&gt;94 -->\n<g id=\"edge94\" class=\"edge\">\n<title>92&#45;&gt;94</title>\n<path fill=\"none\" stroke=\"#000000\" d=\"M3521.3592,-698.8796C3534.5925,-689.2774 3548.7697,-678.9903 3562.3264,-669.1534\"/>\n<polygon fill=\"#000000\" stroke=\"#000000\" points=\"3564.6349,-671.8027 3570.6731,-663.0969 3560.5238,-666.1371 3564.6349,-671.8027\"/>\n</g>\n<!-- 95 -->\n<g id=\"node96\" class=\"node\">\n<title>95</title>\n<path fill=\"#e58139\" stroke=\"#000000\" d=\"M3607,-536.5C3607,-536.5 3485,-536.5 3485,-536.5 3479,-536.5 3473,-530.5 3473,-524.5 3473,-524.5 3473,-480.5 3473,-480.5 3473,-474.5 3479,-468.5 3485,-468.5 3485,-468.5 3607,-468.5 3607,-468.5 3613,-468.5 3619,-474.5 3619,-480.5 3619,-480.5 3619,-524.5 3619,-524.5 3619,-530.5 3613,-536.5 3607,-536.5\"/>\n<text text-anchor=\"start\" x=\"3516.5\" y=\"-521.3\" font-family=\"Helvetica,sans-Serif\" font-size=\"14.00\" fill=\"#000000\">gini = 0.0</text>\n<text text-anchor=\"start\" x=\"3506.5\" y=\"-506.3\" font-family=\"Helvetica,sans-Serif\" font-size=\"14.00\" fill=\"#000000\">samples = 1</text>\n<text text-anchor=\"start\" x=\"3481\" y=\"-491.3\" font-family=\"Helvetica,sans-Serif\" font-size=\"14.00\" fill=\"#000000\">value = [1, 0, 0, 0, 0]</text>\n<text text-anchor=\"start\" x=\"3517\" y=\"-476.3\" font-family=\"Helvetica,sans-Serif\" font-size=\"14.00\" fill=\"#000000\">class = 0</text>\n</g>\n<!-- 94&#45;&gt;95 -->\n<g id=\"edge95\" class=\"edge\">\n<title>94&#45;&gt;95</title>\n<path fill=\"none\" stroke=\"#000000\" d=\"M3599.3204,-579.8796C3591.5917,-568.6636 3583.2191,-556.5131 3575.4492,-545.2372\"/>\n<polygon fill=\"#000000\" stroke=\"#000000\" points=\"3578.2018,-543.0634 3569.6456,-536.8149 3572.4377,-547.0353 3578.2018,-543.0634\"/>\n</g>\n<!-- 96 -->\n<g id=\"node97\" class=\"node\">\n<title>96</title>\n<path fill=\"#7be539\" stroke=\"#000000\" d=\"M3771,-536.5C3771,-536.5 3649,-536.5 3649,-536.5 3643,-536.5 3637,-530.5 3637,-524.5 3637,-524.5 3637,-480.5 3637,-480.5 3637,-474.5 3643,-468.5 3649,-468.5 3649,-468.5 3771,-468.5 3771,-468.5 3777,-468.5 3783,-474.5 3783,-480.5 3783,-480.5 3783,-524.5 3783,-524.5 3783,-530.5 3777,-536.5 3771,-536.5\"/>\n<text text-anchor=\"start\" x=\"3680.5\" y=\"-521.3\" font-family=\"Helvetica,sans-Serif\" font-size=\"14.00\" fill=\"#000000\">gini = 0.0</text>\n<text text-anchor=\"start\" x=\"3670.5\" y=\"-506.3\" font-family=\"Helvetica,sans-Serif\" font-size=\"14.00\" fill=\"#000000\">samples = 1</text>\n<text text-anchor=\"start\" x=\"3645\" y=\"-491.3\" font-family=\"Helvetica,sans-Serif\" font-size=\"14.00\" fill=\"#000000\">value = [0, 1, 0, 0, 0]</text>\n<text text-anchor=\"start\" x=\"3681\" y=\"-476.3\" font-family=\"Helvetica,sans-Serif\" font-size=\"14.00\" fill=\"#000000\">class = 1</text>\n</g>\n<!-- 94&#45;&gt;96 -->\n<g id=\"edge96\" class=\"edge\">\n<title>94&#45;&gt;96</title>\n<path fill=\"none\" stroke=\"#000000\" d=\"M3656.6796,-579.8796C3664.4083,-568.6636 3672.7809,-556.5131 3680.5508,-545.2372\"/>\n<polygon fill=\"#000000\" stroke=\"#000000\" points=\"3683.5623,-547.0353 3686.3544,-536.8149 3677.7982,-543.0634 3683.5623,-547.0353\"/>\n</g>\n<!-- 100 -->\n<g id=\"node101\" class=\"node\">\n<title>100</title>\n<path fill=\"#bdf6ec\" stroke=\"#000000\" d=\"M3915,-1258C3915,-1258 3793,-1258 3793,-1258 3787,-1258 3781,-1252 3781,-1246 3781,-1246 3781,-1187 3781,-1187 3781,-1181 3787,-1175 3793,-1175 3793,-1175 3915,-1175 3915,-1175 3921,-1175 3927,-1181 3927,-1187 3927,-1187 3927,-1246 3927,-1246 3927,-1252 3921,-1258 3915,-1258\"/>\n<text text-anchor=\"start\" x=\"3799.5\" y=\"-1242.8\" font-family=\"Helvetica,sans-Serif\" font-size=\"14.00\" fill=\"#000000\">trestbps ≤ &#45;0.495</text>\n<text text-anchor=\"start\" x=\"3816\" y=\"-1227.8\" font-family=\"Helvetica,sans-Serif\" font-size=\"14.00\" fill=\"#000000\">gini = 0.568</text>\n<text text-anchor=\"start\" x=\"3814.5\" y=\"-1212.8\" font-family=\"Helvetica,sans-Serif\" font-size=\"14.00\" fill=\"#000000\">samples = 9</text>\n<text text-anchor=\"start\" x=\"3789\" y=\"-1197.8\" font-family=\"Helvetica,sans-Serif\" font-size=\"14.00\" fill=\"#000000\">value = [1, 0, 5, 3, 0]</text>\n<text text-anchor=\"start\" x=\"3825\" y=\"-1182.8\" font-family=\"Helvetica,sans-Serif\" font-size=\"14.00\" fill=\"#000000\">class = 2</text>\n</g>\n<!-- 99&#45;&gt;100 -->\n<g id=\"edge100\" class=\"edge\">\n<title>99&#45;&gt;100</title>\n<path fill=\"none\" stroke=\"#000000\" d=\"M3854,-1293.8796C3854,-1285.6838 3854,-1276.9891 3854,-1268.5013\"/>\n<polygon fill=\"#000000\" stroke=\"#000000\" points=\"3857.5001,-1268.298 3854,-1258.2981 3850.5001,-1268.2981 3857.5001,-1268.298\"/>\n</g>\n<!-- 109 -->\n<g id=\"node110\" class=\"node\">\n<title>109</title>\n<path fill=\"#ffffff\" stroke=\"#000000\" d=\"M4161,-1258C4161,-1258 4039,-1258 4039,-1258 4033,-1258 4027,-1252 4027,-1246 4027,-1246 4027,-1187 4027,-1187 4027,-1181 4033,-1175 4039,-1175 4039,-1175 4161,-1175 4161,-1175 4167,-1175 4173,-1181 4173,-1187 4173,-1187 4173,-1246 4173,-1246 4173,-1252 4167,-1258 4161,-1258\"/>\n<text text-anchor=\"start\" x=\"4048\" y=\"-1242.8\" font-family=\"Helvetica,sans-Serif\" font-size=\"14.00\" fill=\"#000000\">oldpeak ≤ 0.613</text>\n<text text-anchor=\"start\" x=\"4062\" y=\"-1227.8\" font-family=\"Helvetica,sans-Serif\" font-size=\"14.00\" fill=\"#000000\">gini = 0.688</text>\n<text text-anchor=\"start\" x=\"4060.5\" y=\"-1212.8\" font-family=\"Helvetica,sans-Serif\" font-size=\"14.00\" fill=\"#000000\">samples = 8</text>\n<text text-anchor=\"start\" x=\"4035\" y=\"-1197.8\" font-family=\"Helvetica,sans-Serif\" font-size=\"14.00\" fill=\"#000000\">value = [3, 3, 0, 1, 1]</text>\n<text text-anchor=\"start\" x=\"4071\" y=\"-1182.8\" font-family=\"Helvetica,sans-Serif\" font-size=\"14.00\" fill=\"#000000\">class = 0</text>\n</g>\n<!-- 99&#45;&gt;109 -->\n<g id=\"edge109\" class=\"edge\">\n<title>99&#45;&gt;109</title>\n<path fill=\"none\" stroke=\"#000000\" d=\"M3927.1421,-1300.1183C3955.5133,-1286.394 3988.1445,-1270.6089 4017.3594,-1256.4766\"/>\n<polygon fill=\"#000000\" stroke=\"#000000\" points=\"4019.2371,-1259.4563 4026.715,-1251.9509 4016.1888,-1253.1549 4019.2371,-1259.4563\"/>\n</g>\n<!-- 101 -->\n<g id=\"node102\" class=\"node\">\n<title>101</title>\n<path fill=\"#3c39e5\" stroke=\"#000000\" d=\"M3833,-1131.5C3833,-1131.5 3711,-1131.5 3711,-1131.5 3705,-1131.5 3699,-1125.5 3699,-1119.5 3699,-1119.5 3699,-1075.5 3699,-1075.5 3699,-1069.5 3705,-1063.5 3711,-1063.5 3711,-1063.5 3833,-1063.5 3833,-1063.5 3839,-1063.5 3845,-1069.5 3845,-1075.5 3845,-1075.5 3845,-1119.5 3845,-1119.5 3845,-1125.5 3839,-1131.5 3833,-1131.5\"/>\n<text text-anchor=\"start\" x=\"3742.5\" y=\"-1116.3\" font-family=\"Helvetica,sans-Serif\" font-size=\"14.00\" fill=\"#000000\">gini = 0.0</text>\n<text text-anchor=\"start\" x=\"3732.5\" y=\"-1101.3\" font-family=\"Helvetica,sans-Serif\" font-size=\"14.00\" fill=\"#000000\">samples = 2</text>\n<text text-anchor=\"start\" x=\"3707\" y=\"-1086.3\" font-family=\"Helvetica,sans-Serif\" font-size=\"14.00\" fill=\"#000000\">value = [0, 0, 0, 2, 0]</text>\n<text text-anchor=\"start\" x=\"3743\" y=\"-1071.3\" font-family=\"Helvetica,sans-Serif\" font-size=\"14.00\" fill=\"#000000\">class = 3</text>\n</g>\n<!-- 100&#45;&gt;101 -->\n<g id=\"edge101\" class=\"edge\">\n<title>100&#45;&gt;101</title>\n<path fill=\"none\" stroke=\"#000000\" d=\"M3825.3204,-1174.8796C3817.5917,-1163.6636 3809.2191,-1151.5131 3801.4492,-1140.2372\"/>\n<polygon fill=\"#000000\" stroke=\"#000000\" points=\"3804.2018,-1138.0634 3795.6456,-1131.8149 3798.4377,-1142.0353 3804.2018,-1138.0634\"/>\n</g>\n<!-- 102 -->\n<g id=\"node103\" class=\"node\">\n<title>102</title>\n<path fill=\"#7beed8\" stroke=\"#000000\" d=\"M3997,-1139C3997,-1139 3875,-1139 3875,-1139 3869,-1139 3863,-1133 3863,-1127 3863,-1127 3863,-1068 3863,-1068 3863,-1062 3869,-1056 3875,-1056 3875,-1056 3997,-1056 3997,-1056 4003,-1056 4009,-1062 4009,-1068 4009,-1068 4009,-1127 4009,-1127 4009,-1133 4003,-1139 3997,-1139\"/>\n<text text-anchor=\"start\" x=\"3897.5\" y=\"-1123.8\" font-family=\"Helvetica,sans-Serif\" font-size=\"14.00\" fill=\"#000000\">age ≤ 1.669</text>\n<text text-anchor=\"start\" x=\"3898\" y=\"-1108.8\" font-family=\"Helvetica,sans-Serif\" font-size=\"14.00\" fill=\"#000000\">gini = 0.449</text>\n<text text-anchor=\"start\" x=\"3896.5\" y=\"-1093.8\" font-family=\"Helvetica,sans-Serif\" font-size=\"14.00\" fill=\"#000000\">samples = 7</text>\n<text text-anchor=\"start\" x=\"3871\" y=\"-1078.8\" font-family=\"Helvetica,sans-Serif\" font-size=\"14.00\" fill=\"#000000\">value = [1, 0, 5, 1, 0]</text>\n<text text-anchor=\"start\" x=\"3907\" y=\"-1063.8\" font-family=\"Helvetica,sans-Serif\" font-size=\"14.00\" fill=\"#000000\">class = 2</text>\n</g>\n<!-- 100&#45;&gt;102 -->\n<g id=\"edge102\" class=\"edge\">\n<title>100&#45;&gt;102</title>\n<path fill=\"none\" stroke=\"#000000\" d=\"M3882.6796,-1174.8796C3888.7615,-1166.0534 3895.2422,-1156.6485 3901.5141,-1147.5466\"/>\n<polygon fill=\"#000000\" stroke=\"#000000\" points=\"3904.4059,-1149.5184 3907.198,-1139.2981 3898.6418,-1145.5465 3904.4059,-1149.5184\"/>\n</g>\n<!-- 103 -->\n<g id=\"node104\" class=\"node\">\n<title>103</title>\n<path fill=\"#61ead1\" stroke=\"#000000\" d=\"M3833,-1020C3833,-1020 3711,-1020 3711,-1020 3705,-1020 3699,-1014 3699,-1008 3699,-1008 3699,-949 3699,-949 3699,-943 3705,-937 3711,-937 3711,-937 3833,-937 3833,-937 3839,-937 3845,-943 3845,-949 3845,-949 3845,-1008 3845,-1008 3845,-1014 3839,-1020 3833,-1020\"/>\n<text text-anchor=\"start\" x=\"3730\" y=\"-1004.8\" font-family=\"Helvetica,sans-Serif\" font-size=\"14.00\" fill=\"#000000\">chol ≤ &#45;0.158</text>\n<text text-anchor=\"start\" x=\"3734\" y=\"-989.8\" font-family=\"Helvetica,sans-Serif\" font-size=\"14.00\" fill=\"#000000\">gini = 0.278</text>\n<text text-anchor=\"start\" x=\"3732.5\" y=\"-974.8\" font-family=\"Helvetica,sans-Serif\" font-size=\"14.00\" fill=\"#000000\">samples = 6</text>\n<text text-anchor=\"start\" x=\"3707\" y=\"-959.8\" font-family=\"Helvetica,sans-Serif\" font-size=\"14.00\" fill=\"#000000\">value = [1, 0, 5, 0, 0]</text>\n<text text-anchor=\"start\" x=\"3743\" y=\"-944.8\" font-family=\"Helvetica,sans-Serif\" font-size=\"14.00\" fill=\"#000000\">class = 2</text>\n</g>\n<!-- 102&#45;&gt;103 -->\n<g id=\"edge103\" class=\"edge\">\n<title>102&#45;&gt;103</title>\n<path fill=\"none\" stroke=\"#000000\" d=\"M3878.6408,-1055.8796C3865.4075,-1046.2774 3851.2303,-1035.9903 3837.6736,-1026.1534\"/>\n<polygon fill=\"#000000\" stroke=\"#000000\" points=\"3839.4762,-1023.1371 3829.3269,-1020.0969 3835.3651,-1028.8027 3839.4762,-1023.1371\"/>\n</g>\n<!-- 108 -->\n<g id=\"node109\" class=\"node\">\n<title>108</title>\n<path fill=\"#3c39e5\" stroke=\"#000000\" d=\"M3997,-1012.5C3997,-1012.5 3875,-1012.5 3875,-1012.5 3869,-1012.5 3863,-1006.5 3863,-1000.5 3863,-1000.5 3863,-956.5 3863,-956.5 3863,-950.5 3869,-944.5 3875,-944.5 3875,-944.5 3997,-944.5 3997,-944.5 4003,-944.5 4009,-950.5 4009,-956.5 4009,-956.5 4009,-1000.5 4009,-1000.5 4009,-1006.5 4003,-1012.5 3997,-1012.5\"/>\n<text text-anchor=\"start\" x=\"3906.5\" y=\"-997.3\" font-family=\"Helvetica,sans-Serif\" font-size=\"14.00\" fill=\"#000000\">gini = 0.0</text>\n<text text-anchor=\"start\" x=\"3896.5\" y=\"-982.3\" font-family=\"Helvetica,sans-Serif\" font-size=\"14.00\" fill=\"#000000\">samples = 1</text>\n<text text-anchor=\"start\" x=\"3871\" y=\"-967.3\" font-family=\"Helvetica,sans-Serif\" font-size=\"14.00\" fill=\"#000000\">value = [0, 0, 0, 1, 0]</text>\n<text text-anchor=\"start\" x=\"3907\" y=\"-952.3\" font-family=\"Helvetica,sans-Serif\" font-size=\"14.00\" fill=\"#000000\">class = 3</text>\n</g>\n<!-- 102&#45;&gt;108 -->\n<g id=\"edge108\" class=\"edge\">\n<title>102&#45;&gt;108</title>\n<path fill=\"none\" stroke=\"#000000\" d=\"M3936,-1055.8796C3936,-1045.2134 3936,-1033.7021 3936,-1022.9015\"/>\n<polygon fill=\"#000000\" stroke=\"#000000\" points=\"3939.5001,-1022.8149 3936,-1012.8149 3932.5001,-1022.815 3939.5001,-1022.8149\"/>\n</g>\n<!-- 104 -->\n<g id=\"node105\" class=\"node\">\n<title>104</title>\n<path fill=\"#ffffff\" stroke=\"#000000\" d=\"M3833,-901C3833,-901 3711,-901 3711,-901 3705,-901 3699,-895 3699,-889 3699,-889 3699,-830 3699,-830 3699,-824 3705,-818 3711,-818 3711,-818 3833,-818 3833,-818 3839,-818 3845,-824 3845,-830 3845,-830 3845,-889 3845,-889 3845,-895 3839,-901 3833,-901\"/>\n<text text-anchor=\"start\" x=\"3733.5\" y=\"-885.8\" font-family=\"Helvetica,sans-Serif\" font-size=\"14.00\" fill=\"#000000\">age ≤ 0.672</text>\n<text text-anchor=\"start\" x=\"3742.5\" y=\"-870.8\" font-family=\"Helvetica,sans-Serif\" font-size=\"14.00\" fill=\"#000000\">gini = 0.5</text>\n<text text-anchor=\"start\" x=\"3732.5\" y=\"-855.8\" font-family=\"Helvetica,sans-Serif\" font-size=\"14.00\" fill=\"#000000\">samples = 2</text>\n<text text-anchor=\"start\" x=\"3707\" y=\"-840.8\" font-family=\"Helvetica,sans-Serif\" font-size=\"14.00\" fill=\"#000000\">value = [1, 0, 1, 0, 0]</text>\n<text text-anchor=\"start\" x=\"3743\" y=\"-825.8\" font-family=\"Helvetica,sans-Serif\" font-size=\"14.00\" fill=\"#000000\">class = 0</text>\n</g>\n<!-- 103&#45;&gt;104 -->\n<g id=\"edge104\" class=\"edge\">\n<title>103&#45;&gt;104</title>\n<path fill=\"none\" stroke=\"#000000\" d=\"M3772,-936.8796C3772,-928.6838 3772,-919.9891 3772,-911.5013\"/>\n<polygon fill=\"#000000\" stroke=\"#000000\" points=\"3775.5001,-911.298 3772,-901.2981 3768.5001,-911.2981 3775.5001,-911.298\"/>\n</g>\n<!-- 107 -->\n<g id=\"node108\" class=\"node\">\n<title>107</title>\n<path fill=\"#39e5c5\" stroke=\"#000000\" d=\"M3997,-893.5C3997,-893.5 3875,-893.5 3875,-893.5 3869,-893.5 3863,-887.5 3863,-881.5 3863,-881.5 3863,-837.5 3863,-837.5 3863,-831.5 3869,-825.5 3875,-825.5 3875,-825.5 3997,-825.5 3997,-825.5 4003,-825.5 4009,-831.5 4009,-837.5 4009,-837.5 4009,-881.5 4009,-881.5 4009,-887.5 4003,-893.5 3997,-893.5\"/>\n<text text-anchor=\"start\" x=\"3906.5\" y=\"-878.3\" font-family=\"Helvetica,sans-Serif\" font-size=\"14.00\" fill=\"#000000\">gini = 0.0</text>\n<text text-anchor=\"start\" x=\"3896.5\" y=\"-863.3\" font-family=\"Helvetica,sans-Serif\" font-size=\"14.00\" fill=\"#000000\">samples = 4</text>\n<text text-anchor=\"start\" x=\"3871\" y=\"-848.3\" font-family=\"Helvetica,sans-Serif\" font-size=\"14.00\" fill=\"#000000\">value = [0, 0, 4, 0, 0]</text>\n<text text-anchor=\"start\" x=\"3907\" y=\"-833.3\" font-family=\"Helvetica,sans-Serif\" font-size=\"14.00\" fill=\"#000000\">class = 2</text>\n</g>\n<!-- 103&#45;&gt;107 -->\n<g id=\"edge107\" class=\"edge\">\n<title>103&#45;&gt;107</title>\n<path fill=\"none\" stroke=\"#000000\" d=\"M3829.3592,-936.8796C3845.9561,-924.8368 3864.0375,-911.7167 3880.5176,-899.7586\"/>\n<polygon fill=\"#000000\" stroke=\"#000000\" points=\"3882.9351,-902.3288 3888.9733,-893.623 3878.824,-896.6632 3882.9351,-902.3288\"/>\n</g>\n<!-- 105 -->\n<g id=\"node106\" class=\"node\">\n<title>105</title>\n<path fill=\"#39e5c5\" stroke=\"#000000\" d=\"M3853,-774.5C3853,-774.5 3731,-774.5 3731,-774.5 3725,-774.5 3719,-768.5 3719,-762.5 3719,-762.5 3719,-718.5 3719,-718.5 3719,-712.5 3725,-706.5 3731,-706.5 3731,-706.5 3853,-706.5 3853,-706.5 3859,-706.5 3865,-712.5 3865,-718.5 3865,-718.5 3865,-762.5 3865,-762.5 3865,-768.5 3859,-774.5 3853,-774.5\"/>\n<text text-anchor=\"start\" x=\"3762.5\" y=\"-759.3\" font-family=\"Helvetica,sans-Serif\" font-size=\"14.00\" fill=\"#000000\">gini = 0.0</text>\n<text text-anchor=\"start\" x=\"3752.5\" y=\"-744.3\" font-family=\"Helvetica,sans-Serif\" font-size=\"14.00\" fill=\"#000000\">samples = 1</text>\n<text text-anchor=\"start\" x=\"3727\" y=\"-729.3\" font-family=\"Helvetica,sans-Serif\" font-size=\"14.00\" fill=\"#000000\">value = [0, 0, 1, 0, 0]</text>\n<text text-anchor=\"start\" x=\"3763\" y=\"-714.3\" font-family=\"Helvetica,sans-Serif\" font-size=\"14.00\" fill=\"#000000\">class = 2</text>\n</g>\n<!-- 104&#45;&gt;105 -->\n<g id=\"edge105\" class=\"edge\">\n<title>104&#45;&gt;105</title>\n<path fill=\"none\" stroke=\"#000000\" d=\"M3778.995,-817.8796C3780.7877,-807.2134 3782.7223,-795.7021 3784.5376,-784.9015\"/>\n<polygon fill=\"#000000\" stroke=\"#000000\" points=\"3788.0269,-785.2568 3786.2328,-774.8149 3781.1237,-784.0965 3788.0269,-785.2568\"/>\n</g>\n<!-- 106 -->\n<g id=\"node107\" class=\"node\">\n<title>106</title>\n<path fill=\"#e58139\" stroke=\"#000000\" d=\"M4017,-774.5C4017,-774.5 3895,-774.5 3895,-774.5 3889,-774.5 3883,-768.5 3883,-762.5 3883,-762.5 3883,-718.5 3883,-718.5 3883,-712.5 3889,-706.5 3895,-706.5 3895,-706.5 4017,-706.5 4017,-706.5 4023,-706.5 4029,-712.5 4029,-718.5 4029,-718.5 4029,-762.5 4029,-762.5 4029,-768.5 4023,-774.5 4017,-774.5\"/>\n<text text-anchor=\"start\" x=\"3926.5\" y=\"-759.3\" font-family=\"Helvetica,sans-Serif\" font-size=\"14.00\" fill=\"#000000\">gini = 0.0</text>\n<text text-anchor=\"start\" x=\"3916.5\" y=\"-744.3\" font-family=\"Helvetica,sans-Serif\" font-size=\"14.00\" fill=\"#000000\">samples = 1</text>\n<text text-anchor=\"start\" x=\"3891\" y=\"-729.3\" font-family=\"Helvetica,sans-Serif\" font-size=\"14.00\" fill=\"#000000\">value = [1, 0, 0, 0, 0]</text>\n<text text-anchor=\"start\" x=\"3927\" y=\"-714.3\" font-family=\"Helvetica,sans-Serif\" font-size=\"14.00\" fill=\"#000000\">class = 0</text>\n</g>\n<!-- 104&#45;&gt;106 -->\n<g id=\"edge106\" class=\"edge\">\n<title>104&#45;&gt;106</title>\n<path fill=\"none\" stroke=\"#000000\" d=\"M3836.3543,-817.8796C3855.3167,-805.6158 3876.0066,-792.2348 3894.7674,-780.1015\"/>\n<polygon fill=\"#000000\" stroke=\"#000000\" points=\"3896.7421,-782.9926 3903.2383,-774.623 3892.9407,-777.1148 3896.7421,-782.9926\"/>\n</g>\n<!-- 110 -->\n<g id=\"node111\" class=\"node\">\n<title>110</title>\n<path fill=\"#ffffff\" stroke=\"#000000\" d=\"M4161,-1139C4161,-1139 4039,-1139 4039,-1139 4033,-1139 4027,-1133 4027,-1127 4027,-1127 4027,-1068 4027,-1068 4027,-1062 4033,-1056 4039,-1056 4039,-1056 4161,-1056 4161,-1056 4167,-1056 4173,-1062 4173,-1068 4173,-1068 4173,-1127 4173,-1127 4173,-1133 4167,-1139 4161,-1139\"/>\n<text text-anchor=\"start\" x=\"4054\" y=\"-1123.8\" font-family=\"Helvetica,sans-Serif\" font-size=\"14.00\" fill=\"#000000\">slope ≤ &#45;0.164</text>\n<text text-anchor=\"start\" x=\"4070.5\" y=\"-1108.8\" font-family=\"Helvetica,sans-Serif\" font-size=\"14.00\" fill=\"#000000\">gini = 0.5</text>\n<text text-anchor=\"start\" x=\"4060.5\" y=\"-1093.8\" font-family=\"Helvetica,sans-Serif\" font-size=\"14.00\" fill=\"#000000\">samples = 6</text>\n<text text-anchor=\"start\" x=\"4035\" y=\"-1078.8\" font-family=\"Helvetica,sans-Serif\" font-size=\"14.00\" fill=\"#000000\">value = [3, 3, 0, 0, 0]</text>\n<text text-anchor=\"start\" x=\"4071\" y=\"-1063.8\" font-family=\"Helvetica,sans-Serif\" font-size=\"14.00\" fill=\"#000000\">class = 0</text>\n</g>\n<!-- 109&#45;&gt;110 -->\n<g id=\"edge110\" class=\"edge\">\n<title>109&#45;&gt;110</title>\n<path fill=\"none\" stroke=\"#000000\" d=\"M4100,-1174.8796C4100,-1166.6838 4100,-1157.9891 4100,-1149.5013\"/>\n<polygon fill=\"#000000\" stroke=\"#000000\" points=\"4103.5001,-1149.298 4100,-1139.2981 4096.5001,-1149.2981 4103.5001,-1149.298\"/>\n</g>\n<!-- 115 -->\n<g id=\"node116\" class=\"node\">\n<title>115</title>\n<path fill=\"#ffffff\" stroke=\"#000000\" d=\"M4489,-1139C4489,-1139 4367,-1139 4367,-1139 4361,-1139 4355,-1133 4355,-1127 4355,-1127 4355,-1068 4355,-1068 4355,-1062 4361,-1056 4367,-1056 4367,-1056 4489,-1056 4489,-1056 4495,-1056 4501,-1062 4501,-1068 4501,-1068 4501,-1127 4501,-1127 4501,-1133 4495,-1139 4489,-1139\"/>\n<text text-anchor=\"start\" x=\"4376\" y=\"-1123.8\" font-family=\"Helvetica,sans-Serif\" font-size=\"14.00\" fill=\"#000000\">oldpeak ≤ 1.562</text>\n<text text-anchor=\"start\" x=\"4398.5\" y=\"-1108.8\" font-family=\"Helvetica,sans-Serif\" font-size=\"14.00\" fill=\"#000000\">gini = 0.5</text>\n<text text-anchor=\"start\" x=\"4388.5\" y=\"-1093.8\" font-family=\"Helvetica,sans-Serif\" font-size=\"14.00\" fill=\"#000000\">samples = 2</text>\n<text text-anchor=\"start\" x=\"4363\" y=\"-1078.8\" font-family=\"Helvetica,sans-Serif\" font-size=\"14.00\" fill=\"#000000\">value = [0, 0, 0, 1, 1]</text>\n<text text-anchor=\"start\" x=\"4399\" y=\"-1063.8\" font-family=\"Helvetica,sans-Serif\" font-size=\"14.00\" fill=\"#000000\">class = 3</text>\n</g>\n<!-- 109&#45;&gt;115 -->\n<g id=\"edge115\" class=\"edge\">\n<title>109&#45;&gt;115</title>\n<path fill=\"none\" stroke=\"#000000\" d=\"M4173.2014,-1189.9422C4224.125,-1171.4669 4292.1039,-1146.8038 4345.0379,-1127.599\"/>\n<polygon fill=\"#000000\" stroke=\"#000000\" points=\"4346.5325,-1130.7801 4354.7393,-1124.0793 4344.1451,-1124.1998 4346.5325,-1130.7801\"/>\n</g>\n<!-- 111 -->\n<g id=\"node112\" class=\"node\">\n<title>111</title>\n<path fill=\"#eeab7b\" stroke=\"#000000\" d=\"M4161,-1020C4161,-1020 4039,-1020 4039,-1020 4033,-1020 4027,-1014 4027,-1008 4027,-1008 4027,-949 4027,-949 4027,-943 4033,-937 4039,-937 4039,-937 4161,-937 4161,-937 4167,-937 4173,-943 4173,-949 4173,-949 4173,-1008 4173,-1008 4173,-1014 4167,-1020 4161,-1020\"/>\n<text text-anchor=\"start\" x=\"4054\" y=\"-1004.8\" font-family=\"Helvetica,sans-Serif\" font-size=\"14.00\" fill=\"#000000\">restecg ≤ 0.01</text>\n<text text-anchor=\"start\" x=\"4062\" y=\"-989.8\" font-family=\"Helvetica,sans-Serif\" font-size=\"14.00\" fill=\"#000000\">gini = 0.375</text>\n<text text-anchor=\"start\" x=\"4060.5\" y=\"-974.8\" font-family=\"Helvetica,sans-Serif\" font-size=\"14.00\" fill=\"#000000\">samples = 4</text>\n<text text-anchor=\"start\" x=\"4035\" y=\"-959.8\" font-family=\"Helvetica,sans-Serif\" font-size=\"14.00\" fill=\"#000000\">value = [3, 1, 0, 0, 0]</text>\n<text text-anchor=\"start\" x=\"4071\" y=\"-944.8\" font-family=\"Helvetica,sans-Serif\" font-size=\"14.00\" fill=\"#000000\">class = 0</text>\n</g>\n<!-- 110&#45;&gt;111 -->\n<g id=\"edge111\" class=\"edge\">\n<title>110&#45;&gt;111</title>\n<path fill=\"none\" stroke=\"#000000\" d=\"M4100,-1055.8796C4100,-1047.6838 4100,-1038.9891 4100,-1030.5013\"/>\n<polygon fill=\"#000000\" stroke=\"#000000\" points=\"4103.5001,-1030.298 4100,-1020.2981 4096.5001,-1030.2981 4103.5001,-1030.298\"/>\n</g>\n<!-- 114 -->\n<g id=\"node115\" class=\"node\">\n<title>114</title>\n<path fill=\"#7be539\" stroke=\"#000000\" d=\"M4325,-1012.5C4325,-1012.5 4203,-1012.5 4203,-1012.5 4197,-1012.5 4191,-1006.5 4191,-1000.5 4191,-1000.5 4191,-956.5 4191,-956.5 4191,-950.5 4197,-944.5 4203,-944.5 4203,-944.5 4325,-944.5 4325,-944.5 4331,-944.5 4337,-950.5 4337,-956.5 4337,-956.5 4337,-1000.5 4337,-1000.5 4337,-1006.5 4331,-1012.5 4325,-1012.5\"/>\n<text text-anchor=\"start\" x=\"4234.5\" y=\"-997.3\" font-family=\"Helvetica,sans-Serif\" font-size=\"14.00\" fill=\"#000000\">gini = 0.0</text>\n<text text-anchor=\"start\" x=\"4224.5\" y=\"-982.3\" font-family=\"Helvetica,sans-Serif\" font-size=\"14.00\" fill=\"#000000\">samples = 2</text>\n<text text-anchor=\"start\" x=\"4199\" y=\"-967.3\" font-family=\"Helvetica,sans-Serif\" font-size=\"14.00\" fill=\"#000000\">value = [0, 2, 0, 0, 0]</text>\n<text text-anchor=\"start\" x=\"4235\" y=\"-952.3\" font-family=\"Helvetica,sans-Serif\" font-size=\"14.00\" fill=\"#000000\">class = 1</text>\n</g>\n<!-- 110&#45;&gt;114 -->\n<g id=\"edge114\" class=\"edge\">\n<title>110&#45;&gt;114</title>\n<path fill=\"none\" stroke=\"#000000\" d=\"M4157.3592,-1055.8796C4173.9561,-1043.8368 4192.0375,-1030.7167 4208.5176,-1018.7586\"/>\n<polygon fill=\"#000000\" stroke=\"#000000\" points=\"4210.9351,-1021.3288 4216.9733,-1012.623 4206.824,-1015.6632 4210.9351,-1021.3288\"/>\n</g>\n<!-- 112 -->\n<g id=\"node113\" class=\"node\">\n<title>112</title>\n<path fill=\"#e58139\" stroke=\"#000000\" d=\"M4161,-893.5C4161,-893.5 4039,-893.5 4039,-893.5 4033,-893.5 4027,-887.5 4027,-881.5 4027,-881.5 4027,-837.5 4027,-837.5 4027,-831.5 4033,-825.5 4039,-825.5 4039,-825.5 4161,-825.5 4161,-825.5 4167,-825.5 4173,-831.5 4173,-837.5 4173,-837.5 4173,-881.5 4173,-881.5 4173,-887.5 4167,-893.5 4161,-893.5\"/>\n<text text-anchor=\"start\" x=\"4070.5\" y=\"-878.3\" font-family=\"Helvetica,sans-Serif\" font-size=\"14.00\" fill=\"#000000\">gini = 0.0</text>\n<text text-anchor=\"start\" x=\"4060.5\" y=\"-863.3\" font-family=\"Helvetica,sans-Serif\" font-size=\"14.00\" fill=\"#000000\">samples = 3</text>\n<text text-anchor=\"start\" x=\"4035\" y=\"-848.3\" font-family=\"Helvetica,sans-Serif\" font-size=\"14.00\" fill=\"#000000\">value = [3, 0, 0, 0, 0]</text>\n<text text-anchor=\"start\" x=\"4071\" y=\"-833.3\" font-family=\"Helvetica,sans-Serif\" font-size=\"14.00\" fill=\"#000000\">class = 0</text>\n</g>\n<!-- 111&#45;&gt;112 -->\n<g id=\"edge112\" class=\"edge\">\n<title>111&#45;&gt;112</title>\n<path fill=\"none\" stroke=\"#000000\" d=\"M4100,-936.8796C4100,-926.2134 4100,-914.7021 4100,-903.9015\"/>\n<polygon fill=\"#000000\" stroke=\"#000000\" points=\"4103.5001,-903.8149 4100,-893.8149 4096.5001,-903.815 4103.5001,-903.8149\"/>\n</g>\n<!-- 113 -->\n<g id=\"node114\" class=\"node\">\n<title>113</title>\n<path fill=\"#7be539\" stroke=\"#000000\" d=\"M4325,-893.5C4325,-893.5 4203,-893.5 4203,-893.5 4197,-893.5 4191,-887.5 4191,-881.5 4191,-881.5 4191,-837.5 4191,-837.5 4191,-831.5 4197,-825.5 4203,-825.5 4203,-825.5 4325,-825.5 4325,-825.5 4331,-825.5 4337,-831.5 4337,-837.5 4337,-837.5 4337,-881.5 4337,-881.5 4337,-887.5 4331,-893.5 4325,-893.5\"/>\n<text text-anchor=\"start\" x=\"4234.5\" y=\"-878.3\" font-family=\"Helvetica,sans-Serif\" font-size=\"14.00\" fill=\"#000000\">gini = 0.0</text>\n<text text-anchor=\"start\" x=\"4224.5\" y=\"-863.3\" font-family=\"Helvetica,sans-Serif\" font-size=\"14.00\" fill=\"#000000\">samples = 1</text>\n<text text-anchor=\"start\" x=\"4199\" y=\"-848.3\" font-family=\"Helvetica,sans-Serif\" font-size=\"14.00\" fill=\"#000000\">value = [0, 1, 0, 0, 0]</text>\n<text text-anchor=\"start\" x=\"4235\" y=\"-833.3\" font-family=\"Helvetica,sans-Serif\" font-size=\"14.00\" fill=\"#000000\">class = 1</text>\n</g>\n<!-- 111&#45;&gt;113 -->\n<g id=\"edge113\" class=\"edge\">\n<title>111&#45;&gt;113</title>\n<path fill=\"none\" stroke=\"#000000\" d=\"M4157.3592,-936.8796C4173.9561,-924.8368 4192.0375,-911.7167 4208.5176,-899.7586\"/>\n<polygon fill=\"#000000\" stroke=\"#000000\" points=\"4210.9351,-902.3288 4216.9733,-893.623 4206.824,-896.6632 4210.9351,-902.3288\"/>\n</g>\n<!-- 116 -->\n<g id=\"node117\" class=\"node\">\n<title>116</title>\n<path fill=\"#e539c0\" stroke=\"#000000\" d=\"M4489,-1012.5C4489,-1012.5 4367,-1012.5 4367,-1012.5 4361,-1012.5 4355,-1006.5 4355,-1000.5 4355,-1000.5 4355,-956.5 4355,-956.5 4355,-950.5 4361,-944.5 4367,-944.5 4367,-944.5 4489,-944.5 4489,-944.5 4495,-944.5 4501,-950.5 4501,-956.5 4501,-956.5 4501,-1000.5 4501,-1000.5 4501,-1006.5 4495,-1012.5 4489,-1012.5\"/>\n<text text-anchor=\"start\" x=\"4398.5\" y=\"-997.3\" font-family=\"Helvetica,sans-Serif\" font-size=\"14.00\" fill=\"#000000\">gini = 0.0</text>\n<text text-anchor=\"start\" x=\"4388.5\" y=\"-982.3\" font-family=\"Helvetica,sans-Serif\" font-size=\"14.00\" fill=\"#000000\">samples = 1</text>\n<text text-anchor=\"start\" x=\"4363\" y=\"-967.3\" font-family=\"Helvetica,sans-Serif\" font-size=\"14.00\" fill=\"#000000\">value = [0, 0, 0, 0, 1]</text>\n<text text-anchor=\"start\" x=\"4399\" y=\"-952.3\" font-family=\"Helvetica,sans-Serif\" font-size=\"14.00\" fill=\"#000000\">class = 4</text>\n</g>\n<!-- 115&#45;&gt;116 -->\n<g id=\"edge116\" class=\"edge\">\n<title>115&#45;&gt;116</title>\n<path fill=\"none\" stroke=\"#000000\" d=\"M4428,-1055.8796C4428,-1045.2134 4428,-1033.7021 4428,-1022.9015\"/>\n<polygon fill=\"#000000\" stroke=\"#000000\" points=\"4431.5001,-1022.8149 4428,-1012.8149 4424.5001,-1022.815 4431.5001,-1022.8149\"/>\n</g>\n<!-- 117 -->\n<g id=\"node118\" class=\"node\">\n<title>117</title>\n<path fill=\"#3c39e5\" stroke=\"#000000\" d=\"M4653,-1012.5C4653,-1012.5 4531,-1012.5 4531,-1012.5 4525,-1012.5 4519,-1006.5 4519,-1000.5 4519,-1000.5 4519,-956.5 4519,-956.5 4519,-950.5 4525,-944.5 4531,-944.5 4531,-944.5 4653,-944.5 4653,-944.5 4659,-944.5 4665,-950.5 4665,-956.5 4665,-956.5 4665,-1000.5 4665,-1000.5 4665,-1006.5 4659,-1012.5 4653,-1012.5\"/>\n<text text-anchor=\"start\" x=\"4562.5\" y=\"-997.3\" font-family=\"Helvetica,sans-Serif\" font-size=\"14.00\" fill=\"#000000\">gini = 0.0</text>\n<text text-anchor=\"start\" x=\"4552.5\" y=\"-982.3\" font-family=\"Helvetica,sans-Serif\" font-size=\"14.00\" fill=\"#000000\">samples = 1</text>\n<text text-anchor=\"start\" x=\"4527\" y=\"-967.3\" font-family=\"Helvetica,sans-Serif\" font-size=\"14.00\" fill=\"#000000\">value = [0, 0, 0, 1, 0]</text>\n<text text-anchor=\"start\" x=\"4563\" y=\"-952.3\" font-family=\"Helvetica,sans-Serif\" font-size=\"14.00\" fill=\"#000000\">class = 3</text>\n</g>\n<!-- 115&#45;&gt;117 -->\n<g id=\"edge117\" class=\"edge\">\n<title>115&#45;&gt;117</title>\n<path fill=\"none\" stroke=\"#000000\" d=\"M4485.3592,-1055.8796C4501.9561,-1043.8368 4520.0375,-1030.7167 4536.5176,-1018.7586\"/>\n<polygon fill=\"#000000\" stroke=\"#000000\" points=\"4538.9351,-1021.3288 4544.9733,-1012.623 4534.824,-1015.6632 4538.9351,-1021.3288\"/>\n</g>\n<!-- 119 -->\n<g id=\"node120\" class=\"node\">\n<title>119</title>\n<path fill=\"#f7fdf3\" stroke=\"#000000\" d=\"M4899,-1377C4899,-1377 4777,-1377 4777,-1377 4771,-1377 4765,-1371 4765,-1365 4765,-1365 4765,-1306 4765,-1306 4765,-1300 4771,-1294 4777,-1294 4777,-1294 4899,-1294 4899,-1294 4905,-1294 4911,-1300 4911,-1306 4911,-1306 4911,-1365 4911,-1365 4911,-1371 4905,-1377 4899,-1377\"/>\n<text text-anchor=\"start\" x=\"4796\" y=\"-1361.8\" font-family=\"Helvetica,sans-Serif\" font-size=\"14.00\" fill=\"#000000\">chol ≤ &#45;0.178</text>\n<text text-anchor=\"start\" x=\"4800\" y=\"-1346.8\" font-family=\"Helvetica,sans-Serif\" font-size=\"14.00\" fill=\"#000000\">gini = 0.705</text>\n<text text-anchor=\"start\" x=\"4794\" y=\"-1331.8\" font-family=\"Helvetica,sans-Serif\" font-size=\"14.00\" fill=\"#000000\">samples = 24</text>\n<text text-anchor=\"start\" x=\"4773\" y=\"-1316.8\" font-family=\"Helvetica,sans-Serif\" font-size=\"14.00\" fill=\"#000000\">value = [8, 9, 3, 4, 0]</text>\n<text text-anchor=\"start\" x=\"4809\" y=\"-1301.8\" font-family=\"Helvetica,sans-Serif\" font-size=\"14.00\" fill=\"#000000\">class = 1</text>\n</g>\n<!-- 118&#45;&gt;119 -->\n<g id=\"edge119\" class=\"edge\">\n<title>118&#45;&gt;119</title>\n<path fill=\"none\" stroke=\"#000000\" d=\"M4838,-1412.8796C4838,-1404.6838 4838,-1395.9891 4838,-1387.5013\"/>\n<polygon fill=\"#000000\" stroke=\"#000000\" points=\"4841.5001,-1387.298 4838,-1377.2981 4834.5001,-1387.2981 4841.5001,-1387.298\"/>\n</g>\n<!-- 138 -->\n<g id=\"node139\" class=\"node\">\n<title>138</title>\n<path fill=\"#fbfefe\" stroke=\"#000000\" d=\"M5805.5,-1377C5805.5,-1377 5658.5,-1377 5658.5,-1377 5652.5,-1377 5646.5,-1371 5646.5,-1365 5646.5,-1365 5646.5,-1306 5646.5,-1306 5646.5,-1300 5652.5,-1294 5658.5,-1294 5658.5,-1294 5805.5,-1294 5805.5,-1294 5811.5,-1294 5817.5,-1300 5817.5,-1306 5817.5,-1306 5817.5,-1365 5817.5,-1365 5817.5,-1371 5811.5,-1377 5805.5,-1377\"/>\n<text text-anchor=\"start\" x=\"5680\" y=\"-1361.8\" font-family=\"Helvetica,sans-Serif\" font-size=\"14.00\" fill=\"#000000\">thalach ≤ &#45;0.662</text>\n<text text-anchor=\"start\" x=\"5694\" y=\"-1346.8\" font-family=\"Helvetica,sans-Serif\" font-size=\"14.00\" fill=\"#000000\">gini = 0.744</text>\n<text text-anchor=\"start\" x=\"5688\" y=\"-1331.8\" font-family=\"Helvetica,sans-Serif\" font-size=\"14.00\" fill=\"#000000\">samples = 67</text>\n<text text-anchor=\"start\" x=\"5654.5\" y=\"-1316.8\" font-family=\"Helvetica,sans-Serif\" font-size=\"14.00\" fill=\"#000000\">value = [2, 15, 21, 20, 9]</text>\n<text text-anchor=\"start\" x=\"5703\" y=\"-1301.8\" font-family=\"Helvetica,sans-Serif\" font-size=\"14.00\" fill=\"#000000\">class = 2</text>\n</g>\n<!-- 118&#45;&gt;138 -->\n<g id=\"edge138\" class=\"edge\">\n<title>118&#45;&gt;138</title>\n<path fill=\"none\" stroke=\"#000000\" d=\"M4927.8134,-1442.545C5097.1269,-1420.0077 5462.0926,-1371.4273 5636.0298,-1348.2746\"/>\n<polygon fill=\"#000000\" stroke=\"#000000\" points=\"5636.7433,-1351.7105 5646.194,-1346.9216 5635.8196,-1344.7717 5636.7433,-1351.7105\"/>\n</g>\n<!-- 120 -->\n<g id=\"node121\" class=\"node\">\n<title>120</title>\n<path fill=\"#f3c7a7\" stroke=\"#000000\" d=\"M4817,-1258C4817,-1258 4695,-1258 4695,-1258 4689,-1258 4683,-1252 4683,-1246 4683,-1246 4683,-1187 4683,-1187 4683,-1181 4689,-1175 4695,-1175 4695,-1175 4817,-1175 4817,-1175 4823,-1175 4829,-1181 4829,-1187 4829,-1187 4829,-1246 4829,-1246 4829,-1252 4823,-1258 4817,-1258\"/>\n<text text-anchor=\"start\" x=\"4715\" y=\"-1242.8\" font-family=\"Helvetica,sans-Serif\" font-size=\"14.00\" fill=\"#000000\">age ≤ &#45;1.378</text>\n<text text-anchor=\"start\" x=\"4718\" y=\"-1227.8\" font-family=\"Helvetica,sans-Serif\" font-size=\"14.00\" fill=\"#000000\">gini = 0.569</text>\n<text text-anchor=\"start\" x=\"4712\" y=\"-1212.8\" font-family=\"Helvetica,sans-Serif\" font-size=\"14.00\" fill=\"#000000\">samples = 12</text>\n<text text-anchor=\"start\" x=\"4691\" y=\"-1197.8\" font-family=\"Helvetica,sans-Serif\" font-size=\"14.00\" fill=\"#000000\">value = [7, 2, 3, 0, 0]</text>\n<text text-anchor=\"start\" x=\"4727\" y=\"-1182.8\" font-family=\"Helvetica,sans-Serif\" font-size=\"14.00\" fill=\"#000000\">class = 0</text>\n</g>\n<!-- 119&#45;&gt;120 -->\n<g id=\"edge120\" class=\"edge\">\n<title>119&#45;&gt;120</title>\n<path fill=\"none\" stroke=\"#000000\" d=\"M4809.3204,-1293.8796C4803.2385,-1285.0534 4796.7578,-1275.6485 4790.4859,-1266.5466\"/>\n<polygon fill=\"#000000\" stroke=\"#000000\" points=\"4793.3582,-1264.5465 4784.802,-1258.2981 4787.5941,-1268.5184 4793.3582,-1264.5465\"/>\n</g>\n<!-- 127 -->\n<g id=\"node128\" class=\"node\">\n<title>127</title>\n<path fill=\"#cef5b5\" stroke=\"#000000\" d=\"M4981,-1258C4981,-1258 4859,-1258 4859,-1258 4853,-1258 4847,-1252 4847,-1246 4847,-1246 4847,-1187 4847,-1187 4847,-1181 4853,-1175 4859,-1175 4859,-1175 4981,-1175 4981,-1175 4987,-1175 4993,-1181 4993,-1187 4993,-1187 4993,-1246 4993,-1246 4993,-1252 4987,-1258 4981,-1258\"/>\n<text text-anchor=\"start\" x=\"4876\" y=\"-1242.8\" font-family=\"Helvetica,sans-Serif\" font-size=\"14.00\" fill=\"#000000\">thalach ≤ &#45;1.8</text>\n<text text-anchor=\"start\" x=\"4882\" y=\"-1227.8\" font-family=\"Helvetica,sans-Serif\" font-size=\"14.00\" fill=\"#000000\">gini = 0.542</text>\n<text text-anchor=\"start\" x=\"4876\" y=\"-1212.8\" font-family=\"Helvetica,sans-Serif\" font-size=\"14.00\" fill=\"#000000\">samples = 12</text>\n<text text-anchor=\"start\" x=\"4855\" y=\"-1197.8\" font-family=\"Helvetica,sans-Serif\" font-size=\"14.00\" fill=\"#000000\">value = [1, 7, 0, 4, 0]</text>\n<text text-anchor=\"start\" x=\"4891\" y=\"-1182.8\" font-family=\"Helvetica,sans-Serif\" font-size=\"14.00\" fill=\"#000000\">class = 1</text>\n</g>\n<!-- 119&#45;&gt;127 -->\n<g id=\"edge127\" class=\"edge\">\n<title>119&#45;&gt;127</title>\n<path fill=\"none\" stroke=\"#000000\" d=\"M4866.6796,-1293.8796C4872.7615,-1285.0534 4879.2422,-1275.6485 4885.5141,-1266.5466\"/>\n<polygon fill=\"#000000\" stroke=\"#000000\" points=\"4888.4059,-1268.5184 4891.198,-1258.2981 4882.6418,-1264.5465 4888.4059,-1268.5184\"/>\n</g>\n<!-- 121 -->\n<g id=\"node122\" class=\"node\">\n<title>121</title>\n<path fill=\"#7be539\" stroke=\"#000000\" d=\"M4653,-1131.5C4653,-1131.5 4531,-1131.5 4531,-1131.5 4525,-1131.5 4519,-1125.5 4519,-1119.5 4519,-1119.5 4519,-1075.5 4519,-1075.5 4519,-1069.5 4525,-1063.5 4531,-1063.5 4531,-1063.5 4653,-1063.5 4653,-1063.5 4659,-1063.5 4665,-1069.5 4665,-1075.5 4665,-1075.5 4665,-1119.5 4665,-1119.5 4665,-1125.5 4659,-1131.5 4653,-1131.5\"/>\n<text text-anchor=\"start\" x=\"4562.5\" y=\"-1116.3\" font-family=\"Helvetica,sans-Serif\" font-size=\"14.00\" fill=\"#000000\">gini = 0.0</text>\n<text text-anchor=\"start\" x=\"4552.5\" y=\"-1101.3\" font-family=\"Helvetica,sans-Serif\" font-size=\"14.00\" fill=\"#000000\">samples = 2</text>\n<text text-anchor=\"start\" x=\"4527\" y=\"-1086.3\" font-family=\"Helvetica,sans-Serif\" font-size=\"14.00\" fill=\"#000000\">value = [0, 2, 0, 0, 0]</text>\n<text text-anchor=\"start\" x=\"4563\" y=\"-1071.3\" font-family=\"Helvetica,sans-Serif\" font-size=\"14.00\" fill=\"#000000\">class = 1</text>\n</g>\n<!-- 120&#45;&gt;121 -->\n<g id=\"edge121\" class=\"edge\">\n<title>120&#45;&gt;121</title>\n<path fill=\"none\" stroke=\"#000000\" d=\"M4698.6408,-1174.8796C4682.0439,-1162.8368 4663.9625,-1149.7167 4647.4824,-1137.7586\"/>\n<polygon fill=\"#000000\" stroke=\"#000000\" points=\"4649.176,-1134.6632 4639.0267,-1131.623 4645.0649,-1140.3288 4649.176,-1134.6632\"/>\n</g>\n<!-- 122 -->\n<g id=\"node123\" class=\"node\">\n<title>122</title>\n<path fill=\"#f0b78e\" stroke=\"#000000\" d=\"M4817,-1139C4817,-1139 4695,-1139 4695,-1139 4689,-1139 4683,-1133 4683,-1127 4683,-1127 4683,-1068 4683,-1068 4683,-1062 4689,-1056 4695,-1056 4695,-1056 4817,-1056 4817,-1056 4823,-1056 4829,-1062 4829,-1068 4829,-1068 4829,-1127 4829,-1127 4829,-1133 4823,-1139 4817,-1139\"/>\n<text text-anchor=\"start\" x=\"4719.5\" y=\"-1123.8\" font-family=\"Helvetica,sans-Serif\" font-size=\"14.00\" fill=\"#000000\">ca ≤ &#45;0.185</text>\n<text text-anchor=\"start\" x=\"4722.5\" y=\"-1108.8\" font-family=\"Helvetica,sans-Serif\" font-size=\"14.00\" fill=\"#000000\">gini = 0.42</text>\n<text text-anchor=\"start\" x=\"4712\" y=\"-1093.8\" font-family=\"Helvetica,sans-Serif\" font-size=\"14.00\" fill=\"#000000\">samples = 10</text>\n<text text-anchor=\"start\" x=\"4691\" y=\"-1078.8\" font-family=\"Helvetica,sans-Serif\" font-size=\"14.00\" fill=\"#000000\">value = [7, 0, 3, 0, 0]</text>\n<text text-anchor=\"start\" x=\"4727\" y=\"-1063.8\" font-family=\"Helvetica,sans-Serif\" font-size=\"14.00\" fill=\"#000000\">class = 0</text>\n</g>\n<!-- 120&#45;&gt;122 -->\n<g id=\"edge122\" class=\"edge\">\n<title>120&#45;&gt;122</title>\n<path fill=\"none\" stroke=\"#000000\" d=\"M4756,-1174.8796C4756,-1166.6838 4756,-1157.9891 4756,-1149.5013\"/>\n<polygon fill=\"#000000\" stroke=\"#000000\" points=\"4759.5001,-1149.298 4756,-1139.2981 4752.5001,-1149.2981 4759.5001,-1149.298\"/>\n</g>\n<!-- 123 -->\n<g id=\"node124\" class=\"node\">\n<title>123</title>\n<path fill=\"#e58139\" stroke=\"#000000\" d=\"M4817,-1012.5C4817,-1012.5 4695,-1012.5 4695,-1012.5 4689,-1012.5 4683,-1006.5 4683,-1000.5 4683,-1000.5 4683,-956.5 4683,-956.5 4683,-950.5 4689,-944.5 4695,-944.5 4695,-944.5 4817,-944.5 4817,-944.5 4823,-944.5 4829,-950.5 4829,-956.5 4829,-956.5 4829,-1000.5 4829,-1000.5 4829,-1006.5 4823,-1012.5 4817,-1012.5\"/>\n<text text-anchor=\"start\" x=\"4726.5\" y=\"-997.3\" font-family=\"Helvetica,sans-Serif\" font-size=\"14.00\" fill=\"#000000\">gini = 0.0</text>\n<text text-anchor=\"start\" x=\"4716.5\" y=\"-982.3\" font-family=\"Helvetica,sans-Serif\" font-size=\"14.00\" fill=\"#000000\">samples = 6</text>\n<text text-anchor=\"start\" x=\"4691\" y=\"-967.3\" font-family=\"Helvetica,sans-Serif\" font-size=\"14.00\" fill=\"#000000\">value = [6, 0, 0, 0, 0]</text>\n<text text-anchor=\"start\" x=\"4727\" y=\"-952.3\" font-family=\"Helvetica,sans-Serif\" font-size=\"14.00\" fill=\"#000000\">class = 0</text>\n</g>\n<!-- 122&#45;&gt;123 -->\n<g id=\"edge123\" class=\"edge\">\n<title>122&#45;&gt;123</title>\n<path fill=\"none\" stroke=\"#000000\" d=\"M4756,-1055.8796C4756,-1045.2134 4756,-1033.7021 4756,-1022.9015\"/>\n<polygon fill=\"#000000\" stroke=\"#000000\" points=\"4759.5001,-1022.8149 4756,-1012.8149 4752.5001,-1022.815 4759.5001,-1022.8149\"/>\n</g>\n<!-- 124 -->\n<g id=\"node125\" class=\"node\">\n<title>124</title>\n<path fill=\"#7beed8\" stroke=\"#000000\" d=\"M4981,-1020C4981,-1020 4859,-1020 4859,-1020 4853,-1020 4847,-1014 4847,-1008 4847,-1008 4847,-949 4847,-949 4847,-943 4853,-937 4859,-937 4859,-937 4981,-937 4981,-937 4987,-937 4993,-943 4993,-949 4993,-949 4993,-1008 4993,-1008 4993,-1014 4987,-1020 4981,-1020\"/>\n<text text-anchor=\"start\" x=\"4886\" y=\"-1004.8\" font-family=\"Helvetica,sans-Serif\" font-size=\"14.00\" fill=\"#000000\">ca ≤ 1.428</text>\n<text text-anchor=\"start\" x=\"4882\" y=\"-989.8\" font-family=\"Helvetica,sans-Serif\" font-size=\"14.00\" fill=\"#000000\">gini = 0.375</text>\n<text text-anchor=\"start\" x=\"4880.5\" y=\"-974.8\" font-family=\"Helvetica,sans-Serif\" font-size=\"14.00\" fill=\"#000000\">samples = 4</text>\n<text text-anchor=\"start\" x=\"4855\" y=\"-959.8\" font-family=\"Helvetica,sans-Serif\" font-size=\"14.00\" fill=\"#000000\">value = [1, 0, 3, 0, 0]</text>\n<text text-anchor=\"start\" x=\"4891\" y=\"-944.8\" font-family=\"Helvetica,sans-Serif\" font-size=\"14.00\" fill=\"#000000\">class = 2</text>\n</g>\n<!-- 122&#45;&gt;124 -->\n<g id=\"edge124\" class=\"edge\">\n<title>122&#45;&gt;124</title>\n<path fill=\"none\" stroke=\"#000000\" d=\"M4813.3592,-1055.8796C4826.5925,-1046.2774 4840.7697,-1035.9903 4854.3264,-1026.1534\"/>\n<polygon fill=\"#000000\" stroke=\"#000000\" points=\"4856.6349,-1028.8027 4862.6731,-1020.0969 4852.5238,-1023.1371 4856.6349,-1028.8027\"/>\n</g>\n<!-- 125 -->\n<g id=\"node126\" class=\"node\">\n<title>125</title>\n<path fill=\"#39e5c5\" stroke=\"#000000\" d=\"M4817,-893.5C4817,-893.5 4695,-893.5 4695,-893.5 4689,-893.5 4683,-887.5 4683,-881.5 4683,-881.5 4683,-837.5 4683,-837.5 4683,-831.5 4689,-825.5 4695,-825.5 4695,-825.5 4817,-825.5 4817,-825.5 4823,-825.5 4829,-831.5 4829,-837.5 4829,-837.5 4829,-881.5 4829,-881.5 4829,-887.5 4823,-893.5 4817,-893.5\"/>\n<text text-anchor=\"start\" x=\"4726.5\" y=\"-878.3\" font-family=\"Helvetica,sans-Serif\" font-size=\"14.00\" fill=\"#000000\">gini = 0.0</text>\n<text text-anchor=\"start\" x=\"4716.5\" y=\"-863.3\" font-family=\"Helvetica,sans-Serif\" font-size=\"14.00\" fill=\"#000000\">samples = 3</text>\n<text text-anchor=\"start\" x=\"4691\" y=\"-848.3\" font-family=\"Helvetica,sans-Serif\" font-size=\"14.00\" fill=\"#000000\">value = [0, 0, 3, 0, 0]</text>\n<text text-anchor=\"start\" x=\"4727\" y=\"-833.3\" font-family=\"Helvetica,sans-Serif\" font-size=\"14.00\" fill=\"#000000\">class = 2</text>\n</g>\n<!-- 124&#45;&gt;125 -->\n<g id=\"edge125\" class=\"edge\">\n<title>124&#45;&gt;125</title>\n<path fill=\"none\" stroke=\"#000000\" d=\"M4862.6408,-936.8796C4846.0439,-924.8368 4827.9625,-911.7167 4811.4824,-899.7586\"/>\n<polygon fill=\"#000000\" stroke=\"#000000\" points=\"4813.176,-896.6632 4803.0267,-893.623 4809.0649,-902.3288 4813.176,-896.6632\"/>\n</g>\n<!-- 126 -->\n<g id=\"node127\" class=\"node\">\n<title>126</title>\n<path fill=\"#e58139\" stroke=\"#000000\" d=\"M4981,-893.5C4981,-893.5 4859,-893.5 4859,-893.5 4853,-893.5 4847,-887.5 4847,-881.5 4847,-881.5 4847,-837.5 4847,-837.5 4847,-831.5 4853,-825.5 4859,-825.5 4859,-825.5 4981,-825.5 4981,-825.5 4987,-825.5 4993,-831.5 4993,-837.5 4993,-837.5 4993,-881.5 4993,-881.5 4993,-887.5 4987,-893.5 4981,-893.5\"/>\n<text text-anchor=\"start\" x=\"4890.5\" y=\"-878.3\" font-family=\"Helvetica,sans-Serif\" font-size=\"14.00\" fill=\"#000000\">gini = 0.0</text>\n<text text-anchor=\"start\" x=\"4880.5\" y=\"-863.3\" font-family=\"Helvetica,sans-Serif\" font-size=\"14.00\" fill=\"#000000\">samples = 1</text>\n<text text-anchor=\"start\" x=\"4855\" y=\"-848.3\" font-family=\"Helvetica,sans-Serif\" font-size=\"14.00\" fill=\"#000000\">value = [1, 0, 0, 0, 0]</text>\n<text text-anchor=\"start\" x=\"4891\" y=\"-833.3\" font-family=\"Helvetica,sans-Serif\" font-size=\"14.00\" fill=\"#000000\">class = 0</text>\n</g>\n<!-- 124&#45;&gt;126 -->\n<g id=\"edge126\" class=\"edge\">\n<title>124&#45;&gt;126</title>\n<path fill=\"none\" stroke=\"#000000\" d=\"M4920,-936.8796C4920,-926.2134 4920,-914.7021 4920,-903.9015\"/>\n<polygon fill=\"#000000\" stroke=\"#000000\" points=\"4923.5001,-903.8149 4920,-893.8149 4916.5001,-903.815 4923.5001,-903.8149\"/>\n</g>\n<!-- 128 -->\n<g id=\"node129\" class=\"node\">\n<title>128</title>\n<path fill=\"#e58139\" stroke=\"#000000\" d=\"M4981,-1131.5C4981,-1131.5 4859,-1131.5 4859,-1131.5 4853,-1131.5 4847,-1125.5 4847,-1119.5 4847,-1119.5 4847,-1075.5 4847,-1075.5 4847,-1069.5 4853,-1063.5 4859,-1063.5 4859,-1063.5 4981,-1063.5 4981,-1063.5 4987,-1063.5 4993,-1069.5 4993,-1075.5 4993,-1075.5 4993,-1119.5 4993,-1119.5 4993,-1125.5 4987,-1131.5 4981,-1131.5\"/>\n<text text-anchor=\"start\" x=\"4890.5\" y=\"-1116.3\" font-family=\"Helvetica,sans-Serif\" font-size=\"14.00\" fill=\"#000000\">gini = 0.0</text>\n<text text-anchor=\"start\" x=\"4880.5\" y=\"-1101.3\" font-family=\"Helvetica,sans-Serif\" font-size=\"14.00\" fill=\"#000000\">samples = 1</text>\n<text text-anchor=\"start\" x=\"4855\" y=\"-1086.3\" font-family=\"Helvetica,sans-Serif\" font-size=\"14.00\" fill=\"#000000\">value = [1, 0, 0, 0, 0]</text>\n<text text-anchor=\"start\" x=\"4891\" y=\"-1071.3\" font-family=\"Helvetica,sans-Serif\" font-size=\"14.00\" fill=\"#000000\">class = 0</text>\n</g>\n<!-- 127&#45;&gt;128 -->\n<g id=\"edge128\" class=\"edge\">\n<title>127&#45;&gt;128</title>\n<path fill=\"none\" stroke=\"#000000\" d=\"M4920,-1174.8796C4920,-1164.2134 4920,-1152.7021 4920,-1141.9015\"/>\n<polygon fill=\"#000000\" stroke=\"#000000\" points=\"4923.5001,-1141.8149 4920,-1131.8149 4916.5001,-1141.815 4923.5001,-1141.8149\"/>\n</g>\n<!-- 129 -->\n<g id=\"node130\" class=\"node\">\n<title>129</title>\n<path fill=\"#c6f4aa\" stroke=\"#000000\" d=\"M5145,-1139C5145,-1139 5023,-1139 5023,-1139 5017,-1139 5011,-1133 5011,-1127 5011,-1127 5011,-1068 5011,-1068 5011,-1062 5017,-1056 5023,-1056 5023,-1056 5145,-1056 5145,-1056 5151,-1056 5157,-1062 5157,-1068 5157,-1068 5157,-1127 5157,-1127 5157,-1133 5151,-1139 5145,-1139\"/>\n<text text-anchor=\"start\" x=\"5044.5\" y=\"-1123.8\" font-family=\"Helvetica,sans-Serif\" font-size=\"14.00\" fill=\"#000000\">chol ≤ 0.083</text>\n<text text-anchor=\"start\" x=\"5046\" y=\"-1108.8\" font-family=\"Helvetica,sans-Serif\" font-size=\"14.00\" fill=\"#000000\">gini = 0.463</text>\n<text text-anchor=\"start\" x=\"5040\" y=\"-1093.8\" font-family=\"Helvetica,sans-Serif\" font-size=\"14.00\" fill=\"#000000\">samples = 11</text>\n<text text-anchor=\"start\" x=\"5019\" y=\"-1078.8\" font-family=\"Helvetica,sans-Serif\" font-size=\"14.00\" fill=\"#000000\">value = [0, 7, 0, 4, 0]</text>\n<text text-anchor=\"start\" x=\"5055\" y=\"-1063.8\" font-family=\"Helvetica,sans-Serif\" font-size=\"14.00\" fill=\"#000000\">class = 1</text>\n</g>\n<!-- 127&#45;&gt;129 -->\n<g id=\"edge129\" class=\"edge\">\n<title>127&#45;&gt;129</title>\n<path fill=\"none\" stroke=\"#000000\" d=\"M4977.3592,-1174.8796C4990.5925,-1165.2774 5004.7697,-1154.9903 5018.3264,-1145.1534\"/>\n<polygon fill=\"#000000\" stroke=\"#000000\" points=\"5020.6349,-1147.8027 5026.6731,-1139.0969 5016.5238,-1142.1371 5020.6349,-1147.8027\"/>\n</g>\n<!-- 130 -->\n<g id=\"node131\" class=\"node\">\n<title>130</title>\n<path fill=\"#7be539\" stroke=\"#000000\" d=\"M5145,-1012.5C5145,-1012.5 5023,-1012.5 5023,-1012.5 5017,-1012.5 5011,-1006.5 5011,-1000.5 5011,-1000.5 5011,-956.5 5011,-956.5 5011,-950.5 5017,-944.5 5023,-944.5 5023,-944.5 5145,-944.5 5145,-944.5 5151,-944.5 5157,-950.5 5157,-956.5 5157,-956.5 5157,-1000.5 5157,-1000.5 5157,-1006.5 5151,-1012.5 5145,-1012.5\"/>\n<text text-anchor=\"start\" x=\"5054.5\" y=\"-997.3\" font-family=\"Helvetica,sans-Serif\" font-size=\"14.00\" fill=\"#000000\">gini = 0.0</text>\n<text text-anchor=\"start\" x=\"5044.5\" y=\"-982.3\" font-family=\"Helvetica,sans-Serif\" font-size=\"14.00\" fill=\"#000000\">samples = 3</text>\n<text text-anchor=\"start\" x=\"5019\" y=\"-967.3\" font-family=\"Helvetica,sans-Serif\" font-size=\"14.00\" fill=\"#000000\">value = [0, 3, 0, 0, 0]</text>\n<text text-anchor=\"start\" x=\"5055\" y=\"-952.3\" font-family=\"Helvetica,sans-Serif\" font-size=\"14.00\" fill=\"#000000\">class = 1</text>\n</g>\n<!-- 129&#45;&gt;130 -->\n<g id=\"edge130\" class=\"edge\">\n<title>129&#45;&gt;130</title>\n<path fill=\"none\" stroke=\"#000000\" d=\"M5084,-1055.8796C5084,-1045.2134 5084,-1033.7021 5084,-1022.9015\"/>\n<polygon fill=\"#000000\" stroke=\"#000000\" points=\"5087.5001,-1022.8149 5084,-1012.8149 5080.5001,-1022.815 5087.5001,-1022.8149\"/>\n</g>\n<!-- 131 -->\n<g id=\"node132\" class=\"node\">\n<title>131</title>\n<path fill=\"#ffffff\" stroke=\"#000000\" d=\"M5309,-1020C5309,-1020 5187,-1020 5187,-1020 5181,-1020 5175,-1014 5175,-1008 5175,-1008 5175,-949 5175,-949 5175,-943 5181,-937 5187,-937 5187,-937 5309,-937 5309,-937 5315,-937 5321,-943 5321,-949 5321,-949 5321,-1008 5321,-1008 5321,-1014 5315,-1020 5309,-1020\"/>\n<text text-anchor=\"start\" x=\"5212\" y=\"-1004.8\" font-family=\"Helvetica,sans-Serif\" font-size=\"14.00\" fill=\"#000000\">fbs ≤ 0.988</text>\n<text text-anchor=\"start\" x=\"5218.5\" y=\"-989.8\" font-family=\"Helvetica,sans-Serif\" font-size=\"14.00\" fill=\"#000000\">gini = 0.5</text>\n<text text-anchor=\"start\" x=\"5208.5\" y=\"-974.8\" font-family=\"Helvetica,sans-Serif\" font-size=\"14.00\" fill=\"#000000\">samples = 8</text>\n<text text-anchor=\"start\" x=\"5183\" y=\"-959.8\" font-family=\"Helvetica,sans-Serif\" font-size=\"14.00\" fill=\"#000000\">value = [0, 4, 0, 4, 0]</text>\n<text text-anchor=\"start\" x=\"5219\" y=\"-944.8\" font-family=\"Helvetica,sans-Serif\" font-size=\"14.00\" fill=\"#000000\">class = 1</text>\n</g>\n<!-- 129&#45;&gt;131 -->\n<g id=\"edge131\" class=\"edge\">\n<title>129&#45;&gt;131</title>\n<path fill=\"none\" stroke=\"#000000\" d=\"M5141.3592,-1055.8796C5154.5925,-1046.2774 5168.7697,-1035.9903 5182.3264,-1026.1534\"/>\n<polygon fill=\"#000000\" stroke=\"#000000\" points=\"5184.6349,-1028.8027 5190.6731,-1020.0969 5180.5238,-1023.1371 5184.6349,-1028.8027\"/>\n</g>\n<!-- 132 -->\n<g id=\"node133\" class=\"node\">\n<title>132</title>\n<path fill=\"#bdf29c\" stroke=\"#000000\" d=\"M5145,-901C5145,-901 5023,-901 5023,-901 5017,-901 5011,-895 5011,-889 5011,-889 5011,-830 5011,-830 5011,-824 5017,-818 5023,-818 5023,-818 5145,-818 5145,-818 5151,-818 5157,-824 5157,-830 5157,-830 5157,-889 5157,-889 5157,-895 5151,-901 5145,-901\"/>\n<text text-anchor=\"start\" x=\"5043\" y=\"-885.8\" font-family=\"Helvetica,sans-Serif\" font-size=\"14.00\" fill=\"#000000\">age ≤ &#45;0.492</text>\n<text text-anchor=\"start\" x=\"5046\" y=\"-870.8\" font-family=\"Helvetica,sans-Serif\" font-size=\"14.00\" fill=\"#000000\">gini = 0.444</text>\n<text text-anchor=\"start\" x=\"5044.5\" y=\"-855.8\" font-family=\"Helvetica,sans-Serif\" font-size=\"14.00\" fill=\"#000000\">samples = 6</text>\n<text text-anchor=\"start\" x=\"5019\" y=\"-840.8\" font-family=\"Helvetica,sans-Serif\" font-size=\"14.00\" fill=\"#000000\">value = [0, 4, 0, 2, 0]</text>\n<text text-anchor=\"start\" x=\"5055\" y=\"-825.8\" font-family=\"Helvetica,sans-Serif\" font-size=\"14.00\" fill=\"#000000\">class = 1</text>\n</g>\n<!-- 131&#45;&gt;132 -->\n<g id=\"edge132\" class=\"edge\">\n<title>131&#45;&gt;132</title>\n<path fill=\"none\" stroke=\"#000000\" d=\"M5190.6408,-936.8796C5177.4075,-927.2774 5163.2303,-916.9903 5149.6736,-907.1534\"/>\n<polygon fill=\"#000000\" stroke=\"#000000\" points=\"5151.4762,-904.1371 5141.3269,-901.0969 5147.3651,-909.8027 5151.4762,-904.1371\"/>\n</g>\n<!-- 137 -->\n<g id=\"node138\" class=\"node\">\n<title>137</title>\n<path fill=\"#3c39e5\" stroke=\"#000000\" d=\"M5309,-893.5C5309,-893.5 5187,-893.5 5187,-893.5 5181,-893.5 5175,-887.5 5175,-881.5 5175,-881.5 5175,-837.5 5175,-837.5 5175,-831.5 5181,-825.5 5187,-825.5 5187,-825.5 5309,-825.5 5309,-825.5 5315,-825.5 5321,-831.5 5321,-837.5 5321,-837.5 5321,-881.5 5321,-881.5 5321,-887.5 5315,-893.5 5309,-893.5\"/>\n<text text-anchor=\"start\" x=\"5218.5\" y=\"-878.3\" font-family=\"Helvetica,sans-Serif\" font-size=\"14.00\" fill=\"#000000\">gini = 0.0</text>\n<text text-anchor=\"start\" x=\"5208.5\" y=\"-863.3\" font-family=\"Helvetica,sans-Serif\" font-size=\"14.00\" fill=\"#000000\">samples = 2</text>\n<text text-anchor=\"start\" x=\"5183\" y=\"-848.3\" font-family=\"Helvetica,sans-Serif\" font-size=\"14.00\" fill=\"#000000\">value = [0, 0, 0, 2, 0]</text>\n<text text-anchor=\"start\" x=\"5219\" y=\"-833.3\" font-family=\"Helvetica,sans-Serif\" font-size=\"14.00\" fill=\"#000000\">class = 3</text>\n</g>\n<!-- 131&#45;&gt;137 -->\n<g id=\"edge137\" class=\"edge\">\n<title>131&#45;&gt;137</title>\n<path fill=\"none\" stroke=\"#000000\" d=\"M5248,-936.8796C5248,-926.2134 5248,-914.7021 5248,-903.9015\"/>\n<polygon fill=\"#000000\" stroke=\"#000000\" points=\"5251.5001,-903.8149 5248,-893.8149 5244.5001,-903.815 5251.5001,-903.8149\"/>\n</g>\n<!-- 133 -->\n<g id=\"node134\" class=\"node\">\n<title>133</title>\n<path fill=\"#9e9cf2\" stroke=\"#000000\" d=\"M5022,-782C5022,-782 4900,-782 4900,-782 4894,-782 4888,-776 4888,-770 4888,-770 4888,-711 4888,-711 4888,-705 4894,-699 4900,-699 4900,-699 5022,-699 5022,-699 5028,-699 5034,-705 5034,-711 5034,-711 5034,-770 5034,-770 5034,-776 5028,-782 5022,-782\"/>\n<text text-anchor=\"start\" x=\"4915\" y=\"-766.8\" font-family=\"Helvetica,sans-Serif\" font-size=\"14.00\" fill=\"#000000\">slope ≤ &#45;0.164</text>\n<text text-anchor=\"start\" x=\"4923\" y=\"-751.8\" font-family=\"Helvetica,sans-Serif\" font-size=\"14.00\" fill=\"#000000\">gini = 0.444</text>\n<text text-anchor=\"start\" x=\"4921.5\" y=\"-736.8\" font-family=\"Helvetica,sans-Serif\" font-size=\"14.00\" fill=\"#000000\">samples = 3</text>\n<text text-anchor=\"start\" x=\"4896\" y=\"-721.8\" font-family=\"Helvetica,sans-Serif\" font-size=\"14.00\" fill=\"#000000\">value = [0, 1, 0, 2, 0]</text>\n<text text-anchor=\"start\" x=\"4932\" y=\"-706.8\" font-family=\"Helvetica,sans-Serif\" font-size=\"14.00\" fill=\"#000000\">class = 3</text>\n</g>\n<!-- 132&#45;&gt;133 -->\n<g id=\"edge133\" class=\"edge\">\n<title>132&#45;&gt;133</title>\n<path fill=\"none\" stroke=\"#000000\" d=\"M5040.9806,-817.8796C5031.4853,-808.6931 5021.3422,-798.8798 5011.5785,-789.4336\"/>\n<polygon fill=\"#000000\" stroke=\"#000000\" points=\"5013.8237,-786.7359 5004.203,-782.2981 5008.9564,-791.7668 5013.8237,-786.7359\"/>\n</g>\n<!-- 136 -->\n<g id=\"node137\" class=\"node\">\n<title>136</title>\n<path fill=\"#7be539\" stroke=\"#000000\" d=\"M5186,-774.5C5186,-774.5 5064,-774.5 5064,-774.5 5058,-774.5 5052,-768.5 5052,-762.5 5052,-762.5 5052,-718.5 5052,-718.5 5052,-712.5 5058,-706.5 5064,-706.5 5064,-706.5 5186,-706.5 5186,-706.5 5192,-706.5 5198,-712.5 5198,-718.5 5198,-718.5 5198,-762.5 5198,-762.5 5198,-768.5 5192,-774.5 5186,-774.5\"/>\n<text text-anchor=\"start\" x=\"5095.5\" y=\"-759.3\" font-family=\"Helvetica,sans-Serif\" font-size=\"14.00\" fill=\"#000000\">gini = 0.0</text>\n<text text-anchor=\"start\" x=\"5085.5\" y=\"-744.3\" font-family=\"Helvetica,sans-Serif\" font-size=\"14.00\" fill=\"#000000\">samples = 3</text>\n<text text-anchor=\"start\" x=\"5060\" y=\"-729.3\" font-family=\"Helvetica,sans-Serif\" font-size=\"14.00\" fill=\"#000000\">value = [0, 3, 0, 0, 0]</text>\n<text text-anchor=\"start\" x=\"5096\" y=\"-714.3\" font-family=\"Helvetica,sans-Serif\" font-size=\"14.00\" fill=\"#000000\">class = 1</text>\n</g>\n<!-- 132&#45;&gt;136 -->\n<g id=\"edge136\" class=\"edge\">\n<title>132&#45;&gt;136</title>\n<path fill=\"none\" stroke=\"#000000\" d=\"M5098.3398,-817.8796C5102.0526,-807.1034 5106.0626,-795.4647 5109.817,-784.5677\"/>\n<polygon fill=\"#000000\" stroke=\"#000000\" points=\"5113.2288,-785.4096 5113.1772,-774.8149 5106.6106,-783.1294 5113.2288,-785.4096\"/>\n</g>\n<!-- 134 -->\n<g id=\"node135\" class=\"node\">\n<title>134</title>\n<path fill=\"#7be539\" stroke=\"#000000\" d=\"M4940,-655.5C4940,-655.5 4818,-655.5 4818,-655.5 4812,-655.5 4806,-649.5 4806,-643.5 4806,-643.5 4806,-599.5 4806,-599.5 4806,-593.5 4812,-587.5 4818,-587.5 4818,-587.5 4940,-587.5 4940,-587.5 4946,-587.5 4952,-593.5 4952,-599.5 4952,-599.5 4952,-643.5 4952,-643.5 4952,-649.5 4946,-655.5 4940,-655.5\"/>\n<text text-anchor=\"start\" x=\"4849.5\" y=\"-640.3\" font-family=\"Helvetica,sans-Serif\" font-size=\"14.00\" fill=\"#000000\">gini = 0.0</text>\n<text text-anchor=\"start\" x=\"4839.5\" y=\"-625.3\" font-family=\"Helvetica,sans-Serif\" font-size=\"14.00\" fill=\"#000000\">samples = 1</text>\n<text text-anchor=\"start\" x=\"4814\" y=\"-610.3\" font-family=\"Helvetica,sans-Serif\" font-size=\"14.00\" fill=\"#000000\">value = [0, 1, 0, 0, 0]</text>\n<text text-anchor=\"start\" x=\"4850\" y=\"-595.3\" font-family=\"Helvetica,sans-Serif\" font-size=\"14.00\" fill=\"#000000\">class = 1</text>\n</g>\n<!-- 133&#45;&gt;134 -->\n<g id=\"edge134\" class=\"edge\">\n<title>133&#45;&gt;134</title>\n<path fill=\"none\" stroke=\"#000000\" d=\"M4932.3204,-698.8796C4924.5917,-687.6636 4916.2191,-675.5131 4908.4492,-664.2372\"/>\n<polygon fill=\"#000000\" stroke=\"#000000\" points=\"4911.2018,-662.0634 4902.6456,-655.8149 4905.4377,-666.0353 4911.2018,-662.0634\"/>\n</g>\n<!-- 135 -->\n<g id=\"node136\" class=\"node\">\n<title>135</title>\n<path fill=\"#3c39e5\" stroke=\"#000000\" d=\"M5104,-655.5C5104,-655.5 4982,-655.5 4982,-655.5 4976,-655.5 4970,-649.5 4970,-643.5 4970,-643.5 4970,-599.5 4970,-599.5 4970,-593.5 4976,-587.5 4982,-587.5 4982,-587.5 5104,-587.5 5104,-587.5 5110,-587.5 5116,-593.5 5116,-599.5 5116,-599.5 5116,-643.5 5116,-643.5 5116,-649.5 5110,-655.5 5104,-655.5\"/>\n<text text-anchor=\"start\" x=\"5013.5\" y=\"-640.3\" font-family=\"Helvetica,sans-Serif\" font-size=\"14.00\" fill=\"#000000\">gini = 0.0</text>\n<text text-anchor=\"start\" x=\"5003.5\" y=\"-625.3\" font-family=\"Helvetica,sans-Serif\" font-size=\"14.00\" fill=\"#000000\">samples = 2</text>\n<text text-anchor=\"start\" x=\"4978\" y=\"-610.3\" font-family=\"Helvetica,sans-Serif\" font-size=\"14.00\" fill=\"#000000\">value = [0, 0, 0, 2, 0]</text>\n<text text-anchor=\"start\" x=\"5014\" y=\"-595.3\" font-family=\"Helvetica,sans-Serif\" font-size=\"14.00\" fill=\"#000000\">class = 3</text>\n</g>\n<!-- 133&#45;&gt;135 -->\n<g id=\"edge135\" class=\"edge\">\n<title>133&#45;&gt;135</title>\n<path fill=\"none\" stroke=\"#000000\" d=\"M4989.6796,-698.8796C4997.4083,-687.6636 5005.7809,-675.5131 5013.5508,-664.2372\"/>\n<polygon fill=\"#000000\" stroke=\"#000000\" points=\"5016.5623,-666.0353 5019.3544,-655.8149 5010.7982,-662.0634 5016.5623,-666.0353\"/>\n</g>\n<!-- 139 -->\n<g id=\"node140\" class=\"node\">\n<title>139</title>\n<path fill=\"#ccccf8\" stroke=\"#000000\" d=\"M5797.5,-1258C5797.5,-1258 5666.5,-1258 5666.5,-1258 5660.5,-1258 5654.5,-1252 5654.5,-1246 5654.5,-1246 5654.5,-1187 5654.5,-1187 5654.5,-1181 5660.5,-1175 5666.5,-1175 5666.5,-1175 5797.5,-1175 5797.5,-1175 5803.5,-1175 5809.5,-1181 5809.5,-1187 5809.5,-1187 5809.5,-1246 5809.5,-1246 5809.5,-1252 5803.5,-1258 5797.5,-1258\"/>\n<text text-anchor=\"start\" x=\"5685.5\" y=\"-1242.8\" font-family=\"Helvetica,sans-Serif\" font-size=\"14.00\" fill=\"#000000\">exang ≤ 0.369</text>\n<text text-anchor=\"start\" x=\"5694\" y=\"-1227.8\" font-family=\"Helvetica,sans-Serif\" font-size=\"14.00\" fill=\"#000000\">gini = 0.713</text>\n<text text-anchor=\"start\" x=\"5688\" y=\"-1212.8\" font-family=\"Helvetica,sans-Serif\" font-size=\"14.00\" fill=\"#000000\">samples = 35</text>\n<text text-anchor=\"start\" x=\"5662.5\" y=\"-1197.8\" font-family=\"Helvetica,sans-Serif\" font-size=\"14.00\" fill=\"#000000\">value = [1, 8, 5, 15, 6]</text>\n<text text-anchor=\"start\" x=\"5703\" y=\"-1182.8\" font-family=\"Helvetica,sans-Serif\" font-size=\"14.00\" fill=\"#000000\">class = 3</text>\n</g>\n<!-- 138&#45;&gt;139 -->\n<g id=\"edge139\" class=\"edge\">\n<title>138&#45;&gt;139</title>\n<path fill=\"none\" stroke=\"#000000\" d=\"M5732,-1293.8796C5732,-1285.6838 5732,-1276.9891 5732,-1268.5013\"/>\n<polygon fill=\"#000000\" stroke=\"#000000\" points=\"5735.5001,-1268.298 5732,-1258.2981 5728.5001,-1268.2981 5735.5001,-1268.298\"/>\n</g>\n<!-- 172 -->\n<g id=\"node173\" class=\"node\">\n<title>172</title>\n<path fill=\"#b8f6ea\" stroke=\"#000000\" d=\"M7128.5,-1258C7128.5,-1258 6997.5,-1258 6997.5,-1258 6991.5,-1258 6985.5,-1252 6985.5,-1246 6985.5,-1246 6985.5,-1187 6985.5,-1187 6985.5,-1181 6991.5,-1175 6997.5,-1175 6997.5,-1175 7128.5,-1175 7128.5,-1175 7134.5,-1175 7140.5,-1181 7140.5,-1187 7140.5,-1187 7140.5,-1246 7140.5,-1246 7140.5,-1252 7134.5,-1258 7128.5,-1258\"/>\n<text text-anchor=\"start\" x=\"7029\" y=\"-1242.8\" font-family=\"Helvetica,sans-Serif\" font-size=\"14.00\" fill=\"#000000\">ca ≤ 1.966</text>\n<text text-anchor=\"start\" x=\"7025\" y=\"-1227.8\" font-family=\"Helvetica,sans-Serif\" font-size=\"14.00\" fill=\"#000000\">gini = 0.668</text>\n<text text-anchor=\"start\" x=\"7019\" y=\"-1212.8\" font-family=\"Helvetica,sans-Serif\" font-size=\"14.00\" fill=\"#000000\">samples = 32</text>\n<text text-anchor=\"start\" x=\"6993.5\" y=\"-1197.8\" font-family=\"Helvetica,sans-Serif\" font-size=\"14.00\" fill=\"#000000\">value = [1, 7, 16, 5, 3]</text>\n<text text-anchor=\"start\" x=\"7034\" y=\"-1182.8\" font-family=\"Helvetica,sans-Serif\" font-size=\"14.00\" fill=\"#000000\">class = 2</text>\n</g>\n<!-- 138&#45;&gt;172 -->\n<g id=\"edge172\" class=\"edge\">\n<title>138&#45;&gt;172</title>\n<path fill=\"none\" stroke=\"#000000\" d=\"M5817.5394,-1327.8522C6057.0439,-1306.439 6732.6053,-1246.0394 6975.031,-1224.365\"/>\n<polygon fill=\"#000000\" stroke=\"#000000\" points=\"6975.5581,-1227.8319 6985.2067,-1223.4552 6974.9347,-1220.8597 6975.5581,-1227.8319\"/>\n</g>\n<!-- 140 -->\n<g id=\"node141\" class=\"node\">\n<title>140</title>\n<path fill=\"#f6bdea\" stroke=\"#000000\" d=\"M5637,-1139C5637,-1139 5515,-1139 5515,-1139 5509,-1139 5503,-1133 5503,-1127 5503,-1127 5503,-1068 5503,-1068 5503,-1062 5509,-1056 5515,-1056 5515,-1056 5637,-1056 5637,-1056 5643,-1056 5649,-1062 5649,-1068 5649,-1068 5649,-1127 5649,-1127 5649,-1133 5643,-1139 5637,-1139\"/>\n<text text-anchor=\"start\" x=\"5524\" y=\"-1123.8\" font-family=\"Helvetica,sans-Serif\" font-size=\"14.00\" fill=\"#000000\">trestbps ≤ 0.473</text>\n<text text-anchor=\"start\" x=\"5538\" y=\"-1108.8\" font-family=\"Helvetica,sans-Serif\" font-size=\"14.00\" fill=\"#000000\">gini = 0.656</text>\n<text text-anchor=\"start\" x=\"5536.5\" y=\"-1093.8\" font-family=\"Helvetica,sans-Serif\" font-size=\"14.00\" fill=\"#000000\">samples = 8</text>\n<text text-anchor=\"start\" x=\"5511\" y=\"-1078.8\" font-family=\"Helvetica,sans-Serif\" font-size=\"14.00\" fill=\"#000000\">value = [0, 1, 2, 1, 4]</text>\n<text text-anchor=\"start\" x=\"5547\" y=\"-1063.8\" font-family=\"Helvetica,sans-Serif\" font-size=\"14.00\" fill=\"#000000\">class = 4</text>\n</g>\n<!-- 139&#45;&gt;140 -->\n<g id=\"edge140\" class=\"edge\">\n<title>139&#45;&gt;140</title>\n<path fill=\"none\" stroke=\"#000000\" d=\"M5677.4388,-1174.8796C5664.9698,-1165.368 5651.6198,-1155.1843 5638.8352,-1145.432\"/>\n<polygon fill=\"#000000\" stroke=\"#000000\" points=\"5640.604,-1142.3792 5630.5304,-1139.0969 5636.3585,-1147.9448 5640.604,-1142.3792\"/>\n</g>\n<!-- 147 -->\n<g id=\"node148\" class=\"node\">\n<title>147</title>\n<path fill=\"#bbbaf6\" stroke=\"#000000\" d=\"M5953.5,-1139C5953.5,-1139 5822.5,-1139 5822.5,-1139 5816.5,-1139 5810.5,-1133 5810.5,-1127 5810.5,-1127 5810.5,-1068 5810.5,-1068 5810.5,-1062 5816.5,-1056 5822.5,-1056 5822.5,-1056 5953.5,-1056 5953.5,-1056 5959.5,-1056 5965.5,-1062 5965.5,-1068 5965.5,-1068 5965.5,-1127 5965.5,-1127 5965.5,-1133 5959.5,-1139 5953.5,-1139\"/>\n<text text-anchor=\"start\" x=\"5836\" y=\"-1123.8\" font-family=\"Helvetica,sans-Serif\" font-size=\"14.00\" fill=\"#000000\">thalach ≤ &#45;1.734</text>\n<text text-anchor=\"start\" x=\"5850\" y=\"-1108.8\" font-family=\"Helvetica,sans-Serif\" font-size=\"14.00\" fill=\"#000000\">gini = 0.645</text>\n<text text-anchor=\"start\" x=\"5844\" y=\"-1093.8\" font-family=\"Helvetica,sans-Serif\" font-size=\"14.00\" fill=\"#000000\">samples = 27</text>\n<text text-anchor=\"start\" x=\"5818.5\" y=\"-1078.8\" font-family=\"Helvetica,sans-Serif\" font-size=\"14.00\" fill=\"#000000\">value = [1, 7, 3, 14, 2]</text>\n<text text-anchor=\"start\" x=\"5859\" y=\"-1063.8\" font-family=\"Helvetica,sans-Serif\" font-size=\"14.00\" fill=\"#000000\">class = 3</text>\n</g>\n<!-- 139&#45;&gt;147 -->\n<g id=\"edge147\" class=\"edge\">\n<title>139&#45;&gt;147</title>\n<path fill=\"none\" stroke=\"#000000\" d=\"M5786.5612,-1174.8796C5799.0302,-1165.368 5812.3802,-1155.1843 5825.1648,-1145.432\"/>\n<polygon fill=\"#000000\" stroke=\"#000000\" points=\"5827.6415,-1147.9448 5833.4696,-1139.0969 5823.396,-1142.3792 5827.6415,-1147.9448\"/>\n</g>\n<!-- 141 -->\n<g id=\"node142\" class=\"node\">\n<title>141</title>\n<path fill=\"#39e5c5\" stroke=\"#000000\" d=\"M5473,-1012.5C5473,-1012.5 5351,-1012.5 5351,-1012.5 5345,-1012.5 5339,-1006.5 5339,-1000.5 5339,-1000.5 5339,-956.5 5339,-956.5 5339,-950.5 5345,-944.5 5351,-944.5 5351,-944.5 5473,-944.5 5473,-944.5 5479,-944.5 5485,-950.5 5485,-956.5 5485,-956.5 5485,-1000.5 5485,-1000.5 5485,-1006.5 5479,-1012.5 5473,-1012.5\"/>\n<text text-anchor=\"start\" x=\"5382.5\" y=\"-997.3\" font-family=\"Helvetica,sans-Serif\" font-size=\"14.00\" fill=\"#000000\">gini = 0.0</text>\n<text text-anchor=\"start\" x=\"5372.5\" y=\"-982.3\" font-family=\"Helvetica,sans-Serif\" font-size=\"14.00\" fill=\"#000000\">samples = 2</text>\n<text text-anchor=\"start\" x=\"5347\" y=\"-967.3\" font-family=\"Helvetica,sans-Serif\" font-size=\"14.00\" fill=\"#000000\">value = [0, 0, 2, 0, 0]</text>\n<text text-anchor=\"start\" x=\"5383\" y=\"-952.3\" font-family=\"Helvetica,sans-Serif\" font-size=\"14.00\" fill=\"#000000\">class = 2</text>\n</g>\n<!-- 140&#45;&gt;141 -->\n<g id=\"edge141\" class=\"edge\">\n<title>140&#45;&gt;141</title>\n<path fill=\"none\" stroke=\"#000000\" d=\"M5518.6408,-1055.8796C5502.0439,-1043.8368 5483.9625,-1030.7167 5467.4824,-1018.7586\"/>\n<polygon fill=\"#000000\" stroke=\"#000000\" points=\"5469.176,-1015.6632 5459.0267,-1012.623 5465.0649,-1021.3288 5469.176,-1015.6632\"/>\n</g>\n<!-- 142 -->\n<g id=\"node143\" class=\"node\">\n<title>142</title>\n<path fill=\"#ef88d9\" stroke=\"#000000\" d=\"M5637,-1020C5637,-1020 5515,-1020 5515,-1020 5509,-1020 5503,-1014 5503,-1008 5503,-1008 5503,-949 5503,-949 5503,-943 5509,-937 5515,-937 5515,-937 5637,-937 5637,-937 5643,-937 5649,-943 5649,-949 5649,-949 5649,-1008 5649,-1008 5649,-1014 5643,-1020 5637,-1020\"/>\n<text text-anchor=\"start\" x=\"5524\" y=\"-1004.8\" font-family=\"Helvetica,sans-Serif\" font-size=\"14.00\" fill=\"#000000\">thalach ≤ &#45;1.756</text>\n<text text-anchor=\"start\" x=\"5546.5\" y=\"-989.8\" font-family=\"Helvetica,sans-Serif\" font-size=\"14.00\" fill=\"#000000\">gini = 0.5</text>\n<text text-anchor=\"start\" x=\"5536.5\" y=\"-974.8\" font-family=\"Helvetica,sans-Serif\" font-size=\"14.00\" fill=\"#000000\">samples = 6</text>\n<text text-anchor=\"start\" x=\"5511\" y=\"-959.8\" font-family=\"Helvetica,sans-Serif\" font-size=\"14.00\" fill=\"#000000\">value = [0, 1, 0, 1, 4]</text>\n<text text-anchor=\"start\" x=\"5547\" y=\"-944.8\" font-family=\"Helvetica,sans-Serif\" font-size=\"14.00\" fill=\"#000000\">class = 4</text>\n</g>\n<!-- 140&#45;&gt;142 -->\n<g id=\"edge142\" class=\"edge\">\n<title>140&#45;&gt;142</title>\n<path fill=\"none\" stroke=\"#000000\" d=\"M5576,-1055.8796C5576,-1047.6838 5576,-1038.9891 5576,-1030.5013\"/>\n<polygon fill=\"#000000\" stroke=\"#000000\" points=\"5579.5001,-1030.298 5576,-1020.2981 5572.5001,-1030.2981 5579.5001,-1030.298\"/>\n</g>\n<!-- 143 -->\n<g id=\"node144\" class=\"node\">\n<title>143</title>\n<path fill=\"#ffffff\" stroke=\"#000000\" d=\"M5473,-901C5473,-901 5351,-901 5351,-901 5345,-901 5339,-895 5339,-889 5339,-889 5339,-830 5339,-830 5339,-824 5345,-818 5351,-818 5351,-818 5473,-818 5473,-818 5479,-818 5485,-824 5485,-830 5485,-830 5485,-889 5485,-889 5485,-895 5479,-901 5473,-901\"/>\n<text text-anchor=\"start\" x=\"5382\" y=\"-885.8\" font-family=\"Helvetica,sans-Serif\" font-size=\"14.00\" fill=\"#000000\">ca ≤ 0.89</text>\n<text text-anchor=\"start\" x=\"5382.5\" y=\"-870.8\" font-family=\"Helvetica,sans-Serif\" font-size=\"14.00\" fill=\"#000000\">gini = 0.5</text>\n<text text-anchor=\"start\" x=\"5372.5\" y=\"-855.8\" font-family=\"Helvetica,sans-Serif\" font-size=\"14.00\" fill=\"#000000\">samples = 2</text>\n<text text-anchor=\"start\" x=\"5347\" y=\"-840.8\" font-family=\"Helvetica,sans-Serif\" font-size=\"14.00\" fill=\"#000000\">value = [0, 1, 0, 1, 0]</text>\n<text text-anchor=\"start\" x=\"5383\" y=\"-825.8\" font-family=\"Helvetica,sans-Serif\" font-size=\"14.00\" fill=\"#000000\">class = 1</text>\n</g>\n<!-- 142&#45;&gt;143 -->\n<g id=\"edge143\" class=\"edge\">\n<title>142&#45;&gt;143</title>\n<path fill=\"none\" stroke=\"#000000\" d=\"M5518.6408,-936.8796C5505.4075,-927.2774 5491.2303,-916.9903 5477.6736,-907.1534\"/>\n<polygon fill=\"#000000\" stroke=\"#000000\" points=\"5479.4762,-904.1371 5469.3269,-901.0969 5475.3651,-909.8027 5479.4762,-904.1371\"/>\n</g>\n<!-- 146 -->\n<g id=\"node147\" class=\"node\">\n<title>146</title>\n<path fill=\"#e539c0\" stroke=\"#000000\" d=\"M5637,-893.5C5637,-893.5 5515,-893.5 5515,-893.5 5509,-893.5 5503,-887.5 5503,-881.5 5503,-881.5 5503,-837.5 5503,-837.5 5503,-831.5 5509,-825.5 5515,-825.5 5515,-825.5 5637,-825.5 5637,-825.5 5643,-825.5 5649,-831.5 5649,-837.5 5649,-837.5 5649,-881.5 5649,-881.5 5649,-887.5 5643,-893.5 5637,-893.5\"/>\n<text text-anchor=\"start\" x=\"5546.5\" y=\"-878.3\" font-family=\"Helvetica,sans-Serif\" font-size=\"14.00\" fill=\"#000000\">gini = 0.0</text>\n<text text-anchor=\"start\" x=\"5536.5\" y=\"-863.3\" font-family=\"Helvetica,sans-Serif\" font-size=\"14.00\" fill=\"#000000\">samples = 4</text>\n<text text-anchor=\"start\" x=\"5511\" y=\"-848.3\" font-family=\"Helvetica,sans-Serif\" font-size=\"14.00\" fill=\"#000000\">value = [0, 0, 0, 0, 4]</text>\n<text text-anchor=\"start\" x=\"5547\" y=\"-833.3\" font-family=\"Helvetica,sans-Serif\" font-size=\"14.00\" fill=\"#000000\">class = 4</text>\n</g>\n<!-- 142&#45;&gt;146 -->\n<g id=\"edge146\" class=\"edge\">\n<title>142&#45;&gt;146</title>\n<path fill=\"none\" stroke=\"#000000\" d=\"M5576,-936.8796C5576,-926.2134 5576,-914.7021 5576,-903.9015\"/>\n<polygon fill=\"#000000\" stroke=\"#000000\" points=\"5579.5001,-903.8149 5576,-893.8149 5572.5001,-903.815 5579.5001,-903.8149\"/>\n</g>\n<!-- 144 -->\n<g id=\"node145\" class=\"node\">\n<title>144</title>\n<path fill=\"#7be539\" stroke=\"#000000\" d=\"M5380,-774.5C5380,-774.5 5258,-774.5 5258,-774.5 5252,-774.5 5246,-768.5 5246,-762.5 5246,-762.5 5246,-718.5 5246,-718.5 5246,-712.5 5252,-706.5 5258,-706.5 5258,-706.5 5380,-706.5 5380,-706.5 5386,-706.5 5392,-712.5 5392,-718.5 5392,-718.5 5392,-762.5 5392,-762.5 5392,-768.5 5386,-774.5 5380,-774.5\"/>\n<text text-anchor=\"start\" x=\"5289.5\" y=\"-759.3\" font-family=\"Helvetica,sans-Serif\" font-size=\"14.00\" fill=\"#000000\">gini = 0.0</text>\n<text text-anchor=\"start\" x=\"5279.5\" y=\"-744.3\" font-family=\"Helvetica,sans-Serif\" font-size=\"14.00\" fill=\"#000000\">samples = 1</text>\n<text text-anchor=\"start\" x=\"5254\" y=\"-729.3\" font-family=\"Helvetica,sans-Serif\" font-size=\"14.00\" fill=\"#000000\">value = [0, 1, 0, 0, 0]</text>\n<text text-anchor=\"start\" x=\"5290\" y=\"-714.3\" font-family=\"Helvetica,sans-Serif\" font-size=\"14.00\" fill=\"#000000\">class = 1</text>\n</g>\n<!-- 143&#45;&gt;144 -->\n<g id=\"edge144\" class=\"edge\">\n<title>143&#45;&gt;144</title>\n<path fill=\"none\" stroke=\"#000000\" d=\"M5379.4731,-817.8796C5370.6217,-806.5536 5361.0257,-794.2748 5352.1407,-782.9058\"/>\n<polygon fill=\"#000000\" stroke=\"#000000\" points=\"5354.7331,-780.539 5345.8176,-774.8149 5349.2176,-784.8494 5354.7331,-780.539\"/>\n</g>\n<!-- 145 -->\n<g id=\"node146\" class=\"node\">\n<title>145</title>\n<path fill=\"#3c39e5\" stroke=\"#000000\" d=\"M5544,-774.5C5544,-774.5 5422,-774.5 5422,-774.5 5416,-774.5 5410,-768.5 5410,-762.5 5410,-762.5 5410,-718.5 5410,-718.5 5410,-712.5 5416,-706.5 5422,-706.5 5422,-706.5 5544,-706.5 5544,-706.5 5550,-706.5 5556,-712.5 5556,-718.5 5556,-718.5 5556,-762.5 5556,-762.5 5556,-768.5 5550,-774.5 5544,-774.5\"/>\n<text text-anchor=\"start\" x=\"5453.5\" y=\"-759.3\" font-family=\"Helvetica,sans-Serif\" font-size=\"14.00\" fill=\"#000000\">gini = 0.0</text>\n<text text-anchor=\"start\" x=\"5443.5\" y=\"-744.3\" font-family=\"Helvetica,sans-Serif\" font-size=\"14.00\" fill=\"#000000\">samples = 1</text>\n<text text-anchor=\"start\" x=\"5418\" y=\"-729.3\" font-family=\"Helvetica,sans-Serif\" font-size=\"14.00\" fill=\"#000000\">value = [0, 0, 0, 1, 0]</text>\n<text text-anchor=\"start\" x=\"5454\" y=\"-714.3\" font-family=\"Helvetica,sans-Serif\" font-size=\"14.00\" fill=\"#000000\">class = 3</text>\n</g>\n<!-- 143&#45;&gt;145 -->\n<g id=\"edge145\" class=\"edge\">\n<title>143&#45;&gt;145</title>\n<path fill=\"none\" stroke=\"#000000\" d=\"M5436.8324,-817.8796C5443.4587,-806.7735 5450.6316,-794.7513 5457.3033,-783.5691\"/>\n<polygon fill=\"#000000\" stroke=\"#000000\" points=\"5460.4083,-785.1959 5462.5264,-774.8149 5454.3969,-781.6093 5460.4083,-785.1959\"/>\n</g>\n<!-- 148 -->\n<g id=\"node149\" class=\"node\">\n<title>148</title>\n<path fill=\"#b0ef88\" stroke=\"#000000\" d=\"M5949,-1020C5949,-1020 5827,-1020 5827,-1020 5821,-1020 5815,-1014 5815,-1008 5815,-1008 5815,-949 5815,-949 5815,-943 5821,-937 5827,-937 5827,-937 5949,-937 5949,-937 5955,-937 5961,-943 5961,-949 5961,-949 5961,-1008 5961,-1008 5961,-1014 5955,-1020 5949,-1020\"/>\n<text text-anchor=\"start\" x=\"5848.5\" y=\"-1004.8\" font-family=\"Helvetica,sans-Serif\" font-size=\"14.00\" fill=\"#000000\">chol ≤ 0.606</text>\n<text text-anchor=\"start\" x=\"5858.5\" y=\"-989.8\" font-family=\"Helvetica,sans-Serif\" font-size=\"14.00\" fill=\"#000000\">gini = 0.5</text>\n<text text-anchor=\"start\" x=\"5848.5\" y=\"-974.8\" font-family=\"Helvetica,sans-Serif\" font-size=\"14.00\" fill=\"#000000\">samples = 6</text>\n<text text-anchor=\"start\" x=\"5823\" y=\"-959.8\" font-family=\"Helvetica,sans-Serif\" font-size=\"14.00\" fill=\"#000000\">value = [0, 4, 1, 1, 0]</text>\n<text text-anchor=\"start\" x=\"5859\" y=\"-944.8\" font-family=\"Helvetica,sans-Serif\" font-size=\"14.00\" fill=\"#000000\">class = 1</text>\n</g>\n<!-- 147&#45;&gt;148 -->\n<g id=\"edge148\" class=\"edge\">\n<title>147&#45;&gt;148</title>\n<path fill=\"none\" stroke=\"#000000\" d=\"M5888,-1055.8796C5888,-1047.6838 5888,-1038.9891 5888,-1030.5013\"/>\n<polygon fill=\"#000000\" stroke=\"#000000\" points=\"5891.5001,-1030.298 5888,-1020.2981 5884.5001,-1030.2981 5891.5001,-1030.298\"/>\n</g>\n<!-- 153 -->\n<g id=\"node154\" class=\"node\">\n<title>153</title>\n<path fill=\"#9391f1\" stroke=\"#000000\" d=\"M6199.5,-1020C6199.5,-1020 6068.5,-1020 6068.5,-1020 6062.5,-1020 6056.5,-1014 6056.5,-1008 6056.5,-1008 6056.5,-949 6056.5,-949 6056.5,-943 6062.5,-937 6068.5,-937 6068.5,-937 6199.5,-937 6199.5,-937 6205.5,-937 6211.5,-943 6211.5,-949 6211.5,-949 6211.5,-1008 6211.5,-1008 6211.5,-1014 6205.5,-1020 6199.5,-1020\"/>\n<text text-anchor=\"start\" x=\"6096\" y=\"-1004.8\" font-family=\"Helvetica,sans-Serif\" font-size=\"14.00\" fill=\"#000000\">thal ≤ 0.915</text>\n<text text-anchor=\"start\" x=\"6096\" y=\"-989.8\" font-family=\"Helvetica,sans-Serif\" font-size=\"14.00\" fill=\"#000000\">gini = 0.576</text>\n<text text-anchor=\"start\" x=\"6090\" y=\"-974.8\" font-family=\"Helvetica,sans-Serif\" font-size=\"14.00\" fill=\"#000000\">samples = 21</text>\n<text text-anchor=\"start\" x=\"6064.5\" y=\"-959.8\" font-family=\"Helvetica,sans-Serif\" font-size=\"14.00\" fill=\"#000000\">value = [1, 3, 2, 13, 2]</text>\n<text text-anchor=\"start\" x=\"6105\" y=\"-944.8\" font-family=\"Helvetica,sans-Serif\" font-size=\"14.00\" fill=\"#000000\">class = 3</text>\n</g>\n<!-- 147&#45;&gt;153 -->\n<g id=\"edge153\" class=\"edge\">\n<title>147&#45;&gt;153</title>\n<path fill=\"none\" stroke=\"#000000\" d=\"M5965.8359,-1059.8477C5991.6488,-1047.361 6020.5433,-1033.3835 6047.0009,-1020.585\"/>\n<polygon fill=\"#000000\" stroke=\"#000000\" points=\"6048.7706,-1023.6169 6056.2485,-1016.1115 6045.7223,-1017.3155 6048.7706,-1023.6169\"/>\n</g>\n<!-- 149 -->\n<g id=\"node150\" class=\"node\">\n<title>149</title>\n<path fill=\"#7be539\" stroke=\"#000000\" d=\"M5801,-893.5C5801,-893.5 5679,-893.5 5679,-893.5 5673,-893.5 5667,-887.5 5667,-881.5 5667,-881.5 5667,-837.5 5667,-837.5 5667,-831.5 5673,-825.5 5679,-825.5 5679,-825.5 5801,-825.5 5801,-825.5 5807,-825.5 5813,-831.5 5813,-837.5 5813,-837.5 5813,-881.5 5813,-881.5 5813,-887.5 5807,-893.5 5801,-893.5\"/>\n<text text-anchor=\"start\" x=\"5710.5\" y=\"-878.3\" font-family=\"Helvetica,sans-Serif\" font-size=\"14.00\" fill=\"#000000\">gini = 0.0</text>\n<text text-anchor=\"start\" x=\"5700.5\" y=\"-863.3\" font-family=\"Helvetica,sans-Serif\" font-size=\"14.00\" fill=\"#000000\">samples = 4</text>\n<text text-anchor=\"start\" x=\"5675\" y=\"-848.3\" font-family=\"Helvetica,sans-Serif\" font-size=\"14.00\" fill=\"#000000\">value = [0, 4, 0, 0, 0]</text>\n<text text-anchor=\"start\" x=\"5711\" y=\"-833.3\" font-family=\"Helvetica,sans-Serif\" font-size=\"14.00\" fill=\"#000000\">class = 1</text>\n</g>\n<!-- 148&#45;&gt;149 -->\n<g id=\"edge149\" class=\"edge\">\n<title>148&#45;&gt;149</title>\n<path fill=\"none\" stroke=\"#000000\" d=\"M5836.2368,-936.8796C5821.4669,-925.0038 5805.3941,-912.0804 5790.6892,-900.2568\"/>\n<polygon fill=\"#000000\" stroke=\"#000000\" points=\"5792.6639,-897.3535 5782.6774,-893.8149 5788.2775,-902.8088 5792.6639,-897.3535\"/>\n</g>\n<!-- 150 -->\n<g id=\"node151\" class=\"node\">\n<title>150</title>\n<path fill=\"#ffffff\" stroke=\"#000000\" d=\"M5965,-901C5965,-901 5843,-901 5843,-901 5837,-901 5831,-895 5831,-889 5831,-889 5831,-830 5831,-830 5831,-824 5837,-818 5843,-818 5843,-818 5965,-818 5965,-818 5971,-818 5977,-824 5977,-830 5977,-830 5977,-889 5977,-889 5977,-895 5971,-901 5965,-901\"/>\n<text text-anchor=\"start\" x=\"5868\" y=\"-885.8\" font-family=\"Helvetica,sans-Serif\" font-size=\"14.00\" fill=\"#000000\">fbs ≤ 0.988</text>\n<text text-anchor=\"start\" x=\"5874.5\" y=\"-870.8\" font-family=\"Helvetica,sans-Serif\" font-size=\"14.00\" fill=\"#000000\">gini = 0.5</text>\n<text text-anchor=\"start\" x=\"5864.5\" y=\"-855.8\" font-family=\"Helvetica,sans-Serif\" font-size=\"14.00\" fill=\"#000000\">samples = 2</text>\n<text text-anchor=\"start\" x=\"5839\" y=\"-840.8\" font-family=\"Helvetica,sans-Serif\" font-size=\"14.00\" fill=\"#000000\">value = [0, 0, 1, 1, 0]</text>\n<text text-anchor=\"start\" x=\"5875\" y=\"-825.8\" font-family=\"Helvetica,sans-Serif\" font-size=\"14.00\" fill=\"#000000\">class = 2</text>\n</g>\n<!-- 148&#45;&gt;150 -->\n<g id=\"edge150\" class=\"edge\">\n<title>148&#45;&gt;150</title>\n<path fill=\"none\" stroke=\"#000000\" d=\"M5893.596,-936.8796C5894.7101,-928.5938 5895.8927,-919.798 5897.0458,-911.2216\"/>\n<polygon fill=\"#000000\" stroke=\"#000000\" points=\"5900.5162,-911.6753 5898.3801,-901.2981 5893.5787,-910.7425 5900.5162,-911.6753\"/>\n</g>\n<!-- 151 -->\n<g id=\"node152\" class=\"node\">\n<title>151</title>\n<path fill=\"#3c39e5\" stroke=\"#000000\" d=\"M5723,-774.5C5723,-774.5 5601,-774.5 5601,-774.5 5595,-774.5 5589,-768.5 5589,-762.5 5589,-762.5 5589,-718.5 5589,-718.5 5589,-712.5 5595,-706.5 5601,-706.5 5601,-706.5 5723,-706.5 5723,-706.5 5729,-706.5 5735,-712.5 5735,-718.5 5735,-718.5 5735,-762.5 5735,-762.5 5735,-768.5 5729,-774.5 5723,-774.5\"/>\n<text text-anchor=\"start\" x=\"5632.5\" y=\"-759.3\" font-family=\"Helvetica,sans-Serif\" font-size=\"14.00\" fill=\"#000000\">gini = 0.0</text>\n<text text-anchor=\"start\" x=\"5622.5\" y=\"-744.3\" font-family=\"Helvetica,sans-Serif\" font-size=\"14.00\" fill=\"#000000\">samples = 1</text>\n<text text-anchor=\"start\" x=\"5597\" y=\"-729.3\" font-family=\"Helvetica,sans-Serif\" font-size=\"14.00\" fill=\"#000000\">value = [0, 0, 0, 1, 0]</text>\n<text text-anchor=\"start\" x=\"5633\" y=\"-714.3\" font-family=\"Helvetica,sans-Serif\" font-size=\"14.00\" fill=\"#000000\">class = 3</text>\n</g>\n<!-- 150&#45;&gt;151 -->\n<g id=\"edge151\" class=\"edge\">\n<title>150&#45;&gt;151</title>\n<path fill=\"none\" stroke=\"#000000\" d=\"M5830.7476,-822.2625C5827.7972,-820.8149 5824.8728,-819.3893 5822,-818 5787.6278,-801.3768 5778.3722,-798.6232 5744,-782 5742.1686,-781.1143 5740.3162,-780.2139 5738.4495,-779.3024\"/>\n<polygon fill=\"#000000\" stroke=\"#000000\" points=\"5739.5454,-775.9411 5729.0271,-774.6699 5736.4569,-782.2229 5739.5454,-775.9411\"/>\n</g>\n<!-- 152 -->\n<g id=\"node153\" class=\"node\">\n<title>152</title>\n<path fill=\"#39e5c5\" stroke=\"#000000\" d=\"M5887,-774.5C5887,-774.5 5765,-774.5 5765,-774.5 5759,-774.5 5753,-768.5 5753,-762.5 5753,-762.5 5753,-718.5 5753,-718.5 5753,-712.5 5759,-706.5 5765,-706.5 5765,-706.5 5887,-706.5 5887,-706.5 5893,-706.5 5899,-712.5 5899,-718.5 5899,-718.5 5899,-762.5 5899,-762.5 5899,-768.5 5893,-774.5 5887,-774.5\"/>\n<text text-anchor=\"start\" x=\"5796.5\" y=\"-759.3\" font-family=\"Helvetica,sans-Serif\" font-size=\"14.00\" fill=\"#000000\">gini = 0.0</text>\n<text text-anchor=\"start\" x=\"5786.5\" y=\"-744.3\" font-family=\"Helvetica,sans-Serif\" font-size=\"14.00\" fill=\"#000000\">samples = 1</text>\n<text text-anchor=\"start\" x=\"5761\" y=\"-729.3\" font-family=\"Helvetica,sans-Serif\" font-size=\"14.00\" fill=\"#000000\">value = [0, 0, 1, 0, 0]</text>\n<text text-anchor=\"start\" x=\"5797\" y=\"-714.3\" font-family=\"Helvetica,sans-Serif\" font-size=\"14.00\" fill=\"#000000\">class = 2</text>\n</g>\n<!-- 150&#45;&gt;152 -->\n<g id=\"edge152\" class=\"edge\">\n<title>150&#45;&gt;152</title>\n<path fill=\"none\" stroke=\"#000000\" d=\"M5876.7194,-817.8796C5869.3677,-806.6636 5861.4036,-794.5131 5854.0126,-783.2372\"/>\n<polygon fill=\"#000000\" stroke=\"#000000\" points=\"5856.9014,-781.2598 5848.4921,-774.8149 5851.0469,-785.0972 5856.9014,-781.2598\"/>\n</g>\n<!-- 154 -->\n<g id=\"node155\" class=\"node\">\n<title>154</title>\n<path fill=\"#ffffff\" stroke=\"#000000\" d=\"M6195,-901C6195,-901 6073,-901 6073,-901 6067,-901 6061,-895 6061,-889 6061,-889 6061,-830 6061,-830 6061,-824 6067,-818 6073,-818 6073,-818 6195,-818 6195,-818 6201,-818 6207,-824 6207,-830 6207,-830 6207,-889 6207,-889 6207,-895 6201,-901 6195,-901\"/>\n<text text-anchor=\"start\" x=\"6093\" y=\"-885.8\" font-family=\"Helvetica,sans-Serif\" font-size=\"14.00\" fill=\"#000000\">age ≤ &#45;0.547</text>\n<text text-anchor=\"start\" x=\"6104.5\" y=\"-870.8\" font-family=\"Helvetica,sans-Serif\" font-size=\"14.00\" fill=\"#000000\">gini = 0.5</text>\n<text text-anchor=\"start\" x=\"6094.5\" y=\"-855.8\" font-family=\"Helvetica,sans-Serif\" font-size=\"14.00\" fill=\"#000000\">samples = 2</text>\n<text text-anchor=\"start\" x=\"6069\" y=\"-840.8\" font-family=\"Helvetica,sans-Serif\" font-size=\"14.00\" fill=\"#000000\">value = [1, 0, 1, 0, 0]</text>\n<text text-anchor=\"start\" x=\"6105\" y=\"-825.8\" font-family=\"Helvetica,sans-Serif\" font-size=\"14.00\" fill=\"#000000\">class = 0</text>\n</g>\n<!-- 153&#45;&gt;154 -->\n<g id=\"edge154\" class=\"edge\">\n<title>153&#45;&gt;154</title>\n<path fill=\"none\" stroke=\"#000000\" d=\"M6134,-936.8796C6134,-928.6838 6134,-919.9891 6134,-911.5013\"/>\n<polygon fill=\"#000000\" stroke=\"#000000\" points=\"6137.5001,-911.298 6134,-901.2981 6130.5001,-911.2981 6137.5001,-911.298\"/>\n</g>\n<!-- 157 -->\n<g id=\"node158\" class=\"node\">\n<title>157</title>\n<path fill=\"#8583ef\" stroke=\"#000000\" d=\"M6388.5,-901C6388.5,-901 6257.5,-901 6257.5,-901 6251.5,-901 6245.5,-895 6245.5,-889 6245.5,-889 6245.5,-830 6245.5,-830 6245.5,-824 6251.5,-818 6257.5,-818 6257.5,-818 6388.5,-818 6388.5,-818 6394.5,-818 6400.5,-824 6400.5,-830 6400.5,-830 6400.5,-889 6400.5,-889 6400.5,-895 6394.5,-901 6388.5,-901\"/>\n<text text-anchor=\"start\" x=\"6284.5\" y=\"-885.8\" font-family=\"Helvetica,sans-Serif\" font-size=\"14.00\" fill=\"#000000\">age ≤ 0.505</text>\n<text text-anchor=\"start\" x=\"6285\" y=\"-870.8\" font-family=\"Helvetica,sans-Serif\" font-size=\"14.00\" fill=\"#000000\">gini = 0.493</text>\n<text text-anchor=\"start\" x=\"6279\" y=\"-855.8\" font-family=\"Helvetica,sans-Serif\" font-size=\"14.00\" fill=\"#000000\">samples = 19</text>\n<text text-anchor=\"start\" x=\"6253.5\" y=\"-840.8\" font-family=\"Helvetica,sans-Serif\" font-size=\"14.00\" fill=\"#000000\">value = [0, 3, 1, 13, 2]</text>\n<text text-anchor=\"start\" x=\"6294\" y=\"-825.8\" font-family=\"Helvetica,sans-Serif\" font-size=\"14.00\" fill=\"#000000\">class = 3</text>\n</g>\n<!-- 153&#45;&gt;157 -->\n<g id=\"edge157\" class=\"edge\">\n<title>153&#45;&gt;157</title>\n<path fill=\"none\" stroke=\"#000000\" d=\"M6200.103,-936.8796C6215.6413,-927.0962 6232.3088,-916.6019 6248.1987,-906.5971\"/>\n<polygon fill=\"#000000\" stroke=\"#000000\" points=\"6250.3368,-909.3869 6256.9343,-901.0969 6246.6071,-903.4633 6250.3368,-909.3869\"/>\n</g>\n<!-- 155 -->\n<g id=\"node156\" class=\"node\">\n<title>155</title>\n<path fill=\"#39e5c5\" stroke=\"#000000\" d=\"M6051,-774.5C6051,-774.5 5929,-774.5 5929,-774.5 5923,-774.5 5917,-768.5 5917,-762.5 5917,-762.5 5917,-718.5 5917,-718.5 5917,-712.5 5923,-706.5 5929,-706.5 5929,-706.5 6051,-706.5 6051,-706.5 6057,-706.5 6063,-712.5 6063,-718.5 6063,-718.5 6063,-762.5 6063,-762.5 6063,-768.5 6057,-774.5 6051,-774.5\"/>\n<text text-anchor=\"start\" x=\"5960.5\" y=\"-759.3\" font-family=\"Helvetica,sans-Serif\" font-size=\"14.00\" fill=\"#000000\">gini = 0.0</text>\n<text text-anchor=\"start\" x=\"5950.5\" y=\"-744.3\" font-family=\"Helvetica,sans-Serif\" font-size=\"14.00\" fill=\"#000000\">samples = 1</text>\n<text text-anchor=\"start\" x=\"5925\" y=\"-729.3\" font-family=\"Helvetica,sans-Serif\" font-size=\"14.00\" fill=\"#000000\">value = [0, 0, 1, 0, 0]</text>\n<text text-anchor=\"start\" x=\"5961\" y=\"-714.3\" font-family=\"Helvetica,sans-Serif\" font-size=\"14.00\" fill=\"#000000\">class = 2</text>\n</g>\n<!-- 154&#45;&gt;155 -->\n<g id=\"edge155\" class=\"edge\">\n<title>154&#45;&gt;155</title>\n<path fill=\"none\" stroke=\"#000000\" d=\"M6083.6358,-817.8796C6069.2651,-806.0038 6053.6267,-793.0804 6039.3192,-781.2568\"/>\n<polygon fill=\"#000000\" stroke=\"#000000\" points=\"6041.462,-778.4872 6031.524,-774.8149 6037.0029,-783.8831 6041.462,-778.4872\"/>\n</g>\n<!-- 156 -->\n<g id=\"node157\" class=\"node\">\n<title>156</title>\n<path fill=\"#e58139\" stroke=\"#000000\" d=\"M6215,-774.5C6215,-774.5 6093,-774.5 6093,-774.5 6087,-774.5 6081,-768.5 6081,-762.5 6081,-762.5 6081,-718.5 6081,-718.5 6081,-712.5 6087,-706.5 6093,-706.5 6093,-706.5 6215,-706.5 6215,-706.5 6221,-706.5 6227,-712.5 6227,-718.5 6227,-718.5 6227,-762.5 6227,-762.5 6227,-768.5 6221,-774.5 6215,-774.5\"/>\n<text text-anchor=\"start\" x=\"6124.5\" y=\"-759.3\" font-family=\"Helvetica,sans-Serif\" font-size=\"14.00\" fill=\"#000000\">gini = 0.0</text>\n<text text-anchor=\"start\" x=\"6114.5\" y=\"-744.3\" font-family=\"Helvetica,sans-Serif\" font-size=\"14.00\" fill=\"#000000\">samples = 1</text>\n<text text-anchor=\"start\" x=\"6089\" y=\"-729.3\" font-family=\"Helvetica,sans-Serif\" font-size=\"14.00\" fill=\"#000000\">value = [1, 0, 0, 0, 0]</text>\n<text text-anchor=\"start\" x=\"6125\" y=\"-714.3\" font-family=\"Helvetica,sans-Serif\" font-size=\"14.00\" fill=\"#000000\">class = 0</text>\n</g>\n<!-- 154&#45;&gt;156 -->\n<g id=\"edge156\" class=\"edge\">\n<title>154&#45;&gt;156</title>\n<path fill=\"none\" stroke=\"#000000\" d=\"M6140.995,-817.8796C6142.7877,-807.2134 6144.7223,-795.7021 6146.5376,-784.9015\"/>\n<polygon fill=\"#000000\" stroke=\"#000000\" points=\"6150.0269,-785.2568 6148.2328,-774.8149 6143.1237,-784.0965 6150.0269,-785.2568\"/>\n</g>\n<!-- 158 -->\n<g id=\"node159\" class=\"node\">\n<title>158</title>\n<path fill=\"#6967eb\" stroke=\"#000000\" d=\"M6388.5,-782C6388.5,-782 6257.5,-782 6257.5,-782 6251.5,-782 6245.5,-776 6245.5,-770 6245.5,-770 6245.5,-711 6245.5,-711 6245.5,-705 6251.5,-699 6257.5,-699 6257.5,-699 6388.5,-699 6388.5,-699 6394.5,-699 6400.5,-705 6400.5,-711 6400.5,-711 6400.5,-770 6400.5,-770 6400.5,-776 6394.5,-782 6388.5,-782\"/>\n<text text-anchor=\"start\" x=\"6282\" y=\"-766.8\" font-family=\"Helvetica,sans-Serif\" font-size=\"14.00\" fill=\"#000000\">age ≤ &#45;1.877</text>\n<text text-anchor=\"start\" x=\"6285\" y=\"-751.8\" font-family=\"Helvetica,sans-Serif\" font-size=\"14.00\" fill=\"#000000\">gini = 0.338</text>\n<text text-anchor=\"start\" x=\"6279\" y=\"-736.8\" font-family=\"Helvetica,sans-Serif\" font-size=\"14.00\" fill=\"#000000\">samples = 15</text>\n<text text-anchor=\"start\" x=\"6253.5\" y=\"-721.8\" font-family=\"Helvetica,sans-Serif\" font-size=\"14.00\" fill=\"#000000\">value = [0, 2, 1, 12, 0]</text>\n<text text-anchor=\"start\" x=\"6294\" y=\"-706.8\" font-family=\"Helvetica,sans-Serif\" font-size=\"14.00\" fill=\"#000000\">class = 3</text>\n</g>\n<!-- 157&#45;&gt;158 -->\n<g id=\"edge158\" class=\"edge\">\n<title>157&#45;&gt;158</title>\n<path fill=\"none\" stroke=\"#000000\" d=\"M6323,-817.8796C6323,-809.6838 6323,-800.9891 6323,-792.5013\"/>\n<polygon fill=\"#000000\" stroke=\"#000000\" points=\"6326.5001,-792.298 6323,-782.2981 6319.5001,-792.2981 6326.5001,-792.298\"/>\n</g>\n<!-- 167 -->\n<g id=\"node168\" class=\"node\">\n<title>167</title>\n<path fill=\"#f6bdea\" stroke=\"#000000\" d=\"M6553,-782C6553,-782 6431,-782 6431,-782 6425,-782 6419,-776 6419,-770 6419,-770 6419,-711 6419,-711 6419,-705 6425,-699 6431,-699 6431,-699 6553,-699 6553,-699 6559,-699 6565,-705 6565,-711 6565,-711 6565,-770 6565,-770 6565,-776 6559,-782 6553,-782\"/>\n<text text-anchor=\"start\" x=\"6450\" y=\"-766.8\" font-family=\"Helvetica,sans-Serif\" font-size=\"14.00\" fill=\"#000000\">chol ≤ &#45;0.565</text>\n<text text-anchor=\"start\" x=\"6454\" y=\"-751.8\" font-family=\"Helvetica,sans-Serif\" font-size=\"14.00\" fill=\"#000000\">gini = 0.625</text>\n<text text-anchor=\"start\" x=\"6452.5\" y=\"-736.8\" font-family=\"Helvetica,sans-Serif\" font-size=\"14.00\" fill=\"#000000\">samples = 4</text>\n<text text-anchor=\"start\" x=\"6427\" y=\"-721.8\" font-family=\"Helvetica,sans-Serif\" font-size=\"14.00\" fill=\"#000000\">value = [0, 1, 0, 1, 2]</text>\n<text text-anchor=\"start\" x=\"6463\" y=\"-706.8\" font-family=\"Helvetica,sans-Serif\" font-size=\"14.00\" fill=\"#000000\">class = 4</text>\n</g>\n<!-- 157&#45;&gt;167 -->\n<g id=\"edge167\" class=\"edge\">\n<title>157&#45;&gt;167</title>\n<path fill=\"none\" stroke=\"#000000\" d=\"M6382.108,-817.8796C6395.8734,-808.1868 6410.6299,-797.7961 6424.7193,-787.8752\"/>\n<polygon fill=\"#000000\" stroke=\"#000000\" points=\"6426.7641,-790.716 6432.9254,-782.0969 6422.7339,-784.9926 6426.7641,-790.716\"/>\n</g>\n<!-- 159 -->\n<g id=\"node160\" class=\"node\">\n<title>159</title>\n<path fill=\"#7be539\" stroke=\"#000000\" d=\"M6215,-655.5C6215,-655.5 6093,-655.5 6093,-655.5 6087,-655.5 6081,-649.5 6081,-643.5 6081,-643.5 6081,-599.5 6081,-599.5 6081,-593.5 6087,-587.5 6093,-587.5 6093,-587.5 6215,-587.5 6215,-587.5 6221,-587.5 6227,-593.5 6227,-599.5 6227,-599.5 6227,-643.5 6227,-643.5 6227,-649.5 6221,-655.5 6215,-655.5\"/>\n<text text-anchor=\"start\" x=\"6124.5\" y=\"-640.3\" font-family=\"Helvetica,sans-Serif\" font-size=\"14.00\" fill=\"#000000\">gini = 0.0</text>\n<text text-anchor=\"start\" x=\"6114.5\" y=\"-625.3\" font-family=\"Helvetica,sans-Serif\" font-size=\"14.00\" fill=\"#000000\">samples = 1</text>\n<text text-anchor=\"start\" x=\"6089\" y=\"-610.3\" font-family=\"Helvetica,sans-Serif\" font-size=\"14.00\" fill=\"#000000\">value = [0, 1, 0, 0, 0]</text>\n<text text-anchor=\"start\" x=\"6125\" y=\"-595.3\" font-family=\"Helvetica,sans-Serif\" font-size=\"14.00\" fill=\"#000000\">class = 1</text>\n</g>\n<!-- 158&#45;&gt;159 -->\n<g id=\"edge159\" class=\"edge\">\n<title>158&#45;&gt;159</title>\n<path fill=\"none\" stroke=\"#000000\" d=\"M6263.892,-698.8796C6246.6323,-686.7263 6227.8144,-673.4759 6210.707,-661.4297\"/>\n<polygon fill=\"#000000\" stroke=\"#000000\" points=\"6212.6519,-658.5187 6202.4604,-655.623 6208.6218,-664.2421 6212.6519,-658.5187\"/>\n</g>\n<!-- 160 -->\n<g id=\"node161\" class=\"node\">\n<title>160</title>\n<path fill=\"#5a57e9\" stroke=\"#000000\" d=\"M6388.5,-663C6388.5,-663 6257.5,-663 6257.5,-663 6251.5,-663 6245.5,-657 6245.5,-651 6245.5,-651 6245.5,-592 6245.5,-592 6245.5,-586 6251.5,-580 6257.5,-580 6257.5,-580 6388.5,-580 6388.5,-580 6394.5,-580 6400.5,-586 6400.5,-592 6400.5,-592 6400.5,-651 6400.5,-651 6400.5,-657 6394.5,-663 6388.5,-663\"/>\n<text text-anchor=\"start\" x=\"6293\" y=\"-647.8\" font-family=\"Helvetica,sans-Serif\" font-size=\"14.00\" fill=\"#000000\">ca ≤ 0.89</text>\n<text text-anchor=\"start\" x=\"6285\" y=\"-632.8\" font-family=\"Helvetica,sans-Serif\" font-size=\"14.00\" fill=\"#000000\">gini = 0.255</text>\n<text text-anchor=\"start\" x=\"6279\" y=\"-617.8\" font-family=\"Helvetica,sans-Serif\" font-size=\"14.00\" fill=\"#000000\">samples = 14</text>\n<text text-anchor=\"start\" x=\"6253.5\" y=\"-602.8\" font-family=\"Helvetica,sans-Serif\" font-size=\"14.00\" fill=\"#000000\">value = [0, 1, 1, 12, 0]</text>\n<text text-anchor=\"start\" x=\"6294\" y=\"-587.8\" font-family=\"Helvetica,sans-Serif\" font-size=\"14.00\" fill=\"#000000\">class = 3</text>\n</g>\n<!-- 158&#45;&gt;160 -->\n<g id=\"edge160\" class=\"edge\">\n<title>158&#45;&gt;160</title>\n<path fill=\"none\" stroke=\"#000000\" d=\"M6323,-698.8796C6323,-690.6838 6323,-681.9891 6323,-673.5013\"/>\n<polygon fill=\"#000000\" stroke=\"#000000\" points=\"6326.5001,-673.298 6323,-663.2981 6319.5001,-673.2981 6326.5001,-673.298\"/>\n</g>\n<!-- 161 -->\n<g id=\"node162\" class=\"node\">\n<title>161</title>\n<path fill=\"#3c39e5\" stroke=\"#000000\" d=\"M6304,-536.5C6304,-536.5 6182,-536.5 6182,-536.5 6176,-536.5 6170,-530.5 6170,-524.5 6170,-524.5 6170,-480.5 6170,-480.5 6170,-474.5 6176,-468.5 6182,-468.5 6182,-468.5 6304,-468.5 6304,-468.5 6310,-468.5 6316,-474.5 6316,-480.5 6316,-480.5 6316,-524.5 6316,-524.5 6316,-530.5 6310,-536.5 6304,-536.5\"/>\n<text text-anchor=\"start\" x=\"6213.5\" y=\"-521.3\" font-family=\"Helvetica,sans-Serif\" font-size=\"14.00\" fill=\"#000000\">gini = 0.0</text>\n<text text-anchor=\"start\" x=\"6203.5\" y=\"-506.3\" font-family=\"Helvetica,sans-Serif\" font-size=\"14.00\" fill=\"#000000\">samples = 9</text>\n<text text-anchor=\"start\" x=\"6178\" y=\"-491.3\" font-family=\"Helvetica,sans-Serif\" font-size=\"14.00\" fill=\"#000000\">value = [0, 0, 0, 9, 0]</text>\n<text text-anchor=\"start\" x=\"6214\" y=\"-476.3\" font-family=\"Helvetica,sans-Serif\" font-size=\"14.00\" fill=\"#000000\">class = 3</text>\n</g>\n<!-- 160&#45;&gt;161 -->\n<g id=\"edge161\" class=\"edge\">\n<title>160&#45;&gt;161</title>\n<path fill=\"none\" stroke=\"#000000\" d=\"M6295.0199,-579.8796C6287.4797,-568.6636 6279.3113,-556.5131 6271.7309,-545.2372\"/>\n<polygon fill=\"#000000\" stroke=\"#000000\" points=\"6274.5527,-543.1612 6266.0689,-536.8149 6268.7434,-547.0667 6274.5527,-543.1612\"/>\n</g>\n<!-- 162 -->\n<g id=\"node163\" class=\"node\">\n<title>162</title>\n<path fill=\"#9e9cf2\" stroke=\"#000000\" d=\"M6468,-544C6468,-544 6346,-544 6346,-544 6340,-544 6334,-538 6334,-532 6334,-532 6334,-473 6334,-473 6334,-467 6340,-461 6346,-461 6346,-461 6468,-461 6468,-461 6474,-461 6480,-467 6480,-473 6480,-473 6480,-532 6480,-532 6480,-538 6474,-544 6468,-544\"/>\n<text text-anchor=\"start\" x=\"6355\" y=\"-528.8\" font-family=\"Helvetica,sans-Serif\" font-size=\"14.00\" fill=\"#000000\">oldpeak ≤ 1.346</text>\n<text text-anchor=\"start\" x=\"6373.5\" y=\"-513.8\" font-family=\"Helvetica,sans-Serif\" font-size=\"14.00\" fill=\"#000000\">gini = 0.56</text>\n<text text-anchor=\"start\" x=\"6367.5\" y=\"-498.8\" font-family=\"Helvetica,sans-Serif\" font-size=\"14.00\" fill=\"#000000\">samples = 5</text>\n<text text-anchor=\"start\" x=\"6342\" y=\"-483.8\" font-family=\"Helvetica,sans-Serif\" font-size=\"14.00\" fill=\"#000000\">value = [0, 1, 1, 3, 0]</text>\n<text text-anchor=\"start\" x=\"6378\" y=\"-468.8\" font-family=\"Helvetica,sans-Serif\" font-size=\"14.00\" fill=\"#000000\">class = 3</text>\n</g>\n<!-- 160&#45;&gt;162 -->\n<g id=\"edge162\" class=\"edge\">\n<title>160&#45;&gt;162</title>\n<path fill=\"none\" stroke=\"#000000\" d=\"M6352.3791,-579.8796C6358.6094,-571.0534 6365.2481,-561.6485 6371.673,-552.5466\"/>\n<polygon fill=\"#000000\" stroke=\"#000000\" points=\"6374.588,-554.4862 6377.4955,-544.2981 6368.8692,-550.4494 6374.588,-554.4862\"/>\n</g>\n<!-- 163 -->\n<g id=\"node164\" class=\"node\">\n<title>163</title>\n<path fill=\"#ffffff\" stroke=\"#000000\" d=\"M6386,-425C6386,-425 6264,-425 6264,-425 6258,-425 6252,-419 6252,-413 6252,-413 6252,-354 6252,-354 6252,-348 6258,-342 6264,-342 6264,-342 6386,-342 6386,-342 6392,-342 6398,-348 6398,-354 6398,-354 6398,-413 6398,-413 6398,-419 6392,-425 6386,-425\"/>\n<text text-anchor=\"start\" x=\"6273\" y=\"-409.8\" font-family=\"Helvetica,sans-Serif\" font-size=\"14.00\" fill=\"#000000\">thalach ≤ &#45;1.056</text>\n<text text-anchor=\"start\" x=\"6295.5\" y=\"-394.8\" font-family=\"Helvetica,sans-Serif\" font-size=\"14.00\" fill=\"#000000\">gini = 0.5</text>\n<text text-anchor=\"start\" x=\"6285.5\" y=\"-379.8\" font-family=\"Helvetica,sans-Serif\" font-size=\"14.00\" fill=\"#000000\">samples = 2</text>\n<text text-anchor=\"start\" x=\"6260\" y=\"-364.8\" font-family=\"Helvetica,sans-Serif\" font-size=\"14.00\" fill=\"#000000\">value = [0, 1, 1, 0, 0]</text>\n<text text-anchor=\"start\" x=\"6296\" y=\"-349.8\" font-family=\"Helvetica,sans-Serif\" font-size=\"14.00\" fill=\"#000000\">class = 1</text>\n</g>\n<!-- 162&#45;&gt;163 -->\n<g id=\"edge163\" class=\"edge\">\n<title>162&#45;&gt;163</title>\n<path fill=\"none\" stroke=\"#000000\" d=\"M6378.3204,-460.8796C6372.2385,-452.0534 6365.7578,-442.6485 6359.4859,-433.5466\"/>\n<polygon fill=\"#000000\" stroke=\"#000000\" points=\"6362.3582,-431.5465 6353.802,-425.2981 6356.5941,-435.5184 6362.3582,-431.5465\"/>\n</g>\n<!-- 166 -->\n<g id=\"node167\" class=\"node\">\n<title>166</title>\n<path fill=\"#3c39e5\" stroke=\"#000000\" d=\"M6550,-417.5C6550,-417.5 6428,-417.5 6428,-417.5 6422,-417.5 6416,-411.5 6416,-405.5 6416,-405.5 6416,-361.5 6416,-361.5 6416,-355.5 6422,-349.5 6428,-349.5 6428,-349.5 6550,-349.5 6550,-349.5 6556,-349.5 6562,-355.5 6562,-361.5 6562,-361.5 6562,-405.5 6562,-405.5 6562,-411.5 6556,-417.5 6550,-417.5\"/>\n<text text-anchor=\"start\" x=\"6459.5\" y=\"-402.3\" font-family=\"Helvetica,sans-Serif\" font-size=\"14.00\" fill=\"#000000\">gini = 0.0</text>\n<text text-anchor=\"start\" x=\"6449.5\" y=\"-387.3\" font-family=\"Helvetica,sans-Serif\" font-size=\"14.00\" fill=\"#000000\">samples = 3</text>\n<text text-anchor=\"start\" x=\"6424\" y=\"-372.3\" font-family=\"Helvetica,sans-Serif\" font-size=\"14.00\" fill=\"#000000\">value = [0, 0, 0, 3, 0]</text>\n<text text-anchor=\"start\" x=\"6460\" y=\"-357.3\" font-family=\"Helvetica,sans-Serif\" font-size=\"14.00\" fill=\"#000000\">class = 3</text>\n</g>\n<!-- 162&#45;&gt;166 -->\n<g id=\"edge166\" class=\"edge\">\n<title>162&#45;&gt;166</title>\n<path fill=\"none\" stroke=\"#000000\" d=\"M6435.6796,-460.8796C6443.4083,-449.6636 6451.7809,-437.5131 6459.5508,-426.2372\"/>\n<polygon fill=\"#000000\" stroke=\"#000000\" points=\"6462.5623,-428.0353 6465.3544,-417.8149 6456.7982,-424.0634 6462.5623,-428.0353\"/>\n</g>\n<!-- 164 -->\n<g id=\"node165\" class=\"node\">\n<title>164</title>\n<path fill=\"#39e5c5\" stroke=\"#000000\" d=\"M6304,-298.5C6304,-298.5 6182,-298.5 6182,-298.5 6176,-298.5 6170,-292.5 6170,-286.5 6170,-286.5 6170,-242.5 6170,-242.5 6170,-236.5 6176,-230.5 6182,-230.5 6182,-230.5 6304,-230.5 6304,-230.5 6310,-230.5 6316,-236.5 6316,-242.5 6316,-242.5 6316,-286.5 6316,-286.5 6316,-292.5 6310,-298.5 6304,-298.5\"/>\n<text text-anchor=\"start\" x=\"6213.5\" y=\"-283.3\" font-family=\"Helvetica,sans-Serif\" font-size=\"14.00\" fill=\"#000000\">gini = 0.0</text>\n<text text-anchor=\"start\" x=\"6203.5\" y=\"-268.3\" font-family=\"Helvetica,sans-Serif\" font-size=\"14.00\" fill=\"#000000\">samples = 1</text>\n<text text-anchor=\"start\" x=\"6178\" y=\"-253.3\" font-family=\"Helvetica,sans-Serif\" font-size=\"14.00\" fill=\"#000000\">value = [0, 0, 1, 0, 0]</text>\n<text text-anchor=\"start\" x=\"6214\" y=\"-238.3\" font-family=\"Helvetica,sans-Serif\" font-size=\"14.00\" fill=\"#000000\">class = 2</text>\n</g>\n<!-- 163&#45;&gt;164 -->\n<g id=\"edge164\" class=\"edge\">\n<title>163&#45;&gt;164</title>\n<path fill=\"none\" stroke=\"#000000\" d=\"M6296.3204,-341.8796C6288.5917,-330.6636 6280.2191,-318.5131 6272.4492,-307.2372\"/>\n<polygon fill=\"#000000\" stroke=\"#000000\" points=\"6275.2018,-305.0634 6266.6456,-298.8149 6269.4377,-309.0353 6275.2018,-305.0634\"/>\n</g>\n<!-- 165 -->\n<g id=\"node166\" class=\"node\">\n<title>165</title>\n<path fill=\"#7be539\" stroke=\"#000000\" d=\"M6468,-298.5C6468,-298.5 6346,-298.5 6346,-298.5 6340,-298.5 6334,-292.5 6334,-286.5 6334,-286.5 6334,-242.5 6334,-242.5 6334,-236.5 6340,-230.5 6346,-230.5 6346,-230.5 6468,-230.5 6468,-230.5 6474,-230.5 6480,-236.5 6480,-242.5 6480,-242.5 6480,-286.5 6480,-286.5 6480,-292.5 6474,-298.5 6468,-298.5\"/>\n<text text-anchor=\"start\" x=\"6377.5\" y=\"-283.3\" font-family=\"Helvetica,sans-Serif\" font-size=\"14.00\" fill=\"#000000\">gini = 0.0</text>\n<text text-anchor=\"start\" x=\"6367.5\" y=\"-268.3\" font-family=\"Helvetica,sans-Serif\" font-size=\"14.00\" fill=\"#000000\">samples = 1</text>\n<text text-anchor=\"start\" x=\"6342\" y=\"-253.3\" font-family=\"Helvetica,sans-Serif\" font-size=\"14.00\" fill=\"#000000\">value = [0, 1, 0, 0, 0]</text>\n<text text-anchor=\"start\" x=\"6378\" y=\"-238.3\" font-family=\"Helvetica,sans-Serif\" font-size=\"14.00\" fill=\"#000000\">class = 1</text>\n</g>\n<!-- 163&#45;&gt;165 -->\n<g id=\"edge165\" class=\"edge\">\n<title>163&#45;&gt;165</title>\n<path fill=\"none\" stroke=\"#000000\" d=\"M6353.6796,-341.8796C6361.4083,-330.6636 6369.7809,-318.5131 6377.5508,-307.2372\"/>\n<polygon fill=\"#000000\" stroke=\"#000000\" points=\"6380.5623,-309.0353 6383.3544,-298.8149 6374.7982,-305.0634 6380.5623,-309.0353\"/>\n</g>\n<!-- 168 -->\n<g id=\"node169\" class=\"node\">\n<title>168</title>\n<path fill=\"#e539c0\" stroke=\"#000000\" d=\"M6553,-655.5C6553,-655.5 6431,-655.5 6431,-655.5 6425,-655.5 6419,-649.5 6419,-643.5 6419,-643.5 6419,-599.5 6419,-599.5 6419,-593.5 6425,-587.5 6431,-587.5 6431,-587.5 6553,-587.5 6553,-587.5 6559,-587.5 6565,-593.5 6565,-599.5 6565,-599.5 6565,-643.5 6565,-643.5 6565,-649.5 6559,-655.5 6553,-655.5\"/>\n<text text-anchor=\"start\" x=\"6462.5\" y=\"-640.3\" font-family=\"Helvetica,sans-Serif\" font-size=\"14.00\" fill=\"#000000\">gini = 0.0</text>\n<text text-anchor=\"start\" x=\"6452.5\" y=\"-625.3\" font-family=\"Helvetica,sans-Serif\" font-size=\"14.00\" fill=\"#000000\">samples = 2</text>\n<text text-anchor=\"start\" x=\"6427\" y=\"-610.3\" font-family=\"Helvetica,sans-Serif\" font-size=\"14.00\" fill=\"#000000\">value = [0, 0, 0, 0, 2]</text>\n<text text-anchor=\"start\" x=\"6463\" y=\"-595.3\" font-family=\"Helvetica,sans-Serif\" font-size=\"14.00\" fill=\"#000000\">class = 4</text>\n</g>\n<!-- 167&#45;&gt;168 -->\n<g id=\"edge168\" class=\"edge\">\n<title>167&#45;&gt;168</title>\n<path fill=\"none\" stroke=\"#000000\" d=\"M6492,-698.8796C6492,-688.2134 6492,-676.7021 6492,-665.9015\"/>\n<polygon fill=\"#000000\" stroke=\"#000000\" points=\"6495.5001,-665.8149 6492,-655.8149 6488.5001,-665.815 6495.5001,-665.8149\"/>\n</g>\n<!-- 169 -->\n<g id=\"node170\" class=\"node\">\n<title>169</title>\n<path fill=\"#ffffff\" stroke=\"#000000\" d=\"M6717,-663C6717,-663 6595,-663 6595,-663 6589,-663 6583,-657 6583,-651 6583,-651 6583,-592 6583,-592 6583,-586 6589,-580 6595,-580 6595,-580 6717,-580 6717,-580 6723,-580 6729,-586 6729,-592 6729,-592 6729,-651 6729,-651 6729,-657 6723,-663 6717,-663\"/>\n<text text-anchor=\"start\" x=\"6620\" y=\"-647.8\" font-family=\"Helvetica,sans-Serif\" font-size=\"14.00\" fill=\"#000000\">fbs ≤ 0.988</text>\n<text text-anchor=\"start\" x=\"6626.5\" y=\"-632.8\" font-family=\"Helvetica,sans-Serif\" font-size=\"14.00\" fill=\"#000000\">gini = 0.5</text>\n<text text-anchor=\"start\" x=\"6616.5\" y=\"-617.8\" font-family=\"Helvetica,sans-Serif\" font-size=\"14.00\" fill=\"#000000\">samples = 2</text>\n<text text-anchor=\"start\" x=\"6591\" y=\"-602.8\" font-family=\"Helvetica,sans-Serif\" font-size=\"14.00\" fill=\"#000000\">value = [0, 1, 0, 1, 0]</text>\n<text text-anchor=\"start\" x=\"6627\" y=\"-587.8\" font-family=\"Helvetica,sans-Serif\" font-size=\"14.00\" fill=\"#000000\">class = 1</text>\n</g>\n<!-- 167&#45;&gt;169 -->\n<g id=\"edge169\" class=\"edge\">\n<title>167&#45;&gt;169</title>\n<path fill=\"none\" stroke=\"#000000\" d=\"M6549.3592,-698.8796C6562.5925,-689.2774 6576.7697,-678.9903 6590.3264,-669.1534\"/>\n<polygon fill=\"#000000\" stroke=\"#000000\" points=\"6592.6349,-671.8027 6598.6731,-663.0969 6588.5238,-666.1371 6592.6349,-671.8027\"/>\n</g>\n<!-- 170 -->\n<g id=\"node171\" class=\"node\">\n<title>170</title>\n<path fill=\"#7be539\" stroke=\"#000000\" d=\"M6634,-536.5C6634,-536.5 6512,-536.5 6512,-536.5 6506,-536.5 6500,-530.5 6500,-524.5 6500,-524.5 6500,-480.5 6500,-480.5 6500,-474.5 6506,-468.5 6512,-468.5 6512,-468.5 6634,-468.5 6634,-468.5 6640,-468.5 6646,-474.5 6646,-480.5 6646,-480.5 6646,-524.5 6646,-524.5 6646,-530.5 6640,-536.5 6634,-536.5\"/>\n<text text-anchor=\"start\" x=\"6543.5\" y=\"-521.3\" font-family=\"Helvetica,sans-Serif\" font-size=\"14.00\" fill=\"#000000\">gini = 0.0</text>\n<text text-anchor=\"start\" x=\"6533.5\" y=\"-506.3\" font-family=\"Helvetica,sans-Serif\" font-size=\"14.00\" fill=\"#000000\">samples = 1</text>\n<text text-anchor=\"start\" x=\"6508\" y=\"-491.3\" font-family=\"Helvetica,sans-Serif\" font-size=\"14.00\" fill=\"#000000\">value = [0, 1, 0, 0, 0]</text>\n<text text-anchor=\"start\" x=\"6544\" y=\"-476.3\" font-family=\"Helvetica,sans-Serif\" font-size=\"14.00\" fill=\"#000000\">class = 1</text>\n</g>\n<!-- 169&#45;&gt;170 -->\n<g id=\"edge170\" class=\"edge\">\n<title>169&#45;&gt;170</title>\n<path fill=\"none\" stroke=\"#000000\" d=\"M6626.9706,-579.8796C6619.1477,-568.6636 6610.673,-556.5131 6602.8083,-545.2372\"/>\n<polygon fill=\"#000000\" stroke=\"#000000\" points=\"6605.5254,-543.0147 6596.9339,-536.8149 6599.784,-547.0192 6605.5254,-543.0147\"/>\n</g>\n<!-- 171 -->\n<g id=\"node172\" class=\"node\">\n<title>171</title>\n<path fill=\"#3c39e5\" stroke=\"#000000\" d=\"M6798,-536.5C6798,-536.5 6676,-536.5 6676,-536.5 6670,-536.5 6664,-530.5 6664,-524.5 6664,-524.5 6664,-480.5 6664,-480.5 6664,-474.5 6670,-468.5 6676,-468.5 6676,-468.5 6798,-468.5 6798,-468.5 6804,-468.5 6810,-474.5 6810,-480.5 6810,-480.5 6810,-524.5 6810,-524.5 6810,-530.5 6804,-536.5 6798,-536.5\"/>\n<text text-anchor=\"start\" x=\"6707.5\" y=\"-521.3\" font-family=\"Helvetica,sans-Serif\" font-size=\"14.00\" fill=\"#000000\">gini = 0.0</text>\n<text text-anchor=\"start\" x=\"6697.5\" y=\"-506.3\" font-family=\"Helvetica,sans-Serif\" font-size=\"14.00\" fill=\"#000000\">samples = 1</text>\n<text text-anchor=\"start\" x=\"6672\" y=\"-491.3\" font-family=\"Helvetica,sans-Serif\" font-size=\"14.00\" fill=\"#000000\">value = [0, 0, 0, 1, 0]</text>\n<text text-anchor=\"start\" x=\"6708\" y=\"-476.3\" font-family=\"Helvetica,sans-Serif\" font-size=\"14.00\" fill=\"#000000\">class = 3</text>\n</g>\n<!-- 169&#45;&gt;171 -->\n<g id=\"edge171\" class=\"edge\">\n<title>169&#45;&gt;171</title>\n<path fill=\"none\" stroke=\"#000000\" d=\"M6684.3299,-579.8796C6691.9643,-568.6636 6700.2348,-556.5131 6707.9099,-545.2372\"/>\n<polygon fill=\"#000000\" stroke=\"#000000\" points=\"6710.9092,-547.0511 6713.6428,-536.8149 6705.1225,-543.1122 6710.9092,-547.0511\"/>\n</g>\n<!-- 173 -->\n<g id=\"node174\" class=\"node\">\n<title>173</title>\n<path fill=\"#aef4e7\" stroke=\"#000000\" d=\"M7128.5,-1139C7128.5,-1139 6997.5,-1139 6997.5,-1139 6991.5,-1139 6985.5,-1133 6985.5,-1127 6985.5,-1127 6985.5,-1068 6985.5,-1068 6985.5,-1062 6991.5,-1056 6997.5,-1056 6997.5,-1056 7128.5,-1056 7128.5,-1056 7134.5,-1056 7140.5,-1062 7140.5,-1068 7140.5,-1068 7140.5,-1127 7140.5,-1127 7140.5,-1133 7134.5,-1139 7128.5,-1139\"/>\n<text text-anchor=\"start\" x=\"7017\" y=\"-1123.8\" font-family=\"Helvetica,sans-Serif\" font-size=\"14.00\" fill=\"#000000\">slope ≤ &#45;0.164</text>\n<text text-anchor=\"start\" x=\"7025\" y=\"-1108.8\" font-family=\"Helvetica,sans-Serif\" font-size=\"14.00\" fill=\"#000000\">gini = 0.616</text>\n<text text-anchor=\"start\" x=\"7019\" y=\"-1093.8\" font-family=\"Helvetica,sans-Serif\" font-size=\"14.00\" fill=\"#000000\">samples = 29</text>\n<text text-anchor=\"start\" x=\"6993.5\" y=\"-1078.8\" font-family=\"Helvetica,sans-Serif\" font-size=\"14.00\" fill=\"#000000\">value = [1, 7, 16, 4, 1]</text>\n<text text-anchor=\"start\" x=\"7034\" y=\"-1063.8\" font-family=\"Helvetica,sans-Serif\" font-size=\"14.00\" fill=\"#000000\">class = 2</text>\n</g>\n<!-- 172&#45;&gt;173 -->\n<g id=\"edge173\" class=\"edge\">\n<title>172&#45;&gt;173</title>\n<path fill=\"none\" stroke=\"#000000\" d=\"M7063,-1174.8796C7063,-1166.6838 7063,-1157.9891 7063,-1149.5013\"/>\n<polygon fill=\"#000000\" stroke=\"#000000\" points=\"7066.5001,-1149.298 7063,-1139.2981 7059.5001,-1149.2981 7066.5001,-1149.298\"/>\n</g>\n<!-- 200 -->\n<g id=\"node201\" class=\"node\">\n<title>200</title>\n<path fill=\"#f29ce0\" stroke=\"#000000\" d=\"M7378,-1139C7378,-1139 7256,-1139 7256,-1139 7250,-1139 7244,-1133 7244,-1127 7244,-1127 7244,-1068 7244,-1068 7244,-1062 7250,-1056 7256,-1056 7256,-1056 7378,-1056 7378,-1056 7384,-1056 7390,-1062 7390,-1068 7390,-1068 7390,-1127 7390,-1127 7390,-1133 7384,-1139 7378,-1139\"/>\n<text text-anchor=\"start\" x=\"7265\" y=\"-1123.8\" font-family=\"Helvetica,sans-Serif\" font-size=\"14.00\" fill=\"#000000\">oldpeak ≤ 3.675</text>\n<text text-anchor=\"start\" x=\"7279\" y=\"-1108.8\" font-family=\"Helvetica,sans-Serif\" font-size=\"14.00\" fill=\"#000000\">gini = 0.444</text>\n<text text-anchor=\"start\" x=\"7277.5\" y=\"-1093.8\" font-family=\"Helvetica,sans-Serif\" font-size=\"14.00\" fill=\"#000000\">samples = 3</text>\n<text text-anchor=\"start\" x=\"7252\" y=\"-1078.8\" font-family=\"Helvetica,sans-Serif\" font-size=\"14.00\" fill=\"#000000\">value = [0, 0, 0, 1, 2]</text>\n<text text-anchor=\"start\" x=\"7288\" y=\"-1063.8\" font-family=\"Helvetica,sans-Serif\" font-size=\"14.00\" fill=\"#000000\">class = 4</text>\n</g>\n<!-- 172&#45;&gt;200 -->\n<g id=\"edge200\" class=\"edge\">\n<title>172&#45;&gt;200</title>\n<path fill=\"none\" stroke=\"#000000\" d=\"M7140.5885,-1180.1495C7170.3368,-1166.2123 7204.3704,-1150.2674 7234.5576,-1136.1246\"/>\n<polygon fill=\"#000000\" stroke=\"#000000\" points=\"7236.2231,-1139.2095 7243.7936,-1131.7975 7233.2533,-1132.8706 7236.2231,-1139.2095\"/>\n</g>\n<!-- 174 -->\n<g id=\"node175\" class=\"node\">\n<title>174</title>\n<path fill=\"#d3f6bd\" stroke=\"#000000\" d=\"M7040,-1020C7040,-1020 6918,-1020 6918,-1020 6912,-1020 6906,-1014 6906,-1008 6906,-1008 6906,-949 6906,-949 6906,-943 6912,-937 6918,-937 6918,-937 7040,-937 7040,-937 7046,-937 7052,-943 7052,-949 7052,-949 7052,-1008 7052,-1008 7052,-1014 7046,-1020 7040,-1020\"/>\n<text text-anchor=\"start\" x=\"6949\" y=\"-1004.8\" font-family=\"Helvetica,sans-Serif\" font-size=\"14.00\" fill=\"#000000\">ca ≤ 0.89</text>\n<text text-anchor=\"start\" x=\"6941\" y=\"-989.8\" font-family=\"Helvetica,sans-Serif\" font-size=\"14.00\" fill=\"#000000\">gini = 0.656</text>\n<text text-anchor=\"start\" x=\"6939.5\" y=\"-974.8\" font-family=\"Helvetica,sans-Serif\" font-size=\"14.00\" fill=\"#000000\">samples = 8</text>\n<text text-anchor=\"start\" x=\"6914\" y=\"-959.8\" font-family=\"Helvetica,sans-Serif\" font-size=\"14.00\" fill=\"#000000\">value = [1, 4, 2, 1, 0]</text>\n<text text-anchor=\"start\" x=\"6950\" y=\"-944.8\" font-family=\"Helvetica,sans-Serif\" font-size=\"14.00\" fill=\"#000000\">class = 1</text>\n</g>\n<!-- 173&#45;&gt;174 -->\n<g id=\"edge174\" class=\"edge\">\n<title>173&#45;&gt;174</title>\n<path fill=\"none\" stroke=\"#000000\" d=\"M7033.6209,-1055.8796C7027.3906,-1047.0534 7020.7519,-1037.6485 7014.327,-1028.5466\"/>\n<polygon fill=\"#000000\" stroke=\"#000000\" points=\"7017.1308,-1026.4494 7008.5045,-1020.2981 7011.412,-1030.4862 7017.1308,-1026.4494\"/>\n</g>\n<!-- 181 -->\n<g id=\"node182\" class=\"node\">\n<title>181</title>\n<path fill=\"#86efdc\" stroke=\"#000000\" d=\"M7213.5,-1020C7213.5,-1020 7082.5,-1020 7082.5,-1020 7076.5,-1020 7070.5,-1014 7070.5,-1008 7070.5,-1008 7070.5,-949 7070.5,-949 7070.5,-943 7076.5,-937 7082.5,-937 7082.5,-937 7213.5,-937 7213.5,-937 7219.5,-937 7225.5,-943 7225.5,-949 7225.5,-949 7225.5,-1008 7225.5,-1008 7225.5,-1014 7219.5,-1020 7213.5,-1020\"/>\n<text text-anchor=\"start\" x=\"7098\" y=\"-1004.8\" font-family=\"Helvetica,sans-Serif\" font-size=\"14.00\" fill=\"#000000\">oldpeak ≤ &#45;0.12</text>\n<text text-anchor=\"start\" x=\"7110\" y=\"-989.8\" font-family=\"Helvetica,sans-Serif\" font-size=\"14.00\" fill=\"#000000\">gini = 0.512</text>\n<text text-anchor=\"start\" x=\"7104\" y=\"-974.8\" font-family=\"Helvetica,sans-Serif\" font-size=\"14.00\" fill=\"#000000\">samples = 21</text>\n<text text-anchor=\"start\" x=\"7078.5\" y=\"-959.8\" font-family=\"Helvetica,sans-Serif\" font-size=\"14.00\" fill=\"#000000\">value = [0, 3, 14, 3, 1]</text>\n<text text-anchor=\"start\" x=\"7119\" y=\"-944.8\" font-family=\"Helvetica,sans-Serif\" font-size=\"14.00\" fill=\"#000000\">class = 2</text>\n</g>\n<!-- 173&#45;&gt;181 -->\n<g id=\"edge181\" class=\"edge\">\n<title>173&#45;&gt;181</title>\n<path fill=\"none\" stroke=\"#000000\" d=\"M7092.7289,-1055.8796C7099.0333,-1047.0534 7105.751,-1037.6485 7112.2524,-1028.5466\"/>\n<polygon fill=\"#000000\" stroke=\"#000000\" points=\"7115.1799,-1030.4698 7118.1442,-1020.2981 7109.4837,-1026.4011 7115.1799,-1030.4698\"/>\n</g>\n<!-- 175 -->\n<g id=\"node176\" class=\"node\">\n<title>175</title>\n<path fill=\"#9cec6a\" stroke=\"#000000\" d=\"M6881,-901C6881,-901 6759,-901 6759,-901 6753,-901 6747,-895 6747,-889 6747,-889 6747,-830 6747,-830 6747,-824 6753,-818 6759,-818 6759,-818 6881,-818 6881,-818 6887,-818 6893,-824 6893,-830 6893,-830 6893,-889 6893,-889 6893,-895 6887,-901 6881,-901\"/>\n<text text-anchor=\"start\" x=\"6781.5\" y=\"-885.8\" font-family=\"Helvetica,sans-Serif\" font-size=\"14.00\" fill=\"#000000\">age ≤ 1.004</text>\n<text text-anchor=\"start\" x=\"6786.5\" y=\"-870.8\" font-family=\"Helvetica,sans-Serif\" font-size=\"14.00\" fill=\"#000000\">gini = 0.32</text>\n<text text-anchor=\"start\" x=\"6780.5\" y=\"-855.8\" font-family=\"Helvetica,sans-Serif\" font-size=\"14.00\" fill=\"#000000\">samples = 5</text>\n<text text-anchor=\"start\" x=\"6755\" y=\"-840.8\" font-family=\"Helvetica,sans-Serif\" font-size=\"14.00\" fill=\"#000000\">value = [1, 4, 0, 0, 0]</text>\n<text text-anchor=\"start\" x=\"6791\" y=\"-825.8\" font-family=\"Helvetica,sans-Serif\" font-size=\"14.00\" fill=\"#000000\">class = 1</text>\n</g>\n<!-- 174&#45;&gt;175 -->\n<g id=\"edge175\" class=\"edge\">\n<title>174&#45;&gt;175</title>\n<path fill=\"none\" stroke=\"#000000\" d=\"M6923.3895,-936.8796C6910.5597,-927.2774 6896.8148,-916.9903 6883.6714,-907.1534\"/>\n<polygon fill=\"#000000\" stroke=\"#000000\" points=\"6885.6823,-904.2868 6875.5791,-901.0969 6881.4879,-909.891 6885.6823,-904.2868\"/>\n</g>\n<!-- 178 -->\n<g id=\"node179\" class=\"node\">\n<title>178</title>\n<path fill=\"#9cf2e2\" stroke=\"#000000\" d=\"M7045,-901C7045,-901 6923,-901 6923,-901 6917,-901 6911,-895 6911,-889 6911,-889 6911,-830 6911,-830 6911,-824 6917,-818 6923,-818 6923,-818 7045,-818 7045,-818 7051,-818 7057,-824 7057,-830 7057,-830 7057,-889 7057,-889 7057,-895 7051,-901 7045,-901\"/>\n<text text-anchor=\"start\" x=\"6932\" y=\"-885.8\" font-family=\"Helvetica,sans-Serif\" font-size=\"14.00\" fill=\"#000000\">oldpeak ≤ 0.138</text>\n<text text-anchor=\"start\" x=\"6946\" y=\"-870.8\" font-family=\"Helvetica,sans-Serif\" font-size=\"14.00\" fill=\"#000000\">gini = 0.444</text>\n<text text-anchor=\"start\" x=\"6944.5\" y=\"-855.8\" font-family=\"Helvetica,sans-Serif\" font-size=\"14.00\" fill=\"#000000\">samples = 3</text>\n<text text-anchor=\"start\" x=\"6919\" y=\"-840.8\" font-family=\"Helvetica,sans-Serif\" font-size=\"14.00\" fill=\"#000000\">value = [0, 0, 2, 1, 0]</text>\n<text text-anchor=\"start\" x=\"6955\" y=\"-825.8\" font-family=\"Helvetica,sans-Serif\" font-size=\"14.00\" fill=\"#000000\">class = 2</text>\n</g>\n<!-- 174&#45;&gt;178 -->\n<g id=\"edge178\" class=\"edge\">\n<title>174&#45;&gt;178</title>\n<path fill=\"none\" stroke=\"#000000\" d=\"M6980.7488,-936.8796C6981.0931,-928.6838 6981.4584,-919.9891 6981.8151,-911.5013\"/>\n<polygon fill=\"#000000\" stroke=\"#000000\" points=\"6985.3208,-911.4362 6982.2438,-901.2981 6978.327,-911.1423 6985.3208,-911.4362\"/>\n</g>\n<!-- 176 -->\n<g id=\"node177\" class=\"node\">\n<title>176</title>\n<path fill=\"#7be539\" stroke=\"#000000\" d=\"M6717,-774.5C6717,-774.5 6595,-774.5 6595,-774.5 6589,-774.5 6583,-768.5 6583,-762.5 6583,-762.5 6583,-718.5 6583,-718.5 6583,-712.5 6589,-706.5 6595,-706.5 6595,-706.5 6717,-706.5 6717,-706.5 6723,-706.5 6729,-712.5 6729,-718.5 6729,-718.5 6729,-762.5 6729,-762.5 6729,-768.5 6723,-774.5 6717,-774.5\"/>\n<text text-anchor=\"start\" x=\"6626.5\" y=\"-759.3\" font-family=\"Helvetica,sans-Serif\" font-size=\"14.00\" fill=\"#000000\">gini = 0.0</text>\n<text text-anchor=\"start\" x=\"6616.5\" y=\"-744.3\" font-family=\"Helvetica,sans-Serif\" font-size=\"14.00\" fill=\"#000000\">samples = 4</text>\n<text text-anchor=\"start\" x=\"6591\" y=\"-729.3\" font-family=\"Helvetica,sans-Serif\" font-size=\"14.00\" fill=\"#000000\">value = [0, 4, 0, 0, 0]</text>\n<text text-anchor=\"start\" x=\"6627\" y=\"-714.3\" font-family=\"Helvetica,sans-Serif\" font-size=\"14.00\" fill=\"#000000\">class = 1</text>\n</g>\n<!-- 175&#45;&gt;176 -->\n<g id=\"edge176\" class=\"edge\">\n<title>175&#45;&gt;176</title>\n<path fill=\"none\" stroke=\"#000000\" d=\"M6762.6408,-817.8796C6746.0439,-805.8368 6727.9625,-792.7167 6711.4824,-780.7586\"/>\n<polygon fill=\"#000000\" stroke=\"#000000\" points=\"6713.176,-777.6632 6703.0267,-774.623 6709.0649,-783.3288 6713.176,-777.6632\"/>\n</g>\n<!-- 177 -->\n<g id=\"node178\" class=\"node\">\n<title>177</title>\n<path fill=\"#e58139\" stroke=\"#000000\" d=\"M6881,-774.5C6881,-774.5 6759,-774.5 6759,-774.5 6753,-774.5 6747,-768.5 6747,-762.5 6747,-762.5 6747,-718.5 6747,-718.5 6747,-712.5 6753,-706.5 6759,-706.5 6759,-706.5 6881,-706.5 6881,-706.5 6887,-706.5 6893,-712.5 6893,-718.5 6893,-718.5 6893,-762.5 6893,-762.5 6893,-768.5 6887,-774.5 6881,-774.5\"/>\n<text text-anchor=\"start\" x=\"6790.5\" y=\"-759.3\" font-family=\"Helvetica,sans-Serif\" font-size=\"14.00\" fill=\"#000000\">gini = 0.0</text>\n<text text-anchor=\"start\" x=\"6780.5\" y=\"-744.3\" font-family=\"Helvetica,sans-Serif\" font-size=\"14.00\" fill=\"#000000\">samples = 1</text>\n<text text-anchor=\"start\" x=\"6755\" y=\"-729.3\" font-family=\"Helvetica,sans-Serif\" font-size=\"14.00\" fill=\"#000000\">value = [1, 0, 0, 0, 0]</text>\n<text text-anchor=\"start\" x=\"6791\" y=\"-714.3\" font-family=\"Helvetica,sans-Serif\" font-size=\"14.00\" fill=\"#000000\">class = 0</text>\n</g>\n<!-- 175&#45;&gt;177 -->\n<g id=\"edge177\" class=\"edge\">\n<title>175&#45;&gt;177</title>\n<path fill=\"none\" stroke=\"#000000\" d=\"M6820,-817.8796C6820,-807.2134 6820,-795.7021 6820,-784.9015\"/>\n<polygon fill=\"#000000\" stroke=\"#000000\" points=\"6823.5001,-784.8149 6820,-774.8149 6816.5001,-784.815 6823.5001,-784.8149\"/>\n</g>\n<!-- 179 -->\n<g id=\"node180\" class=\"node\">\n<title>179</title>\n<path fill=\"#3c39e5\" stroke=\"#000000\" d=\"M7045,-774.5C7045,-774.5 6923,-774.5 6923,-774.5 6917,-774.5 6911,-768.5 6911,-762.5 6911,-762.5 6911,-718.5 6911,-718.5 6911,-712.5 6917,-706.5 6923,-706.5 6923,-706.5 7045,-706.5 7045,-706.5 7051,-706.5 7057,-712.5 7057,-718.5 7057,-718.5 7057,-762.5 7057,-762.5 7057,-768.5 7051,-774.5 7045,-774.5\"/>\n<text text-anchor=\"start\" x=\"6954.5\" y=\"-759.3\" font-family=\"Helvetica,sans-Serif\" font-size=\"14.00\" fill=\"#000000\">gini = 0.0</text>\n<text text-anchor=\"start\" x=\"6944.5\" y=\"-744.3\" font-family=\"Helvetica,sans-Serif\" font-size=\"14.00\" fill=\"#000000\">samples = 1</text>\n<text text-anchor=\"start\" x=\"6919\" y=\"-729.3\" font-family=\"Helvetica,sans-Serif\" font-size=\"14.00\" fill=\"#000000\">value = [0, 0, 0, 1, 0]</text>\n<text text-anchor=\"start\" x=\"6955\" y=\"-714.3\" font-family=\"Helvetica,sans-Serif\" font-size=\"14.00\" fill=\"#000000\">class = 3</text>\n</g>\n<!-- 178&#45;&gt;179 -->\n<g id=\"edge179\" class=\"edge\">\n<title>178&#45;&gt;179</title>\n<path fill=\"none\" stroke=\"#000000\" d=\"M6984,-817.8796C6984,-807.2134 6984,-795.7021 6984,-784.9015\"/>\n<polygon fill=\"#000000\" stroke=\"#000000\" points=\"6987.5001,-784.8149 6984,-774.8149 6980.5001,-784.815 6987.5001,-784.8149\"/>\n</g>\n<!-- 180 -->\n<g id=\"node181\" class=\"node\">\n<title>180</title>\n<path fill=\"#39e5c5\" stroke=\"#000000\" d=\"M7209,-774.5C7209,-774.5 7087,-774.5 7087,-774.5 7081,-774.5 7075,-768.5 7075,-762.5 7075,-762.5 7075,-718.5 7075,-718.5 7075,-712.5 7081,-706.5 7087,-706.5 7087,-706.5 7209,-706.5 7209,-706.5 7215,-706.5 7221,-712.5 7221,-718.5 7221,-718.5 7221,-762.5 7221,-762.5 7221,-768.5 7215,-774.5 7209,-774.5\"/>\n<text text-anchor=\"start\" x=\"7118.5\" y=\"-759.3\" font-family=\"Helvetica,sans-Serif\" font-size=\"14.00\" fill=\"#000000\">gini = 0.0</text>\n<text text-anchor=\"start\" x=\"7108.5\" y=\"-744.3\" font-family=\"Helvetica,sans-Serif\" font-size=\"14.00\" fill=\"#000000\">samples = 2</text>\n<text text-anchor=\"start\" x=\"7083\" y=\"-729.3\" font-family=\"Helvetica,sans-Serif\" font-size=\"14.00\" fill=\"#000000\">value = [0, 0, 2, 0, 0]</text>\n<text text-anchor=\"start\" x=\"7119\" y=\"-714.3\" font-family=\"Helvetica,sans-Serif\" font-size=\"14.00\" fill=\"#000000\">class = 2</text>\n</g>\n<!-- 178&#45;&gt;180 -->\n<g id=\"edge180\" class=\"edge\">\n<title>178&#45;&gt;180</title>\n<path fill=\"none\" stroke=\"#000000\" d=\"M7041.3592,-817.8796C7057.9561,-805.8368 7076.0375,-792.7167 7092.5176,-780.7586\"/>\n<polygon fill=\"#000000\" stroke=\"#000000\" points=\"7094.9351,-783.3288 7100.9733,-774.623 7090.824,-777.6632 7094.9351,-783.3288\"/>\n</g>\n<!-- 182 -->\n<g id=\"node183\" class=\"node\">\n<title>182</title>\n<path fill=\"#e539c0\" stroke=\"#000000\" d=\"M7209,-893.5C7209,-893.5 7087,-893.5 7087,-893.5 7081,-893.5 7075,-887.5 7075,-881.5 7075,-881.5 7075,-837.5 7075,-837.5 7075,-831.5 7081,-825.5 7087,-825.5 7087,-825.5 7209,-825.5 7209,-825.5 7215,-825.5 7221,-831.5 7221,-837.5 7221,-837.5 7221,-881.5 7221,-881.5 7221,-887.5 7215,-893.5 7209,-893.5\"/>\n<text text-anchor=\"start\" x=\"7118.5\" y=\"-878.3\" font-family=\"Helvetica,sans-Serif\" font-size=\"14.00\" fill=\"#000000\">gini = 0.0</text>\n<text text-anchor=\"start\" x=\"7108.5\" y=\"-863.3\" font-family=\"Helvetica,sans-Serif\" font-size=\"14.00\" fill=\"#000000\">samples = 1</text>\n<text text-anchor=\"start\" x=\"7083\" y=\"-848.3\" font-family=\"Helvetica,sans-Serif\" font-size=\"14.00\" fill=\"#000000\">value = [0, 0, 0, 0, 1]</text>\n<text text-anchor=\"start\" x=\"7119\" y=\"-833.3\" font-family=\"Helvetica,sans-Serif\" font-size=\"14.00\" fill=\"#000000\">class = 4</text>\n</g>\n<!-- 181&#45;&gt;182 -->\n<g id=\"edge182\" class=\"edge\">\n<title>181&#45;&gt;182</title>\n<path fill=\"none\" stroke=\"#000000\" d=\"M7148,-936.8796C7148,-926.2134 7148,-914.7021 7148,-903.9015\"/>\n<polygon fill=\"#000000\" stroke=\"#000000\" points=\"7151.5001,-903.8149 7148,-893.8149 7144.5001,-903.815 7151.5001,-903.8149\"/>\n</g>\n<!-- 183 -->\n<g id=\"node184\" class=\"node\">\n<title>183</title>\n<path fill=\"#7feed9\" stroke=\"#000000\" d=\"M7382.5,-901C7382.5,-901 7251.5,-901 7251.5,-901 7245.5,-901 7239.5,-895 7239.5,-889 7239.5,-889 7239.5,-830 7239.5,-830 7239.5,-824 7245.5,-818 7251.5,-818 7251.5,-818 7382.5,-818 7382.5,-818 7388.5,-818 7394.5,-824 7394.5,-830 7394.5,-830 7394.5,-889 7394.5,-889 7394.5,-895 7388.5,-901 7382.5,-901\"/>\n<text text-anchor=\"start\" x=\"7267\" y=\"-885.8\" font-family=\"Helvetica,sans-Serif\" font-size=\"14.00\" fill=\"#000000\">thalach ≤ 0.302</text>\n<text text-anchor=\"start\" x=\"7279\" y=\"-870.8\" font-family=\"Helvetica,sans-Serif\" font-size=\"14.00\" fill=\"#000000\">gini = 0.465</text>\n<text text-anchor=\"start\" x=\"7273\" y=\"-855.8\" font-family=\"Helvetica,sans-Serif\" font-size=\"14.00\" fill=\"#000000\">samples = 20</text>\n<text text-anchor=\"start\" x=\"7247.5\" y=\"-840.8\" font-family=\"Helvetica,sans-Serif\" font-size=\"14.00\" fill=\"#000000\">value = [0, 3, 14, 3, 0]</text>\n<text text-anchor=\"start\" x=\"7288\" y=\"-825.8\" font-family=\"Helvetica,sans-Serif\" font-size=\"14.00\" fill=\"#000000\">class = 2</text>\n</g>\n<!-- 181&#45;&gt;183 -->\n<g id=\"edge183\" class=\"edge\">\n<title>181&#45;&gt;183</title>\n<path fill=\"none\" stroke=\"#000000\" d=\"M7207.108,-936.8796C7220.8734,-927.1868 7235.6299,-916.7961 7249.7193,-906.8752\"/>\n<polygon fill=\"#000000\" stroke=\"#000000\" points=\"7251.7641,-909.716 7257.9254,-901.0969 7247.7339,-903.9926 7251.7641,-909.716\"/>\n</g>\n<!-- 184 -->\n<g id=\"node185\" class=\"node\">\n<title>184</title>\n<path fill=\"#72ecd6\" stroke=\"#000000\" d=\"M7382.5,-782C7382.5,-782 7251.5,-782 7251.5,-782 7245.5,-782 7239.5,-776 7239.5,-770 7239.5,-770 7239.5,-711 7239.5,-711 7239.5,-705 7245.5,-699 7251.5,-699 7251.5,-699 7382.5,-699 7382.5,-699 7388.5,-699 7394.5,-705 7394.5,-711 7394.5,-711 7394.5,-770 7394.5,-770 7394.5,-776 7388.5,-782 7382.5,-782\"/>\n<text text-anchor=\"start\" x=\"7276\" y=\"-766.8\" font-family=\"Helvetica,sans-Serif\" font-size=\"14.00\" fill=\"#000000\">age ≤ &#45;1.489</text>\n<text text-anchor=\"start\" x=\"7279\" y=\"-751.8\" font-family=\"Helvetica,sans-Serif\" font-size=\"14.00\" fill=\"#000000\">gini = 0.381</text>\n<text text-anchor=\"start\" x=\"7273\" y=\"-736.8\" font-family=\"Helvetica,sans-Serif\" font-size=\"14.00\" fill=\"#000000\">samples = 17</text>\n<text text-anchor=\"start\" x=\"7247.5\" y=\"-721.8\" font-family=\"Helvetica,sans-Serif\" font-size=\"14.00\" fill=\"#000000\">value = [0, 3, 13, 1, 0]</text>\n<text text-anchor=\"start\" x=\"7288\" y=\"-706.8\" font-family=\"Helvetica,sans-Serif\" font-size=\"14.00\" fill=\"#000000\">class = 2</text>\n</g>\n<!-- 183&#45;&gt;184 -->\n<g id=\"edge184\" class=\"edge\">\n<title>183&#45;&gt;184</title>\n<path fill=\"none\" stroke=\"#000000\" d=\"M7317,-817.8796C7317,-809.6838 7317,-800.9891 7317,-792.5013\"/>\n<polygon fill=\"#000000\" stroke=\"#000000\" points=\"7320.5001,-792.298 7317,-782.2981 7313.5001,-792.2981 7320.5001,-792.298\"/>\n</g>\n<!-- 197 -->\n<g id=\"node198\" class=\"node\">\n<title>197</title>\n<path fill=\"#9e9cf2\" stroke=\"#000000\" d=\"M7547,-782C7547,-782 7425,-782 7425,-782 7419,-782 7413,-776 7413,-770 7413,-770 7413,-711 7413,-711 7413,-705 7419,-699 7425,-699 7425,-699 7547,-699 7547,-699 7553,-699 7559,-705 7559,-711 7559,-711 7559,-770 7559,-770 7559,-776 7553,-782 7547,-782\"/>\n<text text-anchor=\"start\" x=\"7446.5\" y=\"-766.8\" font-family=\"Helvetica,sans-Serif\" font-size=\"14.00\" fill=\"#000000\">chol ≤ 0.557</text>\n<text text-anchor=\"start\" x=\"7448\" y=\"-751.8\" font-family=\"Helvetica,sans-Serif\" font-size=\"14.00\" fill=\"#000000\">gini = 0.444</text>\n<text text-anchor=\"start\" x=\"7446.5\" y=\"-736.8\" font-family=\"Helvetica,sans-Serif\" font-size=\"14.00\" fill=\"#000000\">samples = 3</text>\n<text text-anchor=\"start\" x=\"7421\" y=\"-721.8\" font-family=\"Helvetica,sans-Serif\" font-size=\"14.00\" fill=\"#000000\">value = [0, 0, 1, 2, 0]</text>\n<text text-anchor=\"start\" x=\"7457\" y=\"-706.8\" font-family=\"Helvetica,sans-Serif\" font-size=\"14.00\" fill=\"#000000\">class = 3</text>\n</g>\n<!-- 183&#45;&gt;197 -->\n<g id=\"edge197\" class=\"edge\">\n<title>183&#45;&gt;197</title>\n<path fill=\"none\" stroke=\"#000000\" d=\"M7376.108,-817.8796C7389.8734,-808.1868 7404.6299,-797.7961 7418.7193,-787.8752\"/>\n<polygon fill=\"#000000\" stroke=\"#000000\" points=\"7420.7641,-790.716 7426.9254,-782.0969 7416.7339,-784.9926 7420.7641,-790.716\"/>\n</g>\n<!-- 185 -->\n<g id=\"node186\" class=\"node\">\n<title>185</title>\n<path fill=\"#3c39e5\" stroke=\"#000000\" d=\"M7209,-655.5C7209,-655.5 7087,-655.5 7087,-655.5 7081,-655.5 7075,-649.5 7075,-643.5 7075,-643.5 7075,-599.5 7075,-599.5 7075,-593.5 7081,-587.5 7087,-587.5 7087,-587.5 7209,-587.5 7209,-587.5 7215,-587.5 7221,-593.5 7221,-599.5 7221,-599.5 7221,-643.5 7221,-643.5 7221,-649.5 7215,-655.5 7209,-655.5\"/>\n<text text-anchor=\"start\" x=\"7118.5\" y=\"-640.3\" font-family=\"Helvetica,sans-Serif\" font-size=\"14.00\" fill=\"#000000\">gini = 0.0</text>\n<text text-anchor=\"start\" x=\"7108.5\" y=\"-625.3\" font-family=\"Helvetica,sans-Serif\" font-size=\"14.00\" fill=\"#000000\">samples = 1</text>\n<text text-anchor=\"start\" x=\"7083\" y=\"-610.3\" font-family=\"Helvetica,sans-Serif\" font-size=\"14.00\" fill=\"#000000\">value = [0, 0, 0, 1, 0]</text>\n<text text-anchor=\"start\" x=\"7119\" y=\"-595.3\" font-family=\"Helvetica,sans-Serif\" font-size=\"14.00\" fill=\"#000000\">class = 3</text>\n</g>\n<!-- 184&#45;&gt;185 -->\n<g id=\"edge185\" class=\"edge\">\n<title>184&#45;&gt;185</title>\n<path fill=\"none\" stroke=\"#000000\" d=\"M7257.892,-698.8796C7240.6323,-686.7263 7221.8144,-673.4759 7204.707,-661.4297\"/>\n<polygon fill=\"#000000\" stroke=\"#000000\" points=\"7206.6519,-658.5187 7196.4604,-655.623 7202.6218,-664.2421 7206.6519,-658.5187\"/>\n</g>\n<!-- 186 -->\n<g id=\"node187\" class=\"node\">\n<title>186</title>\n<path fill=\"#67ebd2\" stroke=\"#000000\" d=\"M7382.5,-663C7382.5,-663 7251.5,-663 7251.5,-663 7245.5,-663 7239.5,-657 7239.5,-651 7239.5,-651 7239.5,-592 7239.5,-592 7239.5,-586 7245.5,-580 7251.5,-580 7251.5,-580 7382.5,-580 7382.5,-580 7388.5,-580 7394.5,-586 7394.5,-592 7394.5,-592 7394.5,-651 7394.5,-651 7394.5,-657 7388.5,-663 7382.5,-663\"/>\n<text text-anchor=\"start\" x=\"7271\" y=\"-647.8\" font-family=\"Helvetica,sans-Serif\" font-size=\"14.00\" fill=\"#000000\">restecg ≤ 0.01</text>\n<text text-anchor=\"start\" x=\"7279\" y=\"-632.8\" font-family=\"Helvetica,sans-Serif\" font-size=\"14.00\" fill=\"#000000\">gini = 0.305</text>\n<text text-anchor=\"start\" x=\"7273\" y=\"-617.8\" font-family=\"Helvetica,sans-Serif\" font-size=\"14.00\" fill=\"#000000\">samples = 16</text>\n<text text-anchor=\"start\" x=\"7247.5\" y=\"-602.8\" font-family=\"Helvetica,sans-Serif\" font-size=\"14.00\" fill=\"#000000\">value = [0, 3, 13, 0, 0]</text>\n<text text-anchor=\"start\" x=\"7288\" y=\"-587.8\" font-family=\"Helvetica,sans-Serif\" font-size=\"14.00\" fill=\"#000000\">class = 2</text>\n</g>\n<!-- 184&#45;&gt;186 -->\n<g id=\"edge186\" class=\"edge\">\n<title>184&#45;&gt;186</title>\n<path fill=\"none\" stroke=\"#000000\" d=\"M7317,-698.8796C7317,-690.6838 7317,-681.9891 7317,-673.5013\"/>\n<polygon fill=\"#000000\" stroke=\"#000000\" points=\"7320.5001,-673.298 7317,-663.2981 7313.5001,-673.2981 7320.5001,-673.298\"/>\n</g>\n<!-- 187 -->\n<g id=\"node188\" class=\"node\">\n<title>187</title>\n<path fill=\"#39e5c5\" stroke=\"#000000\" d=\"M7296,-536.5C7296,-536.5 7174,-536.5 7174,-536.5 7168,-536.5 7162,-530.5 7162,-524.5 7162,-524.5 7162,-480.5 7162,-480.5 7162,-474.5 7168,-468.5 7174,-468.5 7174,-468.5 7296,-468.5 7296,-468.5 7302,-468.5 7308,-474.5 7308,-480.5 7308,-480.5 7308,-524.5 7308,-524.5 7308,-530.5 7302,-536.5 7296,-536.5\"/>\n<text text-anchor=\"start\" x=\"7205.5\" y=\"-521.3\" font-family=\"Helvetica,sans-Serif\" font-size=\"14.00\" fill=\"#000000\">gini = 0.0</text>\n<text text-anchor=\"start\" x=\"7195.5\" y=\"-506.3\" font-family=\"Helvetica,sans-Serif\" font-size=\"14.00\" fill=\"#000000\">samples = 6</text>\n<text text-anchor=\"start\" x=\"7170\" y=\"-491.3\" font-family=\"Helvetica,sans-Serif\" font-size=\"14.00\" fill=\"#000000\">value = [0, 0, 6, 0, 0]</text>\n<text text-anchor=\"start\" x=\"7206\" y=\"-476.3\" font-family=\"Helvetica,sans-Serif\" font-size=\"14.00\" fill=\"#000000\">class = 2</text>\n</g>\n<!-- 186&#45;&gt;187 -->\n<g id=\"edge187\" class=\"edge\">\n<title>186&#45;&gt;187</title>\n<path fill=\"none\" stroke=\"#000000\" d=\"M7288.3204,-579.8796C7280.5917,-568.6636 7272.2191,-556.5131 7264.4492,-545.2372\"/>\n<polygon fill=\"#000000\" stroke=\"#000000\" points=\"7267.2018,-543.0634 7258.6456,-536.8149 7261.4377,-547.0353 7267.2018,-543.0634\"/>\n</g>\n<!-- 188 -->\n<g id=\"node189\" class=\"node\">\n<title>188</title>\n<path fill=\"#8ef0de\" stroke=\"#000000\" d=\"M7460,-544C7460,-544 7338,-544 7338,-544 7332,-544 7326,-538 7326,-532 7326,-532 7326,-473 7326,-473 7326,-467 7332,-461 7338,-461 7338,-461 7460,-461 7460,-461 7466,-461 7472,-467 7472,-473 7472,-473 7472,-532 7472,-532 7472,-538 7466,-544 7460,-544\"/>\n<text text-anchor=\"start\" x=\"7347\" y=\"-528.8\" font-family=\"Helvetica,sans-Serif\" font-size=\"14.00\" fill=\"#000000\">oldpeak ≤ 0.052</text>\n<text text-anchor=\"start\" x=\"7365.5\" y=\"-513.8\" font-family=\"Helvetica,sans-Serif\" font-size=\"14.00\" fill=\"#000000\">gini = 0.42</text>\n<text text-anchor=\"start\" x=\"7355\" y=\"-498.8\" font-family=\"Helvetica,sans-Serif\" font-size=\"14.00\" fill=\"#000000\">samples = 10</text>\n<text text-anchor=\"start\" x=\"7334\" y=\"-483.8\" font-family=\"Helvetica,sans-Serif\" font-size=\"14.00\" fill=\"#000000\">value = [0, 3, 7, 0, 0]</text>\n<text text-anchor=\"start\" x=\"7370\" y=\"-468.8\" font-family=\"Helvetica,sans-Serif\" font-size=\"14.00\" fill=\"#000000\">class = 2</text>\n</g>\n<!-- 186&#45;&gt;188 -->\n<g id=\"edge188\" class=\"edge\">\n<title>186&#45;&gt;188</title>\n<path fill=\"none\" stroke=\"#000000\" d=\"M7345.6796,-579.8796C7351.7615,-571.0534 7358.2422,-561.6485 7364.5141,-552.5466\"/>\n<polygon fill=\"#000000\" stroke=\"#000000\" points=\"7367.4059,-554.5184 7370.198,-544.2981 7361.6418,-550.5465 7367.4059,-554.5184\"/>\n</g>\n<!-- 189 -->\n<g id=\"node190\" class=\"node\">\n<title>189</title>\n<path fill=\"#7be539\" stroke=\"#000000\" d=\"M7378,-417.5C7378,-417.5 7256,-417.5 7256,-417.5 7250,-417.5 7244,-411.5 7244,-405.5 7244,-405.5 7244,-361.5 7244,-361.5 7244,-355.5 7250,-349.5 7256,-349.5 7256,-349.5 7378,-349.5 7378,-349.5 7384,-349.5 7390,-355.5 7390,-361.5 7390,-361.5 7390,-405.5 7390,-405.5 7390,-411.5 7384,-417.5 7378,-417.5\"/>\n<text text-anchor=\"start\" x=\"7287.5\" y=\"-402.3\" font-family=\"Helvetica,sans-Serif\" font-size=\"14.00\" fill=\"#000000\">gini = 0.0</text>\n<text text-anchor=\"start\" x=\"7277.5\" y=\"-387.3\" font-family=\"Helvetica,sans-Serif\" font-size=\"14.00\" fill=\"#000000\">samples = 1</text>\n<text text-anchor=\"start\" x=\"7252\" y=\"-372.3\" font-family=\"Helvetica,sans-Serif\" font-size=\"14.00\" fill=\"#000000\">value = [0, 1, 0, 0, 0]</text>\n<text text-anchor=\"start\" x=\"7288\" y=\"-357.3\" font-family=\"Helvetica,sans-Serif\" font-size=\"14.00\" fill=\"#000000\">class = 1</text>\n</g>\n<!-- 188&#45;&gt;189 -->\n<g id=\"edge189\" class=\"edge\">\n<title>188&#45;&gt;189</title>\n<path fill=\"none\" stroke=\"#000000\" d=\"M7370.3204,-460.8796C7362.5917,-449.6636 7354.2191,-437.5131 7346.4492,-426.2372\"/>\n<polygon fill=\"#000000\" stroke=\"#000000\" points=\"7349.2018,-424.0634 7340.6456,-417.8149 7343.4377,-428.0353 7349.2018,-424.0634\"/>\n</g>\n<!-- 190 -->\n<g id=\"node191\" class=\"node\">\n<title>190</title>\n<path fill=\"#72ecd6\" stroke=\"#000000\" d=\"M7542,-425C7542,-425 7420,-425 7420,-425 7414,-425 7408,-419 7408,-413 7408,-413 7408,-354 7408,-354 7408,-348 7414,-342 7420,-342 7420,-342 7542,-342 7542,-342 7548,-342 7554,-348 7554,-354 7554,-354 7554,-413 7554,-413 7554,-419 7548,-425 7542,-425\"/>\n<text text-anchor=\"start\" x=\"7439\" y=\"-409.8\" font-family=\"Helvetica,sans-Serif\" font-size=\"14.00\" fill=\"#000000\">chol ≤ &#45;0.632</text>\n<text text-anchor=\"start\" x=\"7443\" y=\"-394.8\" font-family=\"Helvetica,sans-Serif\" font-size=\"14.00\" fill=\"#000000\">gini = 0.346</text>\n<text text-anchor=\"start\" x=\"7441.5\" y=\"-379.8\" font-family=\"Helvetica,sans-Serif\" font-size=\"14.00\" fill=\"#000000\">samples = 9</text>\n<text text-anchor=\"start\" x=\"7416\" y=\"-364.8\" font-family=\"Helvetica,sans-Serif\" font-size=\"14.00\" fill=\"#000000\">value = [0, 2, 7, 0, 0]</text>\n<text text-anchor=\"start\" x=\"7452\" y=\"-349.8\" font-family=\"Helvetica,sans-Serif\" font-size=\"14.00\" fill=\"#000000\">class = 2</text>\n</g>\n<!-- 188&#45;&gt;190 -->\n<g id=\"edge190\" class=\"edge\">\n<title>188&#45;&gt;190</title>\n<path fill=\"none\" stroke=\"#000000\" d=\"M7427.6796,-460.8796C7433.7615,-452.0534 7440.2422,-442.6485 7446.5141,-433.5466\"/>\n<polygon fill=\"#000000\" stroke=\"#000000\" points=\"7449.4059,-435.5184 7452.198,-425.2981 7443.6418,-431.5465 7449.4059,-435.5184\"/>\n</g>\n<!-- 191 -->\n<g id=\"node192\" class=\"node\">\n<title>191</title>\n<path fill=\"#7be539\" stroke=\"#000000\" d=\"M7460,-298.5C7460,-298.5 7338,-298.5 7338,-298.5 7332,-298.5 7326,-292.5 7326,-286.5 7326,-286.5 7326,-242.5 7326,-242.5 7326,-236.5 7332,-230.5 7338,-230.5 7338,-230.5 7460,-230.5 7460,-230.5 7466,-230.5 7472,-236.5 7472,-242.5 7472,-242.5 7472,-286.5 7472,-286.5 7472,-292.5 7466,-298.5 7460,-298.5\"/>\n<text text-anchor=\"start\" x=\"7369.5\" y=\"-283.3\" font-family=\"Helvetica,sans-Serif\" font-size=\"14.00\" fill=\"#000000\">gini = 0.0</text>\n<text text-anchor=\"start\" x=\"7359.5\" y=\"-268.3\" font-family=\"Helvetica,sans-Serif\" font-size=\"14.00\" fill=\"#000000\">samples = 1</text>\n<text text-anchor=\"start\" x=\"7334\" y=\"-253.3\" font-family=\"Helvetica,sans-Serif\" font-size=\"14.00\" fill=\"#000000\">value = [0, 1, 0, 0, 0]</text>\n<text text-anchor=\"start\" x=\"7370\" y=\"-238.3\" font-family=\"Helvetica,sans-Serif\" font-size=\"14.00\" fill=\"#000000\">class = 1</text>\n</g>\n<!-- 190&#45;&gt;191 -->\n<g id=\"edge191\" class=\"edge\">\n<title>190&#45;&gt;191</title>\n<path fill=\"none\" stroke=\"#000000\" d=\"M7452.3204,-341.8796C7444.5917,-330.6636 7436.2191,-318.5131 7428.4492,-307.2372\"/>\n<polygon fill=\"#000000\" stroke=\"#000000\" points=\"7431.2018,-305.0634 7422.6456,-298.8149 7425.4377,-309.0353 7431.2018,-305.0634\"/>\n</g>\n<!-- 192 -->\n<g id=\"node193\" class=\"node\">\n<title>192</title>\n<path fill=\"#55e9cd\" stroke=\"#000000\" d=\"M7624,-306C7624,-306 7502,-306 7502,-306 7496,-306 7490,-300 7490,-294 7490,-294 7490,-235 7490,-235 7490,-229 7496,-223 7502,-223 7502,-223 7624,-223 7624,-223 7630,-223 7636,-229 7636,-235 7636,-235 7636,-294 7636,-294 7636,-300 7630,-306 7624,-306\"/>\n<text text-anchor=\"start\" x=\"7508.5\" y=\"-290.8\" font-family=\"Helvetica,sans-Serif\" font-size=\"14.00\" fill=\"#000000\">trestbps ≤ &#45;0.238</text>\n<text text-anchor=\"start\" x=\"7525\" y=\"-275.8\" font-family=\"Helvetica,sans-Serif\" font-size=\"14.00\" fill=\"#000000\">gini = 0.219</text>\n<text text-anchor=\"start\" x=\"7523.5\" y=\"-260.8\" font-family=\"Helvetica,sans-Serif\" font-size=\"14.00\" fill=\"#000000\">samples = 8</text>\n<text text-anchor=\"start\" x=\"7498\" y=\"-245.8\" font-family=\"Helvetica,sans-Serif\" font-size=\"14.00\" fill=\"#000000\">value = [0, 1, 7, 0, 0]</text>\n<text text-anchor=\"start\" x=\"7534\" y=\"-230.8\" font-family=\"Helvetica,sans-Serif\" font-size=\"14.00\" fill=\"#000000\">class = 2</text>\n</g>\n<!-- 190&#45;&gt;192 -->\n<g id=\"edge192\" class=\"edge\">\n<title>190&#45;&gt;192</title>\n<path fill=\"none\" stroke=\"#000000\" d=\"M7509.6796,-341.8796C7515.7615,-333.0534 7522.2422,-323.6485 7528.5141,-314.5466\"/>\n<polygon fill=\"#000000\" stroke=\"#000000\" points=\"7531.4059,-316.5184 7534.198,-306.2981 7525.6418,-312.5465 7531.4059,-316.5184\"/>\n</g>\n<!-- 193 -->\n<g id=\"node194\" class=\"node\">\n<title>193</title>\n<path fill=\"#ffffff\" stroke=\"#000000\" d=\"M7542,-187C7542,-187 7420,-187 7420,-187 7414,-187 7408,-181 7408,-175 7408,-175 7408,-116 7408,-116 7408,-110 7414,-104 7420,-104 7420,-104 7542,-104 7542,-104 7548,-104 7554,-110 7554,-116 7554,-116 7554,-175 7554,-175 7554,-181 7548,-187 7542,-187\"/>\n<text text-anchor=\"start\" x=\"7429\" y=\"-171.8\" font-family=\"Helvetica,sans-Serif\" font-size=\"14.00\" fill=\"#000000\">oldpeak ≤ 0.829</text>\n<text text-anchor=\"start\" x=\"7451.5\" y=\"-156.8\" font-family=\"Helvetica,sans-Serif\" font-size=\"14.00\" fill=\"#000000\">gini = 0.5</text>\n<text text-anchor=\"start\" x=\"7441.5\" y=\"-141.8\" font-family=\"Helvetica,sans-Serif\" font-size=\"14.00\" fill=\"#000000\">samples = 2</text>\n<text text-anchor=\"start\" x=\"7416\" y=\"-126.8\" font-family=\"Helvetica,sans-Serif\" font-size=\"14.00\" fill=\"#000000\">value = [0, 1, 1, 0, 0]</text>\n<text text-anchor=\"start\" x=\"7452\" y=\"-111.8\" font-family=\"Helvetica,sans-Serif\" font-size=\"14.00\" fill=\"#000000\">class = 1</text>\n</g>\n<!-- 192&#45;&gt;193 -->\n<g id=\"edge193\" class=\"edge\">\n<title>192&#45;&gt;193</title>\n<path fill=\"none\" stroke=\"#000000\" d=\"M7534.3204,-222.8796C7528.2385,-214.0534 7521.7578,-204.6485 7515.4859,-195.5466\"/>\n<polygon fill=\"#000000\" stroke=\"#000000\" points=\"7518.3582,-193.5465 7509.802,-187.2981 7512.5941,-197.5184 7518.3582,-193.5465\"/>\n</g>\n<!-- 196 -->\n<g id=\"node197\" class=\"node\">\n<title>196</title>\n<path fill=\"#39e5c5\" stroke=\"#000000\" d=\"M7706,-179.5C7706,-179.5 7584,-179.5 7584,-179.5 7578,-179.5 7572,-173.5 7572,-167.5 7572,-167.5 7572,-123.5 7572,-123.5 7572,-117.5 7578,-111.5 7584,-111.5 7584,-111.5 7706,-111.5 7706,-111.5 7712,-111.5 7718,-117.5 7718,-123.5 7718,-123.5 7718,-167.5 7718,-167.5 7718,-173.5 7712,-179.5 7706,-179.5\"/>\n<text text-anchor=\"start\" x=\"7615.5\" y=\"-164.3\" font-family=\"Helvetica,sans-Serif\" font-size=\"14.00\" fill=\"#000000\">gini = 0.0</text>\n<text text-anchor=\"start\" x=\"7605.5\" y=\"-149.3\" font-family=\"Helvetica,sans-Serif\" font-size=\"14.00\" fill=\"#000000\">samples = 6</text>\n<text text-anchor=\"start\" x=\"7580\" y=\"-134.3\" font-family=\"Helvetica,sans-Serif\" font-size=\"14.00\" fill=\"#000000\">value = [0, 0, 6, 0, 0]</text>\n<text text-anchor=\"start\" x=\"7616\" y=\"-119.3\" font-family=\"Helvetica,sans-Serif\" font-size=\"14.00\" fill=\"#000000\">class = 2</text>\n</g>\n<!-- 192&#45;&gt;196 -->\n<g id=\"edge196\" class=\"edge\">\n<title>192&#45;&gt;196</title>\n<path fill=\"none\" stroke=\"#000000\" d=\"M7591.6796,-222.8796C7599.4083,-211.6636 7607.7809,-199.5131 7615.5508,-188.2372\"/>\n<polygon fill=\"#000000\" stroke=\"#000000\" points=\"7618.5623,-190.0353 7621.3544,-179.8149 7612.7982,-186.0634 7618.5623,-190.0353\"/>\n</g>\n<!-- 194 -->\n<g id=\"node195\" class=\"node\">\n<title>194</title>\n<path fill=\"#39e5c5\" stroke=\"#000000\" d=\"M7460,-68C7460,-68 7338,-68 7338,-68 7332,-68 7326,-62 7326,-56 7326,-56 7326,-12 7326,-12 7326,-6 7332,0 7338,0 7338,0 7460,0 7460,0 7466,0 7472,-6 7472,-12 7472,-12 7472,-56 7472,-56 7472,-62 7466,-68 7460,-68\"/>\n<text text-anchor=\"start\" x=\"7369.5\" y=\"-52.8\" font-family=\"Helvetica,sans-Serif\" font-size=\"14.00\" fill=\"#000000\">gini = 0.0</text>\n<text text-anchor=\"start\" x=\"7359.5\" y=\"-37.8\" font-family=\"Helvetica,sans-Serif\" font-size=\"14.00\" fill=\"#000000\">samples = 1</text>\n<text text-anchor=\"start\" x=\"7334\" y=\"-22.8\" font-family=\"Helvetica,sans-Serif\" font-size=\"14.00\" fill=\"#000000\">value = [0, 0, 1, 0, 0]</text>\n<text text-anchor=\"start\" x=\"7370\" y=\"-7.8\" font-family=\"Helvetica,sans-Serif\" font-size=\"14.00\" fill=\"#000000\">class = 2</text>\n</g>\n<!-- 193&#45;&gt;194 -->\n<g id=\"edge194\" class=\"edge\">\n<title>193&#45;&gt;194</title>\n<path fill=\"none\" stroke=\"#000000\" d=\"M7450.4662,-103.9815C7443.8424,-94.9747 7436.8279,-85.4367 7430.1795,-76.3965\"/>\n<polygon fill=\"#000000\" stroke=\"#000000\" points=\"7432.9426,-74.2461 7424.1984,-68.2637 7427.3034,-78.3933 7432.9426,-74.2461\"/>\n</g>\n<!-- 195 -->\n<g id=\"node196\" class=\"node\">\n<title>195</title>\n<path fill=\"#7be539\" stroke=\"#000000\" d=\"M7624,-68C7624,-68 7502,-68 7502,-68 7496,-68 7490,-62 7490,-56 7490,-56 7490,-12 7490,-12 7490,-6 7496,0 7502,0 7502,0 7624,0 7624,0 7630,0 7636,-6 7636,-12 7636,-12 7636,-56 7636,-56 7636,-62 7630,-68 7624,-68\"/>\n<text text-anchor=\"start\" x=\"7533.5\" y=\"-52.8\" font-family=\"Helvetica,sans-Serif\" font-size=\"14.00\" fill=\"#000000\">gini = 0.0</text>\n<text text-anchor=\"start\" x=\"7523.5\" y=\"-37.8\" font-family=\"Helvetica,sans-Serif\" font-size=\"14.00\" fill=\"#000000\">samples = 1</text>\n<text text-anchor=\"start\" x=\"7498\" y=\"-22.8\" font-family=\"Helvetica,sans-Serif\" font-size=\"14.00\" fill=\"#000000\">value = [0, 1, 0, 0, 0]</text>\n<text text-anchor=\"start\" x=\"7534\" y=\"-7.8\" font-family=\"Helvetica,sans-Serif\" font-size=\"14.00\" fill=\"#000000\">class = 1</text>\n</g>\n<!-- 193&#45;&gt;195 -->\n<g id=\"edge195\" class=\"edge\">\n<title>193&#45;&gt;195</title>\n<path fill=\"none\" stroke=\"#000000\" d=\"M7511.5338,-103.9815C7518.1576,-94.9747 7525.1721,-85.4367 7531.8205,-76.3965\"/>\n<polygon fill=\"#000000\" stroke=\"#000000\" points=\"7534.6966,-78.3933 7537.8016,-68.2637 7529.0574,-74.2461 7534.6966,-78.3933\"/>\n</g>\n<!-- 198 -->\n<g id=\"node199\" class=\"node\">\n<title>198</title>\n<path fill=\"#3c39e5\" stroke=\"#000000\" d=\"M7547,-655.5C7547,-655.5 7425,-655.5 7425,-655.5 7419,-655.5 7413,-649.5 7413,-643.5 7413,-643.5 7413,-599.5 7413,-599.5 7413,-593.5 7419,-587.5 7425,-587.5 7425,-587.5 7547,-587.5 7547,-587.5 7553,-587.5 7559,-593.5 7559,-599.5 7559,-599.5 7559,-643.5 7559,-643.5 7559,-649.5 7553,-655.5 7547,-655.5\"/>\n<text text-anchor=\"start\" x=\"7456.5\" y=\"-640.3\" font-family=\"Helvetica,sans-Serif\" font-size=\"14.00\" fill=\"#000000\">gini = 0.0</text>\n<text text-anchor=\"start\" x=\"7446.5\" y=\"-625.3\" font-family=\"Helvetica,sans-Serif\" font-size=\"14.00\" fill=\"#000000\">samples = 2</text>\n<text text-anchor=\"start\" x=\"7421\" y=\"-610.3\" font-family=\"Helvetica,sans-Serif\" font-size=\"14.00\" fill=\"#000000\">value = [0, 0, 0, 2, 0]</text>\n<text text-anchor=\"start\" x=\"7457\" y=\"-595.3\" font-family=\"Helvetica,sans-Serif\" font-size=\"14.00\" fill=\"#000000\">class = 3</text>\n</g>\n<!-- 197&#45;&gt;198 -->\n<g id=\"edge198\" class=\"edge\">\n<title>197&#45;&gt;198</title>\n<path fill=\"none\" stroke=\"#000000\" d=\"M7486,-698.8796C7486,-688.2134 7486,-676.7021 7486,-665.9015\"/>\n<polygon fill=\"#000000\" stroke=\"#000000\" points=\"7489.5001,-665.8149 7486,-655.8149 7482.5001,-665.815 7489.5001,-665.8149\"/>\n</g>\n<!-- 199 -->\n<g id=\"node200\" class=\"node\">\n<title>199</title>\n<path fill=\"#39e5c5\" stroke=\"#000000\" d=\"M7711,-655.5C7711,-655.5 7589,-655.5 7589,-655.5 7583,-655.5 7577,-649.5 7577,-643.5 7577,-643.5 7577,-599.5 7577,-599.5 7577,-593.5 7583,-587.5 7589,-587.5 7589,-587.5 7711,-587.5 7711,-587.5 7717,-587.5 7723,-593.5 7723,-599.5 7723,-599.5 7723,-643.5 7723,-643.5 7723,-649.5 7717,-655.5 7711,-655.5\"/>\n<text text-anchor=\"start\" x=\"7620.5\" y=\"-640.3\" font-family=\"Helvetica,sans-Serif\" font-size=\"14.00\" fill=\"#000000\">gini = 0.0</text>\n<text text-anchor=\"start\" x=\"7610.5\" y=\"-625.3\" font-family=\"Helvetica,sans-Serif\" font-size=\"14.00\" fill=\"#000000\">samples = 1</text>\n<text text-anchor=\"start\" x=\"7585\" y=\"-610.3\" font-family=\"Helvetica,sans-Serif\" font-size=\"14.00\" fill=\"#000000\">value = [0, 0, 1, 0, 0]</text>\n<text text-anchor=\"start\" x=\"7621\" y=\"-595.3\" font-family=\"Helvetica,sans-Serif\" font-size=\"14.00\" fill=\"#000000\">class = 2</text>\n</g>\n<!-- 197&#45;&gt;199 -->\n<g id=\"edge199\" class=\"edge\">\n<title>197&#45;&gt;199</title>\n<path fill=\"none\" stroke=\"#000000\" d=\"M7543.3592,-698.8796C7559.9561,-686.8368 7578.0375,-673.7167 7594.5176,-661.7586\"/>\n<polygon fill=\"#000000\" stroke=\"#000000\" points=\"7596.9351,-664.3288 7602.9733,-655.623 7592.824,-658.6632 7596.9351,-664.3288\"/>\n</g>\n<!-- 201 -->\n<g id=\"node202\" class=\"node\">\n<title>201</title>\n<path fill=\"#e539c0\" stroke=\"#000000\" d=\"M7378,-1012.5C7378,-1012.5 7256,-1012.5 7256,-1012.5 7250,-1012.5 7244,-1006.5 7244,-1000.5 7244,-1000.5 7244,-956.5 7244,-956.5 7244,-950.5 7250,-944.5 7256,-944.5 7256,-944.5 7378,-944.5 7378,-944.5 7384,-944.5 7390,-950.5 7390,-956.5 7390,-956.5 7390,-1000.5 7390,-1000.5 7390,-1006.5 7384,-1012.5 7378,-1012.5\"/>\n<text text-anchor=\"start\" x=\"7287.5\" y=\"-997.3\" font-family=\"Helvetica,sans-Serif\" font-size=\"14.00\" fill=\"#000000\">gini = 0.0</text>\n<text text-anchor=\"start\" x=\"7277.5\" y=\"-982.3\" font-family=\"Helvetica,sans-Serif\" font-size=\"14.00\" fill=\"#000000\">samples = 2</text>\n<text text-anchor=\"start\" x=\"7252\" y=\"-967.3\" font-family=\"Helvetica,sans-Serif\" font-size=\"14.00\" fill=\"#000000\">value = [0, 0, 0, 0, 2]</text>\n<text text-anchor=\"start\" x=\"7288\" y=\"-952.3\" font-family=\"Helvetica,sans-Serif\" font-size=\"14.00\" fill=\"#000000\">class = 4</text>\n</g>\n<!-- 200&#45;&gt;201 -->\n<g id=\"edge201\" class=\"edge\">\n<title>200&#45;&gt;201</title>\n<path fill=\"none\" stroke=\"#000000\" d=\"M7317,-1055.8796C7317,-1045.2134 7317,-1033.7021 7317,-1022.9015\"/>\n<polygon fill=\"#000000\" stroke=\"#000000\" points=\"7320.5001,-1022.8149 7317,-1012.8149 7313.5001,-1022.815 7320.5001,-1022.8149\"/>\n</g>\n<!-- 202 -->\n<g id=\"node203\" class=\"node\">\n<title>202</title>\n<path fill=\"#3c39e5\" stroke=\"#000000\" d=\"M7542,-1012.5C7542,-1012.5 7420,-1012.5 7420,-1012.5 7414,-1012.5 7408,-1006.5 7408,-1000.5 7408,-1000.5 7408,-956.5 7408,-956.5 7408,-950.5 7414,-944.5 7420,-944.5 7420,-944.5 7542,-944.5 7542,-944.5 7548,-944.5 7554,-950.5 7554,-956.5 7554,-956.5 7554,-1000.5 7554,-1000.5 7554,-1006.5 7548,-1012.5 7542,-1012.5\"/>\n<text text-anchor=\"start\" x=\"7451.5\" y=\"-997.3\" font-family=\"Helvetica,sans-Serif\" font-size=\"14.00\" fill=\"#000000\">gini = 0.0</text>\n<text text-anchor=\"start\" x=\"7441.5\" y=\"-982.3\" font-family=\"Helvetica,sans-Serif\" font-size=\"14.00\" fill=\"#000000\">samples = 1</text>\n<text text-anchor=\"start\" x=\"7416\" y=\"-967.3\" font-family=\"Helvetica,sans-Serif\" font-size=\"14.00\" fill=\"#000000\">value = [0, 0, 0, 1, 0]</text>\n<text text-anchor=\"start\" x=\"7452\" y=\"-952.3\" font-family=\"Helvetica,sans-Serif\" font-size=\"14.00\" fill=\"#000000\">class = 3</text>\n</g>\n<!-- 200&#45;&gt;202 -->\n<g id=\"edge202\" class=\"edge\">\n<title>200&#45;&gt;202</title>\n<path fill=\"none\" stroke=\"#000000\" d=\"M7374.3592,-1055.8796C7390.9561,-1043.8368 7409.0375,-1030.7167 7425.5176,-1018.7586\"/>\n<polygon fill=\"#000000\" stroke=\"#000000\" points=\"7427.9351,-1021.3288 7433.9733,-1012.623 7423.824,-1015.6632 7427.9351,-1021.3288\"/>\n</g>\n</g>\n</svg>\n",
            "text/plain": [
              "<graphviz.files.Source at 0x7fc56703e280>"
            ]
          },
          "execution_count": 163,
          "metadata": {},
          "output_type": "execute_result"
        }
      ],
      "source": [
        "graph"
      ]
    },
    {
      "cell_type": "code",
      "execution_count": null,
      "metadata": {
        "id": "9VfdOrLIqHuZ"
      },
      "outputs": [],
      "source": [
        "heartTree = DecisionTreeClassifier(criterion=\"entropy\")\n",
        "heartTree.fit(X_train, y_train)\n",
        "predTree = heartTree.predict(X_test)"
      ]
    },
    {
      "cell_type": "code",
      "execution_count": null,
      "metadata": {
        "colab": {
          "base_uri": "https://localhost:8080/"
        },
        "id": "8ygwfuVMqlH1",
        "outputId": "9501d9ea-e673-4baf-867c-f0a85123a6ca"
      },
      "outputs": [
        {
          "name": "stdout",
          "output_type": "stream",
          "text": [
            "              precision    recall  f1-score   support\n",
            "\n",
            "           0       0.82      0.84      0.83        32\n",
            "           1       0.38      0.27      0.32        11\n",
            "           2       0.20      0.29      0.24         7\n",
            "           3       0.11      0.12      0.12         8\n",
            "           4       0.00      0.00      0.00         3\n",
            "\n",
            "    accuracy                           0.54        61\n",
            "   macro avg       0.30      0.31      0.30        61\n",
            "weighted avg       0.53      0.54      0.54        61\n",
            "\n"
          ]
        }
      ],
      "source": [
        "print(classification_report(y_test, predTree))"
      ]
    },
    {
      "cell_type": "code",
      "execution_count": null,
      "metadata": {
        "id": "78_KEk_srFGh"
      },
      "outputs": [],
      "source": [
        "y_pred_dt = predTree"
      ]
    },
    {
      "cell_type": "code",
      "execution_count": null,
      "metadata": {
        "colab": {
          "base_uri": "https://localhost:8080/"
        },
        "id": "RAbXXPQRqtUJ",
        "outputId": "7d830e65-010a-4c50-c404-142333df5eb3"
      },
      "outputs": [
        {
          "data": {
            "text/plain": [
              "0.5409836065573771"
            ]
          },
          "execution_count": 167,
          "metadata": {},
          "output_type": "execute_result"
        }
      ],
      "source": [
        "accuracy_score(y_test, y_pred_dt)"
      ]
    },
    {
      "cell_type": "code",
      "execution_count": null,
      "metadata": {
        "colab": {
          "base_uri": "https://localhost:8080/"
        },
        "id": "rI-w7RuFqzPh",
        "outputId": "6d157716-6d69-4526-a2cd-368605d5e4b7"
      },
      "outputs": [
        {
          "name": "stdout",
          "output_type": "stream",
          "text": [
            "Accuracy of Decision Tree is: 54.09836065573771 %\n"
          ]
        }
      ],
      "source": [
        "print(\"Accuracy of Decision Tree is:\", 100 * accuracy_score(y_test, y_pred_dt), '%')"
      ]
    },
    {
      "cell_type": "markdown",
      "metadata": {
        "id": "y3J6BCwWNrYX"
      },
      "source": [
        "## **5. RANDOM FOREST**"
      ]
    },
    {
      "cell_type": "code",
      "execution_count": null,
      "metadata": {
        "colab": {
          "base_uri": "https://localhost:8080/"
        },
        "id": "QR3Bi-ddO-Mv",
        "outputId": "36752e99-d7db-416f-c2ca-c1f1815b2189"
      },
      "outputs": [
        {
          "name": "stdout",
          "output_type": "stream",
          "text": [
            "Training Score: 1.0\n",
            "Testing Score: 0.5901639344262295\n",
            "   Predicted\n",
            "0          2\n",
            "1          0\n",
            "2          0\n",
            "3          0\n",
            "4          2\n",
            "% of people predicted with heart-disease: 0.14754098360655737\n",
            "              precision    recall  f1-score   support\n",
            "\n",
            "           0       0.77      0.94      0.85        32\n",
            "           1       0.11      0.09      0.10        11\n",
            "           2       0.60      0.43      0.50         7\n",
            "           3       0.29      0.25      0.27         8\n",
            "           4       0.00      0.00      0.00         3\n",
            "\n",
            "    accuracy                           0.59        61\n",
            "   macro avg       0.35      0.34      0.34        61\n",
            "weighted avg       0.53      0.59      0.55        61\n",
            "\n"
          ]
        }
      ],
      "source": [
        "from sklearn.ensemble import RandomForestClassifier \n",
        "model = RandomForestClassifier(n_estimators=100) # , max_depth=5, random_state=1\n",
        "model.fit(X_train, y_train)\n",
        "y_pred_rf = model.predict(X_test)\n",
        "score = model.score(X_train, y_train)\n",
        "print('Training Score:', score)\n",
        "score = model.score(X_test, y_test)\n",
        "print('Testing Score:', score)\n",
        "output = pd.DataFrame({'Predicted':y_pred_rf}) # Heart-Disease yes or no? 1/0\n",
        "print(output.head())\n",
        "people = output.loc[output.Predicted == 1][\"Predicted\"]\n",
        "rate_people = 0\n",
        "if len(people) > 0 :\n",
        "    rate_people = len(people)/len(output)\n",
        "print(\"% of people predicted with heart-disease:\", rate_people)\n",
        "score_rfc = score\n",
        "out_rfc = output\n",
        "from sklearn.metrics import classification_report\n",
        "print(classification_report(y_test,y_pred_rf))"
      ]
    },
    {
      "cell_type": "code",
      "execution_count": null,
      "metadata": {
        "colab": {
          "base_uri": "https://localhost:8080/"
        },
        "id": "lU1w1EWWPYnf",
        "outputId": "9b9e094c-d0f4-4acb-cc95-a2837705e9d6"
      },
      "outputs": [
        {
          "name": "stdout",
          "output_type": "stream",
          "text": [
            "Accuracy of Random Forest is: 59.01639344262295 %\n"
          ]
        }
      ],
      "source": [
        "print(\"Accuracy of Random Forest is:\", 100 * accuracy_score(y_test, y_pred_rf), '%')"
      ]
    },
    {
      "cell_type": "markdown",
      "metadata": {
        "id": "Rby5kyUeWMws"
      },
      "source": [
        "## **6. BOOSTING**\n"
      ]
    },
    {
      "cell_type": "code",
      "execution_count": null,
      "metadata": {
        "colab": {
          "base_uri": "https://localhost:8080/"
        },
        "id": "MlFjSXDp9xmT",
        "outputId": "74182f02-26bc-4dd3-e749-1e33e775640f"
      },
      "outputs": [
        {
          "name": "stdout",
          "output_type": "stream",
          "text": [
            "Accuracy of LR is: 55.73770491803278 %\n",
            "Accuracy of GNB is: 49.18032786885246 %\n",
            "Accuracy of SVM is: 60.65573770491803 %\n",
            "Accuracy of Decision Tree is: 54.09836065573771 %\n",
            "Accuracy of Random Forest is: 59.01639344262295 %\n"
          ]
        }
      ],
      "source": [
        "print(\"Accuracy of LR is:\", 100 * accuracy_score(y_test, y_pred_lr), '%')\n",
        "print(\"Accuracy of GNB is:\", 100 * accuracy_score(y_test, y_pred_gnb), '%')\n",
        "print(\"Accuracy of SVM is:\", 100 * metrics.accuracy_score(y_test, y_pred_svm), '%')\n",
        "print(\"Accuracy of Decision Tree is:\", 100 * accuracy_score(y_test, y_pred_dt), '%')\n",
        "print(\"Accuracy of Random Forest is:\", 100 * accuracy_score(y_test, y_pred_rf), '%')\n"
      ]
    },
    {
      "cell_type": "markdown",
      "metadata": {
        "id": "4tVf88o2WVFL"
      },
      "source": [
        "từ kết quả trên có thể thấy rằng mức độ chính xác của mô hình SVM cao nhất (60,65%) --> chọn mô hình này để tiếp tục boosting"
      ]
    },
    {
      "cell_type": "code",
      "execution_count": null,
      "metadata": {
        "colab": {
          "base_uri": "https://localhost:8080/",
          "height": 488
        },
        "id": "qJqnHmBOXQnL",
        "outputId": "a24fc3cc-7f01-4da4-f21c-cdb776e69b90"
      },
      "outputs": [
        {
          "data": {
            "text/html": [
              "\n",
              "  <div id=\"df-d89d6ba8-0c92-4f11-9521-5fa7eb2236d4\">\n",
              "    <div class=\"colab-df-container\">\n",
              "      <div>\n",
              "<style scoped>\n",
              "    .dataframe tbody tr th:only-of-type {\n",
              "        vertical-align: middle;\n",
              "    }\n",
              "\n",
              "    .dataframe tbody tr th {\n",
              "        vertical-align: top;\n",
              "    }\n",
              "\n",
              "    .dataframe thead th {\n",
              "        text-align: right;\n",
              "    }\n",
              "</style>\n",
              "<table border=\"1\" class=\"dataframe\">\n",
              "  <thead>\n",
              "    <tr style=\"text-align: right;\">\n",
              "      <th></th>\n",
              "      <th>age</th>\n",
              "      <th>sex</th>\n",
              "      <th>cp</th>\n",
              "      <th>trestbps</th>\n",
              "      <th>fbs</th>\n",
              "      <th>restecg</th>\n",
              "      <th>thalach</th>\n",
              "      <th>exang</th>\n",
              "      <th>oldpeak</th>\n",
              "      <th>slope</th>\n",
              "      <th>ca</th>\n",
              "      <th>thal</th>\n",
              "      <th>num</th>\n",
              "      <th>chol</th>\n",
              "    </tr>\n",
              "  </thead>\n",
              "  <tbody>\n",
              "    <tr>\n",
              "      <th>age</th>\n",
              "      <td>1.000000</td>\n",
              "      <td>-0.097542</td>\n",
              "      <td>0.104139</td>\n",
              "      <td>0.284946</td>\n",
              "      <td>0.118530</td>\n",
              "      <td>0.148868</td>\n",
              "      <td>-0.393806</td>\n",
              "      <td>0.091661</td>\n",
              "      <td>0.203805</td>\n",
              "      <td>0.161770</td>\n",
              "      <td>0.359513</td>\n",
              "      <td>0.127371</td>\n",
              "      <td>0.222853</td>\n",
              "      <td>0.208950</td>\n",
              "    </tr>\n",
              "    <tr>\n",
              "      <th>sex</th>\n",
              "      <td>-0.097542</td>\n",
              "      <td>1.000000</td>\n",
              "      <td>0.010084</td>\n",
              "      <td>-0.064456</td>\n",
              "      <td>0.047862</td>\n",
              "      <td>0.021647</td>\n",
              "      <td>-0.048663</td>\n",
              "      <td>0.146201</td>\n",
              "      <td>0.102173</td>\n",
              "      <td>0.037533</td>\n",
              "      <td>0.092869</td>\n",
              "      <td>0.379306</td>\n",
              "      <td>0.224469</td>\n",
              "      <td>-0.199915</td>\n",
              "    </tr>\n",
              "    <tr>\n",
              "      <th>cp</th>\n",
              "      <td>0.104139</td>\n",
              "      <td>0.010084</td>\n",
              "      <td>1.000000</td>\n",
              "      <td>-0.036077</td>\n",
              "      <td>-0.039975</td>\n",
              "      <td>0.067505</td>\n",
              "      <td>-0.334422</td>\n",
              "      <td>0.384060</td>\n",
              "      <td>0.202277</td>\n",
              "      <td>0.152050</td>\n",
              "      <td>0.232338</td>\n",
              "      <td>0.264890</td>\n",
              "      <td>0.407075</td>\n",
              "      <td>0.072319</td>\n",
              "    </tr>\n",
              "    <tr>\n",
              "      <th>trestbps</th>\n",
              "      <td>0.284946</td>\n",
              "      <td>-0.064456</td>\n",
              "      <td>-0.036077</td>\n",
              "      <td>1.000000</td>\n",
              "      <td>0.175340</td>\n",
              "      <td>0.146560</td>\n",
              "      <td>-0.045351</td>\n",
              "      <td>0.064762</td>\n",
              "      <td>0.189171</td>\n",
              "      <td>0.117382</td>\n",
              "      <td>0.098705</td>\n",
              "      <td>0.133537</td>\n",
              "      <td>0.157754</td>\n",
              "      <td>0.130120</td>\n",
              "    </tr>\n",
              "    <tr>\n",
              "      <th>fbs</th>\n",
              "      <td>0.118530</td>\n",
              "      <td>0.047862</td>\n",
              "      <td>-0.039975</td>\n",
              "      <td>0.175340</td>\n",
              "      <td>1.000000</td>\n",
              "      <td>0.069564</td>\n",
              "      <td>-0.007854</td>\n",
              "      <td>0.025665</td>\n",
              "      <td>0.005747</td>\n",
              "      <td>0.059894</td>\n",
              "      <td>0.143958</td>\n",
              "      <td>0.070643</td>\n",
              "      <td>0.059186</td>\n",
              "      <td>0.009841</td>\n",
              "    </tr>\n",
              "    <tr>\n",
              "      <th>restecg</th>\n",
              "      <td>0.148868</td>\n",
              "      <td>0.021647</td>\n",
              "      <td>0.067505</td>\n",
              "      <td>0.146560</td>\n",
              "      <td>0.069564</td>\n",
              "      <td>1.000000</td>\n",
              "      <td>-0.083389</td>\n",
              "      <td>0.084867</td>\n",
              "      <td>0.114133</td>\n",
              "      <td>0.133946</td>\n",
              "      <td>0.127503</td>\n",
              "      <td>0.024449</td>\n",
              "      <td>0.183696</td>\n",
              "      <td>0.171043</td>\n",
              "    </tr>\n",
              "    <tr>\n",
              "      <th>thalach</th>\n",
              "      <td>-0.393806</td>\n",
              "      <td>-0.048663</td>\n",
              "      <td>-0.334422</td>\n",
              "      <td>-0.045351</td>\n",
              "      <td>-0.007854</td>\n",
              "      <td>-0.083389</td>\n",
              "      <td>1.000000</td>\n",
              "      <td>-0.378103</td>\n",
              "      <td>-0.343085</td>\n",
              "      <td>-0.385601</td>\n",
              "      <td>-0.263418</td>\n",
              "      <td>-0.278521</td>\n",
              "      <td>-0.415040</td>\n",
              "      <td>-0.003432</td>\n",
              "    </tr>\n",
              "    <tr>\n",
              "      <th>exang</th>\n",
              "      <td>0.091661</td>\n",
              "      <td>0.146201</td>\n",
              "      <td>0.384060</td>\n",
              "      <td>0.064762</td>\n",
              "      <td>0.025665</td>\n",
              "      <td>0.084867</td>\n",
              "      <td>-0.378103</td>\n",
              "      <td>1.000000</td>\n",
              "      <td>0.288223</td>\n",
              "      <td>0.257748</td>\n",
              "      <td>0.144727</td>\n",
              "      <td>0.328286</td>\n",
              "      <td>0.397057</td>\n",
              "      <td>0.061310</td>\n",
              "    </tr>\n",
              "    <tr>\n",
              "      <th>oldpeak</th>\n",
              "      <td>0.203805</td>\n",
              "      <td>0.102173</td>\n",
              "      <td>0.202277</td>\n",
              "      <td>0.189171</td>\n",
              "      <td>0.005747</td>\n",
              "      <td>0.114133</td>\n",
              "      <td>-0.343085</td>\n",
              "      <td>0.288223</td>\n",
              "      <td>1.000000</td>\n",
              "      <td>0.577537</td>\n",
              "      <td>0.294583</td>\n",
              "      <td>0.340555</td>\n",
              "      <td>0.504092</td>\n",
              "      <td>0.046564</td>\n",
              "    </tr>\n",
              "    <tr>\n",
              "      <th>slope</th>\n",
              "      <td>0.161770</td>\n",
              "      <td>0.037533</td>\n",
              "      <td>0.152050</td>\n",
              "      <td>0.117382</td>\n",
              "      <td>0.059894</td>\n",
              "      <td>0.133946</td>\n",
              "      <td>-0.385601</td>\n",
              "      <td>0.257748</td>\n",
              "      <td>0.577537</td>\n",
              "      <td>1.000000</td>\n",
              "      <td>0.109623</td>\n",
              "      <td>0.286582</td>\n",
              "      <td>0.377957</td>\n",
              "      <td>-0.004062</td>\n",
              "    </tr>\n",
              "    <tr>\n",
              "      <th>ca</th>\n",
              "      <td>0.359513</td>\n",
              "      <td>0.092869</td>\n",
              "      <td>0.232338</td>\n",
              "      <td>0.098705</td>\n",
              "      <td>0.143958</td>\n",
              "      <td>0.127503</td>\n",
              "      <td>-0.263418</td>\n",
              "      <td>0.144727</td>\n",
              "      <td>0.294583</td>\n",
              "      <td>0.109623</td>\n",
              "      <td>1.000000</td>\n",
              "      <td>0.254081</td>\n",
              "      <td>0.517408</td>\n",
              "      <td>0.118543</td>\n",
              "    </tr>\n",
              "    <tr>\n",
              "      <th>thal</th>\n",
              "      <td>0.127371</td>\n",
              "      <td>0.379306</td>\n",
              "      <td>0.264890</td>\n",
              "      <td>0.133537</td>\n",
              "      <td>0.070643</td>\n",
              "      <td>0.024449</td>\n",
              "      <td>-0.278521</td>\n",
              "      <td>0.328286</td>\n",
              "      <td>0.340555</td>\n",
              "      <td>0.286582</td>\n",
              "      <td>0.254081</td>\n",
              "      <td>1.000000</td>\n",
              "      <td>0.508798</td>\n",
              "      <td>0.014200</td>\n",
              "    </tr>\n",
              "    <tr>\n",
              "      <th>num</th>\n",
              "      <td>0.222853</td>\n",
              "      <td>0.224469</td>\n",
              "      <td>0.407075</td>\n",
              "      <td>0.157754</td>\n",
              "      <td>0.059186</td>\n",
              "      <td>0.183696</td>\n",
              "      <td>-0.415040</td>\n",
              "      <td>0.397057</td>\n",
              "      <td>0.504092</td>\n",
              "      <td>0.377957</td>\n",
              "      <td>0.517408</td>\n",
              "      <td>0.508798</td>\n",
              "      <td>1.000000</td>\n",
              "      <td>0.070909</td>\n",
              "    </tr>\n",
              "    <tr>\n",
              "      <th>chol</th>\n",
              "      <td>0.208950</td>\n",
              "      <td>-0.199915</td>\n",
              "      <td>0.072319</td>\n",
              "      <td>0.130120</td>\n",
              "      <td>0.009841</td>\n",
              "      <td>0.171043</td>\n",
              "      <td>-0.003432</td>\n",
              "      <td>0.061310</td>\n",
              "      <td>0.046564</td>\n",
              "      <td>-0.004062</td>\n",
              "      <td>0.118543</td>\n",
              "      <td>0.014200</td>\n",
              "      <td>0.070909</td>\n",
              "      <td>1.000000</td>\n",
              "    </tr>\n",
              "  </tbody>\n",
              "</table>\n",
              "</div>\n",
              "      <button class=\"colab-df-convert\" onclick=\"convertToInteractive('df-d89d6ba8-0c92-4f11-9521-5fa7eb2236d4')\"\n",
              "              title=\"Convert this dataframe to an interactive table.\"\n",
              "              style=\"display:none;\">\n",
              "        \n",
              "  <svg xmlns=\"http://www.w3.org/2000/svg\" height=\"24px\"viewBox=\"0 0 24 24\"\n",
              "       width=\"24px\">\n",
              "    <path d=\"M0 0h24v24H0V0z\" fill=\"none\"/>\n",
              "    <path d=\"M18.56 5.44l.94 2.06.94-2.06 2.06-.94-2.06-.94-.94-2.06-.94 2.06-2.06.94zm-11 1L8.5 8.5l.94-2.06 2.06-.94-2.06-.94L8.5 2.5l-.94 2.06-2.06.94zm10 10l.94 2.06.94-2.06 2.06-.94-2.06-.94-.94-2.06-.94 2.06-2.06.94z\"/><path d=\"M17.41 7.96l-1.37-1.37c-.4-.4-.92-.59-1.43-.59-.52 0-1.04.2-1.43.59L10.3 9.45l-7.72 7.72c-.78.78-.78 2.05 0 2.83L4 21.41c.39.39.9.59 1.41.59.51 0 1.02-.2 1.41-.59l7.78-7.78 2.81-2.81c.8-.78.8-2.07 0-2.86zM5.41 20L4 18.59l7.72-7.72 1.47 1.35L5.41 20z\"/>\n",
              "  </svg>\n",
              "      </button>\n",
              "      \n",
              "  <style>\n",
              "    .colab-df-container {\n",
              "      display:flex;\n",
              "      flex-wrap:wrap;\n",
              "      gap: 12px;\n",
              "    }\n",
              "\n",
              "    .colab-df-convert {\n",
              "      background-color: #E8F0FE;\n",
              "      border: none;\n",
              "      border-radius: 50%;\n",
              "      cursor: pointer;\n",
              "      display: none;\n",
              "      fill: #1967D2;\n",
              "      height: 32px;\n",
              "      padding: 0 0 0 0;\n",
              "      width: 32px;\n",
              "    }\n",
              "\n",
              "    .colab-df-convert:hover {\n",
              "      background-color: #E2EBFA;\n",
              "      box-shadow: 0px 1px 2px rgba(60, 64, 67, 0.3), 0px 1px 3px 1px rgba(60, 64, 67, 0.15);\n",
              "      fill: #174EA6;\n",
              "    }\n",
              "\n",
              "    [theme=dark] .colab-df-convert {\n",
              "      background-color: #3B4455;\n",
              "      fill: #D2E3FC;\n",
              "    }\n",
              "\n",
              "    [theme=dark] .colab-df-convert:hover {\n",
              "      background-color: #434B5C;\n",
              "      box-shadow: 0px 1px 3px 1px rgba(0, 0, 0, 0.15);\n",
              "      filter: drop-shadow(0px 1px 2px rgba(0, 0, 0, 0.3));\n",
              "      fill: #FFFFFF;\n",
              "    }\n",
              "  </style>\n",
              "\n",
              "      <script>\n",
              "        const buttonEl =\n",
              "          document.querySelector('#df-d89d6ba8-0c92-4f11-9521-5fa7eb2236d4 button.colab-df-convert');\n",
              "        buttonEl.style.display =\n",
              "          google.colab.kernel.accessAllowed ? 'block' : 'none';\n",
              "\n",
              "        async function convertToInteractive(key) {\n",
              "          const element = document.querySelector('#df-d89d6ba8-0c92-4f11-9521-5fa7eb2236d4');\n",
              "          const dataTable =\n",
              "            await google.colab.kernel.invokeFunction('convertToInteractive',\n",
              "                                                     [key], {});\n",
              "          if (!dataTable) return;\n",
              "\n",
              "          const docLinkHtml = 'Like what you see? Visit the ' +\n",
              "            '<a target=\"_blank\" href=https://colab.research.google.com/notebooks/data_table.ipynb>data table notebook</a>'\n",
              "            + ' to learn more about interactive tables.';\n",
              "          element.innerHTML = '';\n",
              "          dataTable['output_type'] = 'display_data';\n",
              "          await google.colab.output.renderOutput(dataTable, element);\n",
              "          const docLink = document.createElement('div');\n",
              "          docLink.innerHTML = docLinkHtml;\n",
              "          element.appendChild(docLink);\n",
              "        }\n",
              "      </script>\n",
              "    </div>\n",
              "  </div>\n",
              "  "
            ],
            "text/plain": [
              "               age       sex        cp  trestbps       fbs   restecg  \\\n",
              "age       1.000000 -0.097542  0.104139  0.284946  0.118530  0.148868   \n",
              "sex      -0.097542  1.000000  0.010084 -0.064456  0.047862  0.021647   \n",
              "cp        0.104139  0.010084  1.000000 -0.036077 -0.039975  0.067505   \n",
              "trestbps  0.284946 -0.064456 -0.036077  1.000000  0.175340  0.146560   \n",
              "fbs       0.118530  0.047862 -0.039975  0.175340  1.000000  0.069564   \n",
              "restecg   0.148868  0.021647  0.067505  0.146560  0.069564  1.000000   \n",
              "thalach  -0.393806 -0.048663 -0.334422 -0.045351 -0.007854 -0.083389   \n",
              "exang     0.091661  0.146201  0.384060  0.064762  0.025665  0.084867   \n",
              "oldpeak   0.203805  0.102173  0.202277  0.189171  0.005747  0.114133   \n",
              "slope     0.161770  0.037533  0.152050  0.117382  0.059894  0.133946   \n",
              "ca        0.359513  0.092869  0.232338  0.098705  0.143958  0.127503   \n",
              "thal      0.127371  0.379306  0.264890  0.133537  0.070643  0.024449   \n",
              "num       0.222853  0.224469  0.407075  0.157754  0.059186  0.183696   \n",
              "chol      0.208950 -0.199915  0.072319  0.130120  0.009841  0.171043   \n",
              "\n",
              "           thalach     exang   oldpeak     slope        ca      thal  \\\n",
              "age      -0.393806  0.091661  0.203805  0.161770  0.359513  0.127371   \n",
              "sex      -0.048663  0.146201  0.102173  0.037533  0.092869  0.379306   \n",
              "cp       -0.334422  0.384060  0.202277  0.152050  0.232338  0.264890   \n",
              "trestbps -0.045351  0.064762  0.189171  0.117382  0.098705  0.133537   \n",
              "fbs      -0.007854  0.025665  0.005747  0.059894  0.143958  0.070643   \n",
              "restecg  -0.083389  0.084867  0.114133  0.133946  0.127503  0.024449   \n",
              "thalach   1.000000 -0.378103 -0.343085 -0.385601 -0.263418 -0.278521   \n",
              "exang    -0.378103  1.000000  0.288223  0.257748  0.144727  0.328286   \n",
              "oldpeak  -0.343085  0.288223  1.000000  0.577537  0.294583  0.340555   \n",
              "slope    -0.385601  0.257748  0.577537  1.000000  0.109623  0.286582   \n",
              "ca       -0.263418  0.144727  0.294583  0.109623  1.000000  0.254081   \n",
              "thal     -0.278521  0.328286  0.340555  0.286582  0.254081  1.000000   \n",
              "num      -0.415040  0.397057  0.504092  0.377957  0.517408  0.508798   \n",
              "chol     -0.003432  0.061310  0.046564 -0.004062  0.118543  0.014200   \n",
              "\n",
              "               num      chol  \n",
              "age       0.222853  0.208950  \n",
              "sex       0.224469 -0.199915  \n",
              "cp        0.407075  0.072319  \n",
              "trestbps  0.157754  0.130120  \n",
              "fbs       0.059186  0.009841  \n",
              "restecg   0.183696  0.171043  \n",
              "thalach  -0.415040 -0.003432  \n",
              "exang     0.397057  0.061310  \n",
              "oldpeak   0.504092  0.046564  \n",
              "slope     0.377957 -0.004062  \n",
              "ca        0.517408  0.118543  \n",
              "thal      0.508798  0.014200  \n",
              "num       1.000000  0.070909  \n",
              "chol      0.070909  1.000000  "
            ]
          },
          "execution_count": 172,
          "metadata": {},
          "output_type": "execute_result"
        }
      ],
      "source": [
        "#check mối tương quan của các features với biến target\n",
        "df_corr = df.corr()\n",
        "df_corr"
      ]
    },
    {
      "cell_type": "code",
      "execution_count": null,
      "metadata": {
        "colab": {
          "base_uri": "https://localhost:8080/",
          "height": 535
        },
        "id": "hu6cwpADXrUL",
        "outputId": "3bff461c-5270-4fb4-8889-337dbc9f5220"
      },
      "outputs": [
        {
          "data": {
            "text/plain": [
              "<matplotlib.axes._subplots.AxesSubplot at 0x7fc566ff2760>"
            ]
          },
          "execution_count": 173,
          "metadata": {},
          "output_type": "execute_result"
        },
        {
          "data": {
            "image/png": "[encoded data removed]",
            "text/plain": [
              "<Figure size 720x576 with 2 Axes>"
            ]
          },
          "metadata": {
            "needs_background": "light"
          },
          "output_type": "display_data"
        }
      ],
      "source": [
        "fig, ax = plt.subplots(figsize =(10,8))\n",
        "sns.heatmap(data=df_corr, annot = True,\n",
        "            vmin=-1, vmax=1,\n",
        "            linecolor='white', linewidth=0.5)"
      ]
    },
    {
      "cell_type": "markdown",
      "metadata": {
        "id": "h2xAUZ4lX3xK"
      },
      "source": [
        "các features tương quan mạnh với biến target 'num' lần lượt là 'cp'; 'thalach'; 'exang'; 'oldpeak'; 'slope'; 'ca'; 'thal'"
      ]
    },
    {
      "cell_type": "code",
      "execution_count": null,
      "metadata": {
        "id": "bktARgZ2YYGZ"
      },
      "outputs": [],
      "source": [
        "features2 = df[['cp','thalach','exang','oldpeak','slope', 'ca', 'thal']]"
      ]
    },
    {
      "cell_type": "code",
      "execution_count": null,
      "metadata": {
        "colab": {
          "base_uri": "https://localhost:8080/"
        },
        "id": "eHMj6ddSYoxC",
        "outputId": "1b62c7fd-f1fc-4a87-cfee-b522367583c1"
      },
      "outputs": [
        {
          "data": {
            "text/plain": [
              "array([[  1.  , 150.  ,   0.  , ...,   3.  ,   0.  ,   6.  ],\n",
              "       [  4.  , 108.  ,   1.  , ...,   2.  ,   3.  ,   3.  ],\n",
              "       [  4.  , 129.  ,   1.  , ...,   2.  ,   2.  ,   7.  ],\n",
              "       ...,\n",
              "       [  4.  , 115.  ,   1.  , ...,   2.  ,   1.  ,   7.  ],\n",
              "       [  2.  , 174.  ,   0.  , ...,   2.  ,   1.  ,   3.  ],\n",
              "       [  3.  , 173.  ,   0.  , ...,   1.  ,   0.67,   3.  ]])"
            ]
          },
          "execution_count": 176,
          "metadata": {},
          "output_type": "execute_result"
        }
      ],
      "source": [
        "X2 = np.asanyarray(features2)\n",
        "X2"
      ]
    },
    {
      "cell_type": "code",
      "execution_count": null,
      "metadata": {
        "colab": {
          "base_uri": "https://localhost:8080/"
        },
        "id": "h3fEPc4XZHsh",
        "outputId": "15e12dc8-4b6a-4361-ee43-0213d1e55a96"
      },
      "outputs": [
        {
          "data": {
            "text/plain": [
              "array([0, 2, 1, 0, 0, 0, 3, 0, 2, 1, 0, 0, 2, 0, 0, 0, 1, 0, 0, 0, 0, 0,\n",
              "       1, 3, 4, 0, 0, 0, 0, 3, 0, 2, 1, 0, 0, 0, 3, 1, 3, 0, 4, 0, 0, 0,\n",
              "       1, 4, 0, 4, 0, 0, 0, 0, 2, 0, 1, 1, 1, 1, 0, 0, 2, 0, 1, 0, 2, 2,\n",
              "       1, 0, 2, 1, 0, 3, 1, 1, 1, 0, 1, 0, 0, 3, 0, 0, 0, 3, 0, 0, 0, 0,\n",
              "       0, 0, 0, 3, 0, 0, 0, 1, 2, 3, 0, 0, 0, 0, 0, 0, 3, 0, 2, 1, 2, 3,\n",
              "       1, 1, 0, 2, 2, 0, 0, 0, 3, 2, 3, 4, 0, 3, 1, 0, 3, 3, 0, 0, 0, 0,\n",
              "       0, 0, 0, 0, 4, 3, 1, 0, 0, 1, 0, 1, 0, 1, 4, 0, 0, 0, 0, 0, 0, 4,\n",
              "       3, 1, 1, 1, 2, 0, 0, 4, 0, 0, 0, 0, 0, 0, 1, 0, 3, 0, 1, 0, 4, 1,\n",
              "       0, 1, 0, 0, 3, 2, 0, 0, 1, 0, 0, 2, 1, 2, 0, 3, 1, 2, 0, 3, 0, 0,\n",
              "       0, 1, 0, 0, 0, 0, 0, 3, 3, 3, 0, 1, 0, 4, 0, 3, 1, 0, 0, 0, 0, 0,\n",
              "       0, 0, 0, 3, 1, 0, 0, 0, 3, 2, 0, 2, 1, 0, 0, 3, 2, 1, 0, 0, 0, 0,\n",
              "       0, 2, 0, 2, 2, 1, 3, 0, 0, 1, 0, 0, 0, 0, 0, 0, 0, 1, 0, 3, 0, 0,\n",
              "       4, 2, 2, 2, 1, 0, 1, 0, 2, 0, 1, 0, 0, 0, 1, 0, 2, 0, 3, 0, 2, 4,\n",
              "       2, 0, 0, 0, 1, 0, 2, 2, 1, 0, 3, 1, 1, 2, 3, 1, 0])"
            ]
          },
          "execution_count": 177,
          "metadata": {},
          "output_type": "execute_result"
        }
      ],
      "source": [
        "y2 = np.asanyarray(df['num'])\n",
        "y2"
      ]
    },
    {
      "cell_type": "code",
      "execution_count": null,
      "metadata": {
        "id": "sWeVrmU0ZQL5"
      },
      "outputs": [],
      "source": [
        "from sklearn import preprocessing\n",
        "X2 = preprocessing.StandardScaler().fit(X2).transform(X2)"
      ]
    },
    {
      "cell_type": "code",
      "execution_count": null,
      "metadata": {
        "colab": {
          "base_uri": "https://localhost:8080/"
        },
        "id": "f7uHynAtZc2x",
        "outputId": "68bd598e-691d-4a70-e84a-8159c31044c3"
      },
      "outputs": [
        {
          "name": "stdout",
          "output_type": "stream",
          "text": [
            "Train set: (242, 7) (242,)\n",
            "Test set: (61, 7) (61,)\n"
          ]
        }
      ],
      "source": [
        "from sklearn.model_selection import train_test_split\n",
        "X2_train, X2_test, y2_train, y2_test = train_test_split(X2, y2, test_size=0.2, random_state=4)\n",
        "print ('Train set:', X2_train.shape,  y2_train.shape)\n",
        "print ('Test set:', X2_test.shape,  y2_test.shape)"
      ]
    },
    {
      "cell_type": "code",
      "execution_count": null,
      "metadata": {
        "colab": {
          "base_uri": "https://localhost:8080/"
        },
        "id": "H9eKmDpBZv-p",
        "outputId": "61eff760-919f-4812-c263-ed3abb9d7be9"
      },
      "outputs": [
        {
          "data": {
            "text/plain": [
              "0    164\n",
              "1     55\n",
              "2     36\n",
              "3     35\n",
              "4     13\n",
              "Name: num, dtype: int64"
            ]
          },
          "execution_count": 180,
          "metadata": {},
          "output_type": "execute_result"
        }
      ],
      "source": [
        "#check giá trị trả về cột 'num'\n",
        "df['num'].value_counts()"
      ]
    },
    {
      "cell_type": "markdown",
      "metadata": {
        "id": "MHHggh8xZ4qB"
      },
      "source": [
        "Dữ liệu cột 'num' đang bị mất cân bằng, do giá trị trả về '0' và '4' gấp nhau hơn 12 lần\n",
        "--> cần phải balance lại dữ liệu cột 'num'"
      ]
    },
    {
      "cell_type": "code",
      "execution_count": null,
      "metadata": {
        "colab": {
          "base_uri": "https://localhost:8080/"
        },
        "id": "wHdoX2Y9Z1qB",
        "outputId": "97e2583a-cd5f-4e10-8b70-b39a0923d303"
      },
      "outputs": [
        {
          "name": "stdout",
          "output_type": "stream",
          "text": [
            "Class=0, n=164 (20.000%)\n",
            "Class=2, n=164 (20.000%)\n",
            "Class=1, n=164 (20.000%)\n",
            "Class=3, n=164 (20.000%)\n",
            "Class=4, n=164 (20.000%)\n"
          ]
        }
      ],
      "source": [
        "from imblearn.over_sampling import SMOTE\n",
        "from collections import Counter\n",
        "from matplotlib import pyplot\n",
        "oversample = SMOTE()\n",
        "X2, y2 = oversample.fit_resample(X2, y2)\n",
        "counter = Counter(y2)\n",
        "for k,v in counter.items():\n",
        " per = v / len(y2) * 100\n",
        " print('Class=%d, n=%d (%.3f%%)' % (k, v, per))"
      ]
    },
    {
      "cell_type": "code",
      "execution_count": null,
      "metadata": {
        "colab": {
          "base_uri": "https://localhost:8080/",
          "height": 265
        },
        "id": "YzLSXPOOaCky",
        "outputId": "2dd38e48-a302-47e9-907e-658622a3c155"
      },
      "outputs": [
        {
          "data": {
            "image/png": "[encoded data removed]",
            "text/plain": [
              "<Figure size 432x288 with 1 Axes>"
            ]
          },
          "metadata": {
            "needs_background": "light"
          },
          "output_type": "display_data"
        }
      ],
      "source": [
        "pyplot.bar(counter.keys(), counter.values())\n",
        "pyplot.show()"
      ]
    },
    {
      "cell_type": "code",
      "execution_count": null,
      "metadata": {
        "colab": {
          "base_uri": "https://localhost:8080/"
        },
        "id": "EVMcvSRuaE9M",
        "outputId": "c36bf6a4-c2f2-4d57-99f8-c7dbb4516eee"
      },
      "outputs": [
        {
          "name": "stdout",
          "output_type": "stream",
          "text": [
            "Train set: (656, 7) (656,)\n",
            "Test set: (164, 7) (164,)\n"
          ]
        }
      ],
      "source": [
        "from sklearn.model_selection import train_test_split\n",
        "X2_train, X2_test, y2_train, y2_test = train_test_split(X2, y2, test_size=0.2, random_state=4)\n",
        "print ('Train set:', X2_train.shape,  y2_train.shape)\n",
        "print ('Test set:', X2_test.shape,  y2_test.shape)"
      ]
    },
    {
      "cell_type": "markdown",
      "metadata": {
        "id": "kVnrAkmTanCZ"
      },
      "source": [
        "*train lại data sau khi được cân bằng với model SVM"
      ]
    },
    {
      "cell_type": "code",
      "execution_count": null,
      "metadata": {
        "colab": {
          "base_uri": "https://localhost:8080/"
        },
        "id": "VkDLEPT9aS5h",
        "outputId": "c67a99b6-8c0d-4ca4-ddbf-6ef3002f8f4f"
      },
      "outputs": [
        {
          "data": {
            "text/plain": [
              "SVC()"
            ]
          },
          "execution_count": 184,
          "metadata": {},
          "output_type": "execute_result"
        }
      ],
      "source": [
        "clf = svm.SVC(kernel='rbf') # Linear Kernel \n",
        "clf.fit(X2_train, y2_train)"
      ]
    },
    {
      "cell_type": "code",
      "execution_count": null,
      "metadata": {
        "id": "WZ8v-kPta0PB"
      },
      "outputs": [],
      "source": [
        "y2_pred_svm = clf.predict(X2_test)"
      ]
    },
    {
      "cell_type": "code",
      "execution_count": null,
      "metadata": {
        "colab": {
          "base_uri": "https://localhost:8080/"
        },
        "id": "_VAsTo7Ra6vg",
        "outputId": "40927732-dcab-4c2c-9f2e-cfbaf5ed6d62"
      },
      "outputs": [
        {
          "name": "stdout",
          "output_type": "stream",
          "text": [
            "              precision    recall  f1-score   support\n",
            "\n",
            "           0       0.63      0.79      0.70        24\n",
            "           1       0.80      0.32      0.45        38\n",
            "           2       0.59      0.73      0.66        30\n",
            "           3       0.58      0.76      0.66        34\n",
            "           4       0.84      0.82      0.83        38\n",
            "\n",
            "    accuracy                           0.67       164\n",
            "   macro avg       0.69      0.68      0.66       164\n",
            "weighted avg       0.70      0.67      0.66       164\n",
            "\n"
          ]
        }
      ],
      "source": [
        "print(classification_report(y2_test, y2_pred_svm))"
      ]
    },
    {
      "cell_type": "code",
      "execution_count": null,
      "metadata": {
        "colab": {
          "base_uri": "https://localhost:8080/"
        },
        "id": "MEhP9jNYbDsS",
        "outputId": "fc48164a-be12-44af-f1a9-686774b2dfc6"
      },
      "outputs": [
        {
          "name": "stdout",
          "output_type": "stream",
          "text": [
            "Accuracy of SVM after being balanced is: 67.07317073170732 %\n"
          ]
        }
      ],
      "source": [
        "print(\"Accuracy of SVM after being balanced is:\", 100 * metrics.accuracy_score(y2_test, y2_pred_svm), '%')"
      ]
    },
    {
      "cell_type": "markdown",
      "metadata": {
        "id": "B4WFi2DRcCGw"
      },
      "source": [
        "Test với AdaBoost"
      ]
    },
    {
      "cell_type": "code",
      "execution_count": null,
      "metadata": {
        "id": "-uhrfv2ibFo4"
      },
      "outputs": [],
      "source": [
        "from sklearn.ensemble import AdaBoostClassifier"
      ]
    },
    {
      "cell_type": "code",
      "execution_count": null,
      "metadata": {
        "colab": {
          "base_uri": "https://localhost:8080/"
        },
        "id": "wFXxQqUScG2A",
        "outputId": "519dd011-bfdf-4f5c-a9c8-ca5ae8556ba0"
      },
      "outputs": [
        {
          "name": "stdout",
          "output_type": "stream",
          "text": [
            "Accuracy: 39.02%\n"
          ]
        }
      ],
      "source": [
        "model = AdaBoostClassifier(random_state=1)\n",
        "model.fit(X2_train, y2_train)\n",
        "accuracy = model.score(X2_test, y2_test)\n",
        "print(\"Accuracy: {:.2f}%\".format(accuracy*100))"
      ]
    },
    {
      "cell_type": "markdown",
      "metadata": {
        "id": "pD3wLUJZcVnI"
      },
      "source": [
        "Test với GradietBoost"
      ]
    },
    {
      "cell_type": "code",
      "execution_count": null,
      "metadata": {
        "id": "mKnfuHYfcOQw"
      },
      "outputs": [],
      "source": [
        "from sklearn.ensemble import GradientBoostingClassifier"
      ]
    },
    {
      "cell_type": "code",
      "execution_count": null,
      "metadata": {
        "colab": {
          "base_uri": "https://localhost:8080/"
        },
        "id": "OvVDjpjzccrC",
        "outputId": "0824237d-b208-428b-fc28-79ae9ff38abf"
      },
      "outputs": [
        {
          "name": "stdout",
          "output_type": "stream",
          "text": [
            "Accuracy: 65.24%\n"
          ]
        }
      ],
      "source": [
        "model = GradientBoostingClassifier(learning_rate=0.01,random_state=1)\n",
        "model.fit(X2_train, y2_train)\n",
        "accuracy = model.score(X2_test, y2_test)\n",
        "print(\"Accuracy: {:.2f}%\".format(accuracy*100))"
      ]
    },
    {
      "cell_type": "markdown",
      "metadata": {
        "id": "mHsYTOCsc5lA"
      },
      "source": [
        "Test với XGBoost"
      ]
    },
    {
      "cell_type": "code",
      "execution_count": null,
      "metadata": {
        "id": "QeqWuUCwcjSo"
      },
      "outputs": [],
      "source": [
        "import xgboost as xgb"
      ]
    },
    {
      "cell_type": "code",
      "execution_count": null,
      "metadata": {
        "colab": {
          "base_uri": "https://localhost:8080/"
        },
        "id": "SrF5bVVmdBqo",
        "outputId": "a3fa514d-4338-4131-a5e3-5f651c81a124"
      },
      "outputs": [
        {
          "name": "stdout",
          "output_type": "stream",
          "text": [
            "Accuracy: 74.39%\n"
          ]
        }
      ],
      "source": [
        "model = xgb.XGBClassifier(random_state=1, eta=0.01)\n",
        "model.fit(X2_train, y2_train)\n",
        "accuracy = model.score(X2_test, y2_test)\n",
        "print(\"Accuracy: {:.2f}%\".format(accuracy*100))"
      ]
    },
    {
      "cell_type": "markdown",
      "metadata": {
        "id": "L-6aV9QrdVm3"
      },
      "source": [
        "# **III. CONCLUSION**"
      ]
    },
    {
      "cell_type": "markdown",
      "metadata": {
        "id": "c11sE6fidp4n"
      },
      "source": [
        "Sau khi check mối tương quan và chọn ra các features có độ tương quan lớn với biến target 'num' và cân bằng lại datapoint trong cột 'num'. Accuracy của model SVM đã tăng lên 67,07%.\n",
        "Test dataset mới với lần lượt các thuật toán boosting, ta có XGBoost cho ra đột chính xác lớn nhất (74,39%)"
      ]
    }
  ],
  "metadata": {
    "colab": {
      "collapsed_sections": [
        "OpzDiJJ-8-8f",
        "otAiBGh0YW0S",
        "dv2jfvkhnQUj",
        "Us6bnY-GoUWy",
        "y3J6BCwWNrYX"
      ],
      "provenance": [],
      "include_colab_link": true
    },
    "kernelspec": {
      "display_name": "Python 3",
      "name": "python3"
    },
    "language_info": {
      "name": "python"
    }
  },
  "nbformat": 4,
  "nbformat_minor": 0
}
